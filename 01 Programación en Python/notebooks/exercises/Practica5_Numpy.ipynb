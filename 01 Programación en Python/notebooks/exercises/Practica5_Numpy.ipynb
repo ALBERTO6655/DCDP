{
 "cells": [
  {
   "cell_type": "code",
   "execution_count": 16,
   "metadata": {},
   "outputs": [],
   "source": [
    "import numpy as np\n",
    "import matplotlib.pyplot as plt\n",
    "%matplotlib inline"
   ]
  },
  {
   "cell_type": "code",
   "execution_count": 7,
   "metadata": {},
   "outputs": [],
   "source": [
    "def datos_lin_separables(clusters=2,samples=100):\n",
    "    \"\"\"\n",
    "    Genera datos linealmente separables\n",
    "    Se generan hasta 10 clusters distintos c/u con distribución normal N(mu,s)\n",
    "    Entrada: numero de clusters y numero de muestras por cluster (clase)\n",
    "    Salida: Lista con matrices de vectores de datos y código de clase por cluster.\n",
    "    \"\"\"\n",
    "    if clusters > 10:\n",
    "        n = 10\n",
    "        print('solo se pueden producir hasta 10 clusters')\n",
    "    elif clusters < 2:\n",
    "        n = 2\n",
    "        print('el numero minimo de clusetrs es 2')\n",
    "    else:\n",
    "        n = clusters\n",
    "    \n",
    "    \"\"\"    \n",
    "    arreglo que contiene los valores promedio de cada distribucion de datos\n",
    "    \"\"\"\n",
    "    mus= []   \n",
    "    \n",
    "    if n == 2:\n",
    "        mus.append([-3,-3])\n",
    "        mus.append([3,3])\n",
    "    elif n == 3:\n",
    "        mus.append([-3,-3])\n",
    "        mus.append([0,3])\n",
    "        mus.append([5,-3])\n",
    "    elif n == 4:\n",
    "        mus.append([-5,-3])\n",
    "        mus.append([-3,3])\n",
    "        mus.append([4,-3])\n",
    "        mus.append([5,4])\n",
    "    elif n == 5:\n",
    "        mus.append([-5,-3])\n",
    "        mus.append([-3,4])\n",
    "        mus.append([4,-3])\n",
    "        mus.append([5,4])\n",
    "        mus.append([1,1])\n",
    "    elif n == 6:\n",
    "        mus.append([-5,-3])\n",
    "        mus.append([-3,4])\n",
    "        mus.append([4,-3])\n",
    "        mus.append([5,4])\n",
    "        mus.append([1,1])\n",
    "        mus.append([-9,3])\n",
    "    elif n == 7:\n",
    "        mus.append([-5,-3])\n",
    "        mus.append([-3,4])\n",
    "        mus.append([4,-3])\n",
    "        mus.append([5,4])\n",
    "        mus.append([1,1])\n",
    "        mus.append([-9,3])\n",
    "        mus.append([8,-3])\n",
    "    elif n == 8:\n",
    "        mus.append([-5,-3])\n",
    "        mus.append([-3,4])\n",
    "        mus.append([4,-3])\n",
    "        mus.append([5,4])\n",
    "        mus.append([1,1])\n",
    "        mus.append([-9,3])\n",
    "        mus.append([8,-3])\n",
    "        mus.append([12,6])\n",
    "    elif n == 9:\n",
    "        mus.append([-5,-3])\n",
    "        mus.append([-3,4])\n",
    "        mus.append([4,-3])\n",
    "        mus.append([5,4])\n",
    "        mus.append([1,1])\n",
    "        mus.append([-9,3])\n",
    "        mus.append([8,-3])\n",
    "        mus.append([12,6])\n",
    "        mus.append([-2,8])\n",
    "    elif n == 10:\n",
    "        mus.append([-5,-3])\n",
    "        mus.append([-3,4])\n",
    "        mus.append([4,-3])\n",
    "        mus.append([5,4])\n",
    "        mus.append([1,1])\n",
    "        mus.append([-9,3])\n",
    "        mus.append([8,-3])\n",
    "        mus.append([12,6])\n",
    "        mus.append([-2,8])\n",
    "        mus.append([11,0])\n",
    "        \n",
    "    mus = np.asarray(mus)\n",
    "    \n",
    "    \"\"\"    \n",
    "    valor de correlación (rho) entre los datos de una distribución\n",
    "    \"\"\"\n",
    "    rho = np.random.uniform(low=0.2, high=0.8, size=(n,))  \n",
    "    \n",
    "    if n==2:\n",
    "        p=np.random.rand()\n",
    "        if p < 0.5:\n",
    "            rho[0]=-rho[0]\n",
    "            rho[1]=rho[1]\n",
    "    if n > 3:\n",
    "        for i in range(n):\n",
    "            rho[i] *= (-1)**i\n",
    "    \n",
    "    \"\"\"    \n",
    "    Desviaciones estandar (s) de cada cluster de datos\n",
    "     - Se genera un vector de dimensión 2xn con valores de s= 1 + un valor aleatorio\n",
    "     - Luego se transforma el arreglo en una matriz bidimensional con n filas y 2 columnas\n",
    "       donde n es el número de clusters\n",
    "    \"\"\"\n",
    "    s = np.random.rand(2*n)+1\n",
    "    s = s.reshape((n,2))\n",
    "    \n",
    "    \"\"\"    \n",
    "    Matriz de covarianzas\n",
    "     - Se construye la matriz:\n",
    "      [[s_0^2   s_0 x s_1 x rho]\n",
    "       [s_0 x s_1 x rho   s_1^2]]\n",
    "    \"\"\"\n",
    "    cov_list = []\n",
    "    for i,v in enumerate(s):\n",
    "        cov = np.zeros((2,2))\n",
    "        cov[0,0] = v[0]**2\n",
    "        cov[1,1] = v[1]**2\n",
    "        cov[0,1] = v[0]*v[1]*rho[i]\n",
    "        cov[1,0] = cov[0,1]\n",
    "        cov_list.append(cov)\n",
    "    \n",
    "    \"\"\"    \n",
    "    Arreglo de salida\n",
    "    \"\"\"\n",
    "    L = []\n",
    "    \n",
    "    clases = np.arange(n,dtype='int')\n",
    "    if n==2:\n",
    "        clases[0]=-1\n",
    "        \n",
    "    \"\"\"    \n",
    "    Se genera un arreglo con el valor de clase por el número de muestras\n",
    "    \"\"\"\n",
    "    y = np.repeat(clases[0],samples).reshape(samples,1).astype(int)\n",
    "    \n",
    "    for i in range(1,n):\n",
    "        yp = np.repeat(clases[i],samples).reshape(samples,1).astype(int)\n",
    "        y = np.hstack((y,yp))\n",
    "    \n",
    "    \"\"\"    \n",
    "    Se genera un arreglo de clusters, que son distribuciones normales incluyendo el valor de la clase \n",
    "    \"\"\"\n",
    "    for i in range(n):\n",
    "        X = np.random.multivariate_normal(mus[i], cov_list[i],samples)\n",
    "        X = np.hstack((X,y[:,i].reshape(samples,1).astype(int)))\n",
    "        L.append(X)\n",
    "        \n",
    "    return np.array(L)\n"
   ]
  },
  {
   "cell_type": "code",
   "execution_count": 8,
   "metadata": {},
   "outputs": [
    {
     "name": "stdout",
     "output_type": "stream",
     "text": [
      "(4, 100, 3)\n"
     ]
    }
   ],
   "source": [
    "L = datos_lin_separables(clusters=4,samples=100)\n",
    "print(L.shape)"
   ]
  },
  {
   "cell_type": "code",
   "execution_count": 10,
   "metadata": {},
   "outputs": [],
   "source": [
    "np.save('../../data/datosNumpy.npy', L)"
   ]
  },
  {
   "cell_type": "code",
   "execution_count": 12,
   "metadata": {},
   "outputs": [
    {
     "name": "stdout",
     "output_type": "stream",
     "text": [
      "(4, 100, 3)\n"
     ]
    }
   ],
   "source": [
    "data = np.load('../../data/datosNumpy.npy')\n",
    "print(data.shape)"
   ]
  },
  {
   "cell_type": "code",
   "execution_count": 15,
   "metadata": {},
   "outputs": [
    {
     "name": "stdout",
     "output_type": "stream",
     "text": [
      "(4, 100) (4, 100, 2)\n"
     ]
    }
   ],
   "source": [
    "X=data[:,:,:-1]\n",
    "y=data[:,:,-1]\n",
    "print(y.shape, X.shape)"
   ]
  },
  {
   "cell_type": "code",
   "execution_count": 43,
   "metadata": {},
   "outputs": [
    {
     "data": {
      "image/png": "[encoded data removed]",
      "text/plain": [
       "<Figure size 432x288 with 1 Axes>"
      ]
     },
     "metadata": {
      "needs_background": "light"
     },
     "output_type": "display_data"
    }
   ],
   "source": [
    "import matplotlib\n",
    "\n",
    "colores = ['red','green','blue','purple']\n",
    "\n",
    "fig = plt.figure()\n",
    "ax = fig.add_subplot(111)\n",
    "\n",
    "for x in X:\n",
    "    plt.scatter(x[:, 0], x[:, 1], cmap=matplotlib.colors.ListedColormap(colores))"
   ]
  },
  {
   "cell_type": "code",
   "execution_count": 52,
   "metadata": {},
   "outputs": [
    {
     "name": "stdout",
     "output_type": "stream",
     "text": [
      "[[-5.07257895 -3.06192512]\n",
      " [-2.96513393  3.06367645]\n",
      " [ 4.06018293 -3.0318583 ]\n",
      " [ 4.8313349   4.14029113]]\n"
     ]
    }
   ],
   "source": [
    "centroides = []\n",
    "for x in X:\n",
    "    centroides.append(np.mean(x,axis=0))\n",
    "centroides = np.array(centroides)\n",
    "print(centroides)"
   ]
  },
  {
   "cell_type": "code",
   "execution_count": 54,
   "metadata": {},
   "outputs": [
    {
     "data": {
      "image/png": "[encoded data removed]",
      "text/plain": [
       "<Figure size 432x288 with 1 Axes>"
      ]
     },
     "metadata": {
      "needs_background": "light"
     },
     "output_type": "display_data"
    }
   ],
   "source": [
    "for x in X:\n",
    "    plt.scatter(x[:, 0], x[:, 1], cmap=matplotlib.colors.ListedColormap(colores))\n",
    "plt.scatter(centroides[:,0],centroides[:,1],marker='*',s=120,color='k')\n",
    "plt.show()"
   ]
  },
  {
   "cell_type": "code",
   "execution_count": 55,
   "metadata": {},
   "outputs": [
    {
     "data": {
      "image/png": "[encoded data removed]",
      "text/plain": [
       "<Figure size 432x288 with 1 Axes>"
      ]
     },
     "metadata": {
      "needs_background": "light"
     },
     "output_type": "display_data"
    }
   ],
   "source": [
    "guess = np.random.rand(4,2)\n",
    "for x in X:\n",
    "    plt.scatter(x[:, 0], x[:, 1], cmap=matplotlib.colors.ListedColormap(colores))\n",
    "plt.scatter(centroides[:,0],centroides[:,1],marker='*',s=120,color='k')\n",
    "plt.scatter(guess[:,0],guess[:,1],marker='*',s=120,color='purple')\n",
    "plt.show()"
   ]
  },
  {
   "cell_type": "code",
   "execution_count": 94,
   "metadata": {},
   "outputs": [
    {
     "name": "stdout",
     "output_type": "stream",
     "text": [
      "[-0.81532281 -0.62747958 -0.30887855 -0.20646505  0.07763347]\n",
      "[-0.81532281 -0.62747958 -0.30887855 -0.20646505  0.07763347] 1.0\n",
      "[ 8.96285460e-02 -6.06107033e-02  1.99976604e-01  1.26362674e-01\n",
      "  1.67537399e-01  1.10371454e-01  2.60610703e-01  2.33956640e-05\n",
      "  7.36373265e-02  3.24626006e-02] 0.9999999999999999\n"
     ]
    }
   ],
   "source": [
    "np.random.seed(seed = 1)\n",
    "x = np.random.dirichlet(alpha = np.ones(5), size = 1)\n",
    "x_ = np.random.uniform(-1,1,5)\n",
    "print(x_)\n",
    "epsilon = np.random.rand()\n",
    "\n",
    "y = -x+epsilon\n",
    "arr = np.concatenate([y,x]).ravel()\n",
    "arr = arr/np.sum(arr)\n",
    "\n",
    "print(x_, np.sum(x))\n",
    "print(arr, np.sum(arr))"
   ]
  },
  {
   "cell_type": "code",
   "execution_count": 91,
   "metadata": {},
   "outputs": [
    {
     "data": {
      "text/plain": [
       "KstestResult(statistic=0.8922366531993287, pvalue=2.9066005379306368e-05)"
      ]
     },
     "execution_count": 91,
     "metadata": {},
     "output_type": "execute_result"
    }
   ],
   "source": [
    "from scipy import stats\n",
    "\n",
    "stats.kstest(x_, stats.uniform(loc=0.0, scale=5.0).cdf)"
   ]
  },
  {
   "cell_type": "code",
   "execution_count": null,
   "metadata": {},
   "outputs": [],
   "source": []
  }
 ],
 "metadata": {
  "kernelspec": {
   "display_name": "Python 3",
   "language": "python",
   "name": "python3"
  },
  "language_info": {
   "codemirror_mode": {
    "name": "ipython",
    "version": 3
   },
   "file_extension": ".py",
   "mimetype": "text/x-python",
   "name": "python",
   "nbconvert_exporter": "python",
   "pygments_lexer": "ipython3",
   "version": "3.7.4"
  }
 },
 "nbformat": 4,
 "nbformat_minor": 4
}
