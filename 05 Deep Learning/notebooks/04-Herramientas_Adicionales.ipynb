{
  "nbformat": 4,
  "nbformat_minor": 0,
  "metadata": {
    "colab": {
      "name": "04-Herramientas_Adicionales.ipynb",
      "provenance": [],
      "toc_visible": true
    },
    "kernelspec": {
      "name": "python3",
      "display_name": "Python 3"
    },
    "language_info": {
      "name": "python"
    },
    "accelerator": "GPU",
    "gpuClass": "standard"
  },
  "cells": [
    {
      "cell_type": "markdown",
      "source": [
        "El objetivo de esta notebook es mostrar algunas herramientas adicionales para mejorar el entrenamiento y/o desempeño de redes neuronales."
      ],
      "metadata": {
        "id": "QnpFmzTeM5Lf"
      }
    },
    {
      "cell_type": "markdown",
      "source": [
        "Verificar que tenemos una GPU:"
      ],
      "metadata": {
        "id": "DnX6pDkyT6vv"
      }
    },
    {
      "cell_type": "code",
      "source": [
        "import tensorflow as tf\n",
        "\n",
        "print('GPU presente en: {}'.format(tf.test.gpu_device_name()))"
      ],
      "metadata": {
        "id": "cBYEZQgDT6_S",
        "colab": {
          "base_uri": "https://localhost:8080/"
        },
        "outputId": "fe8bd75a-aa82-4f4a-a2b7-e91100650bdf"
      },
      "execution_count": 1,
      "outputs": [
        {
          "output_type": "stream",
          "name": "stdout",
          "text": [
            "GPU presente en: /device:GPU:0\n"
          ]
        }
      ]
    },
    {
      "cell_type": "markdown",
      "source": [
        "# Callbacks: Early Stopping"
      ],
      "metadata": {
        "id": "6sEU7Qa-XI6b"
      }
    },
    {
      "cell_type": "markdown",
      "source": [
        "Un *callback* es un objeto que puede realizar acciones en varias etapas del entrenamiento (por ejemplo, al inicio o al final de una época, antes o después de un *batch*, etc.). \n",
        "\n",
        "Puedes usar *callbacks* para:\n",
        "\n",
        "* Escribir los registros de TensorBoard después de cada lote de entrenamiento para monitorizar tus métricas\n",
        "* Guardar periódicamente tu modelo en el disco\n",
        "* Hacer un *early stopping*.\n",
        "* Obtener una visión de los estados internos y las estadísticas de un modelo durante el entrenamiento."
      ],
      "metadata": {
        "id": "26r9vfsUMjM7"
      }
    },
    {
      "cell_type": "markdown",
      "source": [
        "El `EarlyStopping` es un *callback* que nos permite detener el entrenamiento para evitar el overfitting.\n",
        "\n",
        "Consideremos el ejemplo de entrenar una red neuronal MLP para clasificar las siguientes clases de puntos"
      ],
      "metadata": {
        "id": "tmZ7gGrWHtDM"
      }
    },
    {
      "cell_type": "code",
      "source": [
        "from sklearn.datasets import make_moons\n",
        "import matplotlib.pyplot as plt\n",
        "\n",
        "X, y = make_moons(n_samples=200, noise=0.2, random_state=1)\n",
        "\n",
        "n_train = 120\n",
        "X_train, X_val = X[:n_train, :], X[n_train:, :]\n",
        "y_train, y_val = y[:n_train], y[n_train:]\n",
        "\n",
        "plt.figure()\n",
        "plt.scatter(X_train[:,0],X_train[:,1],c=y_train)\n",
        "plt.show()"
      ],
      "metadata": {
        "colab": {
          "base_uri": "https://localhost:8080/",
          "height": 265
        },
        "id": "rJJI47H8I-hO",
        "outputId": "a80efdaa-cbf1-4533-acf2-1e868d14dc33"
      },
      "execution_count": 8,
      "outputs": [
        {
          "output_type": "display_data",
          "data": {
            "text/plain": [
              "<Figure size 432x288 with 1 Axes>"
            ],
            "image/png": "[encoded data removed]"
          },
          "metadata": {
            "needs_background": "light"
          }
        }
      ]
    },
    {
      "cell_type": "markdown",
      "source": [
        "Entrenamos una red neuronal. Su desempeño tendrá un accuracy de alrededor de 100% en el conjunto de entrenamiento, pero será mucho menor en el conjunto de prueba. Observa las curvas de aprendizaje."
      ],
      "metadata": {
        "id": "oHXLYWRbKFZt"
      }
    },
    {
      "cell_type": "code",
      "source": [
        "from keras.models import Sequential\n",
        "from keras.layers import Dense\n",
        "\n",
        "# define model\n",
        "model = Sequential()\n",
        "model.add(Dense(500, input_dim=2, activation='relu'))\n",
        "model.add(Dense(1, activation='sigmoid'))\n",
        "model.compile(loss='binary_crossentropy', optimizer='adam', metrics=['accuracy'])\n",
        "\n",
        "\n",
        "# fit model\n",
        "history = model.fit(X_train, y_train, validation_data=(X_val, y_val), epochs=2000, verbose=0)"
      ],
      "metadata": {
        "id": "TOr9VSuxFwqz"
      },
      "execution_count": 9,
      "outputs": []
    },
    {
      "cell_type": "code",
      "source": [
        "# evaluate the model\n",
        "_, train_acc = model.evaluate(X_train, y_train, verbose=0)\n",
        "_, val_acc = model.evaluate(X_val, y_val, verbose=0)\n",
        "print('Train accuracy: %.3f. Validation accuracy : %.3f' % (train_acc, val_acc))\n",
        "\n",
        "# plot training history\n",
        "plt.figure()\n",
        "plt.suptitle(\"Validation and Training Loss\",fontsize=14)\n",
        "plt.plot(history.history['loss'], label='train')\n",
        "plt.plot(history.history['val_loss'], label='validation')\n",
        "plt.legend()\n",
        "plt.show()"
      ],
      "metadata": {
        "colab": {
          "base_uri": "https://localhost:8080/",
          "height": 311
        },
        "id": "-Ie9v0cKKyhM",
        "outputId": "cbf227dc-cb10-4576-d23c-5f956572fe89"
      },
      "execution_count": 11,
      "outputs": [
        {
          "output_type": "stream",
          "name": "stdout",
          "text": [
            "Train accuracy: 1.000. Validation accuracy : 0.962\n"
          ]
        },
        {
          "output_type": "display_data",
          "data": {
            "text/plain": [
              "<Figure size 432x288 with 1 Axes>"
            ],
            "image/png": "[encoded data removed]"
          },
          "metadata": {
            "needs_background": "light"
          }
        }
      ]
    },
    {
      "cell_type": "markdown",
      "source": [
        "Ahora, pararemos el entrenamiento en el momento que..."
      ],
      "metadata": {
        "id": "29gnf-X7LlHk"
      }
    },
    {
      "cell_type": "code",
      "source": [
        "from keras.models import Sequential\n",
        "from keras.layers import Dense\n",
        "from keras.callbacks import EarlyStopping\n",
        "\n",
        "# define model\n",
        "model = Sequential()\n",
        "model.add(Dense(500, input_dim=2, activation='relu'))\n",
        "model.add(Dense(1, activation='sigmoid'))\n",
        "model.compile(loss='binary_crossentropy', optimizer='adam', metrics=['accuracy'])"
      ],
      "metadata": {
        "id": "T_9wTBSpEPkT"
      },
      "execution_count": 12,
      "outputs": []
    },
    {
      "cell_type": "code",
      "source": [
        "es = EarlyStopping(monitor='val_loss', mode='min', verbose=1, patience=4)"
      ],
      "metadata": {
        "id": "kF-9IFJQL57P"
      },
      "execution_count": 13,
      "outputs": []
    },
    {
      "cell_type": "code",
      "source": [
        "# fit model\n",
        "history = model.fit(X_train, y_train, validation_data=(X_val, y_val), epochs=2000, verbose=0, callbacks=[es])\n",
        "\n",
        "# evaluate the model\n",
        "_, train_acc = model.evaluate(X_train, y_train, verbose=0)\n",
        "_, val_acc = model.evaluate(X_val, y_val, verbose=0)\n",
        "print('Train accuracy: %.3f. Validation accuracy : %.3f' % (train_acc, val_acc))\n",
        "\n",
        "# plot training history\n",
        "plt.figure()\n",
        "plt.suptitle(\"Validation and Training Loss\",fontsize=14)\n",
        "plt.plot(history.history['loss'], label='train')\n",
        "plt.plot(history.history['val_loss'], label='validation')\n",
        "plt.legend()\n",
        "plt.show()"
      ],
      "metadata": {
        "colab": {
          "base_uri": "https://localhost:8080/",
          "height": 329
        },
        "id": "3vI2CwoeL8RZ",
        "outputId": "9ff84a99-ed43-4558-9c31-80cd1c0d972a"
      },
      "execution_count": 14,
      "outputs": [
        {
          "output_type": "stream",
          "name": "stdout",
          "text": [
            "Epoch 70: early stopping\n",
            "Train accuracy: 0.908. Validation accuracy : 0.875\n"
          ]
        },
        {
          "output_type": "display_data",
          "data": {
            "text/plain": [
              "<Figure size 432x288 with 1 Axes>"
            ],
            "image/png": "[encoded data removed]"
          },
          "metadata": {
            "needs_background": "light"
          }
        }
      ]
    },
    {
      "cell_type": "markdown",
      "source": [
        "# Dropout"
      ],
      "metadata": {
        "id": "ZOtxgHiqXHPf"
      }
    },
    {
      "cell_type": "markdown",
      "source": [
        "# Gridsearch"
      ],
      "metadata": {
        "id": "8WBFeTAfS9RE"
      }
    },
    {
      "cell_type": "code",
      "execution_count": null,
      "metadata": {
        "colab": {
          "base_uri": "https://localhost:8080/",
          "height": 424
        },
        "id": "oI4YT7B23uEJ",
        "outputId": "6760300f-66ed-4669-b471-3d42ff7e2c3f"
      },
      "outputs": [
        {
          "output_type": "execute_result",
          "data": {
            "text/plain": [
              "     Pregnancies  Glucose  BloodPressure  SkinThickness  Insulin   BMI  \\\n",
              "0              6      148             72             35        0  33.6   \n",
              "1              1       85             66             29        0  26.6   \n",
              "2              8      183             64              0        0  23.3   \n",
              "3              1       89             66             23       94  28.1   \n",
              "4              0      137             40             35      168  43.1   \n",
              "..           ...      ...            ...            ...      ...   ...   \n",
              "763           10      101             76             48      180  32.9   \n",
              "764            2      122             70             27        0  36.8   \n",
              "765            5      121             72             23      112  26.2   \n",
              "766            1      126             60              0        0  30.1   \n",
              "767            1       93             70             31        0  30.4   \n",
              "\n",
              "     DiabetesPedigreeFunction  Age  Outcome  \n",
              "0                       0.627   50        1  \n",
              "1                       0.351   31        0  \n",
              "2                       0.672   32        1  \n",
              "3                       0.167   21        0  \n",
              "4                       2.288   33        1  \n",
              "..                        ...  ...      ...  \n",
              "763                     0.171   63        0  \n",
              "764                     0.340   27        0  \n",
              "765                     0.245   30        0  \n",
              "766                     0.349   47        1  \n",
              "767                     0.315   23        0  \n",
              "\n",
              "[768 rows x 9 columns]"
            ],
            "text/html": [
              "\n",
              "  <div id=\"df-f624dc25-89e2-4bb7-b050-6042408c739b\">\n",
              "    <div class=\"colab-df-container\">\n",
              "      <div>\n",
              "<style scoped>\n",
              "    .dataframe tbody tr th:only-of-type {\n",
              "        vertical-align: middle;\n",
              "    }\n",
              "\n",
              "    .dataframe tbody tr th {\n",
              "        vertical-align: top;\n",
              "    }\n",
              "\n",
              "    .dataframe thead th {\n",
              "        text-align: right;\n",
              "    }\n",
              "</style>\n",
              "<table border=\"1\" class=\"dataframe\">\n",
              "  <thead>\n",
              "    <tr style=\"text-align: right;\">\n",
              "      <th></th>\n",
              "      <th>Pregnancies</th>\n",
              "      <th>Glucose</th>\n",
              "      <th>BloodPressure</th>\n",
              "      <th>SkinThickness</th>\n",
              "      <th>Insulin</th>\n",
              "      <th>BMI</th>\n",
              "      <th>DiabetesPedigreeFunction</th>\n",
              "      <th>Age</th>\n",
              "      <th>Outcome</th>\n",
              "    </tr>\n",
              "  </thead>\n",
              "  <tbody>\n",
              "    <tr>\n",
              "      <th>0</th>\n",
              "      <td>6</td>\n",
              "      <td>148</td>\n",
              "      <td>72</td>\n",
              "      <td>35</td>\n",
              "      <td>0</td>\n",
              "      <td>33.6</td>\n",
              "      <td>0.627</td>\n",
              "      <td>50</td>\n",
              "      <td>1</td>\n",
              "    </tr>\n",
              "    <tr>\n",
              "      <th>1</th>\n",
              "      <td>1</td>\n",
              "      <td>85</td>\n",
              "      <td>66</td>\n",
              "      <td>29</td>\n",
              "      <td>0</td>\n",
              "      <td>26.6</td>\n",
              "      <td>0.351</td>\n",
              "      <td>31</td>\n",
              "      <td>0</td>\n",
              "    </tr>\n",
              "    <tr>\n",
              "      <th>2</th>\n",
              "      <td>8</td>\n",
              "      <td>183</td>\n",
              "      <td>64</td>\n",
              "      <td>0</td>\n",
              "      <td>0</td>\n",
              "      <td>23.3</td>\n",
              "      <td>0.672</td>\n",
              "      <td>32</td>\n",
              "      <td>1</td>\n",
              "    </tr>\n",
              "    <tr>\n",
              "      <th>3</th>\n",
              "      <td>1</td>\n",
              "      <td>89</td>\n",
              "      <td>66</td>\n",
              "      <td>23</td>\n",
              "      <td>94</td>\n",
              "      <td>28.1</td>\n",
              "      <td>0.167</td>\n",
              "      <td>21</td>\n",
              "      <td>0</td>\n",
              "    </tr>\n",
              "    <tr>\n",
              "      <th>4</th>\n",
              "      <td>0</td>\n",
              "      <td>137</td>\n",
              "      <td>40</td>\n",
              "      <td>35</td>\n",
              "      <td>168</td>\n",
              "      <td>43.1</td>\n",
              "      <td>2.288</td>\n",
              "      <td>33</td>\n",
              "      <td>1</td>\n",
              "    </tr>\n",
              "    <tr>\n",
              "      <th>...</th>\n",
              "      <td>...</td>\n",
              "      <td>...</td>\n",
              "      <td>...</td>\n",
              "      <td>...</td>\n",
              "      <td>...</td>\n",
              "      <td>...</td>\n",
              "      <td>...</td>\n",
              "      <td>...</td>\n",
              "      <td>...</td>\n",
              "    </tr>\n",
              "    <tr>\n",
              "      <th>763</th>\n",
              "      <td>10</td>\n",
              "      <td>101</td>\n",
              "      <td>76</td>\n",
              "      <td>48</td>\n",
              "      <td>180</td>\n",
              "      <td>32.9</td>\n",
              "      <td>0.171</td>\n",
              "      <td>63</td>\n",
              "      <td>0</td>\n",
              "    </tr>\n",
              "    <tr>\n",
              "      <th>764</th>\n",
              "      <td>2</td>\n",
              "      <td>122</td>\n",
              "      <td>70</td>\n",
              "      <td>27</td>\n",
              "      <td>0</td>\n",
              "      <td>36.8</td>\n",
              "      <td>0.340</td>\n",
              "      <td>27</td>\n",
              "      <td>0</td>\n",
              "    </tr>\n",
              "    <tr>\n",
              "      <th>765</th>\n",
              "      <td>5</td>\n",
              "      <td>121</td>\n",
              "      <td>72</td>\n",
              "      <td>23</td>\n",
              "      <td>112</td>\n",
              "      <td>26.2</td>\n",
              "      <td>0.245</td>\n",
              "      <td>30</td>\n",
              "      <td>0</td>\n",
              "    </tr>\n",
              "    <tr>\n",
              "      <th>766</th>\n",
              "      <td>1</td>\n",
              "      <td>126</td>\n",
              "      <td>60</td>\n",
              "      <td>0</td>\n",
              "      <td>0</td>\n",
              "      <td>30.1</td>\n",
              "      <td>0.349</td>\n",
              "      <td>47</td>\n",
              "      <td>1</td>\n",
              "    </tr>\n",
              "    <tr>\n",
              "      <th>767</th>\n",
              "      <td>1</td>\n",
              "      <td>93</td>\n",
              "      <td>70</td>\n",
              "      <td>31</td>\n",
              "      <td>0</td>\n",
              "      <td>30.4</td>\n",
              "      <td>0.315</td>\n",
              "      <td>23</td>\n",
              "      <td>0</td>\n",
              "    </tr>\n",
              "  </tbody>\n",
              "</table>\n",
              "<p>768 rows × 9 columns</p>\n",
              "</div>\n",
              "      <button class=\"colab-df-convert\" onclick=\"convertToInteractive('df-f624dc25-89e2-4bb7-b050-6042408c739b')\"\n",
              "              title=\"Convert this dataframe to an interactive table.\"\n",
              "              style=\"display:none;\">\n",
              "        \n",
              "  <svg xmlns=\"http://www.w3.org/2000/svg\" height=\"24px\"viewBox=\"0 0 24 24\"\n",
              "       width=\"24px\">\n",
              "    <path d=\"M0 0h24v24H0V0z\" fill=\"none\"/>\n",
              "    <path d=\"M18.56 5.44l.94 2.06.94-2.06 2.06-.94-2.06-.94-.94-2.06-.94 2.06-2.06.94zm-11 1L8.5 8.5l.94-2.06 2.06-.94-2.06-.94L8.5 2.5l-.94 2.06-2.06.94zm10 10l.94 2.06.94-2.06 2.06-.94-2.06-.94-.94-2.06-.94 2.06-2.06.94z\"/><path d=\"M17.41 7.96l-1.37-1.37c-.4-.4-.92-.59-1.43-.59-.52 0-1.04.2-1.43.59L10.3 9.45l-7.72 7.72c-.78.78-.78 2.05 0 2.83L4 21.41c.39.39.9.59 1.41.59.51 0 1.02-.2 1.41-.59l7.78-7.78 2.81-2.81c.8-.78.8-2.07 0-2.86zM5.41 20L4 18.59l7.72-7.72 1.47 1.35L5.41 20z\"/>\n",
              "  </svg>\n",
              "      </button>\n",
              "      \n",
              "  <style>\n",
              "    .colab-df-container {\n",
              "      display:flex;\n",
              "      flex-wrap:wrap;\n",
              "      gap: 12px;\n",
              "    }\n",
              "\n",
              "    .colab-df-convert {\n",
              "      background-color: #E8F0FE;\n",
              "      border: none;\n",
              "      border-radius: 50%;\n",
              "      cursor: pointer;\n",
              "      display: none;\n",
              "      fill: #1967D2;\n",
              "      height: 32px;\n",
              "      padding: 0 0 0 0;\n",
              "      width: 32px;\n",
              "    }\n",
              "\n",
              "    .colab-df-convert:hover {\n",
              "      background-color: #E2EBFA;\n",
              "      box-shadow: 0px 1px 2px rgba(60, 64, 67, 0.3), 0px 1px 3px 1px rgba(60, 64, 67, 0.15);\n",
              "      fill: #174EA6;\n",
              "    }\n",
              "\n",
              "    [theme=dark] .colab-df-convert {\n",
              "      background-color: #3B4455;\n",
              "      fill: #D2E3FC;\n",
              "    }\n",
              "\n",
              "    [theme=dark] .colab-df-convert:hover {\n",
              "      background-color: #434B5C;\n",
              "      box-shadow: 0px 1px 3px 1px rgba(0, 0, 0, 0.15);\n",
              "      filter: drop-shadow(0px 1px 2px rgba(0, 0, 0, 0.3));\n",
              "      fill: #FFFFFF;\n",
              "    }\n",
              "  </style>\n",
              "\n",
              "      <script>\n",
              "        const buttonEl =\n",
              "          document.querySelector('#df-f624dc25-89e2-4bb7-b050-6042408c739b button.colab-df-convert');\n",
              "        buttonEl.style.display =\n",
              "          google.colab.kernel.accessAllowed ? 'block' : 'none';\n",
              "\n",
              "        async function convertToInteractive(key) {\n",
              "          const element = document.querySelector('#df-f624dc25-89e2-4bb7-b050-6042408c739b');\n",
              "          const dataTable =\n",
              "            await google.colab.kernel.invokeFunction('convertToInteractive',\n",
              "                                                     [key], {});\n",
              "          if (!dataTable) return;\n",
              "\n",
              "          const docLinkHtml = 'Like what you see? Visit the ' +\n",
              "            '<a target=\"_blank\" href=https://colab.research.google.com/notebooks/data_table.ipynb>data table notebook</a>'\n",
              "            + ' to learn more about interactive tables.';\n",
              "          element.innerHTML = '';\n",
              "          dataTable['output_type'] = 'display_data';\n",
              "          await google.colab.output.renderOutput(dataTable, element);\n",
              "          const docLink = document.createElement('div');\n",
              "          docLink.innerHTML = docLinkHtml;\n",
              "          element.appendChild(docLink);\n",
              "        }\n",
              "      </script>\n",
              "    </div>\n",
              "  </div>\n",
              "  "
            ]
          },
          "metadata": {},
          "execution_count": 4
        }
      ],
      "source": [
        "import numpy as np\n",
        "import pandas as pd\n",
        "from sklearn.model_selection import GridSearchCV\n",
        "from keras.models import Sequential\n",
        "from keras.layers import Dense\n",
        "from keras.wrappers.scikit_learn import KerasClassifier\n",
        "\n",
        "# fix random seed for reproducibility\n",
        "seed = 7\n",
        "np.random.seed(seed)\n",
        "\n",
        "# load dataset\n",
        "df = pd.read_csv(\"diabetes.csv\", delimiter=\",\")\n",
        "df"
      ]
    },
    {
      "cell_type": "code",
      "source": [
        "# split into input (X) and output (Y) variables\n",
        "X = df.iloc[:,:8].values\n",
        "Y = df.iloc[:,8].values"
      ],
      "metadata": {
        "id": "6JjobX-n5VeM"
      },
      "execution_count": null,
      "outputs": []
    },
    {
      "cell_type": "code",
      "source": [
        "# Function to create model, required for KerasClassifier\n",
        "def create_model(n_neurons=12,activation='sigmoid'):\n",
        "\t# create model\n",
        "\tmodel = Sequential()\n",
        "\tmodel.add(Dense(n_neurons, input_dim=8, activation=activation))\n",
        "\tmodel.add(Dense(1, activation='sigmoid'))\n",
        "\t# Compile model\n",
        "\tmodel.compile(loss='binary_crossentropy', optimizer='adam', metrics=['accuracy'])\n",
        "\treturn model"
      ],
      "metadata": {
        "id": "nX1esrAZ5Hpp"
      },
      "execution_count": null,
      "outputs": []
    },
    {
      "cell_type": "code",
      "source": [
        "# create model\n",
        "model = KerasClassifier(build_fn=create_model, verbose=0)\n",
        "\n",
        "# define the grid search parameters\n",
        "batch_size = [10, 20, 40, 60, 80, 100]\n",
        "epochs = [10, 50, 100]\n",
        "neurons = [3,5,10,15,20,50,100]\n",
        "activations = ['relu','sigmoid','tanh']\n",
        "param_grid = dict(batch_size=batch_size, epochs=epochs,n_neurons=neurons,activation=activations)\n",
        "grid = GridSearchCV(estimator=model, param_grid=param_grid, n_jobs=-1, cv=3)\n",
        "grid_result = grid.fit(X, Y)"
      ],
      "metadata": {
        "colab": {
          "base_uri": "https://localhost:8080/"
        },
        "id": "W0xBQ5NT459A",
        "outputId": "1e6298cb-577d-4c49-ac9e-d5dadba0ab93"
      },
      "execution_count": null,
      "outputs": [
        {
          "output_type": "stream",
          "name": "stderr",
          "text": [
            "/usr/local/lib/python3.7/dist-packages/ipykernel_launcher.py:2: DeprecationWarning: KerasClassifier is deprecated, use Sci-Keras (https://github.com/adriangb/scikeras) instead. See https://www.adriangb.com/scikeras/stable/migration.html for help migrating.\n",
            "  \n",
            "/usr/local/lib/python3.7/dist-packages/joblib/externals/loky/process_executor.py:705: UserWarning: A worker stopped while some jobs were given to the executor. This can be caused by a too short worker timeout or by a memory leak.\n",
            "  \"timeout or by a memory leak.\", UserWarning\n"
          ]
        }
      ]
    },
    {
      "cell_type": "code",
      "source": [
        "# summarize results\n",
        "print(\"Best: %f using %s\" % (grid_result.best_score_, grid_result.best_params_))\n",
        "means = grid_result.cv_results_['mean_test_score']\n",
        "stds = grid_result.cv_results_['std_test_score']\n",
        "params = grid_result.cv_results_['params']\n",
        "for mean, stdev, param in zip(means, stds, params):\n",
        "    print(\"%f.3 (%f.3) with: %r\" % (mean, stdev, param))"
      ],
      "metadata": {
        "colab": {
          "base_uri": "https://localhost:8080/"
        },
        "id": "_b0qeZrE5jMI",
        "outputId": "913a6c1a-3e2c-4289-f809-3153c8fc37c6"
      },
      "execution_count": null,
      "outputs": [
        {
          "output_type": "stream",
          "name": "stdout",
          "text": [
            "Best: 0.716146 using {'batch_size': 10, 'epochs': 100, 'n_neurons': 100}\n",
            "0.604167.3 (0.065390.3) with: {'batch_size': 10, 'epochs': 10, 'n_neurons': 3}\n",
            "0.566406.3 (0.084565.3) with: {'batch_size': 10, 'epochs': 10, 'n_neurons': 5}\n",
            "0.621094.3 (0.022097.3) with: {'batch_size': 10, 'epochs': 10, 'n_neurons': 10}\n",
            "0.639323.3 (0.036272.3) with: {'batch_size': 10, 'epochs': 10, 'n_neurons': 15}\n",
            "0.632812.3 (0.052505.3) with: {'batch_size': 10, 'epochs': 10, 'n_neurons': 20}\n",
            "0.632812.3 (0.006379.3) with: {'batch_size': 10, 'epochs': 10, 'n_neurons': 50}\n",
            "0.635417.3 (0.043067.3) with: {'batch_size': 10, 'epochs': 10, 'n_neurons': 100}\n",
            "0.649740.3 (0.020505.3) with: {'batch_size': 10, 'epochs': 50, 'n_neurons': 3}\n",
            "0.664062.3 (0.014616.3) with: {'batch_size': 10, 'epochs': 50, 'n_neurons': 5}\n",
            "0.687500.3 (0.022326.3) with: {'batch_size': 10, 'epochs': 50, 'n_neurons': 10}\n",
            "0.683594.3 (0.019401.3) with: {'batch_size': 10, 'epochs': 50, 'n_neurons': 15}\n",
            "0.662760.3 (0.013279.3) with: {'batch_size': 10, 'epochs': 50, 'n_neurons': 20}\n",
            "0.686198.3 (0.013279.3) with: {'batch_size': 10, 'epochs': 50, 'n_neurons': 50}\n",
            "0.703125.3 (0.011049.3) with: {'batch_size': 10, 'epochs': 50, 'n_neurons': 100}\n",
            "0.662760.3 (0.051064.3) with: {'batch_size': 10, 'epochs': 100, 'n_neurons': 3}\n",
            "0.673177.3 (0.016367.3) with: {'batch_size': 10, 'epochs': 100, 'n_neurons': 5}\n",
            "0.695312.3 (0.019401.3) with: {'batch_size': 10, 'epochs': 100, 'n_neurons': 10}\n",
            "0.700521.3 (0.011201.3) with: {'batch_size': 10, 'epochs': 100, 'n_neurons': 15}\n",
            "0.684896.3 (0.020752.3) with: {'batch_size': 10, 'epochs': 100, 'n_neurons': 20}\n",
            "0.666667.3 (0.038450.3) with: {'batch_size': 10, 'epochs': 100, 'n_neurons': 50}\n",
            "0.716146.3 (0.006639.3) with: {'batch_size': 10, 'epochs': 100, 'n_neurons': 100}\n",
            "0.615885.3 (0.062690.3) with: {'batch_size': 20, 'epochs': 10, 'n_neurons': 3}\n",
            "0.558594.3 (0.039836.3) with: {'batch_size': 20, 'epochs': 10, 'n_neurons': 5}\n",
            "0.611979.3 (0.021236.3) with: {'batch_size': 20, 'epochs': 10, 'n_neurons': 10}\n",
            "0.645833.3 (0.030145.3) with: {'batch_size': 20, 'epochs': 10, 'n_neurons': 15}\n",
            "0.539062.3 (0.054501.3) with: {'batch_size': 20, 'epochs': 10, 'n_neurons': 20}\n",
            "0.680990.3 (0.034987.3) with: {'batch_size': 20, 'epochs': 10, 'n_neurons': 50}\n",
            "0.670573.3 (0.033804.3) with: {'batch_size': 20, 'epochs': 10, 'n_neurons': 100}\n",
            "0.639323.3 (0.026557.3) with: {'batch_size': 20, 'epochs': 50, 'n_neurons': 3}\n",
            "0.617188.3 (0.070529.3) with: {'batch_size': 20, 'epochs': 50, 'n_neurons': 5}\n",
            "0.664062.3 (0.030425.3) with: {'batch_size': 20, 'epochs': 50, 'n_neurons': 10}\n",
            "0.660156.3 (0.031412.3) with: {'batch_size': 20, 'epochs': 50, 'n_neurons': 15}\n",
            "0.653646.3 (0.039879.3) with: {'batch_size': 20, 'epochs': 50, 'n_neurons': 20}\n",
            "0.694010.3 (0.021236.3) with: {'batch_size': 20, 'epochs': 50, 'n_neurons': 50}\n",
            "0.696615.3 (0.018414.3) with: {'batch_size': 20, 'epochs': 50, 'n_neurons': 100}\n",
            "0.667969.3 (0.039836.3) with: {'batch_size': 20, 'epochs': 100, 'n_neurons': 3}\n",
            "0.703125.3 (0.013902.3) with: {'batch_size': 20, 'epochs': 100, 'n_neurons': 5}\n",
            "0.674479.3 (0.027126.3) with: {'batch_size': 20, 'epochs': 100, 'n_neurons': 10}\n",
            "0.686198.3 (0.004872.3) with: {'batch_size': 20, 'epochs': 100, 'n_neurons': 15}\n",
            "0.673177.3 (0.014731.3) with: {'batch_size': 20, 'epochs': 100, 'n_neurons': 20}\n",
            "0.701823.3 (0.013279.3) with: {'batch_size': 20, 'epochs': 100, 'n_neurons': 50}\n",
            "0.700521.3 (0.012890.3) with: {'batch_size': 20, 'epochs': 100, 'n_neurons': 100}\n",
            "0.562500.3 (0.075003.3) with: {'batch_size': 40, 'epochs': 10, 'n_neurons': 3}\n",
            "0.592448.3 (0.043537.3) with: {'batch_size': 40, 'epochs': 10, 'n_neurons': 5}\n",
            "0.488281.3 (0.033754.3) with: {'batch_size': 40, 'epochs': 10, 'n_neurons': 10}\n",
            "0.591146.3 (0.011201.3) with: {'batch_size': 40, 'epochs': 10, 'n_neurons': 15}\n",
            "0.662760.3 (0.014382.3) with: {'batch_size': 40, 'epochs': 10, 'n_neurons': 20}\n",
            "0.628906.3 (0.032369.3) with: {'batch_size': 40, 'epochs': 10, 'n_neurons': 50}\n",
            "0.670573.3 (0.019225.3) with: {'batch_size': 40, 'epochs': 10, 'n_neurons': 100}\n",
            "0.610677.3 (0.004872.3) with: {'batch_size': 40, 'epochs': 50, 'n_neurons': 3}\n",
            "0.610677.3 (0.037240.3) with: {'batch_size': 40, 'epochs': 50, 'n_neurons': 5}\n",
            "0.638021.3 (0.045814.3) with: {'batch_size': 40, 'epochs': 50, 'n_neurons': 10}\n",
            "0.652344.3 (0.032369.3) with: {'batch_size': 40, 'epochs': 50, 'n_neurons': 15}\n",
            "0.665365.3 (0.033197.3) with: {'batch_size': 40, 'epochs': 50, 'n_neurons': 20}\n",
            "0.661458.3 (0.028940.3) with: {'batch_size': 40, 'epochs': 50, 'n_neurons': 50}\n",
            "0.618490.3 (0.092567.3) with: {'batch_size': 40, 'epochs': 50, 'n_neurons': 100}\n",
            "0.665365.3 (0.004872.3) with: {'batch_size': 40, 'epochs': 100, 'n_neurons': 3}\n",
            "0.669271.3 (0.028940.3) with: {'batch_size': 40, 'epochs': 100, 'n_neurons': 5}\n",
            "0.687500.3 (0.016573.3) with: {'batch_size': 40, 'epochs': 100, 'n_neurons': 10}\n",
            "0.696615.3 (0.009207.3) with: {'batch_size': 40, 'epochs': 100, 'n_neurons': 15}\n",
            "0.670573.3 (0.041626.3) with: {'batch_size': 40, 'epochs': 100, 'n_neurons': 20}\n",
            "0.694010.3 (0.014382.3) with: {'batch_size': 40, 'epochs': 100, 'n_neurons': 50}\n",
            "0.688802.3 (0.022402.3) with: {'batch_size': 40, 'epochs': 100, 'n_neurons': 100}\n",
            "0.481771.3 (0.008027.3) with: {'batch_size': 60, 'epochs': 10, 'n_neurons': 3}\n",
            "0.463542.3 (0.061295.3) with: {'batch_size': 60, 'epochs': 10, 'n_neurons': 5}\n",
            "0.557292.3 (0.073864.3) with: {'batch_size': 60, 'epochs': 10, 'n_neurons': 10}\n",
            "0.585938.3 (0.052213.3) with: {'batch_size': 60, 'epochs': 10, 'n_neurons': 15}\n",
            "0.554688.3 (0.060767.3) with: {'batch_size': 60, 'epochs': 10, 'n_neurons': 20}\n",
            "0.657552.3 (0.020752.3) with: {'batch_size': 60, 'epochs': 10, 'n_neurons': 50}\n",
            "0.631510.3 (0.010253.3) with: {'batch_size': 60, 'epochs': 10, 'n_neurons': 100}\n",
            "0.636719.3 (0.008438.3) with: {'batch_size': 60, 'epochs': 50, 'n_neurons': 3}\n",
            "0.479167.3 (0.109065.3) with: {'batch_size': 60, 'epochs': 50, 'n_neurons': 5}\n",
            "0.631510.3 (0.014731.3) with: {'batch_size': 60, 'epochs': 50, 'n_neurons': 10}\n",
            "0.636719.3 (0.019401.3) with: {'batch_size': 60, 'epochs': 50, 'n_neurons': 15}\n",
            "0.640625.3 (0.019918.3) with: {'batch_size': 60, 'epochs': 50, 'n_neurons': 20}\n",
            "0.610677.3 (0.061045.3) with: {'batch_size': 60, 'epochs': 50, 'n_neurons': 50}\n",
            "0.679688.3 (0.011500.3) with: {'batch_size': 60, 'epochs': 50, 'n_neurons': 100}\n",
            "0.592448.3 (0.093006.3) with: {'batch_size': 60, 'epochs': 100, 'n_neurons': 3}\n",
            "0.648438.3 (0.036782.3) with: {'batch_size': 60, 'epochs': 100, 'n_neurons': 5}\n",
            "0.632812.3 (0.028348.3) with: {'batch_size': 60, 'epochs': 100, 'n_neurons': 10}\n",
            "0.608073.3 (0.032734.3) with: {'batch_size': 60, 'epochs': 100, 'n_neurons': 15}\n",
            "0.656250.3 (0.013902.3) with: {'batch_size': 60, 'epochs': 100, 'n_neurons': 20}\n",
            "0.692708.3 (0.012890.3) with: {'batch_size': 60, 'epochs': 100, 'n_neurons': 50}\n",
            "0.677083.3 (0.018688.3) with: {'batch_size': 60, 'epochs': 100, 'n_neurons': 100}\n",
            "0.575521.3 (0.125217.3) with: {'batch_size': 80, 'epochs': 10, 'n_neurons': 3}\n",
            "0.526042.3 (0.134764.3) with: {'batch_size': 80, 'epochs': 10, 'n_neurons': 5}\n",
            "0.438802.3 (0.043303.3) with: {'batch_size': 80, 'epochs': 10, 'n_neurons': 10}\n",
            "0.532552.3 (0.046694.3) with: {'batch_size': 80, 'epochs': 10, 'n_neurons': 15}\n",
            "0.600260.3 (0.046256.3) with: {'batch_size': 80, 'epochs': 10, 'n_neurons': 20}\n",
            "0.625000.3 (0.032369.3) with: {'batch_size': 80, 'epochs': 10, 'n_neurons': 50}\n",
            "0.618490.3 (0.041134.3) with: {'batch_size': 80, 'epochs': 10, 'n_neurons': 100}\n",
            "0.632812.3 (0.039192.3) with: {'batch_size': 80, 'epochs': 50, 'n_neurons': 3}\n",
            "0.529948.3 (0.080075.3) with: {'batch_size': 80, 'epochs': 50, 'n_neurons': 5}\n",
            "0.576823.3 (0.067231.3) with: {'batch_size': 80, 'epochs': 50, 'n_neurons': 10}\n",
            "0.587240.3 (0.049650.3) with: {'batch_size': 80, 'epochs': 50, 'n_neurons': 15}\n",
            "0.639323.3 (0.025976.3) with: {'batch_size': 80, 'epochs': 50, 'n_neurons': 20}\n",
            "0.628906.3 (0.033299.3) with: {'batch_size': 80, 'epochs': 50, 'n_neurons': 50}\n",
            "0.701823.3 (0.019225.3) with: {'batch_size': 80, 'epochs': 50, 'n_neurons': 100}\n",
            "0.604167.3 (0.073450.3) with: {'batch_size': 80, 'epochs': 100, 'n_neurons': 3}\n",
            "0.654948.3 (0.034104.3) with: {'batch_size': 80, 'epochs': 100, 'n_neurons': 5}\n",
            "0.644531.3 (0.033299.3) with: {'batch_size': 80, 'epochs': 100, 'n_neurons': 10}\n",
            "0.667969.3 (0.014616.3) with: {'batch_size': 80, 'epochs': 100, 'n_neurons': 15}\n",
            "0.662760.3 (0.004872.3) with: {'batch_size': 80, 'epochs': 100, 'n_neurons': 20}\n",
            "0.680990.3 (0.012890.3) with: {'batch_size': 80, 'epochs': 100, 'n_neurons': 50}\n",
            "0.696615.3 (0.021236.3) with: {'batch_size': 80, 'epochs': 100, 'n_neurons': 100}\n",
            "0.658854.3 (0.013279.3) with: {'batch_size': 100, 'epochs': 10, 'n_neurons': 3}\n",
            "0.567708.3 (0.066317.3) with: {'batch_size': 100, 'epochs': 10, 'n_neurons': 5}\n",
            "0.424479.3 (0.048300.3) with: {'batch_size': 100, 'epochs': 10, 'n_neurons': 10}\n",
            "0.546875.3 (0.052698.3) with: {'batch_size': 100, 'epochs': 10, 'n_neurons': 15}\n",
            "0.459635.3 (0.085244.3) with: {'batch_size': 100, 'epochs': 10, 'n_neurons': 20}\n",
            "0.636719.3 (0.000000.3) with: {'batch_size': 100, 'epochs': 10, 'n_neurons': 50}\n",
            "0.636719.3 (0.049513.3) with: {'batch_size': 100, 'epochs': 10, 'n_neurons': 100}\n",
            "0.641927.3 (0.027126.3) with: {'batch_size': 100, 'epochs': 50, 'n_neurons': 3}\n",
            "0.608073.3 (0.027126.3) with: {'batch_size': 100, 'epochs': 50, 'n_neurons': 5}\n",
            "0.634115.3 (0.059270.3) with: {'batch_size': 100, 'epochs': 50, 'n_neurons': 10}\n",
            "0.561198.3 (0.076569.3) with: {'batch_size': 100, 'epochs': 50, 'n_neurons': 15}\n",
            "0.628906.3 (0.013902.3) with: {'batch_size': 100, 'epochs': 50, 'n_neurons': 20}\n",
            "0.640625.3 (0.019918.3) with: {'batch_size': 100, 'epochs': 50, 'n_neurons': 50}\n",
            "0.656250.3 (0.016573.3) with: {'batch_size': 100, 'epochs': 50, 'n_neurons': 100}\n",
            "0.533854.3 (0.063815.3) with: {'batch_size': 100, 'epochs': 100, 'n_neurons': 3}\n",
            "0.647135.3 (0.043303.3) with: {'batch_size': 100, 'epochs': 100, 'n_neurons': 5}\n",
            "0.662760.3 (0.028940.3) with: {'batch_size': 100, 'epochs': 100, 'n_neurons': 10}\n",
            "0.660156.3 (0.035516.3) with: {'batch_size': 100, 'epochs': 100, 'n_neurons': 15}\n",
            "0.680990.3 (0.018136.3) with: {'batch_size': 100, 'epochs': 100, 'n_neurons': 20}\n",
            "0.644531.3 (0.025315.3) with: {'batch_size': 100, 'epochs': 100, 'n_neurons': 50}\n",
            "0.673177.3 (0.030978.3) with: {'batch_size': 100, 'epochs': 100, 'n_neurons': 100}\n"
          ]
        }
      ]
    },
    {
      "cell_type": "code",
      "source": [
        ""
      ],
      "metadata": {
        "id": "pB6sfy0AFKo4"
      },
      "execution_count": null,
      "outputs": []
    }
  ]
}