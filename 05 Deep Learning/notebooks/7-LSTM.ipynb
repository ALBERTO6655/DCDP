{
  "nbformat": 4,
  "nbformat_minor": 0,
  "metadata": {
    "colab": {
      "name": "7-LSTM.ipynb",
      "provenance": [],
      "collapsed_sections": [],
      "toc_visible": true
    },
    "kernelspec": {
      "name": "python3",
      "display_name": "Python 3"
    },
    "language_info": {
      "name": "python"
    },
    "accelerator": "GPU",
    "gpuClass": "standard"
  },
  "cells": [
    {
      "cell_type": "markdown",
      "source": [
        "<a href=\"https://colab.research.google.com/github/DCDPUAEM/DCDP_2022/blob/main/05 Deep Learning/notebooks/7-LSTM.ipynb\" target=\"_parent\"><img src=\"https://colab.research.google.com/assets/colab-badge.svg\" alt=\"Open In Colab\"/></a>"
      ],
      "metadata": {
        "id": "1CTBVWYRWYO1"
      }
    },
    {
      "cell_type": "markdown",
      "source": [
        "<h1>Long Short-Term Memory Networks: Time Series</h1>\n",
        "\n",
        "En esta notebook usaremos redes LSTM para predecir series de tiempo. Estudiaremos el problema de predecir el número de pasajeros en diferentes meses usanndo la información de periodos de tiempo anteriores. Describiremos diferentes modelos basados en LSTM y compararemos sus desempeños.\n",
        "\n",
        "\n",
        "<img align=\"left\" width=\"50%\" src=\"../img/LSTM.png\"/> "
      ],
      "metadata": {
        "id": "0-QiMUBj-xrJ"
      }
    },
    {
      "cell_type": "code",
      "source": [
        "import tensorflow as tf\n",
        "\n",
        "print('GPU presente en: {}'.format(tf.test.gpu_device_name()))"
      ],
      "metadata": {
        "colab": {
          "base_uri": "https://localhost:8080/"
        },
        "id": "WtXXpPwLBFOa",
        "outputId": "de318df3-8f49-45fd-eddb-03c68a351af4"
      },
      "execution_count": 1,
      "outputs": [
        {
          "output_type": "stream",
          "name": "stdout",
          "text": [
            "GPU presente en: /device:GPU:0\n"
          ]
        }
      ]
    },
    {
      "cell_type": "code",
      "execution_count": 2,
      "metadata": {
        "id": "QsQlfmy8YYDK"
      },
      "outputs": [],
      "source": [
        "import numpy as np\n",
        "import matplotlib.pyplot as plt\n",
        "import math\n",
        "\n",
        "from sklearn.metrics import mean_squared_error"
      ]
    },
    {
      "cell_type": "markdown",
      "source": [
        "# Primer método"
      ],
      "metadata": {
        "id": "cCAbMc5gD32H"
      }
    },
    {
      "cell_type": "markdown",
      "source": [
        "## El conjunto de datos"
      ],
      "metadata": {
        "id": "Tje27BV-GVdi"
      }
    },
    {
      "cell_type": "markdown",
      "source": [
        "Usaremos un conjunto de datos para predecir el número de pasajeros de líneas aéreas internacionales. Se trata de un problema en el que, dados un año y un mes, la tarea consiste en predecir el número de pasajeros de líneas aéreas internacionales en unidades de 1.000. Los datos van de enero de 1949 a diciembre de 1960, es decir, 12 años, con 144 observaciones. El conjunto original de datos se puede encontrar [aquí](https://www.kaggle.com/datasets/rakannimer/air-passengers)."
      ],
      "metadata": {
        "id": "xmH2IBtuGXaQ"
      }
    },
    {
      "cell_type": "code",
      "source": [
        "!apt-get -qq install > /dev/null subversion\n",
        "\n",
        "!svn checkout \"https://github.com/DCDPUAEM/DCDP_2022/trunk/05%20Deep%20Learning/data/\""
      ],
      "metadata": {
        "colab": {
          "base_uri": "https://localhost:8080/"
        },
        "id": "QscswTFwBSQM",
        "outputId": "3fa86259-b698-4687-8cb2-753295fa5371"
      },
      "execution_count": 3,
      "outputs": [
        {
          "output_type": "stream",
          "name": "stdout",
          "text": [
            "A    data/airline-passengers.csv\n",
            "A    data/diabetes.csv\n",
            "A    data/ecg.csv\n",
            "A    data/housing.data\n",
            "A    data/img.png\n",
            "A    data/mnist_biases1.npy\n",
            "A    data/mnist_biases2.npy\n",
            "A    data/mnist_weights1.npy\n",
            "A    data/mnist_weights2.npy\n",
            "Checked out revision 134.\n"
          ]
        }
      ]
    },
    {
      "cell_type": "markdown",
      "source": [
        "Leemos el dataframe"
      ],
      "metadata": {
        "id": "P5-xL-av1NaY"
      }
    },
    {
      "cell_type": "code",
      "source": [
        "import pandas as pd\n",
        "\n",
        "np.random.seed(7)\n",
        "\n",
        "dataframe = pd.read_csv('data/airline-passengers.csv')\n",
        "display(dataframe)"
      ],
      "metadata": {
        "id": "l4E4bIiAZuUf",
        "colab": {
          "base_uri": "https://localhost:8080/",
          "height": 424
        },
        "outputId": "f516e325-b630-4e33-8b1c-f1cda31d0a6b"
      },
      "execution_count": 4,
      "outputs": [
        {
          "output_type": "display_data",
          "data": {
            "text/plain": [
              "       Month  Passengers\n",
              "0    1949-01         112\n",
              "1    1949-02         118\n",
              "2    1949-03         132\n",
              "3    1949-04         129\n",
              "4    1949-05         121\n",
              "..       ...         ...\n",
              "139  1960-08         606\n",
              "140  1960-09         508\n",
              "141  1960-10         461\n",
              "142  1960-11         390\n",
              "143  1960-12         432\n",
              "\n",
              "[144 rows x 2 columns]"
            ],
            "text/html": [
              "\n",
              "  <div id=\"df-1c2ba957-c997-4330-9071-33eb4871539e\">\n",
              "    <div class=\"colab-df-container\">\n",
              "      <div>\n",
              "<style scoped>\n",
              "    .dataframe tbody tr th:only-of-type {\n",
              "        vertical-align: middle;\n",
              "    }\n",
              "\n",
              "    .dataframe tbody tr th {\n",
              "        vertical-align: top;\n",
              "    }\n",
              "\n",
              "    .dataframe thead th {\n",
              "        text-align: right;\n",
              "    }\n",
              "</style>\n",
              "<table border=\"1\" class=\"dataframe\">\n",
              "  <thead>\n",
              "    <tr style=\"text-align: right;\">\n",
              "      <th></th>\n",
              "      <th>Month</th>\n",
              "      <th>Passengers</th>\n",
              "    </tr>\n",
              "  </thead>\n",
              "  <tbody>\n",
              "    <tr>\n",
              "      <th>0</th>\n",
              "      <td>1949-01</td>\n",
              "      <td>112</td>\n",
              "    </tr>\n",
              "    <tr>\n",
              "      <th>1</th>\n",
              "      <td>1949-02</td>\n",
              "      <td>118</td>\n",
              "    </tr>\n",
              "    <tr>\n",
              "      <th>2</th>\n",
              "      <td>1949-03</td>\n",
              "      <td>132</td>\n",
              "    </tr>\n",
              "    <tr>\n",
              "      <th>3</th>\n",
              "      <td>1949-04</td>\n",
              "      <td>129</td>\n",
              "    </tr>\n",
              "    <tr>\n",
              "      <th>4</th>\n",
              "      <td>1949-05</td>\n",
              "      <td>121</td>\n",
              "    </tr>\n",
              "    <tr>\n",
              "      <th>...</th>\n",
              "      <td>...</td>\n",
              "      <td>...</td>\n",
              "    </tr>\n",
              "    <tr>\n",
              "      <th>139</th>\n",
              "      <td>1960-08</td>\n",
              "      <td>606</td>\n",
              "    </tr>\n",
              "    <tr>\n",
              "      <th>140</th>\n",
              "      <td>1960-09</td>\n",
              "      <td>508</td>\n",
              "    </tr>\n",
              "    <tr>\n",
              "      <th>141</th>\n",
              "      <td>1960-10</td>\n",
              "      <td>461</td>\n",
              "    </tr>\n",
              "    <tr>\n",
              "      <th>142</th>\n",
              "      <td>1960-11</td>\n",
              "      <td>390</td>\n",
              "    </tr>\n",
              "    <tr>\n",
              "      <th>143</th>\n",
              "      <td>1960-12</td>\n",
              "      <td>432</td>\n",
              "    </tr>\n",
              "  </tbody>\n",
              "</table>\n",
              "<p>144 rows × 2 columns</p>\n",
              "</div>\n",
              "      <button class=\"colab-df-convert\" onclick=\"convertToInteractive('df-1c2ba957-c997-4330-9071-33eb4871539e')\"\n",
              "              title=\"Convert this dataframe to an interactive table.\"\n",
              "              style=\"display:none;\">\n",
              "        \n",
              "  <svg xmlns=\"http://www.w3.org/2000/svg\" height=\"24px\"viewBox=\"0 0 24 24\"\n",
              "       width=\"24px\">\n",
              "    <path d=\"M0 0h24v24H0V0z\" fill=\"none\"/>\n",
              "    <path d=\"M18.56 5.44l.94 2.06.94-2.06 2.06-.94-2.06-.94-.94-2.06-.94 2.06-2.06.94zm-11 1L8.5 8.5l.94-2.06 2.06-.94-2.06-.94L8.5 2.5l-.94 2.06-2.06.94zm10 10l.94 2.06.94-2.06 2.06-.94-2.06-.94-.94-2.06-.94 2.06-2.06.94z\"/><path d=\"M17.41 7.96l-1.37-1.37c-.4-.4-.92-.59-1.43-.59-.52 0-1.04.2-1.43.59L10.3 9.45l-7.72 7.72c-.78.78-.78 2.05 0 2.83L4 21.41c.39.39.9.59 1.41.59.51 0 1.02-.2 1.41-.59l7.78-7.78 2.81-2.81c.8-.78.8-2.07 0-2.86zM5.41 20L4 18.59l7.72-7.72 1.47 1.35L5.41 20z\"/>\n",
              "  </svg>\n",
              "      </button>\n",
              "      \n",
              "  <style>\n",
              "    .colab-df-container {\n",
              "      display:flex;\n",
              "      flex-wrap:wrap;\n",
              "      gap: 12px;\n",
              "    }\n",
              "\n",
              "    .colab-df-convert {\n",
              "      background-color: #E8F0FE;\n",
              "      border: none;\n",
              "      border-radius: 50%;\n",
              "      cursor: pointer;\n",
              "      display: none;\n",
              "      fill: #1967D2;\n",
              "      height: 32px;\n",
              "      padding: 0 0 0 0;\n",
              "      width: 32px;\n",
              "    }\n",
              "\n",
              "    .colab-df-convert:hover {\n",
              "      background-color: #E2EBFA;\n",
              "      box-shadow: 0px 1px 2px rgba(60, 64, 67, 0.3), 0px 1px 3px 1px rgba(60, 64, 67, 0.15);\n",
              "      fill: #174EA6;\n",
              "    }\n",
              "\n",
              "    [theme=dark] .colab-df-convert {\n",
              "      background-color: #3B4455;\n",
              "      fill: #D2E3FC;\n",
              "    }\n",
              "\n",
              "    [theme=dark] .colab-df-convert:hover {\n",
              "      background-color: #434B5C;\n",
              "      box-shadow: 0px 1px 3px 1px rgba(0, 0, 0, 0.15);\n",
              "      filter: drop-shadow(0px 1px 2px rgba(0, 0, 0, 0.3));\n",
              "      fill: #FFFFFF;\n",
              "    }\n",
              "  </style>\n",
              "\n",
              "      <script>\n",
              "        const buttonEl =\n",
              "          document.querySelector('#df-1c2ba957-c997-4330-9071-33eb4871539e button.colab-df-convert');\n",
              "        buttonEl.style.display =\n",
              "          google.colab.kernel.accessAllowed ? 'block' : 'none';\n",
              "\n",
              "        async function convertToInteractive(key) {\n",
              "          const element = document.querySelector('#df-1c2ba957-c997-4330-9071-33eb4871539e');\n",
              "          const dataTable =\n",
              "            await google.colab.kernel.invokeFunction('convertToInteractive',\n",
              "                                                     [key], {});\n",
              "          if (!dataTable) return;\n",
              "\n",
              "          const docLinkHtml = 'Like what you see? Visit the ' +\n",
              "            '<a target=\"_blank\" href=https://colab.research.google.com/notebooks/data_table.ipynb>data table notebook</a>'\n",
              "            + ' to learn more about interactive tables.';\n",
              "          element.innerHTML = '';\n",
              "          dataTable['output_type'] = 'display_data';\n",
              "          await google.colab.output.renderOutput(dataTable, element);\n",
              "          const docLink = document.createElement('div');\n",
              "          docLink.innerHTML = docLinkHtml;\n",
              "          element.appendChild(docLink);\n",
              "        }\n",
              "      </script>\n",
              "    </div>\n",
              "  </div>\n",
              "  "
            ]
          },
          "metadata": {}
        }
      ]
    },
    {
      "cell_type": "markdown",
      "source": [
        "Visualizamos los datos"
      ],
      "metadata": {
        "id": "drRDMlf4Rjvq"
      }
    },
    {
      "cell_type": "code",
      "source": [
        "# ----- Cambiamos el índice del dataframe por la fecha de la observación -----\n",
        "dataframe.columns = ['Date', 'Passengers']\n",
        "dataframe['Date'] = pd.to_datetime(dataframe['Date'], format='%Y-%m')\n",
        "dataframe = dataframe.set_index('Date')\n",
        "dataframe.head()\n",
        "\n",
        "plt.plot(dataframe, color='black')\n",
        "plt.xticks(fontsize=15)\n",
        "plt.yticks(fontsize=15)\n",
        "plt.show()"
      ],
      "metadata": {
        "colab": {
          "base_uri": "https://localhost:8080/",
          "height": 270
        },
        "id": "112vyktaQ_LR",
        "outputId": "9bd16cfd-9baa-40cb-eed4-b4b03f9c0740"
      },
      "execution_count": 5,
      "outputs": [
        {
          "output_type": "display_data",
          "data": {
            "text/plain": [
              "<Figure size 432x288 with 1 Axes>"
            ],
            "image/png": "[encoded data removed]"
          },
          "metadata": {
            "needs_background": "light"
          }
        }
      ]
    },
    {
      "cell_type": "markdown",
      "source": [
        "Nos quedamos con la serie de valores del dataframe"
      ],
      "metadata": {
        "id": "aMoZPqQp18z0"
      }
    },
    {
      "cell_type": "code",
      "source": [
        "dataset = dataframe.values\n",
        "dataset = dataset.astype('float32')\n",
        "print(f\"Serie de tiempo: {dataset[:3].reshape(-1,)} ... {dataset[-4:].reshape(-1,)}\")"
      ],
      "metadata": {
        "colab": {
          "base_uri": "https://localhost:8080/"
        },
        "id": "lSDO4QoRBq-e",
        "outputId": "d179f779-f58d-4758-f348-57f32424fa3d"
      },
      "execution_count": 6,
      "outputs": [
        {
          "output_type": "stream",
          "name": "stdout",
          "text": [
            "Serie de tiempo: [112. 118. 132.] ... [508. 461. 390. 432.]\n"
          ]
        }
      ]
    },
    {
      "cell_type": "markdown",
      "source": [
        "## Preprocesamiento de los datos"
      ],
      "metadata": {
        "id": "qboFwH1u9fW4"
      }
    },
    {
      "cell_type": "markdown",
      "source": [
        "Necesitamos generar los conjunto $X$, $Y$ para la red LSTM. El conjunto $X$ es el conjunto que ya tenemos de datos de la serie de tiempo. El conjunto $y$ es la misma serie de tiempo, *adelantada* $l_b=1$ observación. Es decir, si la serie de tiempo esta dada por $x_0,x_1,...,x_n$, tendremos:\n",
        "\n",
        "$$X = (x_0,x_1,...,x_{n-2})$$\n",
        "$$Y = (x_1,x_2,...,x_{n-1})$$\n",
        "\n",
        "Podemos variar el parámetro $l_b$ (look back). **Ahorita no lo haremos, sino hasta el final del ejemplo**\n",
        "\n",
        "Definimos una función que genere los arreglos $X$, $Y$."
      ],
      "metadata": {
        "id": "cY0UH6Mb2B4e"
      }
    },
    {
      "cell_type": "code",
      "source": [
        "def create_dataset(x, look_back=1):\n",
        "\tdataX, dataY = [], []\n",
        "\tfor i in range(len(x)-look_back-1):\n",
        "\t\ta = x[i:(i+look_back), 0]\n",
        "\t\tdataX.append(a)\n",
        "\t\tdataY.append(x[i + look_back, 0])\n",
        "\treturn np.array(dataX), np.array(dataY)"
      ],
      "metadata": {
        "id": "YXXRFE04AUWi"
      },
      "execution_count": 7,
      "outputs": []
    },
    {
      "cell_type": "markdown",
      "source": [
        "Veamos como quedarían los datos. **Regresaremos a probar con varios valores de $l_b$ al final del ejercicio, por ahora, nos quedamos con $l_b=1$.**"
      ],
      "metadata": {
        "id": "lIgsBtua5OD1"
      }
    },
    {
      "cell_type": "code",
      "source": [
        "print(f\"Tamaño de la serie inicial: {dataset.shape[0]}\")\n",
        "print(f\"Serie de tiempo original: {dataset[:3].reshape(-1,)} ... {dataset[-4:].reshape(-1,)}\")\n",
        "\n",
        "lb = 3\n",
        "\n",
        "X, y = create_dataset(dataset,lb)\n",
        "\n",
        "if lb==1:\n",
        "    print(f\"\\nTamaño de las series para la LSTM: {X.shape[0]}\")\n",
        "    print(f\"Serie de tiempo modificada X: {X[:3].reshape(-1,)} ... {X[-3:].reshape(-1,)}\")\n",
        "    print(f\"Serie de tiempo modificada Y: {y[:3].reshape(-1,)} ... {y[-3:].reshape(-1,)}\")\n",
        "else:\n",
        "    print(f\"\\nTamaño de las series para la LSTM: {X.shape}\")\n",
        "    print(f\"Serie de tiempo modificada X:\\n {X[:3]}\")\n",
        "    print(f\"Serie de tiempo modificada Y: {y[:3]}\")"
      ],
      "metadata": {
        "colab": {
          "base_uri": "https://localhost:8080/"
        },
        "id": "Hs8kANPP2pg1",
        "outputId": "d8b753cd-8e08-459b-f656-08a789cb8309"
      },
      "execution_count": 18,
      "outputs": [
        {
          "output_type": "stream",
          "name": "stdout",
          "text": [
            "Tamaño de la serie inicial: 144\n",
            "Serie de tiempo original: [112. 118. 132.] ... [508. 461. 390. 432.]\n",
            "\n",
            "Tamaño de las series para la LSTM: (140, 3)\n",
            "Serie de tiempo modificada X:\n",
            " [[112. 118. 132.]\n",
            " [118. 132. 129.]\n",
            " [132. 129. 121.]]\n",
            "Serie de tiempo modificada Y: [129. 121. 135.]\n"
          ]
        }
      ]
    },
    {
      "cell_type": "markdown",
      "source": [
        "Re-escalamos los datos para que queden en el intervalo $[0,1]$."
      ],
      "metadata": {
        "id": "XNjXY9DM_g2Y"
      }
    },
    {
      "cell_type": "code",
      "source": [
        "from sklearn.preprocessing import MinMaxScaler\n",
        "\n",
        "scaler = MinMaxScaler(feature_range=(0, 1))\n",
        "dataset = scaler.fit_transform(dataset)\n",
        "dataset[:5]"
      ],
      "metadata": {
        "colab": {
          "base_uri": "https://localhost:8080/"
        },
        "id": "XMg5XQjBAXRt",
        "outputId": "6d07a2b2-a493-4b2f-e778-897b401ba1cb"
      },
      "execution_count": 19,
      "outputs": [
        {
          "output_type": "execute_result",
          "data": {
            "text/plain": [
              "array([[0.01544401],\n",
              "       [0.02702703],\n",
              "       [0.05405405],\n",
              "       [0.04826255],\n",
              "       [0.03281853]], dtype=float32)"
            ]
          },
          "metadata": {},
          "execution_count": 19
        }
      ]
    },
    {
      "cell_type": "markdown",
      "source": [
        "Dividimos en entrenamiento y prueba. Observar que los datos deben ser divididos en forma *ordenada*, es decir:\n",
        "\n",
        "$$X_{train} = \\{ x_0, ... , x_k\\} $$\n",
        "$$X_{test} = \\{ x_{k+1}, ... , x_n\\} $$"
      ],
      "metadata": {
        "id": "m1wOeF6V_nTL"
      }
    },
    {
      "cell_type": "code",
      "source": [
        "train_ratio = 0.7\n",
        "\n",
        "train_size = int(len(dataset) * train_ratio)\n",
        "test_size = len(dataset) - train_size\n",
        "train, test = dataset[0:train_size,:], dataset[train_size:len(dataset),:]\n",
        "\n",
        "# ----- Generamos los conjuntos X,Y -----\n",
        "look_back = 1\n",
        "X_train, Y_train = create_dataset(train, look_back)\n",
        "X_test, Y_test = create_dataset(test, look_back)\n",
        "\n",
        "# ----- reshape input to be [samples, time steps, features] -----\n",
        "X_train = np.reshape(X_train, (X_train.shape[0], 1, X_train.shape[1]))\n",
        "X_test = np.reshape(X_test, (X_test.shape[0], 1, X_test.shape[1]))\n",
        "print(f\"Shape of X_train: {X_train.shape}\")\n",
        "print(f\"Shape of X_test: {X_test.shape}\")"
      ],
      "metadata": {
        "colab": {
          "base_uri": "https://localhost:8080/"
        },
        "id": "wO8b6JebAZ03",
        "outputId": "8d6371fc-a623-4f19-ff06-822f88318f1c"
      },
      "execution_count": 27,
      "outputs": [
        {
          "output_type": "stream",
          "name": "stdout",
          "text": [
            "Shape of X_train: (98, 1, 1)\n",
            "Shape of X_test: (42, 1, 1)\n"
          ]
        }
      ]
    },
    {
      "cell_type": "markdown",
      "source": [
        "## Definimos y entrenamos el modelo"
      ],
      "metadata": {
        "id": "xDEp2UvxDptI"
      }
    },
    {
      "cell_type": "markdown",
      "source": [
        "La célula de LSTM se encuentra implementada en [Keras](https://keras.io/api/layers/recurrent_layers/lstm/) como `LSTM`. Algunos de los parámetros importantes son:\n",
        "\n",
        "* `units`: Positive integer, dimensionality of the output space. En este ejemplo, el valor es 4.\n",
        "* `activation`: Activation function to use. Default: hyperbolic tangent (tanh). If you pass None, no activation is applied (ie. \"linear\" activation: a(x) = x).\n",
        "* `recurrent_activation`: Activation function to use for the recurrent step. Default: sigmoid (sigmoid). If you pass None, no activation is applied (ie. \"linear\" activation: a(x) = x)."
      ],
      "metadata": {
        "id": "pqNgNTKvF1Ys"
      }
    },
    {
      "cell_type": "code",
      "source": [
        "from tensorflow.keras.callbacks import EarlyStopping\n",
        "\n",
        "es = EarlyStopping(monitor='val_loss', mode='min', verbose=1, patience=2)"
      ],
      "metadata": {
        "id": "Tis-iCAJcYxI"
      },
      "execution_count": 35,
      "outputs": []
    },
    {
      "cell_type": "code",
      "source": [
        "from keras.models import Sequential\n",
        "from keras.layers import Dense\n",
        "from keras.layers import LSTM\n",
        "\n",
        "# ------ Creamos el modelo ------\n",
        "model = Sequential()\n",
        "model.add(LSTM(4, input_shape=(1, look_back)))\n",
        "model.add(Dense(1))\n",
        "\n",
        "# ------ Compilamos el modelo ------\n",
        "model.compile(loss='mean_squared_error', optimizer='adam')"
      ],
      "metadata": {
        "id": "X6Xmo4iEAeI4"
      },
      "execution_count": 34,
      "outputs": []
    },
    {
      "cell_type": "markdown",
      "source": [
        "**¿Cómo podemos combinar capas LSTM?**\n",
        "\n",
        "Es posible apilar capas LSTM en arquitecturas de redes profundas para entrenarse juntas, compartiendo la memoría entre ellas. \n",
        "\n",
        "Las capas LSTM pueden apilarse en Keras de la misma manera que otros tipos de capas. El requisito para hacerlo es que la primer capa devuelva la secuencia para que sea recibida por la segunda capa. Esto se puede hacer estableciendo el parámetro `return_sequence` como *True*."
      ],
      "metadata": {
        "id": "6bf6Bkg2b5zL"
      }
    },
    {
      "cell_type": "code",
      "source": [
        "# from keras.models import Sequential\n",
        "# from keras.layers import Dense\n",
        "# from keras.layers import LSTM\n",
        "\n",
        "# # ------ Creamos el modelo ------\n",
        "# model = Sequential()\n",
        "# model.add(LSTM(4, input_shape=(1, look_back)),return_sequence=True)\n",
        "# model.add(LSTM(4))\n",
        "# model.add(Dense(1))\n",
        "\n",
        "# # ------ Compilamos el modelo ------\n",
        "# model.compile(loss='mean_squared_error', optimizer='adam')"
      ],
      "metadata": {
        "id": "YW1AVg0wb5Ft"
      },
      "execution_count": null,
      "outputs": []
    },
    {
      "cell_type": "markdown",
      "source": [
        "Entrenamos el modelo"
      ],
      "metadata": {
        "id": "Q_qiS1LtIaNo"
      }
    },
    {
      "cell_type": "code",
      "source": [
        "history = model.fit(X_train, Y_train, epochs=100, batch_size=1, verbose=2,\n",
        "                    validation_split=0.1,callbacks=[es])"
      ],
      "metadata": {
        "id": "xU982WFBAgO4",
        "colab": {
          "base_uri": "https://localhost:8080/"
        },
        "outputId": "92485652-7372-4407-c7f7-e9ccf62c0981"
      },
      "execution_count": 36,
      "outputs": [
        {
          "output_type": "stream",
          "name": "stdout",
          "text": [
            "Epoch 1/100\n",
            "88/88 - 3s - loss: 0.0196 - val_loss: 0.0653 - 3s/epoch - 34ms/step\n",
            "Epoch 2/100\n",
            "88/88 - 0s - loss: 0.0090 - val_loss: 0.0485 - 223ms/epoch - 3ms/step\n",
            "Epoch 3/100\n",
            "88/88 - 0s - loss: 0.0077 - val_loss: 0.0378 - 228ms/epoch - 3ms/step\n",
            "Epoch 4/100\n",
            "88/88 - 0s - loss: 0.0069 - val_loss: 0.0343 - 231ms/epoch - 3ms/step\n",
            "Epoch 5/100\n",
            "88/88 - 0s - loss: 0.0062 - val_loss: 0.0268 - 225ms/epoch - 3ms/step\n",
            "Epoch 6/100\n",
            "88/88 - 0s - loss: 0.0055 - val_loss: 0.0253 - 232ms/epoch - 3ms/step\n",
            "Epoch 7/100\n",
            "88/88 - 0s - loss: 0.0048 - val_loss: 0.0224 - 221ms/epoch - 3ms/step\n",
            "Epoch 8/100\n",
            "88/88 - 0s - loss: 0.0042 - val_loss: 0.0198 - 231ms/epoch - 3ms/step\n",
            "Epoch 9/100\n",
            "88/88 - 0s - loss: 0.0037 - val_loss: 0.0153 - 229ms/epoch - 3ms/step\n",
            "Epoch 10/100\n",
            "88/88 - 0s - loss: 0.0032 - val_loss: 0.0130 - 234ms/epoch - 3ms/step\n",
            "Epoch 11/100\n",
            "88/88 - 0s - loss: 0.0028 - val_loss: 0.0116 - 224ms/epoch - 3ms/step\n",
            "Epoch 12/100\n",
            "88/88 - 0s - loss: 0.0025 - val_loss: 0.0113 - 247ms/epoch - 3ms/step\n",
            "Epoch 13/100\n",
            "88/88 - 0s - loss: 0.0023 - val_loss: 0.0088 - 230ms/epoch - 3ms/step\n",
            "Epoch 14/100\n",
            "88/88 - 0s - loss: 0.0021 - val_loss: 0.0089 - 235ms/epoch - 3ms/step\n",
            "Epoch 15/100\n",
            "88/88 - 0s - loss: 0.0020 - val_loss: 0.0077 - 237ms/epoch - 3ms/step\n",
            "Epoch 16/100\n",
            "88/88 - 0s - loss: 0.0019 - val_loss: 0.0065 - 229ms/epoch - 3ms/step\n",
            "Epoch 17/100\n",
            "88/88 - 0s - loss: 0.0018 - val_loss: 0.0065 - 227ms/epoch - 3ms/step\n",
            "Epoch 18/100\n",
            "88/88 - 0s - loss: 0.0018 - val_loss: 0.0066 - 226ms/epoch - 3ms/step\n",
            "Epoch 18: early stopping\n"
          ]
        }
      ]
    },
    {
      "cell_type": "markdown",
      "source": [
        "## Obtenemos las predicciones y evaluamos el desempeño de la red"
      ],
      "metadata": {
        "id": "lnGjOjfxDu9N"
      }
    },
    {
      "cell_type": "code",
      "source": [
        "plt.figure(figsize=(5, 5),dpi=100)\n",
        "plt.suptitle(\"Validation and Training Loss\",fontsize=14)\n",
        "plt.plot(history.history['loss'], label='train')\n",
        "plt.plot(history.history['val_loss'], label='validation')\n",
        "plt.ylabel(\"Loss\")\n",
        "plt.xlabel(\"Epochs\")\n",
        "plt.legend()\n",
        "plt.show()"
      ],
      "metadata": {
        "colab": {
          "base_uri": "https://localhost:8080/",
          "height": 507
        },
        "id": "RODGcel6cQ2C",
        "outputId": "9fcb7f93-6216-471e-9841-4fb7dfe76bf8"
      },
      "execution_count": 39,
      "outputs": [
        {
          "output_type": "display_data",
          "data": {
            "text/plain": [
              "<Figure size 500x500 with 1 Axes>"
            ],
            "image/png": "[encoded data removed]"
          },
          "metadata": {
            "needs_background": "light"
          }
        }
      ]
    },
    {
      "cell_type": "markdown",
      "source": [
        "Realizamos las predicciones"
      ],
      "metadata": {
        "id": "WEK3BcbpIb7Y"
      }
    },
    {
      "cell_type": "code",
      "source": [
        "# make predictions\n",
        "train_predict = model.predict(X_train)\n",
        "test_predict = model.predict(X_test)"
      ],
      "metadata": {
        "id": "ve-yYn4RAhpJ"
      },
      "execution_count": 40,
      "outputs": []
    },
    {
      "cell_type": "markdown",
      "source": [
        "Aplicamos la transformación inversa del escalador, para obtener los valores en su escala original."
      ],
      "metadata": {
        "id": "A7VQjpQ-DT0H"
      }
    },
    {
      "cell_type": "code",
      "source": [
        "# invert predictions\n",
        "train_predict = scaler.inverse_transform(train_predict)\n",
        "Y_train = scaler.inverse_transform([Y_train])\n",
        "test_predict = scaler.inverse_transform(test_predict)\n",
        "Y_test = scaler.inverse_transform([Y_test])"
      ],
      "metadata": {
        "id": "nuJOMORCAjAG"
      },
      "execution_count": 41,
      "outputs": []
    },
    {
      "cell_type": "markdown",
      "source": [
        "Calculamos el error en las predicciones. Al ser un problema de regresión, usamos una pérdida y métrica de regresión: RMSE, MSE, MAE, etc."
      ],
      "metadata": {
        "id": "f4zdQU3YDajg"
      }
    },
    {
      "cell_type": "code",
      "source": [
        "# calculate root mean squared error\n",
        "train_score = math.sqrt(mean_squared_error(Y_train[0], train_predict[:,0]))\n",
        "print('Train Score RMSE: %.2f' % (train_score))\n",
        "test_score = math.sqrt(mean_squared_error(Y_test[0], test_predict[:,0]))\n",
        "print('Test Score RMSE: %.2f' % (test_score))"
      ],
      "metadata": {
        "colab": {
          "base_uri": "https://localhost:8080/"
        },
        "id": "_Iyt2VS6Ak3z",
        "outputId": "c859ddc7-d25e-40d6-e049-33156d768a7f"
      },
      "execution_count": 42,
      "outputs": [
        {
          "output_type": "stream",
          "name": "stdout",
          "text": [
            "Train Score RMSE: 24.25\n",
            "Test Score RMSE: 57.77\n"
          ]
        }
      ]
    },
    {
      "cell_type": "markdown",
      "source": [
        "Graficamos las predicciones, tanto en train como en test"
      ],
      "metadata": {
        "id": "4qBs4BkuDkyh"
      }
    },
    {
      "cell_type": "code",
      "source": [
        "# shift train predictions for plotting\n",
        "trainPredictPlot = np.empty_like(dataset)\n",
        "trainPredictPlot[:, :] = np.nan\n",
        "trainPredictPlot[look_back:len(train_predict)+look_back, :] = train_predict\n",
        "\n",
        "# shift test predictions for plotting\n",
        "testPredictPlot = np.empty_like(dataset)\n",
        "testPredictPlot[:, :] = np.nan\n",
        "testPredictPlot[len(train_predict)+(look_back*2)+1:len(dataset)-1, :] = test_predict\n",
        "\n",
        "# plot baseline and predictions\n",
        "plt.figure(figsize=(10,10))\n",
        "plt.plot(scaler.inverse_transform(dataset),label='Dataset')\n",
        "plt.plot(trainPredictPlot,label='Train')\n",
        "plt.plot(testPredictPlot,label='Prediction')\n",
        "plt.legend(loc='best')\n",
        "plt.show()"
      ],
      "metadata": {
        "colab": {
          "base_uri": "https://localhost:8080/",
          "height": 592
        },
        "id": "2a2aA-N0Aolx",
        "outputId": "64656198-a356-4147-d0b0-6bd0be99a994"
      },
      "execution_count": 26,
      "outputs": [
        {
          "output_type": "display_data",
          "data": {
            "text/plain": [
              "<Figure size 720x720 with 1 Axes>"
            ],
            "image/png": "[encoded data removed]"
          },
          "metadata": {
            "needs_background": "light"
          }
        }
      ]
    },
    {
      "cell_type": "markdown",
      "source": [
        "## Una arquitectura más compleja\n",
        "\n",
        "Probemos con una arquitectura más profunda. Observar que las capas LSTM regresan las secuencias, de esta forma, se entrenan juntas y comparten la memoria."
      ],
      "metadata": {
        "id": "MCb-Ank8Vo_O"
      }
    },
    {
      "cell_type": "code",
      "source": [
        "from keras.models import Sequential\n",
        "from keras.layers import Dense, Dropout\n",
        "from keras.layers import LSTM\n",
        "\n",
        "lstmModel = Sequential()\n",
        "lstmModel.add(LSTM(100, activation=\"ReLU\", return_sequences=True, input_shape=(trainX.shape[1], 1)))\n",
        "lstmModel.add(Dropout(0.2))\n",
        "lstmModel.add(LSTM(80, activation=\"ReLU\", return_sequences=True))\n",
        "lstmModel.add(Dropout(0.2))\n",
        "lstmModel.add(LSTM(50, activation=\"ReLU\", return_sequences=True))\n",
        "lstmModel.add(Dropout(0.2))\n",
        "lstmModel.add(LSTM(30, activation=\"ReLU\"))\n",
        "lstmModel.add(Dense(1))\n",
        "\n",
        "lstmModel.summary()\n",
        "\n",
        "model.compile(loss='mean_squared_error', optimizer='adam')"
      ],
      "metadata": {
        "colab": {
          "base_uri": "https://localhost:8080/"
        },
        "id": "RIj69MTnSepn",
        "outputId": "d3ce7c3c-0c57-4f1b-80a6-0c688fc88a49"
      },
      "execution_count": null,
      "outputs": [
        {
          "output_type": "stream",
          "name": "stdout",
          "text": [
            "WARNING:tensorflow:Layer lstm_6 will not use cuDNN kernels since it doesn't meet the criteria. It will use a generic GPU kernel as fallback when running on GPU.\n",
            "WARNING:tensorflow:Layer lstm_7 will not use cuDNN kernels since it doesn't meet the criteria. It will use a generic GPU kernel as fallback when running on GPU.\n",
            "WARNING:tensorflow:Layer lstm_8 will not use cuDNN kernels since it doesn't meet the criteria. It will use a generic GPU kernel as fallback when running on GPU.\n",
            "WARNING:tensorflow:Layer lstm_9 will not use cuDNN kernels since it doesn't meet the criteria. It will use a generic GPU kernel as fallback when running on GPU.\n",
            "Model: \"sequential_4\"\n",
            "_________________________________________________________________\n",
            " Layer (type)                Output Shape              Param #   \n",
            "=================================================================\n",
            " lstm_6 (LSTM)               (None, 1, 100)            40800     \n",
            "                                                                 \n",
            " dropout_3 (Dropout)         (None, 1, 100)            0         \n",
            "                                                                 \n",
            " lstm_7 (LSTM)               (None, 1, 80)             57920     \n",
            "                                                                 \n",
            " dropout_4 (Dropout)         (None, 1, 80)             0         \n",
            "                                                                 \n",
            " lstm_8 (LSTM)               (None, 1, 50)             26200     \n",
            "                                                                 \n",
            " dropout_5 (Dropout)         (None, 1, 50)             0         \n",
            "                                                                 \n",
            " lstm_9 (LSTM)               (None, 30)                9720      \n",
            "                                                                 \n",
            " dense_2 (Dense)             (None, 1)                 31        \n",
            "                                                                 \n",
            "=================================================================\n",
            "Total params: 134,671\n",
            "Trainable params: 134,671\n",
            "Non-trainable params: 0\n",
            "_________________________________________________________________\n"
          ]
        }
      ]
    },
    {
      "cell_type": "markdown",
      "source": [
        "Entrenamos el modelo"
      ],
      "metadata": {
        "id": "FeQFPMNxg8pD"
      }
    },
    {
      "cell_type": "code",
      "source": [
        "model.fit(trainX, trainY, epochs=100, batch_size=1, verbose=2)"
      ],
      "metadata": {
        "id": "HXRpvNcTa264"
      },
      "execution_count": null,
      "outputs": []
    },
    {
      "cell_type": "markdown",
      "source": [
        "Hacemos las predicciones"
      ],
      "metadata": {
        "id": "SD6JZ7m4g--d"
      }
    },
    {
      "cell_type": "code",
      "source": [
        "# make predictions\n",
        "trainPredict = model.predict(trainX)\n",
        "testPredict = model.predict(testX)"
      ],
      "metadata": {
        "id": "HsrCqz4PbTth"
      },
      "execution_count": null,
      "outputs": []
    },
    {
      "cell_type": "markdown",
      "source": [
        "Invertimos las predicciones (des-escalamos)"
      ],
      "metadata": {
        "id": "o01dAc9FhA_6"
      }
    },
    {
      "cell_type": "code",
      "source": [
        "# invert predictions\n",
        "trainPredict = scaler.inverse_transform(trainPredict)\n",
        "trainY = scaler.inverse_transform([trainY])\n",
        "testPredict = scaler.inverse_transform(testPredict)\n",
        "testY = scaler.inverse_transform([testY])"
      ],
      "metadata": {
        "id": "YdrK92pSbWv1"
      },
      "execution_count": null,
      "outputs": []
    },
    {
      "cell_type": "markdown",
      "source": [
        "Obtenemos las métricas de evaluación"
      ],
      "metadata": {
        "id": "fSSPfhvzhFzx"
      }
    },
    {
      "cell_type": "code",
      "source": [
        "# calculate root mean squared error\n",
        "trainScore = math.sqrt(mean_squared_error(trainY[0], trainPredict[:,0]))\n",
        "print('Train Score: %.2f RMSE' % (trainScore))\n",
        "testScore = math.sqrt(mean_squared_error(testY[0], testPredict[:,0]))\n",
        "print('Test Score: %.2f RMSE' % (testScore))"
      ],
      "metadata": {
        "colab": {
          "base_uri": "https://localhost:8080/"
        },
        "id": "NIa2ur1yba3x",
        "outputId": "6756cf04-96c5-4b7b-e6d1-01258fbc9d09"
      },
      "execution_count": null,
      "outputs": [
        {
          "output_type": "stream",
          "name": "stdout",
          "text": [
            "Train Score: 22.81 RMSE\n",
            "Test Score: 48.52 RMSE\n"
          ]
        }
      ]
    },
    {
      "cell_type": "code",
      "source": [
        "# shift train predictions for plotting\n",
        "trainPredictPlot = np.empty_like(dataset)\n",
        "trainPredictPlot[:, :] = np.nan\n",
        "trainPredictPlot[look_back:len(trainPredict)+look_back, :] = trainPredict\n",
        "\n",
        "# shift test predictions for plotting\n",
        "testPredictPlot = np.empty_like(dataset)\n",
        "testPredictPlot[:, :] = np.nan\n",
        "testPredictPlot[len(trainPredict)+(look_back*2)+1:len(dataset)-1, :] = testPredict\n",
        "\n",
        "# plot baseline and predictions\n",
        "plt.figure(figsize=(10,10))\n",
        "plt.plot(scaler.inverse_transform(dataset),label='Dataset')\n",
        "plt.plot(trainPredictPlot,label='Train')\n",
        "plt.plot(testPredictPlot,label='Prediction')\n",
        "plt.legend(loc='best')\n",
        "plt.show()"
      ],
      "metadata": {
        "colab": {
          "base_uri": "https://localhost:8080/",
          "height": 592
        },
        "id": "PrwnTW1MbeWI",
        "outputId": "a14e078e-9937-413b-e209-56ce936c0b1c"
      },
      "execution_count": null,
      "outputs": [
        {
          "output_type": "display_data",
          "data": {
            "text/plain": [
              "<Figure size 720x720 with 1 Axes>"
            ],
            "image/png": "[encoded data removed]"
          },
          "metadata": {
            "needs_background": "light"
          }
        }
      ]
    },
    {
      "cell_type": "markdown",
      "source": [
        "# Window Method"
      ],
      "metadata": {
        "id": "5whjgoCcHT8M"
      }
    },
    {
      "cell_type": "markdown",
      "source": [
        "Otra manera de plantear el probemas es considerar que varios datos previos pueden ser usado para predecir el siguiente dato de una serie de tiempo.\n",
        "\n",
        "A estos multiples valores pasdos se les llama *ventana*, el tamaño de la ventana puede variarse y depende del problema.\n",
        "\n",
        "Por ejemplo, dado el tiempo actual $t$ queremos predecir el valor en el siguiente tiempo de la secuencia $t+1$, podemos utilizar el tiempo actual (t), así como los dos tiempos anteriores $t-1$ y $t-2$ como variables de entrada.\n",
        "\n",
        "Si se plantea como un problema de regresión, las variables de entrada son $t-2$, $t-1$, $t$ y la variable de salida es $t+1$.\n",
        "\n",
        "Es decir, si la serie de tiempo esta dada por $x_0,x_1,...,x_n$, tendremos:\n",
        "\n",
        "\\begin{align}\n",
        "X = \n",
        "\\begin{pmatrix}\n",
        "    x_0 & x_1 & x_2 \\\\\n",
        "    x_1 & x_2 & x_3 \\\\\n",
        "     & ... & \\\\\n",
        "    x_{n-3} & x_{n-2} & x_{n-1}\n",
        "    \\end{pmatrix}\n",
        "\\end{align}\n",
        "\n",
        "\\begin{align}\n",
        "Y = \n",
        "\\begin{pmatrix}\n",
        "    x_3 \\\\\n",
        "    x_4 \\\\\n",
        "    ...\\\\\n",
        "    x_n\n",
        "    \\end{pmatrix}\n",
        "\\end{align}\n",
        "    \n",
        "Esto lo logramos variando el parámetro *look back* de la función de construcción de los datos. Experimenta con este valor y verifica que los datos tienen la forma dada por las expresiones anteriores.\n",
        "\n",
        "⭕ Ejercicio: \n",
        "* Encuentra un valor para el $l_p$ que mejore el desempeño de la LSTM anterior. Recuerda que, al ser un problema de regresión, lo que estamos tratando de minimizar es la función de perdida.\n",
        "* Puedes usar también capas de dropout y callbacks."
      ],
      "metadata": {
        "id": "A80nr1Cvv38Z"
      }
    },
    {
      "cell_type": "markdown",
      "source": [
        "\n",
        "---\n",
        "\n",
        "\n",
        "Hay varios técnicas más para LSTM, por ejemplo:\n",
        "\n",
        "* **Diferenciación de datos.** Los datos estacionarios son más fáciles de modelar. Este tipo de datos no tiene una estructura que dependa del tiempo. En el caso de los conjuntos de datos no estacionarios, por ejemplo, si los datos tienen una tendencia creciente, la tendencia puede eliminarse de las observaciones y volver a añadirse a las previsiones más adelante para devolver la predicción a la escala original. Una forma estándar de eliminar una tendencia es diferenciar los datos."
      ],
      "metadata": {
        "id": "7638mSK5B8xx"
      }
    },
    {
      "cell_type": "code",
      "source": [
        "t"
      ],
      "metadata": {
        "id": "nPeL6eZdCxkK"
      },
      "execution_count": null,
      "outputs": []
    }
  ]
}