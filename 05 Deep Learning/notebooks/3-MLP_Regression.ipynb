{
  "nbformat": 4,
  "nbformat_minor": 0,
  "metadata": {
    "kernelspec": {
      "display_name": "Python 3",
      "language": "python",
      "name": "python3"
    },
    "language_info": {
      "codemirror_mode": {
        "name": "ipython",
        "version": 3
      },
      "file_extension": ".py",
      "mimetype": "text/x-python",
      "name": "python",
      "nbconvert_exporter": "python",
      "pygments_lexer": "ipython3",
      "version": "3.7.6"
    },
    "colab": {
      "name": "3-FCN-Regression.ipynb",
      "provenance": [],
      "collapsed_sections": [],
      "toc_visible": true
    }
  },
  "cells": [
    {
      "cell_type": "markdown",
      "metadata": {
        "id": "view-in-github"
      },
      "source": [
        "<a href=\"https://colab.research.google.com/github/DCDPUAEM/DCDP_2022/blob/main/05%20Deep%20Learning/notebooks/3-MLP_Regression.ipynb\" target=\"_parent\"><img src=\"https://colab.research.google.com/assets/colab-badge.svg\" alt=\"Open In Colab\"/></a>\n"
      ]
    },
    {
      "cell_type": "markdown",
      "source": [
        "<h4>Redes neuronales en tareas de Regresión</h4>\n",
        "\n",
        "En esta notebook se presentan dos ejemplos que ilustran cómo usar redes neuronales MLP como herramientas para tareas de regresión."
      ],
      "metadata": {
        "id": "FERSs4GM9pZA"
      }
    },
    {
      "cell_type": "code",
      "metadata": {
        "id": "DhmUvXATbWLr"
      },
      "source": [
        "import numpy as np\n",
        "import matplotlib.pyplot as plt"
      ],
      "execution_count": 40,
      "outputs": []
    },
    {
      "cell_type": "markdown",
      "source": [
        "#1. Ejemplo 1: IRIS Dataset"
      ],
      "metadata": {
        "id": "m8yn9beX97zv"
      }
    },
    {
      "cell_type": "markdown",
      "source": [
        "El conjunto de datos de flores de Iris o conjunto de datos de Iris de Fisher es un conjunto de datos introducido por el estadístico y biólogo británico Ronald Fisher en su artículo de 1936 *The use of multiple measurements in taxonomic problems as an example of linear discriminant analysis*. A veces se denomina conjunto de datos de Iris de Anderson porque Edgar Anderson recopiló los datos para cuantificar la variación morfológica de las flores de Iris de tres especies relacionadas. Dos de las tres especies se recogieron en la península de Gaspé \"todas en el mismo pasto, y se recogieron el mismo día y se midieron al mismo tiempo por la misma persona con el mismo aparato\".\n",
        "\n",
        "El conjunto de datos consta de 50 muestras de cada una de las tres especies de Iris (Iris setosa, Iris virginica e Iris versicolor). Se midieron cuatro características de cada muestra: la longitud y la anchura de los sépalos y los pétalos, en centímetros.\n",
        "\n",
        "La versión original del dataset puede encontrarse [aquí](https://archive.ics.uci.edu/ml/datasets/iris).\n",
        "\n",
        "<img align=\"left\" width=\"50%\" src=\"../img/Iris-dataset.png\"/> "
      ],
      "metadata": {
        "id": "nQlzLDgvAzr8"
      }
    },
    {
      "cell_type": "markdown",
      "source": [
        "## El conjunto de datos"
      ],
      "metadata": {
        "id": "i2xuSg-igvAG"
      }
    },
    {
      "cell_type": "code",
      "source": [
        "from sklearn.datasets import load_iris\n",
        "iris = load_iris()\n",
        "\n",
        "print(f\"Data shape: {iris.data.shape}\")"
      ],
      "metadata": {
        "colab": {
          "base_uri": "https://localhost:8080/"
        },
        "id": "biPlgX0gFVjA",
        "outputId": "40adf9e3-e92f-4414-c25d-bf73e64d4ad7"
      },
      "execution_count": 125,
      "outputs": [
        {
          "output_type": "stream",
          "name": "stdout",
          "text": [
            "Data shape: (150, 4)\n"
          ]
        }
      ]
    },
    {
      "cell_type": "code",
      "source": [
        "import pandas as pd\n",
        "\n",
        "data = np.hstack((iris.data,iris.target.reshape(-1,1)))\n",
        "pd.DataFrame(data,columns=['petal length','petal width','sepal length','sepal width','species'])"
      ],
      "metadata": {
        "colab": {
          "base_uri": "https://localhost:8080/",
          "height": 424
        },
        "id": "rkpVkrW4KKm5",
        "outputId": "8882db7e-fdc4-44aa-cd96-e375bd720055"
      },
      "execution_count": 126,
      "outputs": [
        {
          "output_type": "execute_result",
          "data": {
            "text/plain": [
              "     petal length  petal width  sepal length  sepal width  species\n",
              "0             5.1          3.5           1.4          0.2      0.0\n",
              "1             4.9          3.0           1.4          0.2      0.0\n",
              "2             4.7          3.2           1.3          0.2      0.0\n",
              "3             4.6          3.1           1.5          0.2      0.0\n",
              "4             5.0          3.6           1.4          0.2      0.0\n",
              "..            ...          ...           ...          ...      ...\n",
              "145           6.7          3.0           5.2          2.3      2.0\n",
              "146           6.3          2.5           5.0          1.9      2.0\n",
              "147           6.5          3.0           5.2          2.0      2.0\n",
              "148           6.2          3.4           5.4          2.3      2.0\n",
              "149           5.9          3.0           5.1          1.8      2.0\n",
              "\n",
              "[150 rows x 5 columns]"
            ],
            "text/html": [
              "\n",
              "  <div id=\"df-a752e51b-47a8-46de-a28d-72d78c651927\">\n",
              "    <div class=\"colab-df-container\">\n",
              "      <div>\n",
              "<style scoped>\n",
              "    .dataframe tbody tr th:only-of-type {\n",
              "        vertical-align: middle;\n",
              "    }\n",
              "\n",
              "    .dataframe tbody tr th {\n",
              "        vertical-align: top;\n",
              "    }\n",
              "\n",
              "    .dataframe thead th {\n",
              "        text-align: right;\n",
              "    }\n",
              "</style>\n",
              "<table border=\"1\" class=\"dataframe\">\n",
              "  <thead>\n",
              "    <tr style=\"text-align: right;\">\n",
              "      <th></th>\n",
              "      <th>petal length</th>\n",
              "      <th>petal width</th>\n",
              "      <th>sepal length</th>\n",
              "      <th>sepal width</th>\n",
              "      <th>species</th>\n",
              "    </tr>\n",
              "  </thead>\n",
              "  <tbody>\n",
              "    <tr>\n",
              "      <th>0</th>\n",
              "      <td>5.1</td>\n",
              "      <td>3.5</td>\n",
              "      <td>1.4</td>\n",
              "      <td>0.2</td>\n",
              "      <td>0.0</td>\n",
              "    </tr>\n",
              "    <tr>\n",
              "      <th>1</th>\n",
              "      <td>4.9</td>\n",
              "      <td>3.0</td>\n",
              "      <td>1.4</td>\n",
              "      <td>0.2</td>\n",
              "      <td>0.0</td>\n",
              "    </tr>\n",
              "    <tr>\n",
              "      <th>2</th>\n",
              "      <td>4.7</td>\n",
              "      <td>3.2</td>\n",
              "      <td>1.3</td>\n",
              "      <td>0.2</td>\n",
              "      <td>0.0</td>\n",
              "    </tr>\n",
              "    <tr>\n",
              "      <th>3</th>\n",
              "      <td>4.6</td>\n",
              "      <td>3.1</td>\n",
              "      <td>1.5</td>\n",
              "      <td>0.2</td>\n",
              "      <td>0.0</td>\n",
              "    </tr>\n",
              "    <tr>\n",
              "      <th>4</th>\n",
              "      <td>5.0</td>\n",
              "      <td>3.6</td>\n",
              "      <td>1.4</td>\n",
              "      <td>0.2</td>\n",
              "      <td>0.0</td>\n",
              "    </tr>\n",
              "    <tr>\n",
              "      <th>...</th>\n",
              "      <td>...</td>\n",
              "      <td>...</td>\n",
              "      <td>...</td>\n",
              "      <td>...</td>\n",
              "      <td>...</td>\n",
              "    </tr>\n",
              "    <tr>\n",
              "      <th>145</th>\n",
              "      <td>6.7</td>\n",
              "      <td>3.0</td>\n",
              "      <td>5.2</td>\n",
              "      <td>2.3</td>\n",
              "      <td>2.0</td>\n",
              "    </tr>\n",
              "    <tr>\n",
              "      <th>146</th>\n",
              "      <td>6.3</td>\n",
              "      <td>2.5</td>\n",
              "      <td>5.0</td>\n",
              "      <td>1.9</td>\n",
              "      <td>2.0</td>\n",
              "    </tr>\n",
              "    <tr>\n",
              "      <th>147</th>\n",
              "      <td>6.5</td>\n",
              "      <td>3.0</td>\n",
              "      <td>5.2</td>\n",
              "      <td>2.0</td>\n",
              "      <td>2.0</td>\n",
              "    </tr>\n",
              "    <tr>\n",
              "      <th>148</th>\n",
              "      <td>6.2</td>\n",
              "      <td>3.4</td>\n",
              "      <td>5.4</td>\n",
              "      <td>2.3</td>\n",
              "      <td>2.0</td>\n",
              "    </tr>\n",
              "    <tr>\n",
              "      <th>149</th>\n",
              "      <td>5.9</td>\n",
              "      <td>3.0</td>\n",
              "      <td>5.1</td>\n",
              "      <td>1.8</td>\n",
              "      <td>2.0</td>\n",
              "    </tr>\n",
              "  </tbody>\n",
              "</table>\n",
              "<p>150 rows × 5 columns</p>\n",
              "</div>\n",
              "      <button class=\"colab-df-convert\" onclick=\"convertToInteractive('df-a752e51b-47a8-46de-a28d-72d78c651927')\"\n",
              "              title=\"Convert this dataframe to an interactive table.\"\n",
              "              style=\"display:none;\">\n",
              "        \n",
              "  <svg xmlns=\"http://www.w3.org/2000/svg\" height=\"24px\"viewBox=\"0 0 24 24\"\n",
              "       width=\"24px\">\n",
              "    <path d=\"M0 0h24v24H0V0z\" fill=\"none\"/>\n",
              "    <path d=\"M18.56 5.44l.94 2.06.94-2.06 2.06-.94-2.06-.94-.94-2.06-.94 2.06-2.06.94zm-11 1L8.5 8.5l.94-2.06 2.06-.94-2.06-.94L8.5 2.5l-.94 2.06-2.06.94zm10 10l.94 2.06.94-2.06 2.06-.94-2.06-.94-.94-2.06-.94 2.06-2.06.94z\"/><path d=\"M17.41 7.96l-1.37-1.37c-.4-.4-.92-.59-1.43-.59-.52 0-1.04.2-1.43.59L10.3 9.45l-7.72 7.72c-.78.78-.78 2.05 0 2.83L4 21.41c.39.39.9.59 1.41.59.51 0 1.02-.2 1.41-.59l7.78-7.78 2.81-2.81c.8-.78.8-2.07 0-2.86zM5.41 20L4 18.59l7.72-7.72 1.47 1.35L5.41 20z\"/>\n",
              "  </svg>\n",
              "      </button>\n",
              "      \n",
              "  <style>\n",
              "    .colab-df-container {\n",
              "      display:flex;\n",
              "      flex-wrap:wrap;\n",
              "      gap: 12px;\n",
              "    }\n",
              "\n",
              "    .colab-df-convert {\n",
              "      background-color: #E8F0FE;\n",
              "      border: none;\n",
              "      border-radius: 50%;\n",
              "      cursor: pointer;\n",
              "      display: none;\n",
              "      fill: #1967D2;\n",
              "      height: 32px;\n",
              "      padding: 0 0 0 0;\n",
              "      width: 32px;\n",
              "    }\n",
              "\n",
              "    .colab-df-convert:hover {\n",
              "      background-color: #E2EBFA;\n",
              "      box-shadow: 0px 1px 2px rgba(60, 64, 67, 0.3), 0px 1px 3px 1px rgba(60, 64, 67, 0.15);\n",
              "      fill: #174EA6;\n",
              "    }\n",
              "\n",
              "    [theme=dark] .colab-df-convert {\n",
              "      background-color: #3B4455;\n",
              "      fill: #D2E3FC;\n",
              "    }\n",
              "\n",
              "    [theme=dark] .colab-df-convert:hover {\n",
              "      background-color: #434B5C;\n",
              "      box-shadow: 0px 1px 3px 1px rgba(0, 0, 0, 0.15);\n",
              "      filter: drop-shadow(0px 1px 2px rgba(0, 0, 0, 0.3));\n",
              "      fill: #FFFFFF;\n",
              "    }\n",
              "  </style>\n",
              "\n",
              "      <script>\n",
              "        const buttonEl =\n",
              "          document.querySelector('#df-a752e51b-47a8-46de-a28d-72d78c651927 button.colab-df-convert');\n",
              "        buttonEl.style.display =\n",
              "          google.colab.kernel.accessAllowed ? 'block' : 'none';\n",
              "\n",
              "        async function convertToInteractive(key) {\n",
              "          const element = document.querySelector('#df-a752e51b-47a8-46de-a28d-72d78c651927');\n",
              "          const dataTable =\n",
              "            await google.colab.kernel.invokeFunction('convertToInteractive',\n",
              "                                                     [key], {});\n",
              "          if (!dataTable) return;\n",
              "\n",
              "          const docLinkHtml = 'Like what you see? Visit the ' +\n",
              "            '<a target=\"_blank\" href=https://colab.research.google.com/notebooks/data_table.ipynb>data table notebook</a>'\n",
              "            + ' to learn more about interactive tables.';\n",
              "          element.innerHTML = '';\n",
              "          dataTable['output_type'] = 'display_data';\n",
              "          await google.colab.output.renderOutput(dataTable, element);\n",
              "          const docLink = document.createElement('div');\n",
              "          docLink.innerHTML = docLinkHtml;\n",
              "          element.appendChild(docLink);\n",
              "        }\n",
              "      </script>\n",
              "    </div>\n",
              "  </div>\n",
              "  "
            ]
          },
          "metadata": {},
          "execution_count": 126
        }
      ]
    },
    {
      "cell_type": "code",
      "metadata": {
        "id": "Pr8pwJ5ebWL0",
        "colab": {
          "base_uri": "https://localhost:8080/",
          "height": 350
        },
        "outputId": "8a131330-65f3-409c-c6bf-6457dc85429b"
      },
      "source": [
        "# We will use length and width of petals as X to predict length and width of sepals as Y\n",
        "# We also keep the labels in a vector L\n",
        "X = iris.data[:, :2]\n",
        "Y = iris.data[:, 2:]\n",
        "L = iris.target\n",
        "\n",
        "print(\"X data:\", X.shape)\n",
        "print(\"Y data:\", Y.shape)\n",
        "print(\"L data:\", L.shape)\n",
        "\n",
        "# ----- Graficamos -----\n",
        "plt.figure(figsize=(12, 4))\n",
        "plt.subplot(1, 2, 1)\n",
        "plt.scatter(X[L==0, 0], X[L==0, 1], c='b', label='setosa')\n",
        "plt.scatter(X[L==1, 0], X[L==1, 1], c='r', label='versicolor')\n",
        "plt.scatter(X[L==2, 0], X[L==2, 1], c='g', label='virginica')\n",
        "plt.legend()\n",
        "plt.grid(True)\n",
        "plt.xlabel('petal length')\n",
        "plt.ylabel('petal width')\n",
        "plt.title('Input variables X')\n",
        "plt.subplot(1, 2, 2)\n",
        "plt.scatter(Y[L==0, 0], Y[L==0, 1], c='b', label='setosa')\n",
        "plt.scatter(Y[L==1, 0], Y[L==1, 1], c='r', label='versicolor')\n",
        "plt.scatter(Y[L==2, 0], Y[L==2, 1], c='g', label='virginica')\n",
        "plt.legend()\n",
        "plt.grid(True)\n",
        "plt.xlabel('sepal length')\n",
        "plt.ylabel('sepal width')\n",
        "plt.title('Output variables Y')\n",
        "plt.show()"
      ],
      "execution_count": 127,
      "outputs": [
        {
          "output_type": "stream",
          "name": "stdout",
          "text": [
            "X data: (150, 2)\n",
            "Y data: (150, 2)\n",
            "L data: (150,)\n"
          ]
        },
        {
          "output_type": "display_data",
          "data": {
            "text/plain": [
              "<Figure size 864x288 with 2 Axes>"
            ],
            "image/png": "[encoded data removed]"
          },
          "metadata": {
            "needs_background": "light"
          }
        }
      ]
    },
    {
      "cell_type": "code",
      "metadata": {
        "id": "16xfdF2xbWL8",
        "colab": {
          "base_uri": "https://localhost:8080/"
        },
        "outputId": "949fac53-e4da-4f6a-f0e9-a9ebe61975b5"
      },
      "source": [
        "# Split it into training and test sets\n",
        "from sklearn.model_selection import train_test_split\n",
        "\n",
        "x_train, x_test, y_train, y_test, l_train, l_test = train_test_split(X, Y, L, test_size=0.1)\n",
        "\n",
        "print(\"Training + validation inputs X:\", x_train.shape)\n",
        "print(\"Test inputs X:\", x_test.shape)\n",
        "print(\"Training + validation outputs Y:\", y_train.shape)\n",
        "print(\"Test outputs Y:\", y_test.shape)\n",
        "print(\"Training + validation labels l:\", l_train.shape)\n",
        "print(\"Test labels l:\", l_test.shape)"
      ],
      "execution_count": 128,
      "outputs": [
        {
          "output_type": "stream",
          "name": "stdout",
          "text": [
            "Training + validation inputs X: (135, 2)\n",
            "Test inputs X: (15, 2)\n",
            "Training + validation outputs Y: (135, 2)\n",
            "Test outputs Y: (15, 2)\n",
            "Training + validation labels l: (135,)\n",
            "Test labels l: (15,)\n"
          ]
        }
      ]
    },
    {
      "cell_type": "markdown",
      "source": [
        "## Creamos la red"
      ],
      "metadata": {
        "id": "TBynqKsZgyEY"
      }
    },
    {
      "cell_type": "code",
      "metadata": {
        "id": "jwGu_37rbWMC"
      },
      "source": [
        "# import tensorflow as tf\n",
        "from tensorflow.keras.models import Model, Sequential\n",
        "from tensorflow.keras.layers import Input, Dense"
      ],
      "execution_count": 131,
      "outputs": []
    },
    {
      "cell_type": "code",
      "metadata": {
        "id": "OfZ2xl7XbWMI",
        "colab": {
          "base_uri": "https://localhost:8080/"
        },
        "outputId": "c76e319c-415b-44a6-b306-c1e0a744256d"
      },
      "source": [
        "# Create an MLP of two inputs x=[x1, x2], and two outputs y=[y1, y2]\n",
        "i = Input(shape=(2,), name='input')\n",
        "o = Dense(units=2, activation=None, name='output')(i)\n",
        "\n",
        "MLP = Model(inputs=i, outputs=o)\n",
        "MLP.summary()"
      ],
      "execution_count": 132,
      "outputs": [
        {
          "output_type": "stream",
          "name": "stdout",
          "text": [
            "Model: \"model_6\"\n",
            "_________________________________________________________________\n",
            " Layer (type)                Output Shape              Param #   \n",
            "=================================================================\n",
            " input (InputLayer)          [(None, 2)]               0         \n",
            "                                                                 \n",
            " output (Dense)              (None, 2)                 6         \n",
            "                                                                 \n",
            "=================================================================\n",
            "Total params: 6\n",
            "Trainable params: 6\n",
            "Non-trainable params: 0\n",
            "_________________________________________________________________\n"
          ]
        }
      ]
    },
    {
      "cell_type": "code",
      "metadata": {
        "id": "YiR10FbJbWMN",
        "colab": {
          "base_uri": "https://localhost:8080/"
        },
        "outputId": "019af5fd-dbd7-4748-ed32-5b693bfef8cc"
      },
      "source": [
        "# Obtain weights and biases of the hidden layer\n",
        "w1, b1 = MLP.layers[1].get_weights()\n",
        "print(\"Initial weights:\", w1.shape)\n",
        "print(w1)\n",
        "print(\"Initial biases\", b1.shape)\n",
        "print(b1)"
      ],
      "execution_count": 133,
      "outputs": [
        {
          "output_type": "stream",
          "name": "stdout",
          "text": [
            "Initial weights: (2, 2)\n",
            "[[ 0.53404784 -0.7829732 ]\n",
            " [-0.26474208  0.18040693]]\n",
            "Initial biases (2,)\n",
            "[0. 0.]\n"
          ]
        }
      ]
    },
    {
      "cell_type": "code",
      "metadata": {
        "id": "yf20TvnAbWMR",
        "colab": {
          "base_uri": "https://localhost:8080/",
          "height": 140
        },
        "outputId": "4b4e258a-c168-44d7-c2aa-d1b3dc9f4e7e"
      },
      "source": [
        "from tensorflow.keras.utils import plot_model\n",
        "\n",
        "plot_model(MLP, to_file='MLP.png', show_shapes=True, show_layer_names=True, rankdir='TB', expand_nested=True, dpi=64)"
      ],
      "execution_count": 134,
      "outputs": [
        {
          "output_type": "execute_result",
          "data": {
            "text/plain": [
              "<IPython.core.display.Image object>"
            ],
            "image/png": "[encoded data removed]"
          },
          "metadata": {},
          "execution_count": 134
        }
      ]
    },
    {
      "cell_type": "code",
      "metadata": {
        "id": "CJ0ZRpsibWMY"
      },
      "source": [
        "MLP.compile(optimizer='sgd', loss='mse')"
      ],
      "execution_count": 135,
      "outputs": []
    },
    {
      "cell_type": "markdown",
      "source": [
        "## Entrenamos la red"
      ],
      "metadata": {
        "id": "wEkbO_2Ug1_k"
      }
    },
    {
      "cell_type": "code",
      "metadata": {
        "id": "Hzez7n_xbWMc"
      },
      "source": [
        "n_epocas = 100\n",
        "\n",
        "HISTORY = MLP.fit(x=x_train, y=y_train, batch_size=4, epochs=n_epocas, validation_split=0.1)"
      ],
      "execution_count": null,
      "outputs": []
    },
    {
      "cell_type": "markdown",
      "source": [
        "Aquí se muestra una segunda forma de graficar la perdida durante el entrenamiento. De esta forma no hay que especificar manualmente la cantidad de épocas."
      ],
      "metadata": {
        "id": "uRcx0MU7FG_V"
      }
    },
    {
      "cell_type": "code",
      "metadata": {
        "id": "x7I-BOSFbgX-",
        "colab": {
          "base_uri": "https://localhost:8080/",
          "height": 374
        },
        "outputId": "8a133984-fea3-42e6-e7cf-88cf163959ae"
      },
      "source": [
        "plt.figure(figsize=(12, 5))\n",
        "plt.suptitle(\"Training and Validation Losses\", fontsize=15)\n",
        "plt.plot(MLP.history.history['loss'], label='Training', linewidth=2)\n",
        "plt.plot(MLP.history.history['val_loss'], label='Validation', linewidth=2)\n",
        "plt.legend()\n",
        "plt.xlabel('Epoch', fontsize=14)\n",
        "plt.ylabel('Loss (MSE)', fontsize=14)\n",
        "plt.grid(True)\n",
        "plt.show()"
      ],
      "execution_count": 137,
      "outputs": [
        {
          "output_type": "display_data",
          "data": {
            "text/plain": [
              "<Figure size 864x360 with 1 Axes>"
            ],
            "image/png": "[encoded data removed]"
          },
          "metadata": {
            "needs_background": "light"
          }
        }
      ]
    },
    {
      "cell_type": "code",
      "metadata": {
        "id": "rtHqcSQg2aQR",
        "colab": {
          "base_uri": "https://localhost:8080/"
        },
        "outputId": "48114beb-b409-434b-c45f-a05775a02162"
      },
      "source": [
        "# Obtain weights and biases of the hidden layer after training\n",
        "w1, b1 = MLP.layers[1].get_weights()\n",
        "print(\"Initial weights:\", w1.shape)\n",
        "print(w1)\n",
        "print(\"Initial biases\", b1.shape)\n",
        "print(b1)"
      ],
      "execution_count": 138,
      "outputs": [
        {
          "output_type": "stream",
          "name": "stdout",
          "text": [
            "Initial weights: (2, 2)\n",
            "[[ 1.6457497   0.6364732 ]\n",
            " [-1.7829107  -0.72696346]]\n",
            "Initial biases (2,)\n",
            "[-0.7580318 -0.4121375]\n"
          ]
        }
      ]
    },
    {
      "cell_type": "markdown",
      "source": [
        "## Resultados y Evaluación"
      ],
      "metadata": {
        "id": "O69mEJAjg4w-"
      }
    },
    {
      "cell_type": "markdown",
      "source": [
        "Use the trained model to compute the average test loss"
      ],
      "metadata": {
        "id": "nDruX69hHLba"
      }
    },
    {
      "cell_type": "code",
      "metadata": {
        "id": "M99b2NpEbWMi",
        "colab": {
          "base_uri": "https://localhost:8080/"
        },
        "outputId": "0fa14d4e-62fa-4e34-cbc8-a171984f3589"
      },
      "source": [
        "MLP.evaluate(x=x_test, y=y_test, verbose=False)"
      ],
      "execution_count": 139,
      "outputs": [
        {
          "output_type": "execute_result",
          "data": {
            "text/plain": [
              "0.4066779315471649"
            ]
          },
          "metadata": {},
          "execution_count": 139
        }
      ]
    },
    {
      "cell_type": "code",
      "metadata": {
        "id": "-vkDhVD3bWMo",
        "colab": {
          "base_uri": "https://localhost:8080/"
        },
        "outputId": "465e6567-7d33-4d87-9de5-b4e0182ce8be"
      },
      "source": [
        "# Now generate the predictions on the test set\n",
        "y_test_hat = MLP.predict(x=x_test)\n",
        "print(y_test_hat.shape)"
      ],
      "execution_count": 140,
      "outputs": [
        {
          "output_type": "stream",
          "name": "stdout",
          "text": [
            "WARNING:tensorflow:5 out of the last 10 calls to <function Model.make_predict_function.<locals>.predict_function at 0x7fb5cd014e60> triggered tf.function retracing. Tracing is expensive and the excessive number of tracings could be due to (1) creating @tf.function repeatedly in a loop, (2) passing tensors with different shapes, (3) passing Python objects instead of tensors. For (1), please define your @tf.function outside of the loop. For (2), @tf.function has experimental_relax_shapes=True option that relaxes argument shapes that can avoid unnecessary retracing. For (3), please refer to https://www.tensorflow.org/guide/function#controlling_retracing and https://www.tensorflow.org/api_docs/python/tf/function for  more details.\n",
            "(15, 2)\n"
          ]
        }
      ]
    },
    {
      "cell_type": "code",
      "metadata": {
        "id": "hh43w3bRbWMs",
        "colab": {
          "base_uri": "https://localhost:8080/",
          "height": 404
        },
        "outputId": "18654e3b-240a-49ba-bd26-2dfd6f508346"
      },
      "source": [
        "plt.figure(figsize=(9,6))\n",
        "\n",
        "plt.scatter(y_test[l_test==0, 0], y_test[l_test==0, 1], c='b', label='set true')\n",
        "plt.scatter(y_test[l_test==1, 0], y_test[l_test==1, 1], c='r', label='ver true')\n",
        "plt.scatter(y_test[l_test==2, 0], y_test[l_test==2, 1], c='g', label='vir true')\n",
        "\n",
        "plt.scatter(y_test_hat[l_test==0, 0], y_test_hat[l_test==0, 1], c='b', marker='+', label='set pred')\n",
        "plt.scatter(y_test_hat[l_test==1, 0], y_test_hat[l_test==1, 1], c='r', marker='+', label='ver pred')\n",
        "plt.scatter(y_test_hat[l_test==2, 0], y_test_hat[l_test==2, 1], c='g', marker='+', label='vir pred')\n",
        "\n",
        "plt.legend(fontsize=14)\n",
        "plt.grid(True)\n",
        "plt.xlabel('sepal length')\n",
        "plt.ylabel('sepal width')\n",
        "plt.title('Test set and its prediction')\n",
        "plt.show()"
      ],
      "execution_count": 149,
      "outputs": [
        {
          "output_type": "display_data",
          "data": {
            "text/plain": [
              "<Figure size 648x432 with 1 Axes>"
            ],
            "image/png": "[encoded data removed]"
          },
          "metadata": {
            "needs_background": "light"
          }
        }
      ]
    },
    {
      "cell_type": "markdown",
      "source": [
        "## Podemos definir la red, de manera alterna, usando la clase `Sequential`."
      ],
      "metadata": {
        "id": "2Qfpc0k9gleW"
      }
    },
    {
      "cell_type": "markdown",
      "source": [
        "There are two ways to define a model in `keras`:\n",
        "\n",
        "* Sequential class: Sequential groups a linear stack of layers into a tf. keras.Model.\n",
        "* Model class: Model group's layers into an object with training and inference features.\n",
        "\n",
        "An Sequential model is the simplest type of model, a linear stack of layers. But there are some flaws as we can't build complex networks such as multi-input or multi-output networks using this API.\n",
        "\n",
        "On the other hand, using the Model class, we can create arbitrary graphs of layers. From this, we can get more flexibility and easily define models where each layer can connect not just with the previous and next layers but also share feature information with other layers in the model."
      ],
      "metadata": {
        "id": "NHMQVBNEhSNt"
      }
    },
    {
      "cell_type": "code",
      "source": [
        "MLP = Sequential()\n",
        "\n",
        "MLP.add(Input(shape=(2,), name='input'))\n",
        "MLP.add(Dense(units=2, activation=None, name='output'))\n",
        "\n",
        "MLP.summary()\n",
        "\n",
        "MLP.compile(optimizer='sgd', loss='mse')"
      ],
      "metadata": {
        "colab": {
          "base_uri": "https://localhost:8080/"
        },
        "id": "FRQiOcfbMTuY",
        "outputId": "871c5bd6-845d-42e6-b0a3-efcd393d0e69"
      },
      "execution_count": 56,
      "outputs": [
        {
          "output_type": "stream",
          "name": "stdout",
          "text": [
            "Model: \"sequential_3\"\n",
            "_________________________________________________________________\n",
            " Layer (type)                Output Shape              Param #   \n",
            "=================================================================\n",
            " output (Dense)              (None, 2)                 6         \n",
            "                                                                 \n",
            "=================================================================\n",
            "Total params: 6\n",
            "Trainable params: 6\n",
            "Non-trainable params: 0\n",
            "_________________________________________________________________\n"
          ]
        }
      ]
    },
    {
      "cell_type": "code",
      "source": [
        "HISTORY = MLP.fit(x=x_train, y=y_train, batch_size=4, epochs=100, validation_split=0.1)"
      ],
      "metadata": {
        "id": "iG1gjg_GgNCT"
      },
      "execution_count": null,
      "outputs": []
    },
    {
      "cell_type": "code",
      "source": [
        "MLP.evaluate(x=x_test, y=y_test, verbose=False)"
      ],
      "metadata": {
        "colab": {
          "base_uri": "https://localhost:8080/"
        },
        "id": "BnsGNGO4gVBE",
        "outputId": "afe9ac58-a62e-4dea-f611-cd09f1226d92"
      },
      "execution_count": 58,
      "outputs": [
        {
          "output_type": "execute_result",
          "data": {
            "text/plain": [
              "0.3494007885456085"
            ]
          },
          "metadata": {},
          "execution_count": 58
        }
      ]
    },
    {
      "cell_type": "markdown",
      "source": [
        "## Probamos con una red más grande"
      ],
      "metadata": {
        "id": "wR36HRLPg8ct"
      }
    },
    {
      "cell_type": "code",
      "metadata": {
        "id": "hpystfDabWMw"
      },
      "source": [
        "i = Input(shape=(2,), name='input')\n",
        "h = Dense(units=32, activation='sigmoid', name='hidden1')(i)\n",
        "h = Dense(units=128, activation='sigmoid', name='hidden2')(h)\n",
        "h = Dense(units=32, activation='sigmoid', name='hidden3')(h)\n",
        "o = Dense(units=2, activation=None, name='output')(h)\n",
        "\n",
        "MLP = Model(inputs=i, outputs=o)\n",
        "MLP.summary()"
      ],
      "execution_count": null,
      "outputs": []
    },
    {
      "cell_type": "code",
      "metadata": {
        "id": "x3Gj9q4VbWM0"
      },
      "source": [
        "MLP.compile(optimizer='sgd', loss='mse')"
      ],
      "execution_count": 65,
      "outputs": []
    },
    {
      "cell_type": "code",
      "metadata": {
        "id": "5yvl3ggEbWM4"
      },
      "source": [
        "MLP.fit(x=x_train, y=y_train, batch_size=8, epochs=100, verbose=2, validation_split=0.1)"
      ],
      "execution_count": null,
      "outputs": []
    },
    {
      "cell_type": "code",
      "metadata": {
        "id": "ke48v-Am2Jsz",
        "colab": {
          "base_uri": "https://localhost:8080/",
          "height": 336
        },
        "outputId": "1562a31a-b07d-492f-9607-fc81b91353c2"
      },
      "source": [
        "# Plot loss (The object MLP keeps track of the training and validation performance)\n",
        "plt.figure(figsize=(12, 5))\n",
        "plt.plot(MLP.history.history['loss'], label='Training', linewidth=2)\n",
        "plt.plot(MLP.history.history['val_loss'], label='Validation', linewidth=2)\n",
        "plt.legend()\n",
        "plt.xlabel('Epoch')\n",
        "plt.ylabel('Loss')\n",
        "plt.grid(True)\n",
        "plt.show()"
      ],
      "execution_count": 67,
      "outputs": [
        {
          "output_type": "display_data",
          "data": {
            "text/plain": [
              "<Figure size 864x360 with 1 Axes>"
            ],
            "image/png": "[encoded data removed]"
          },
          "metadata": {
            "needs_background": "light"
          }
        }
      ]
    },
    {
      "cell_type": "markdown",
      "source": [
        "Obtain weights and biases of the hidden layer"
      ],
      "metadata": {
        "id": "Ii6h6ZKPvpqW"
      }
    },
    {
      "cell_type": "code",
      "metadata": {
        "id": "pE6qPetP2ywl",
        "colab": {
          "base_uri": "https://localhost:8080/"
        },
        "outputId": "75516508-e179-4524-be04-70267090848c"
      },
      "source": [
        "for layer in MLP.layers[1:]:\n",
        "  w, b = layer.get_weights()\n",
        "  print(\"Weights: \", w.shape, end='\\t')\n",
        "  print(\"Biases:  \", b.shape)"
      ],
      "execution_count": null,
      "outputs": [
        {
          "output_type": "stream",
          "text": [
            "Weights:  (2, 32)\tBiases:   (32,)\n",
            "Weights:  (32, 64)\tBiases:   (64,)\n",
            "Weights:  (64, 32)\tBiases:   (32,)\n",
            "Weights:  (32, 2)\tBiases:   (2,)\n"
          ],
          "name": "stdout"
        }
      ]
    },
    {
      "cell_type": "code",
      "metadata": {
        "id": "PcSe0ybzbWM7",
        "colab": {
          "base_uri": "https://localhost:8080/"
        },
        "outputId": "70d0f0d7-7112-4a17-f5fc-acdbb71325ff"
      },
      "source": [
        "# Use the trained model to compute the average test loss\n",
        "MLP.evaluate(x=x_test, y=y_test, verbose=False)"
      ],
      "execution_count": 68,
      "outputs": [
        {
          "output_type": "execute_result",
          "data": {
            "text/plain": [
              "1.61572265625"
            ]
          },
          "metadata": {},
          "execution_count": 68
        }
      ]
    },
    {
      "cell_type": "code",
      "metadata": {
        "id": "WgIBxyqobWNA",
        "colab": {
          "base_uri": "https://localhost:8080/"
        },
        "outputId": "52f880a7-99b0-4089-e59f-d2fbf8e710a3"
      },
      "source": [
        "# Now generate the predictions on the test set\n",
        "y_test_hat = MLP.predict(x=x_test)\n",
        "print(y_test_hat.shape)"
      ],
      "execution_count": 38,
      "outputs": [
        {
          "output_type": "stream",
          "name": "stdout",
          "text": [
            "(15, 2)\n"
          ]
        }
      ]
    },
    {
      "cell_type": "code",
      "metadata": {
        "id": "fgU_z-yiRus-",
        "colab": {
          "base_uri": "https://localhost:8080/",
          "height": 404
        },
        "outputId": "98b9282b-2185-4fdb-f4b1-7b9b28720595"
      },
      "source": [
        "plt.figure(figsize=(9,6))\n",
        "\n",
        "plt.scatter(y_test[l_test==0, 0], y_test[l_test==0, 1], c='b', label='set true')\n",
        "plt.scatter(y_test[l_test==1, 0], y_test[l_test==1, 1], c='r', label='ver true')\n",
        "plt.scatter(y_test[l_test==2, 0], y_test[l_test==2, 1], c='g', label='vir true')\n",
        "\n",
        "plt.scatter(y_test_hat[l_test==0, 0], y_test_hat[l_test==0, 1], c='b', marker='+', label='set pred')\n",
        "plt.scatter(y_test_hat[l_test==1, 0], y_test_hat[l_test==1, 1], c='r', marker='+', label='ver pred')\n",
        "plt.scatter(y_test_hat[l_test==2, 0], y_test_hat[l_test==2, 1], c='g', marker='+', label='vir pred')\n",
        "\n",
        "plt.legend()\n",
        "plt.grid(True)\n",
        "plt.xlabel('sepal length')\n",
        "plt.ylabel('sepal width')\n",
        "plt.title('Test set and its prediction')\n",
        "plt.show()"
      ],
      "execution_count": 72,
      "outputs": [
        {
          "output_type": "display_data",
          "data": {
            "text/plain": [
              "<Figure size 648x432 with 1 Axes>"
            ],
            "image/png": "[encoded data removed]"
          },
          "metadata": {
            "needs_background": "light"
          }
        }
      ]
    },
    {
      "cell_type": "markdown",
      "source": [
        "## ⭕ Prática: \n",
        "\n",
        "Crea una red neuronal para el problema de predecir la clase usando las 4 mediciones de cada instancia (petal length, petal width, sepal length, sepal width)."
      ],
      "metadata": {
        "id": "-gOTKLJsDqyb"
      }
    },
    {
      "cell_type": "markdown",
      "source": [
        "# Ejemplo 2: Boston house price dataset"
      ],
      "metadata": {
        "id": "y7jMeLTAzBF6"
      }
    },
    {
      "cell_type": "markdown",
      "source": [
        "El conjunto de datos describe 13 features numéricas de casas en los suburbios de Boston, el objetivo es modelar el precio de las casas en esos suburbios en miles de dólares. Como tal, se trata de un problema de modelización predictiva por regresión. Los atributos de entrada incluyen, entre otras cosas, la tasa de criminalidad, la proporción de acres de negocios no minoristas y  las concentraciones de productos químicos.\n",
        "\n",
        "Se trata de un problema bien estudiado en el Machine Learning. El rendimiento razonable de los modelos evaluados mediante el error cuadrático medio (MSE) se sitúa en torno a 20 (en miles de dólares al cuadrado) o 4.5 dólares (si se saca la raíz cuadrada). Este es un buen objetivo para nuestro modelo de red neuronal.\n",
        "\n",
        "El objetivo de esta práctica es ver el cambio en el rendimiento conforme aplicamos diferentes estrategias al proceso de modelado."
      ],
      "metadata": {
        "id": "LqtYwJat0xss"
      }
    },
    {
      "cell_type": "code",
      "metadata": {
        "id": "9tjN--xD7TsX",
        "colab": {
          "base_uri": "https://localhost:8080/"
        },
        "outputId": "234415fe-8007-4d52-a3ae-d526c7c836a9"
      },
      "source": [
        "!apt-get -qq install > /dev/null subversion\n",
        "\n",
        "!svn checkout \"https://github.com/DCDPUAEM/DCDP_2022/trunk/05%20Deep%20Learning/data/\""
      ],
      "execution_count": 73,
      "outputs": [
        {
          "output_type": "stream",
          "name": "stdout",
          "text": [
            "A    data/housing.data\n",
            "A    data/mnist_biases1.npy\n",
            "A    data/mnist_biases2.npy\n",
            "A    data/mnist_weights1.npy\n",
            "A    data/mnist_weights2.npy\n",
            "Checked out revision 117.\n"
          ]
        }
      ]
    },
    {
      "cell_type": "markdown",
      "source": [
        "## El conjunto de datos"
      ],
      "metadata": {
        "id": "387PIu3GAtNT"
      }
    },
    {
      "cell_type": "code",
      "source": [
        "import pandas as pd\n",
        "\n",
        "df = pd.read_csv(\"/content/data/housing.data\", delim_whitespace=True, header=None)\n",
        "display(df)\n",
        "\n",
        "dataset = df.values\n",
        "# split into input (X) and output (Y) variables\n",
        "X = dataset[:,0:13]\n",
        "Y = dataset[:,13]"
      ],
      "metadata": {
        "colab": {
          "base_uri": "https://localhost:8080/",
          "height": 424
        },
        "id": "Kf55y1DC335F",
        "outputId": "f483d093-f787-489d-c36c-fea4baa624f3"
      },
      "execution_count": 91,
      "outputs": [
        {
          "output_type": "display_data",
          "data": {
            "text/plain": [
              "          0     1      2   3      4      5     6       7   8      9     10  \\\n",
              "0    0.00632  18.0   2.31   0  0.538  6.575  65.2  4.0900   1  296.0  15.3   \n",
              "1    0.02731   0.0   7.07   0  0.469  6.421  78.9  4.9671   2  242.0  17.8   \n",
              "2    0.02729   0.0   7.07   0  0.469  7.185  61.1  4.9671   2  242.0  17.8   \n",
              "3    0.03237   0.0   2.18   0  0.458  6.998  45.8  6.0622   3  222.0  18.7   \n",
              "4    0.06905   0.0   2.18   0  0.458  7.147  54.2  6.0622   3  222.0  18.7   \n",
              "..       ...   ...    ...  ..    ...    ...   ...     ...  ..    ...   ...   \n",
              "501  0.06263   0.0  11.93   0  0.573  6.593  69.1  2.4786   1  273.0  21.0   \n",
              "502  0.04527   0.0  11.93   0  0.573  6.120  76.7  2.2875   1  273.0  21.0   \n",
              "503  0.06076   0.0  11.93   0  0.573  6.976  91.0  2.1675   1  273.0  21.0   \n",
              "504  0.10959   0.0  11.93   0  0.573  6.794  89.3  2.3889   1  273.0  21.0   \n",
              "505  0.04741   0.0  11.93   0  0.573  6.030  80.8  2.5050   1  273.0  21.0   \n",
              "\n",
              "         11    12    13  \n",
              "0    396.90  4.98  24.0  \n",
              "1    396.90  9.14  21.6  \n",
              "2    392.83  4.03  34.7  \n",
              "3    394.63  2.94  33.4  \n",
              "4    396.90  5.33  36.2  \n",
              "..      ...   ...   ...  \n",
              "501  391.99  9.67  22.4  \n",
              "502  396.90  9.08  20.6  \n",
              "503  396.90  5.64  23.9  \n",
              "504  393.45  6.48  22.0  \n",
              "505  396.90  7.88  11.9  \n",
              "\n",
              "[506 rows x 14 columns]"
            ],
            "text/html": [
              "\n",
              "  <div id=\"df-a86b414f-ea76-40eb-aa36-a9140e35f370\">\n",
              "    <div class=\"colab-df-container\">\n",
              "      <div>\n",
              "<style scoped>\n",
              "    .dataframe tbody tr th:only-of-type {\n",
              "        vertical-align: middle;\n",
              "    }\n",
              "\n",
              "    .dataframe tbody tr th {\n",
              "        vertical-align: top;\n",
              "    }\n",
              "\n",
              "    .dataframe thead th {\n",
              "        text-align: right;\n",
              "    }\n",
              "</style>\n",
              "<table border=\"1\" class=\"dataframe\">\n",
              "  <thead>\n",
              "    <tr style=\"text-align: right;\">\n",
              "      <th></th>\n",
              "      <th>0</th>\n",
              "      <th>1</th>\n",
              "      <th>2</th>\n",
              "      <th>3</th>\n",
              "      <th>4</th>\n",
              "      <th>5</th>\n",
              "      <th>6</th>\n",
              "      <th>7</th>\n",
              "      <th>8</th>\n",
              "      <th>9</th>\n",
              "      <th>10</th>\n",
              "      <th>11</th>\n",
              "      <th>12</th>\n",
              "      <th>13</th>\n",
              "    </tr>\n",
              "  </thead>\n",
              "  <tbody>\n",
              "    <tr>\n",
              "      <th>0</th>\n",
              "      <td>0.00632</td>\n",
              "      <td>18.0</td>\n",
              "      <td>2.31</td>\n",
              "      <td>0</td>\n",
              "      <td>0.538</td>\n",
              "      <td>6.575</td>\n",
              "      <td>65.2</td>\n",
              "      <td>4.0900</td>\n",
              "      <td>1</td>\n",
              "      <td>296.0</td>\n",
              "      <td>15.3</td>\n",
              "      <td>396.90</td>\n",
              "      <td>4.98</td>\n",
              "      <td>24.0</td>\n",
              "    </tr>\n",
              "    <tr>\n",
              "      <th>1</th>\n",
              "      <td>0.02731</td>\n",
              "      <td>0.0</td>\n",
              "      <td>7.07</td>\n",
              "      <td>0</td>\n",
              "      <td>0.469</td>\n",
              "      <td>6.421</td>\n",
              "      <td>78.9</td>\n",
              "      <td>4.9671</td>\n",
              "      <td>2</td>\n",
              "      <td>242.0</td>\n",
              "      <td>17.8</td>\n",
              "      <td>396.90</td>\n",
              "      <td>9.14</td>\n",
              "      <td>21.6</td>\n",
              "    </tr>\n",
              "    <tr>\n",
              "      <th>2</th>\n",
              "      <td>0.02729</td>\n",
              "      <td>0.0</td>\n",
              "      <td>7.07</td>\n",
              "      <td>0</td>\n",
              "      <td>0.469</td>\n",
              "      <td>7.185</td>\n",
              "      <td>61.1</td>\n",
              "      <td>4.9671</td>\n",
              "      <td>2</td>\n",
              "      <td>242.0</td>\n",
              "      <td>17.8</td>\n",
              "      <td>392.83</td>\n",
              "      <td>4.03</td>\n",
              "      <td>34.7</td>\n",
              "    </tr>\n",
              "    <tr>\n",
              "      <th>3</th>\n",
              "      <td>0.03237</td>\n",
              "      <td>0.0</td>\n",
              "      <td>2.18</td>\n",
              "      <td>0</td>\n",
              "      <td>0.458</td>\n",
              "      <td>6.998</td>\n",
              "      <td>45.8</td>\n",
              "      <td>6.0622</td>\n",
              "      <td>3</td>\n",
              "      <td>222.0</td>\n",
              "      <td>18.7</td>\n",
              "      <td>394.63</td>\n",
              "      <td>2.94</td>\n",
              "      <td>33.4</td>\n",
              "    </tr>\n",
              "    <tr>\n",
              "      <th>4</th>\n",
              "      <td>0.06905</td>\n",
              "      <td>0.0</td>\n",
              "      <td>2.18</td>\n",
              "      <td>0</td>\n",
              "      <td>0.458</td>\n",
              "      <td>7.147</td>\n",
              "      <td>54.2</td>\n",
              "      <td>6.0622</td>\n",
              "      <td>3</td>\n",
              "      <td>222.0</td>\n",
              "      <td>18.7</td>\n",
              "      <td>396.90</td>\n",
              "      <td>5.33</td>\n",
              "      <td>36.2</td>\n",
              "    </tr>\n",
              "    <tr>\n",
              "      <th>...</th>\n",
              "      <td>...</td>\n",
              "      <td>...</td>\n",
              "      <td>...</td>\n",
              "      <td>...</td>\n",
              "      <td>...</td>\n",
              "      <td>...</td>\n",
              "      <td>...</td>\n",
              "      <td>...</td>\n",
              "      <td>...</td>\n",
              "      <td>...</td>\n",
              "      <td>...</td>\n",
              "      <td>...</td>\n",
              "      <td>...</td>\n",
              "      <td>...</td>\n",
              "    </tr>\n",
              "    <tr>\n",
              "      <th>501</th>\n",
              "      <td>0.06263</td>\n",
              "      <td>0.0</td>\n",
              "      <td>11.93</td>\n",
              "      <td>0</td>\n",
              "      <td>0.573</td>\n",
              "      <td>6.593</td>\n",
              "      <td>69.1</td>\n",
              "      <td>2.4786</td>\n",
              "      <td>1</td>\n",
              "      <td>273.0</td>\n",
              "      <td>21.0</td>\n",
              "      <td>391.99</td>\n",
              "      <td>9.67</td>\n",
              "      <td>22.4</td>\n",
              "    </tr>\n",
              "    <tr>\n",
              "      <th>502</th>\n",
              "      <td>0.04527</td>\n",
              "      <td>0.0</td>\n",
              "      <td>11.93</td>\n",
              "      <td>0</td>\n",
              "      <td>0.573</td>\n",
              "      <td>6.120</td>\n",
              "      <td>76.7</td>\n",
              "      <td>2.2875</td>\n",
              "      <td>1</td>\n",
              "      <td>273.0</td>\n",
              "      <td>21.0</td>\n",
              "      <td>396.90</td>\n",
              "      <td>9.08</td>\n",
              "      <td>20.6</td>\n",
              "    </tr>\n",
              "    <tr>\n",
              "      <th>503</th>\n",
              "      <td>0.06076</td>\n",
              "      <td>0.0</td>\n",
              "      <td>11.93</td>\n",
              "      <td>0</td>\n",
              "      <td>0.573</td>\n",
              "      <td>6.976</td>\n",
              "      <td>91.0</td>\n",
              "      <td>2.1675</td>\n",
              "      <td>1</td>\n",
              "      <td>273.0</td>\n",
              "      <td>21.0</td>\n",
              "      <td>396.90</td>\n",
              "      <td>5.64</td>\n",
              "      <td>23.9</td>\n",
              "    </tr>\n",
              "    <tr>\n",
              "      <th>504</th>\n",
              "      <td>0.10959</td>\n",
              "      <td>0.0</td>\n",
              "      <td>11.93</td>\n",
              "      <td>0</td>\n",
              "      <td>0.573</td>\n",
              "      <td>6.794</td>\n",
              "      <td>89.3</td>\n",
              "      <td>2.3889</td>\n",
              "      <td>1</td>\n",
              "      <td>273.0</td>\n",
              "      <td>21.0</td>\n",
              "      <td>393.45</td>\n",
              "      <td>6.48</td>\n",
              "      <td>22.0</td>\n",
              "    </tr>\n",
              "    <tr>\n",
              "      <th>505</th>\n",
              "      <td>0.04741</td>\n",
              "      <td>0.0</td>\n",
              "      <td>11.93</td>\n",
              "      <td>0</td>\n",
              "      <td>0.573</td>\n",
              "      <td>6.030</td>\n",
              "      <td>80.8</td>\n",
              "      <td>2.5050</td>\n",
              "      <td>1</td>\n",
              "      <td>273.0</td>\n",
              "      <td>21.0</td>\n",
              "      <td>396.90</td>\n",
              "      <td>7.88</td>\n",
              "      <td>11.9</td>\n",
              "    </tr>\n",
              "  </tbody>\n",
              "</table>\n",
              "<p>506 rows × 14 columns</p>\n",
              "</div>\n",
              "      <button class=\"colab-df-convert\" onclick=\"convertToInteractive('df-a86b414f-ea76-40eb-aa36-a9140e35f370')\"\n",
              "              title=\"Convert this dataframe to an interactive table.\"\n",
              "              style=\"display:none;\">\n",
              "        \n",
              "  <svg xmlns=\"http://www.w3.org/2000/svg\" height=\"24px\"viewBox=\"0 0 24 24\"\n",
              "       width=\"24px\">\n",
              "    <path d=\"M0 0h24v24H0V0z\" fill=\"none\"/>\n",
              "    <path d=\"M18.56 5.44l.94 2.06.94-2.06 2.06-.94-2.06-.94-.94-2.06-.94 2.06-2.06.94zm-11 1L8.5 8.5l.94-2.06 2.06-.94-2.06-.94L8.5 2.5l-.94 2.06-2.06.94zm10 10l.94 2.06.94-2.06 2.06-.94-2.06-.94-.94-2.06-.94 2.06-2.06.94z\"/><path d=\"M17.41 7.96l-1.37-1.37c-.4-.4-.92-.59-1.43-.59-.52 0-1.04.2-1.43.59L10.3 9.45l-7.72 7.72c-.78.78-.78 2.05 0 2.83L4 21.41c.39.39.9.59 1.41.59.51 0 1.02-.2 1.41-.59l7.78-7.78 2.81-2.81c.8-.78.8-2.07 0-2.86zM5.41 20L4 18.59l7.72-7.72 1.47 1.35L5.41 20z\"/>\n",
              "  </svg>\n",
              "      </button>\n",
              "      \n",
              "  <style>\n",
              "    .colab-df-container {\n",
              "      display:flex;\n",
              "      flex-wrap:wrap;\n",
              "      gap: 12px;\n",
              "    }\n",
              "\n",
              "    .colab-df-convert {\n",
              "      background-color: #E8F0FE;\n",
              "      border: none;\n",
              "      border-radius: 50%;\n",
              "      cursor: pointer;\n",
              "      display: none;\n",
              "      fill: #1967D2;\n",
              "      height: 32px;\n",
              "      padding: 0 0 0 0;\n",
              "      width: 32px;\n",
              "    }\n",
              "\n",
              "    .colab-df-convert:hover {\n",
              "      background-color: #E2EBFA;\n",
              "      box-shadow: 0px 1px 2px rgba(60, 64, 67, 0.3), 0px 1px 3px 1px rgba(60, 64, 67, 0.15);\n",
              "      fill: #174EA6;\n",
              "    }\n",
              "\n",
              "    [theme=dark] .colab-df-convert {\n",
              "      background-color: #3B4455;\n",
              "      fill: #D2E3FC;\n",
              "    }\n",
              "\n",
              "    [theme=dark] .colab-df-convert:hover {\n",
              "      background-color: #434B5C;\n",
              "      box-shadow: 0px 1px 3px 1px rgba(0, 0, 0, 0.15);\n",
              "      filter: drop-shadow(0px 1px 2px rgba(0, 0, 0, 0.3));\n",
              "      fill: #FFFFFF;\n",
              "    }\n",
              "  </style>\n",
              "\n",
              "      <script>\n",
              "        const buttonEl =\n",
              "          document.querySelector('#df-a86b414f-ea76-40eb-aa36-a9140e35f370 button.colab-df-convert');\n",
              "        buttonEl.style.display =\n",
              "          google.colab.kernel.accessAllowed ? 'block' : 'none';\n",
              "\n",
              "        async function convertToInteractive(key) {\n",
              "          const element = document.querySelector('#df-a86b414f-ea76-40eb-aa36-a9140e35f370');\n",
              "          const dataTable =\n",
              "            await google.colab.kernel.invokeFunction('convertToInteractive',\n",
              "                                                     [key], {});\n",
              "          if (!dataTable) return;\n",
              "\n",
              "          const docLinkHtml = 'Like what you see? Visit the ' +\n",
              "            '<a target=\"_blank\" href=https://colab.research.google.com/notebooks/data_table.ipynb>data table notebook</a>'\n",
              "            + ' to learn more about interactive tables.';\n",
              "          element.innerHTML = '';\n",
              "          dataTable['output_type'] = 'display_data';\n",
              "          await google.colab.output.renderOutput(dataTable, element);\n",
              "          const docLink = document.createElement('div');\n",
              "          docLink.innerHTML = docLinkHtml;\n",
              "          element.appendChild(docLink);\n",
              "        }\n",
              "      </script>\n",
              "    </div>\n",
              "  </div>\n",
              "  "
            ]
          },
          "metadata": {}
        }
      ]
    },
    {
      "cell_type": "code",
      "source": [
        "from sklearn.model_selection import train_test_split\n",
        "\n",
        "X_train, X_test, y_train, y_test = train_test_split(X, Y, test_size=0.15, random_state=42)"
      ],
      "metadata": {
        "id": "L950sCo_8w4m"
      },
      "execution_count": 92,
      "outputs": []
    },
    {
      "cell_type": "markdown",
      "source": [
        "## Usando el conjunto de datos *as is*"
      ],
      "metadata": {
        "id": "jNyyvezhA4mB"
      }
    },
    {
      "cell_type": "code",
      "source": [
        "]from keras.models import Sequential\n",
        "from keras.layers import Dense\n",
        "\n",
        "model = Sequential()\n",
        "model.add(Dense(13, input_dim=13, activation='relu'))\n",
        "model.add(Dense(1, activation=None))\n",
        "\n",
        "model.summary()\n",
        "\n",
        "# Compile model\n",
        "model.compile(loss='mean_squared_error', optimizer='adam')"
      ],
      "metadata": {
        "colab": {
          "base_uri": "https://localhost:8080/"
        },
        "id": "n_Js734R4lrm",
        "outputId": "4b7f2636-d17b-484a-a953-303466c8262c"
      },
      "execution_count": 93,
      "outputs": [
        {
          "output_type": "stream",
          "name": "stdout",
          "text": [
            "Model: \"sequential_7\"\n",
            "_________________________________________________________________\n",
            " Layer (type)                Output Shape              Param #   \n",
            "=================================================================\n",
            " dense_6 (Dense)             (None, 13)                182       \n",
            "                                                                 \n",
            " dense_7 (Dense)             (None, 1)                 14        \n",
            "                                                                 \n",
            "=================================================================\n",
            "Total params: 196\n",
            "Trainable params: 196\n",
            "Non-trainable params: 0\n",
            "_________________________________________________________________\n"
          ]
        }
      ]
    },
    {
      "cell_type": "code",
      "source": [
        "n_epocas = 50\n",
        "\n",
        "history = model.fit(X_train, y_train, epochs=n_epocas, validation_split=0.1)"
      ],
      "metadata": {
        "colab": {
          "base_uri": "https://localhost:8080/"
        },
        "id": "JBQQeo3K8f5y",
        "outputId": "9f8049fd-12c0-4702-f67f-4e4a10bb7f12"
      },
      "execution_count": 94,
      "outputs": [
        {
          "output_type": "stream",
          "name": "stdout",
          "text": [
            "Epoch 1/50\n",
            "13/13 [==============================] - 1s 13ms/step - loss: 38128.7266 - val_loss: 29593.7480\n",
            "Epoch 2/50\n",
            "13/13 [==============================] - 0s 5ms/step - loss: 25163.9863 - val_loss: 19050.6035\n",
            "Epoch 3/50\n",
            "13/13 [==============================] - 0s 4ms/step - loss: 15727.1318 - val_loss: 11574.0186\n",
            "Epoch 4/50\n",
            "13/13 [==============================] - 0s 4ms/step - loss: 9267.9404 - val_loss: 6572.5117\n",
            "Epoch 5/50\n",
            "13/13 [==============================] - 0s 6ms/step - loss: 5087.7437 - val_loss: 3496.7849\n",
            "Epoch 6/50\n",
            "13/13 [==============================] - 0s 5ms/step - loss: 2619.5964 - val_loss: 1829.3223\n",
            "Epoch 7/50\n",
            "13/13 [==============================] - 0s 5ms/step - loss: 1348.5439 - val_loss: 1016.8441\n",
            "Epoch 8/50\n",
            "13/13 [==============================] - 0s 4ms/step - loss: 761.5453 - val_loss: 688.1412\n",
            "Epoch 9/50\n",
            "13/13 [==============================] - 0s 5ms/step - loss: 524.3021 - val_loss: 569.2761\n",
            "Epoch 10/50\n",
            "13/13 [==============================] - 0s 4ms/step - loss: 438.1263 - val_loss: 533.6231\n",
            "Epoch 11/50\n",
            "13/13 [==============================] - 0s 5ms/step - loss: 412.2834 - val_loss: 520.3581\n",
            "Epoch 12/50\n",
            "13/13 [==============================] - 0s 5ms/step - loss: 402.4773 - val_loss: 514.6352\n",
            "Epoch 13/50\n",
            "13/13 [==============================] - 0s 4ms/step - loss: 397.0998 - val_loss: 508.6827\n",
            "Epoch 14/50\n",
            "13/13 [==============================] - 0s 5ms/step - loss: 392.6753 - val_loss: 501.1063\n",
            "Epoch 15/50\n",
            "13/13 [==============================] - 0s 4ms/step - loss: 387.1493 - val_loss: 494.6985\n",
            "Epoch 16/50\n",
            "13/13 [==============================] - 0s 4ms/step - loss: 382.3091 - val_loss: 488.5157\n",
            "Epoch 17/50\n",
            "13/13 [==============================] - 0s 4ms/step - loss: 376.8644 - val_loss: 480.9246\n",
            "Epoch 18/50\n",
            "13/13 [==============================] - 0s 4ms/step - loss: 371.5308 - val_loss: 474.2122\n",
            "Epoch 19/50\n",
            "13/13 [==============================] - 0s 4ms/step - loss: 366.6470 - val_loss: 467.8595\n",
            "Epoch 20/50\n",
            "13/13 [==============================] - 0s 6ms/step - loss: 361.4239 - val_loss: 461.0667\n",
            "Epoch 21/50\n",
            "13/13 [==============================] - 0s 4ms/step - loss: 356.3564 - val_loss: 453.9120\n",
            "Epoch 22/50\n",
            "13/13 [==============================] - 0s 4ms/step - loss: 351.2472 - val_loss: 447.2853\n",
            "Epoch 23/50\n",
            "13/13 [==============================] - 0s 4ms/step - loss: 345.6295 - val_loss: 440.8945\n",
            "Epoch 24/50\n",
            "13/13 [==============================] - 0s 4ms/step - loss: 340.6556 - val_loss: 434.2992\n",
            "Epoch 25/50\n",
            "13/13 [==============================] - 0s 5ms/step - loss: 334.9631 - val_loss: 426.6655\n",
            "Epoch 26/50\n",
            "13/13 [==============================] - 0s 4ms/step - loss: 329.6851 - val_loss: 420.3827\n",
            "Epoch 27/50\n",
            "13/13 [==============================] - 0s 4ms/step - loss: 324.9596 - val_loss: 413.8694\n",
            "Epoch 28/50\n",
            "13/13 [==============================] - 0s 4ms/step - loss: 320.3075 - val_loss: 407.9284\n",
            "Epoch 29/50\n",
            "13/13 [==============================] - 0s 5ms/step - loss: 315.6973 - val_loss: 401.7950\n",
            "Epoch 30/50\n",
            "13/13 [==============================] - 0s 4ms/step - loss: 310.9555 - val_loss: 395.7586\n",
            "Epoch 31/50\n",
            "13/13 [==============================] - 0s 4ms/step - loss: 306.5121 - val_loss: 388.8469\n",
            "Epoch 32/50\n",
            "13/13 [==============================] - 0s 4ms/step - loss: 301.7723 - val_loss: 382.4463\n",
            "Epoch 33/50\n",
            "13/13 [==============================] - 0s 4ms/step - loss: 297.2057 - val_loss: 376.8568\n",
            "Epoch 34/50\n",
            "13/13 [==============================] - 0s 4ms/step - loss: 292.6600 - val_loss: 370.4131\n",
            "Epoch 35/50\n",
            "13/13 [==============================] - 0s 4ms/step - loss: 287.9960 - val_loss: 364.2937\n",
            "Epoch 36/50\n",
            "13/13 [==============================] - 0s 4ms/step - loss: 283.3238 - val_loss: 358.5420\n",
            "Epoch 37/50\n",
            "13/13 [==============================] - 0s 5ms/step - loss: 279.2590 - val_loss: 352.7155\n",
            "Epoch 38/50\n",
            "13/13 [==============================] - 0s 4ms/step - loss: 275.0540 - val_loss: 347.7460\n",
            "Epoch 39/50\n",
            "13/13 [==============================] - 0s 4ms/step - loss: 271.0039 - val_loss: 342.6596\n",
            "Epoch 40/50\n",
            "13/13 [==============================] - 0s 4ms/step - loss: 267.1969 - val_loss: 337.7585\n",
            "Epoch 41/50\n",
            "13/13 [==============================] - 0s 5ms/step - loss: 263.7130 - val_loss: 332.3655\n",
            "Epoch 42/50\n",
            "13/13 [==============================] - 0s 4ms/step - loss: 258.9988 - val_loss: 327.4383\n",
            "Epoch 43/50\n",
            "13/13 [==============================] - 0s 4ms/step - loss: 255.8846 - val_loss: 322.6212\n",
            "Epoch 44/50\n",
            "13/13 [==============================] - 0s 5ms/step - loss: 252.1224 - val_loss: 317.7928\n",
            "Epoch 45/50\n",
            "13/13 [==============================] - 0s 4ms/step - loss: 248.3561 - val_loss: 312.5515\n",
            "Epoch 46/50\n",
            "13/13 [==============================] - 0s 5ms/step - loss: 244.4159 - val_loss: 307.1207\n",
            "Epoch 47/50\n",
            "13/13 [==============================] - 0s 4ms/step - loss: 241.2440 - val_loss: 303.1049\n",
            "Epoch 48/50\n",
            "13/13 [==============================] - 0s 4ms/step - loss: 237.3091 - val_loss: 298.0280\n",
            "Epoch 49/50\n",
            "13/13 [==============================] - 0s 4ms/step - loss: 233.8431 - val_loss: 293.6004\n",
            "Epoch 50/50\n",
            "13/13 [==============================] - 0s 4ms/step - loss: 230.3357 - val_loss: 289.2079\n"
          ]
        }
      ]
    },
    {
      "cell_type": "code",
      "source": [
        "plt.figure(figsize=(12, 5))\n",
        "plt.plot(model.history.history['loss'], label='Training', linewidth=2)\n",
        "plt.plot(model.history.history['val_loss'], label='Validation', linewidth=2)\n",
        "plt.legend()\n",
        "plt.xlabel('Epoch')\n",
        "plt.ylabel('Loss')\n",
        "plt.grid(True)\n",
        "plt.show()"
      ],
      "metadata": {
        "colab": {
          "base_uri": "https://localhost:8080/",
          "height": 338
        },
        "id": "EifkiX-o9XFM",
        "outputId": "dd4a3c46-c75a-47aa-be38-abe6bcb8bf2b"
      },
      "execution_count": 95,
      "outputs": [
        {
          "output_type": "display_data",
          "data": {
            "text/plain": [
              "<Figure size 864x360 with 1 Axes>"
            ],
            "image/png": "[encoded data removed]"
          },
          "metadata": {
            "needs_background": "light"
          }
        }
      ]
    },
    {
      "cell_type": "code",
      "source": [
        "model.evaluate(x=X_test, y=y_test, verbose=False)"
      ],
      "metadata": {
        "colab": {
          "base_uri": "https://localhost:8080/"
        },
        "id": "TscP89X89ksj",
        "outputId": "6319170d-ea09-4cdf-c0c2-b98a9ac0a00c"
      },
      "execution_count": 96,
      "outputs": [
        {
          "output_type": "execute_result",
          "data": {
            "text/plain": [
              "216.6927947998047"
            ]
          },
          "metadata": {},
          "execution_count": 96
        }
      ]
    },
    {
      "cell_type": "markdown",
      "source": [
        "## Escalando"
      ],
      "metadata": {
        "id": "QxnrJZ4d-HGP"
      }
    },
    {
      "cell_type": "code",
      "source": [
        "from sklearn.preprocessing import StandardScaler\n",
        "\n",
        "scl = StandardScaler()\n",
        "\n",
        "X_train = scl.fit_transform(X_train)\n",
        "X_test = scl.transform(X_test)"
      ],
      "metadata": {
        "id": "7MHFJEDX9x0H"
      },
      "execution_count": 85,
      "outputs": []
    },
    {
      "cell_type": "code",
      "source": [
        "from keras.models import Sequential\n",
        "from keras.layers import Dense\n",
        "\n",
        "model = Sequential()\n",
        "model.add(Dense(13, input_dim=13, activation='relu'))\n",
        "model.add(Dense(1, activation=None))\n",
        "\n",
        "model.summary()\n",
        "\n",
        "# Compile model\n",
        "model.compile(loss='mean_squared_error', optimizer='adam')"
      ],
      "metadata": {
        "colab": {
          "base_uri": "https://localhost:8080/"
        },
        "id": "CPV21Fxg_PWM",
        "outputId": "06cccf6b-38e1-47b5-d496-778921d25b1d"
      },
      "execution_count": 86,
      "outputs": [
        {
          "output_type": "stream",
          "name": "stdout",
          "text": [
            "Model: \"sequential_6\"\n",
            "_________________________________________________________________\n",
            " Layer (type)                Output Shape              Param #   \n",
            "=================================================================\n",
            " dense_4 (Dense)             (None, 13)                182       \n",
            "                                                                 \n",
            " dense_5 (Dense)             (None, 1)                 14        \n",
            "                                                                 \n",
            "=================================================================\n",
            "Total params: 196\n",
            "Trainable params: 196\n",
            "Non-trainable params: 0\n",
            "_________________________________________________________________\n"
          ]
        }
      ]
    },
    {
      "cell_type": "code",
      "source": [
        "n_epocas = 50\n",
        "\n",
        "history = model.fit(X_train, y_train, epochs=n_epocas, validation_split=0.1)"
      ],
      "metadata": {
        "colab": {
          "base_uri": "https://localhost:8080/"
        },
        "id": "jrzUcuLY_UwL",
        "outputId": "b730b48b-f7c5-439c-ca0f-76e8deec6c56"
      },
      "execution_count": 89,
      "outputs": [
        {
          "output_type": "stream",
          "name": "stdout",
          "text": [
            "Epoch 1/50\n",
            "13/13 [==============================] - 0s 7ms/step - loss: 472.0978 - val_loss: 468.1790\n",
            "Epoch 2/50\n",
            "13/13 [==============================] - 0s 4ms/step - loss: 461.9300 - val_loss: 458.9946\n",
            "Epoch 3/50\n",
            "13/13 [==============================] - 0s 4ms/step - loss: 451.7945 - val_loss: 449.6774\n",
            "Epoch 4/50\n",
            "13/13 [==============================] - 0s 4ms/step - loss: 441.4497 - val_loss: 440.1140\n",
            "Epoch 5/50\n",
            "13/13 [==============================] - 0s 4ms/step - loss: 431.1020 - val_loss: 430.8433\n",
            "Epoch 6/50\n",
            "13/13 [==============================] - 0s 4ms/step - loss: 420.6450 - val_loss: 421.3918\n",
            "Epoch 7/50\n",
            "13/13 [==============================] - 0s 5ms/step - loss: 410.4052 - val_loss: 411.7434\n",
            "Epoch 8/50\n",
            "13/13 [==============================] - 0s 4ms/step - loss: 399.7195 - val_loss: 402.4894\n",
            "Epoch 9/50\n",
            "13/13 [==============================] - 0s 4ms/step - loss: 389.4562 - val_loss: 392.9921\n",
            "Epoch 10/50\n",
            "13/13 [==============================] - 0s 4ms/step - loss: 378.7899 - val_loss: 383.6315\n",
            "Epoch 11/50\n",
            "13/13 [==============================] - 0s 4ms/step - loss: 368.3666 - val_loss: 374.2881\n",
            "Epoch 12/50\n",
            "13/13 [==============================] - 0s 4ms/step - loss: 357.4699 - val_loss: 364.7023\n",
            "Epoch 13/50\n",
            "13/13 [==============================] - 0s 4ms/step - loss: 346.6628 - val_loss: 354.8293\n",
            "Epoch 14/50\n",
            "13/13 [==============================] - 0s 4ms/step - loss: 335.8226 - val_loss: 344.8955\n",
            "Epoch 15/50\n",
            "13/13 [==============================] - 0s 4ms/step - loss: 324.8456 - val_loss: 335.7834\n",
            "Epoch 16/50\n",
            "13/13 [==============================] - 0s 4ms/step - loss: 314.8638 - val_loss: 326.9814\n",
            "Epoch 17/50\n",
            "13/13 [==============================] - 0s 4ms/step - loss: 305.1433 - val_loss: 318.2577\n",
            "Epoch 18/50\n",
            "13/13 [==============================] - 0s 4ms/step - loss: 295.7973 - val_loss: 309.4394\n",
            "Epoch 19/50\n",
            "13/13 [==============================] - 0s 4ms/step - loss: 286.0630 - val_loss: 300.3554\n",
            "Epoch 20/50\n",
            "13/13 [==============================] - 0s 4ms/step - loss: 276.6937 - val_loss: 291.7739\n",
            "Epoch 21/50\n",
            "13/13 [==============================] - 0s 5ms/step - loss: 267.5585 - val_loss: 283.1493\n",
            "Epoch 22/50\n",
            "13/13 [==============================] - 0s 4ms/step - loss: 258.6479 - val_loss: 274.4099\n",
            "Epoch 23/50\n",
            "13/13 [==============================] - 0s 4ms/step - loss: 249.6002 - val_loss: 265.5613\n",
            "Epoch 24/50\n",
            "13/13 [==============================] - 0s 4ms/step - loss: 240.3757 - val_loss: 256.5240\n",
            "Epoch 25/50\n",
            "13/13 [==============================] - 0s 4ms/step - loss: 231.1990 - val_loss: 247.1307\n",
            "Epoch 26/50\n",
            "13/13 [==============================] - 0s 4ms/step - loss: 221.8724 - val_loss: 238.1834\n",
            "Epoch 27/50\n",
            "13/13 [==============================] - 0s 6ms/step - loss: 212.9792 - val_loss: 229.1095\n",
            "Epoch 28/50\n",
            "13/13 [==============================] - 0s 4ms/step - loss: 204.1286 - val_loss: 220.0132\n",
            "Epoch 29/50\n",
            "13/13 [==============================] - 0s 4ms/step - loss: 195.3750 - val_loss: 210.8658\n",
            "Epoch 30/50\n",
            "13/13 [==============================] - 0s 4ms/step - loss: 186.6565 - val_loss: 202.2081\n",
            "Epoch 31/50\n",
            "13/13 [==============================] - 0s 4ms/step - loss: 178.3039 - val_loss: 193.5921\n",
            "Epoch 32/50\n",
            "13/13 [==============================] - 0s 5ms/step - loss: 170.3732 - val_loss: 184.7298\n",
            "Epoch 33/50\n",
            "13/13 [==============================] - 0s 4ms/step - loss: 162.2502 - val_loss: 175.9518\n",
            "Epoch 34/50\n",
            "13/13 [==============================] - 0s 4ms/step - loss: 154.1236 - val_loss: 167.3784\n",
            "Epoch 35/50\n",
            "13/13 [==============================] - 0s 4ms/step - loss: 146.3929 - val_loss: 158.8221\n",
            "Epoch 36/50\n",
            "13/13 [==============================] - 0s 4ms/step - loss: 138.7542 - val_loss: 150.4170\n",
            "Epoch 37/50\n",
            "13/13 [==============================] - 0s 4ms/step - loss: 131.6337 - val_loss: 142.5746\n",
            "Epoch 38/50\n",
            "13/13 [==============================] - 0s 4ms/step - loss: 124.7611 - val_loss: 135.1921\n",
            "Epoch 39/50\n",
            "13/13 [==============================] - 0s 4ms/step - loss: 118.4416 - val_loss: 128.1476\n",
            "Epoch 40/50\n",
            "13/13 [==============================] - 0s 4ms/step - loss: 112.4859 - val_loss: 120.8150\n",
            "Epoch 41/50\n",
            "13/13 [==============================] - 0s 4ms/step - loss: 106.4754 - val_loss: 113.9410\n",
            "Epoch 42/50\n",
            "13/13 [==============================] - 0s 4ms/step - loss: 101.2117 - val_loss: 107.8559\n",
            "Epoch 43/50\n",
            "13/13 [==============================] - 0s 4ms/step - loss: 96.1495 - val_loss: 101.8298\n",
            "Epoch 44/50\n",
            "13/13 [==============================] - 0s 4ms/step - loss: 91.4620 - val_loss: 96.3872\n",
            "Epoch 45/50\n",
            "13/13 [==============================] - 0s 4ms/step - loss: 87.1202 - val_loss: 91.4734\n",
            "Epoch 46/50\n",
            "13/13 [==============================] - 0s 5ms/step - loss: 83.1969 - val_loss: 87.0751\n",
            "Epoch 47/50\n",
            "13/13 [==============================] - 0s 4ms/step - loss: 79.5528 - val_loss: 82.9766\n",
            "Epoch 48/50\n",
            "13/13 [==============================] - 0s 4ms/step - loss: 76.3198 - val_loss: 79.6181\n",
            "Epoch 49/50\n",
            "13/13 [==============================] - 0s 4ms/step - loss: 72.8911 - val_loss: 76.1105\n",
            "Epoch 50/50\n",
            "13/13 [==============================] - 0s 4ms/step - loss: 69.7954 - val_loss: 72.5730\n"
          ]
        }
      ]
    },
    {
      "cell_type": "code",
      "source": [
        "model.evaluate(x=X_test, y=y_test, verbose=False)"
      ],
      "metadata": {
        "colab": {
          "base_uri": "https://localhost:8080/"
        },
        "id": "WNoCw-y-_XJC",
        "outputId": "892c49cf-4d79-451f-c99d-e9b4e9ca1756"
      },
      "execution_count": 90,
      "outputs": [
        {
          "output_type": "execute_result",
          "data": {
            "text/plain": [
              "44.447242736816406"
            ]
          },
          "metadata": {},
          "execution_count": 90
        }
      ]
    },
    {
      "cell_type": "markdown",
      "source": [
        "## Usando una red más profunda"
      ],
      "metadata": {
        "id": "56yhkemtBDRW"
      }
    },
    {
      "cell_type": "code",
      "source": [
        "import pandas as pd\n",
        "from sklearn.model_selection import train_test_split\n",
        "\n",
        "df = pd.read_csv(\"/content/data/housing.data\", delim_whitespace=True, header=None)\n",
        "dataset = df.values\n",
        "X = dataset[:,0:13]\n",
        "Y = dataset[:,13]\n",
        "\n",
        "X_train, X_test, y_train, y_test = train_test_split(X, Y, test_size=0.15, random_state=42)"
      ],
      "metadata": {
        "id": "emSVGmSWBO6Z"
      },
      "execution_count": 119,
      "outputs": []
    },
    {
      "cell_type": "code",
      "source": [
        "from sklearn.preprocessing import StandardScaler\n",
        "\n",
        "scl = StandardScaler()\n",
        "\n",
        "X_train = scl.fit_transform(X_train)\n",
        "X_test = scl.transform(X_test)"
      ],
      "metadata": {
        "id": "KWM6d7SkBKVm"
      },
      "execution_count": 99,
      "outputs": []
    },
    {
      "cell_type": "code",
      "source": [
        "model = Sequential()\n",
        "model.add(Dense(13, input_dim=13, kernel_initializer='normal', activation='relu'))\n",
        "model.add(Dense(6, kernel_initializer='normal', activation='relu'))\n",
        "model.add(Dense(1, kernel_initializer='normal'))\n",
        "\n",
        "model.summary()\n",
        "\n",
        "model.compile(loss='mean_squared_error', optimizer='adam')"
      ],
      "metadata": {
        "colab": {
          "base_uri": "https://localhost:8080/"
        },
        "id": "7I2PtIgi_hv9",
        "outputId": "b47a24e2-0276-4c38-9717-83acee56df66"
      },
      "execution_count": 120,
      "outputs": [
        {
          "output_type": "stream",
          "name": "stdout",
          "text": [
            "Model: \"sequential_12\"\n",
            "_________________________________________________________________\n",
            " Layer (type)                Output Shape              Param #   \n",
            "=================================================================\n",
            " dense_17 (Dense)            (None, 13)                182       \n",
            "                                                                 \n",
            " dense_18 (Dense)            (None, 6)                 84        \n",
            "                                                                 \n",
            " dense_19 (Dense)            (None, 1)                 7         \n",
            "                                                                 \n",
            "=================================================================\n",
            "Total params: 273\n",
            "Trainable params: 273\n",
            "Non-trainable params: 0\n",
            "_________________________________________________________________\n"
          ]
        }
      ]
    },
    {
      "cell_type": "code",
      "source": [
        "n_epocas = 50\n",
        "\n",
        "history = model.fit(X_train, y_train, epochs=n_epocas, validation_split=0.1)"
      ],
      "metadata": {
        "colab": {
          "base_uri": "https://localhost:8080/"
        },
        "id": "KjEpvc82BZ1u",
        "outputId": "6ac8115f-7cad-4e01-e17a-570e3c5bb61b"
      },
      "execution_count": 121,
      "outputs": [
        {
          "output_type": "stream",
          "name": "stdout",
          "text": [
            "Epoch 1/50\n",
            "13/13 [==============================] - 1s 14ms/step - loss: 557.0175 - val_loss: 510.4807\n",
            "Epoch 2/50\n",
            "13/13 [==============================] - 0s 4ms/step - loss: 491.2469 - val_loss: 417.6907\n",
            "Epoch 3/50\n",
            "13/13 [==============================] - 0s 4ms/step - loss: 382.3611 - val_loss: 280.5446\n",
            "Epoch 4/50\n",
            "13/13 [==============================] - 0s 4ms/step - loss: 245.5976 - val_loss: 141.1806\n",
            "Epoch 5/50\n",
            "13/13 [==============================] - 0s 4ms/step - loss: 154.6263 - val_loss: 95.7253\n",
            "Epoch 6/50\n",
            "13/13 [==============================] - 0s 4ms/step - loss: 136.6244 - val_loss: 91.0536\n",
            "Epoch 7/50\n",
            "13/13 [==============================] - 0s 4ms/step - loss: 127.0780 - val_loss: 87.9156\n",
            "Epoch 8/50\n",
            "13/13 [==============================] - 0s 5ms/step - loss: 119.4621 - val_loss: 82.3401\n",
            "Epoch 9/50\n",
            "13/13 [==============================] - 0s 4ms/step - loss: 111.0341 - val_loss: 78.4374\n",
            "Epoch 10/50\n",
            "13/13 [==============================] - 0s 4ms/step - loss: 103.1867 - val_loss: 73.7214\n",
            "Epoch 11/50\n",
            "13/13 [==============================] - 0s 4ms/step - loss: 96.2887 - val_loss: 70.6660\n",
            "Epoch 12/50\n",
            "13/13 [==============================] - 0s 4ms/step - loss: 88.7871 - val_loss: 69.4161\n",
            "Epoch 13/50\n",
            "13/13 [==============================] - 0s 4ms/step - loss: 84.5013 - val_loss: 66.6525\n",
            "Epoch 14/50\n",
            "13/13 [==============================] - 0s 4ms/step - loss: 79.5498 - val_loss: 65.1902\n",
            "Epoch 15/50\n",
            "13/13 [==============================] - 0s 4ms/step - loss: 75.6357 - val_loss: 64.4907\n",
            "Epoch 16/50\n",
            "13/13 [==============================] - 0s 4ms/step - loss: 73.0418 - val_loss: 63.8577\n",
            "Epoch 17/50\n",
            "13/13 [==============================] - 0s 4ms/step - loss: 70.5334 - val_loss: 63.6386\n",
            "Epoch 18/50\n",
            "13/13 [==============================] - 0s 4ms/step - loss: 68.9868 - val_loss: 63.7174\n",
            "Epoch 19/50\n",
            "13/13 [==============================] - 0s 4ms/step - loss: 67.4289 - val_loss: 63.9971\n",
            "Epoch 20/50\n",
            "13/13 [==============================] - 0s 6ms/step - loss: 67.2710 - val_loss: 64.2329\n",
            "Epoch 21/50\n",
            "13/13 [==============================] - 0s 7ms/step - loss: 65.4294 - val_loss: 64.4555\n",
            "Epoch 22/50\n",
            "13/13 [==============================] - 0s 7ms/step - loss: 64.5568 - val_loss: 64.7874\n",
            "Epoch 23/50\n",
            "13/13 [==============================] - 0s 10ms/step - loss: 64.0087 - val_loss: 65.1305\n",
            "Epoch 24/50\n",
            "13/13 [==============================] - 0s 6ms/step - loss: 63.4663 - val_loss: 64.9429\n",
            "Epoch 25/50\n",
            "13/13 [==============================] - 0s 12ms/step - loss: 63.1489 - val_loss: 64.8072\n",
            "Epoch 26/50\n",
            "13/13 [==============================] - 0s 8ms/step - loss: 63.1628 - val_loss: 64.7980\n",
            "Epoch 27/50\n",
            "13/13 [==============================] - 0s 6ms/step - loss: 62.4512 - val_loss: 64.1729\n",
            "Epoch 28/50\n",
            "13/13 [==============================] - 0s 7ms/step - loss: 61.8753 - val_loss: 64.0578\n",
            "Epoch 29/50\n",
            "13/13 [==============================] - 0s 9ms/step - loss: 61.6408 - val_loss: 64.2692\n",
            "Epoch 30/50\n",
            "13/13 [==============================] - 0s 8ms/step - loss: 61.3749 - val_loss: 64.2425\n",
            "Epoch 31/50\n",
            "13/13 [==============================] - 0s 7ms/step - loss: 61.0228 - val_loss: 63.5923\n",
            "Epoch 32/50\n",
            "13/13 [==============================] - 0s 14ms/step - loss: 60.9138 - val_loss: 63.3430\n",
            "Epoch 33/50\n",
            "13/13 [==============================] - 0s 10ms/step - loss: 60.3989 - val_loss: 63.3284\n",
            "Epoch 34/50\n",
            "13/13 [==============================] - 0s 12ms/step - loss: 60.1924 - val_loss: 63.4631\n",
            "Epoch 35/50\n",
            "13/13 [==============================] - 0s 11ms/step - loss: 59.8293 - val_loss: 63.2499\n",
            "Epoch 36/50\n",
            "13/13 [==============================] - 0s 10ms/step - loss: 60.9383 - val_loss: 63.6680\n",
            "Epoch 37/50\n",
            "13/13 [==============================] - 0s 16ms/step - loss: 59.6248 - val_loss: 63.0074\n",
            "Epoch 38/50\n",
            "13/13 [==============================] - 0s 17ms/step - loss: 58.8088 - val_loss: 62.7110\n",
            "Epoch 39/50\n",
            "13/13 [==============================] - 0s 13ms/step - loss: 58.4251 - val_loss: 62.5911\n",
            "Epoch 40/50\n",
            "13/13 [==============================] - 0s 12ms/step - loss: 58.2439 - val_loss: 62.0766\n",
            "Epoch 41/50\n",
            "13/13 [==============================] - 0s 13ms/step - loss: 57.7066 - val_loss: 62.0577\n",
            "Epoch 42/50\n",
            "13/13 [==============================] - 0s 6ms/step - loss: 57.5334 - val_loss: 61.8948\n",
            "Epoch 43/50\n",
            "13/13 [==============================] - 0s 8ms/step - loss: 57.1965 - val_loss: 62.0304\n",
            "Epoch 44/50\n",
            "13/13 [==============================] - 0s 8ms/step - loss: 57.4525 - val_loss: 62.1347\n",
            "Epoch 45/50\n",
            "13/13 [==============================] - 0s 9ms/step - loss: 57.0448 - val_loss: 62.2966\n",
            "Epoch 46/50\n",
            "13/13 [==============================] - 0s 11ms/step - loss: 56.3271 - val_loss: 62.0044\n",
            "Epoch 47/50\n",
            "13/13 [==============================] - 0s 11ms/step - loss: 56.3391 - val_loss: 61.3979\n",
            "Epoch 48/50\n",
            "13/13 [==============================] - 0s 7ms/step - loss: 56.5113 - val_loss: 61.1014\n",
            "Epoch 49/50\n",
            "13/13 [==============================] - 0s 10ms/step - loss: 57.0581 - val_loss: 60.7065\n",
            "Epoch 50/50\n",
            "13/13 [==============================] - 0s 11ms/step - loss: 56.1938 - val_loss: 60.6355\n"
          ]
        }
      ]
    },
    {
      "cell_type": "code",
      "source": [
        "model.evaluate(x=X_test, y=y_test, verbose=False)"
      ],
      "metadata": {
        "colab": {
          "base_uri": "https://localhost:8080/"
        },
        "id": "JYfDx0gzBfm0",
        "outputId": "4e42d73e-9a25-40e9-9a29-c4c1a7de752c"
      },
      "execution_count": 122,
      "outputs": [
        {
          "output_type": "execute_result",
          "data": {
            "text/plain": [
              "30.750545501708984"
            ]
          },
          "metadata": {},
          "execution_count": 122
        }
      ]
    },
    {
      "cell_type": "code",
      "source": [
        "from sklearn.metrics import mean_squared_error\n",
        "\n",
        "y_pred = model.predict(X_test)\n",
        "\n",
        "mean_squared_error(y_test,y_pred)"
      ],
      "metadata": {
        "colab": {
          "base_uri": "https://localhost:8080/"
        },
        "id": "MRnyjTacBh9q",
        "outputId": "5250dde6-cd1a-4d6e-8eec-95b4ce2068bd"
      },
      "execution_count": 106,
      "outputs": [
        {
          "output_type": "execute_result",
          "data": {
            "text/plain": [
              "21.04384657707839"
            ]
          },
          "metadata": {},
          "execution_count": 106
        }
      ]
    },
    {
      "cell_type": "markdown",
      "source": [
        "## Usando una red más ancha"
      ],
      "metadata": {
        "id": "oFo9gaLjCIFl"
      }
    },
    {
      "cell_type": "code",
      "source": [
        "import pandas as pd\n",
        "from sklearn.model_selection import train_test_split\n",
        "\n",
        "df = pd.read_csv(\"/content/data/housing.data\", delim_whitespace=True, header=None)\n",
        "dataset = df.values\n",
        "X = dataset[:,0:13]\n",
        "Y = dataset[:,13]\n",
        "\n",
        "X_train, X_test, y_train, y_test = train_test_split(X, Y, test_size=0.15, random_state=42)"
      ],
      "metadata": {
        "id": "VrHmLucfCRgw"
      },
      "execution_count": 112,
      "outputs": []
    },
    {
      "cell_type": "code",
      "source": [
        "from sklearn.preprocessing import StandardScaler\n",
        "\n",
        "scl = StandardScaler()\n",
        "\n",
        "X_train = scl.fit_transform(X_train)\n",
        "X_test = scl.transform(X_test)"
      ],
      "metadata": {
        "id": "uaAQcInqCUYu"
      },
      "execution_count": 108,
      "outputs": []
    },
    {
      "cell_type": "code",
      "source": [
        "model = Sequential()\n",
        "model.add(Dense(50, input_dim=13, activation='relu'))\n",
        "model.add(Dense(1, activation=None))\n",
        "\n",
        "model.summary()\n",
        "\n",
        "model.compile(loss='mean_squared_error', optimizer='adam')"
      ],
      "metadata": {
        "colab": {
          "base_uri": "https://localhost:8080/"
        },
        "id": "V7jWm89-BrLx",
        "outputId": "43a2ac1a-a71d-4f78-e313-fc61aadca7ab"
      },
      "execution_count": 116,
      "outputs": [
        {
          "output_type": "stream",
          "name": "stdout",
          "text": [
            "Model: \"sequential_11\"\n",
            "_________________________________________________________________\n",
            " Layer (type)                Output Shape              Param #   \n",
            "=================================================================\n",
            " dense_15 (Dense)            (None, 50)                700       \n",
            "                                                                 \n",
            " dense_16 (Dense)            (None, 1)                 51        \n",
            "                                                                 \n",
            "=================================================================\n",
            "Total params: 751\n",
            "Trainable params: 751\n",
            "Non-trainable params: 0\n",
            "_________________________________________________________________\n"
          ]
        }
      ]
    },
    {
      "cell_type": "code",
      "source": [
        "n_epocas = 50\n",
        "\n",
        "history = model.fit(X_train, y_train, epochs=n_epocas, validation_split=0.1)"
      ],
      "metadata": {
        "colab": {
          "base_uri": "https://localhost:8080/"
        },
        "id": "w51Vg4rzCYHr",
        "outputId": "551936c3-ac2a-468f-8699-8da0caa9a5aa"
      },
      "execution_count": 117,
      "outputs": [
        {
          "output_type": "stream",
          "name": "stdout",
          "text": [
            "Epoch 1/50\n",
            "13/13 [==============================] - 1s 22ms/step - loss: 1698.5701 - val_loss: 497.9362\n",
            "Epoch 2/50\n",
            "13/13 [==============================] - 0s 5ms/step - loss: 505.6781 - val_loss: 113.9635\n",
            "Epoch 3/50\n",
            "13/13 [==============================] - 0s 6ms/step - loss: 122.2952 - val_loss: 91.9374\n",
            "Epoch 4/50\n",
            "13/13 [==============================] - 0s 6ms/step - loss: 91.4009 - val_loss: 100.5039\n",
            "Epoch 5/50\n",
            "13/13 [==============================] - 0s 6ms/step - loss: 85.3560 - val_loss: 79.0052\n",
            "Epoch 6/50\n",
            "13/13 [==============================] - 0s 7ms/step - loss: 77.6537 - val_loss: 64.6094\n",
            "Epoch 7/50\n",
            "13/13 [==============================] - 0s 6ms/step - loss: 72.2563 - val_loss: 67.1865\n",
            "Epoch 8/50\n",
            "13/13 [==============================] - 0s 8ms/step - loss: 69.9628 - val_loss: 73.4926\n",
            "Epoch 9/50\n",
            "13/13 [==============================] - 0s 10ms/step - loss: 68.7169 - val_loss: 65.2413\n",
            "Epoch 10/50\n",
            "13/13 [==============================] - 0s 5ms/step - loss: 64.0180 - val_loss: 63.0337\n",
            "Epoch 11/50\n",
            "13/13 [==============================] - 0s 7ms/step - loss: 62.0025 - val_loss: 65.7597\n",
            "Epoch 12/50\n",
            "13/13 [==============================] - 0s 8ms/step - loss: 61.5962 - val_loss: 61.2110\n",
            "Epoch 13/50\n",
            "13/13 [==============================] - 0s 8ms/step - loss: 59.7714 - val_loss: 60.5306\n",
            "Epoch 14/50\n",
            "13/13 [==============================] - 0s 8ms/step - loss: 57.5944 - val_loss: 59.2829\n",
            "Epoch 15/50\n",
            "13/13 [==============================] - 0s 7ms/step - loss: 56.9137 - val_loss: 61.2046\n",
            "Epoch 16/50\n",
            "13/13 [==============================] - 0s 5ms/step - loss: 58.6470 - val_loss: 60.5769\n",
            "Epoch 17/50\n",
            "13/13 [==============================] - 0s 5ms/step - loss: 55.3637 - val_loss: 64.4389\n",
            "Epoch 18/50\n",
            "13/13 [==============================] - 0s 8ms/step - loss: 56.1448 - val_loss: 58.8452\n",
            "Epoch 19/50\n",
            "13/13 [==============================] - 0s 10ms/step - loss: 54.9193 - val_loss: 58.9282\n",
            "Epoch 20/50\n",
            "13/13 [==============================] - 0s 13ms/step - loss: 50.7031 - val_loss: 57.5818\n",
            "Epoch 21/50\n",
            "13/13 [==============================] - 0s 12ms/step - loss: 50.8677 - val_loss: 58.5599\n",
            "Epoch 22/50\n",
            "13/13 [==============================] - 0s 16ms/step - loss: 48.4669 - val_loss: 58.0799\n",
            "Epoch 23/50\n",
            "13/13 [==============================] - 0s 14ms/step - loss: 56.8741 - val_loss: 52.9060\n",
            "Epoch 24/50\n",
            "13/13 [==============================] - 0s 11ms/step - loss: 49.4061 - val_loss: 65.4563\n",
            "Epoch 25/50\n",
            "13/13 [==============================] - 0s 7ms/step - loss: 51.0024 - val_loss: 51.1104\n",
            "Epoch 26/50\n",
            "13/13 [==============================] - 0s 4ms/step - loss: 49.3416 - val_loss: 51.3272\n",
            "Epoch 27/50\n",
            "13/13 [==============================] - 0s 4ms/step - loss: 48.0650 - val_loss: 55.2647\n",
            "Epoch 28/50\n",
            "13/13 [==============================] - 0s 4ms/step - loss: 46.0444 - val_loss: 47.7285\n",
            "Epoch 29/50\n",
            "13/13 [==============================] - 0s 4ms/step - loss: 45.1441 - val_loss: 53.8410\n",
            "Epoch 30/50\n",
            "13/13 [==============================] - 0s 4ms/step - loss: 46.7128 - val_loss: 50.8812\n",
            "Epoch 31/50\n",
            "13/13 [==============================] - 0s 5ms/step - loss: 46.9650 - val_loss: 48.8477\n",
            "Epoch 32/50\n",
            "13/13 [==============================] - 0s 4ms/step - loss: 43.1498 - val_loss: 49.7582\n",
            "Epoch 33/50\n",
            "13/13 [==============================] - 0s 4ms/step - loss: 43.4381 - val_loss: 54.9469\n",
            "Epoch 34/50\n",
            "13/13 [==============================] - 0s 3ms/step - loss: 45.7778 - val_loss: 49.3105\n",
            "Epoch 35/50\n",
            "13/13 [==============================] - 0s 4ms/step - loss: 43.9802 - val_loss: 47.3798\n",
            "Epoch 36/50\n",
            "13/13 [==============================] - 0s 4ms/step - loss: 41.5970 - val_loss: 48.3511\n",
            "Epoch 37/50\n",
            "13/13 [==============================] - 0s 4ms/step - loss: 42.2742 - val_loss: 46.9055\n",
            "Epoch 38/50\n",
            "13/13 [==============================] - 0s 4ms/step - loss: 40.2918 - val_loss: 52.0611\n",
            "Epoch 39/50\n",
            "13/13 [==============================] - 0s 3ms/step - loss: 41.7008 - val_loss: 46.4189\n",
            "Epoch 40/50\n",
            "13/13 [==============================] - 0s 4ms/step - loss: 40.6081 - val_loss: 49.4486\n",
            "Epoch 41/50\n",
            "13/13 [==============================] - 0s 4ms/step - loss: 40.5170 - val_loss: 44.1234\n",
            "Epoch 42/50\n",
            "13/13 [==============================] - 0s 4ms/step - loss: 40.4813 - val_loss: 44.6161\n",
            "Epoch 43/50\n",
            "13/13 [==============================] - 0s 4ms/step - loss: 39.8905 - val_loss: 49.0947\n",
            "Epoch 44/50\n",
            "13/13 [==============================] - 0s 5ms/step - loss: 45.4287 - val_loss: 47.7026\n",
            "Epoch 45/50\n",
            "13/13 [==============================] - 0s 4ms/step - loss: 42.6921 - val_loss: 47.1618\n",
            "Epoch 46/50\n",
            "13/13 [==============================] - 0s 4ms/step - loss: 42.2697 - val_loss: 45.5689\n",
            "Epoch 47/50\n",
            "13/13 [==============================] - 0s 4ms/step - loss: 40.1393 - val_loss: 45.8602\n",
            "Epoch 48/50\n",
            "13/13 [==============================] - 0s 4ms/step - loss: 38.6526 - val_loss: 48.2092\n",
            "Epoch 49/50\n",
            "13/13 [==============================] - 0s 4ms/step - loss: 40.3094 - val_loss: 42.7855\n",
            "Epoch 50/50\n",
            "13/13 [==============================] - 0s 3ms/step - loss: 40.7265 - val_loss: 45.9722\n"
          ]
        }
      ]
    },
    {
      "cell_type": "code",
      "source": [
        "model.evaluate(x=X_test, y=y_test, verbose=False)"
      ],
      "metadata": {
        "colab": {
          "base_uri": "https://localhost:8080/"
        },
        "id": "3uzUcaWbCapx",
        "outputId": "11069fda-aab2-4153-e438-133efc80788b"
      },
      "execution_count": 118,
      "outputs": [
        {
          "output_type": "execute_result",
          "data": {
            "text/plain": [
              "22.056289672851562"
            ]
          },
          "metadata": {},
          "execution_count": 118
        }
      ]
    },
    {
      "cell_type": "code",
      "source": [
        ""
      ],
      "metadata": {
        "id": "AzfnjzA1CdBv"
      },
      "execution_count": null,
      "outputs": []
    }
  ]
}