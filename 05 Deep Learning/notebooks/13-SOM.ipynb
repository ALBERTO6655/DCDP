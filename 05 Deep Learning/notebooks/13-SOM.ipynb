{
  "nbformat": 4,
  "nbformat_minor": 0,
  "metadata": {
    "colab": {
      "name": "13-SOM.ipynb",
      "provenance": []
    },
    "kernelspec": {
      "name": "python3",
      "display_name": "Python 3"
    },
    "language_info": {
      "name": "python"
    }
  },
  "cells": [
    {
      "cell_type": "code",
      "source": [
        "!pip install -q minisom"
      ],
      "metadata": {
        "colab": {
          "base_uri": "https://localhost:8080/"
        },
        "id": "gJJ84WYUJRNW",
        "outputId": "254bce31-ccd0-4131-9318-d2d8cc0c1174"
      },
      "execution_count": 2,
      "outputs": [
        {
          "output_type": "stream",
          "name": "stdout",
          "text": [
            "  Building wheel for minisom (setup.py) ... \u001b[?25l\u001b[?25hdone\n"
          ]
        }
      ]
    },
    {
      "cell_type": "code",
      "execution_count": 3,
      "metadata": {
        "id": "-S0OUZNEJHZD"
      },
      "outputs": [],
      "source": [
        "import numpy as np\n",
        "import matplotlib.pyplot as plt\n",
        "import pandas as pd\n",
        "\n",
        "from minisom import MiniSom"
      ]
    },
    {
      "cell_type": "markdown",
      "source": [
        "Traemos la carpeta desde Github"
      ],
      "metadata": {
        "id": "3b76pB4aKzTx"
      }
    },
    {
      "cell_type": "code",
      "source": [
        "#@title\n",
        "!apt-get -qq install > /dev/null subversion\n",
        "\n",
        "!svn checkout \"https://github.com/DCDPUAEM/DCDP_2022/trunk/05%20Deep%20Learning/data/\""
      ],
      "metadata": {
        "cellView": "form",
        "id": "8E87a6mXJw9i"
      },
      "execution_count": null,
      "outputs": []
    },
    {
      "cell_type": "code",
      "source": [
        "df = pd.read_csv('Credit_Card_Applications.csv')\n",
        "df"
      ],
      "metadata": {
        "id": "Sl7eCpYDJOHL"
      },
      "execution_count": null,
      "outputs": []
    },
    {
      "cell_type": "code",
      "source": [
        "X = df.values[:,1:14]\n",
        "y = df.value[:, -1]"
      ],
      "metadata": {
        "id": "nta_fdBcK6vv"
      },
      "execution_count": null,
      "outputs": []
    },
    {
      "cell_type": "code",
      "source": [
        "from sklearn.preprocessing import MinMaxScaler\n",
        "\n",
        "sc = MinMaxScaler()\n",
        "X = sc.fit_transform(X)"
      ],
      "metadata": {
        "id": "yFnlisu7LEd4"
      },
      "execution_count": null,
      "outputs": []
    },
    {
      "cell_type": "code",
      "source": [
        "# Set the hyper parameters\n",
        "som_grid_rows = 10\n",
        "som_grid_columns = 10\n",
        "iterations = 20000\n",
        "sigma = 1\n",
        "learning_rate = 0.5"
      ],
      "metadata": {
        "id": "I8u1UACsLIsc"
      },
      "execution_count": null,
      "outputs": []
    },
    {
      "cell_type": "code",
      "source": [
        "# define SOM:\n",
        "\n",
        "som = MiniSom(x = som_grid_rows, y = som_grid_columns, input_len=13, sigma=sigma, learning_rate=learning_rate)\n",
        "\n",
        "# Initializing the weights\n",
        "\n",
        "som.random_weights_init(X)\n",
        "\n",
        "# Training\n",
        "\n",
        "som.train_random(X, iterations)"
      ],
      "metadata": {
        "id": "sGiKxFxkLLtJ"
      },
      "execution_count": null,
      "outputs": []
    },
    {
      "cell_type": "code",
      "source": [
        "# Weights are:\n",
        "wts = som.weights\n",
        "# Shape of the weight are:\n",
        "wts.shape\n",
        "# Returns the distance map from the weights:\n",
        "som.distance_map()"
      ],
      "metadata": {
        "id": "9OncUARgLQ1W"
      },
      "execution_count": null,
      "outputs": []
    }
  ]
}