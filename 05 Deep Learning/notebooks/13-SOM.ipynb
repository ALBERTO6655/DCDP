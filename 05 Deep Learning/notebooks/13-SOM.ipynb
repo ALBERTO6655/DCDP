{
  "nbformat": 4,
  "nbformat_minor": 0,
  "metadata": {
    "colab": {
      "name": "13-SOM.ipynb",
      "provenance": [],
      "collapsed_sections": [],
      "toc_visible": true
    },
    "kernelspec": {
      "name": "python3",
      "display_name": "Python 3"
    },
    "language_info": {
      "name": "python"
    }
  },
  "cells": [
    {
      "cell_type": "markdown",
      "source": [
        "<h1>SOM: Self-Organizing Map</h1>\n",
        "\n",
        "En esta notebook se ilustra brevemente el funcionamiento y algunos usos de las SOMs. Para esto, usaremos el módulo `minisom`. "
      ],
      "metadata": {
        "id": "q9JCz11W59tF"
      }
    },
    {
      "cell_type": "code",
      "source": [
        "!pip install -q minisom"
      ],
      "metadata": {
        "colab": {
          "base_uri": "https://localhost:8080/"
        },
        "id": "gJJ84WYUJRNW",
        "outputId": "68896ce3-843a-4147-9cda-de53255c1705"
      },
      "execution_count": 1,
      "outputs": [
        {
          "output_type": "stream",
          "name": "stdout",
          "text": [
            "  Building wheel for minisom (setup.py) ... \u001b[?25l\u001b[?25hdone\n"
          ]
        }
      ]
    },
    {
      "cell_type": "markdown",
      "source": [
        "# Ejemplo 1: Demostración básica"
      ],
      "metadata": {
        "id": "xD1By175yhMU"
      }
    },
    {
      "cell_type": "markdown",
      "source": [
        "Traemos la carpeta desde Github"
      ],
      "metadata": {
        "id": "3b76pB4aKzTx"
      }
    },
    {
      "cell_type": "code",
      "source": [
        "#@title\n",
        "!apt-get -qq install > /dev/null subversion\n",
        "\n",
        "!svn checkout \"https://github.com/DCDPUAEM/DCDP_2022/trunk/05%20Deep%20Learning/data/\""
      ],
      "metadata": {
        "colab": {
          "base_uri": "https://localhost:8080/"
        },
        "cellView": "form",
        "id": "8E87a6mXJw9i",
        "outputId": "607717b8-2ac0-40c8-fffc-a02a9bf03860"
      },
      "execution_count": null,
      "outputs": [
        {
          "output_type": "stream",
          "name": "stdout",
          "text": [
            "A    data/airline-passengers.csv\n",
            "A    data/cc-a.csv\n",
            "A    data/diabetes.csv\n",
            "A    data/ecg.csv\n",
            "A    data/housing.data\n",
            "A    data/img.png\n",
            "A    data/mnist_biases1.npy\n",
            "A    data/mnist_biases2.npy\n",
            "A    data/mnist_weights1.npy\n",
            "A    data/mnist_weights2.npy\n",
            "Checked out revision 141.\n"
          ]
        }
      ]
    },
    {
      "cell_type": "code",
      "source": [
        "import pandas as pd\n",
        "\n",
        "df = pd.read_csv('data/cc-a.csv')\n",
        "df"
      ],
      "metadata": {
        "colab": {
          "base_uri": "https://localhost:8080/",
          "height": 424
        },
        "id": "Sl7eCpYDJOHL",
        "outputId": "c17c0b23-80e6-4824-e1a4-a62a5a2498ac"
      },
      "execution_count": null,
      "outputs": [
        {
          "output_type": "execute_result",
          "data": {
            "text/plain": [
              "     CustomerID  A1     A2      A3  A4  A5  A6     A7  A8  A9  A10  A11  A12  \\\n",
              "0      15776156   1  22.08  11.460   2   4   4  1.585   0   0    0    1    2   \n",
              "1      15739548   0  22.67   7.000   2   8   4  0.165   0   0    0    0    2   \n",
              "2      15662854   0  29.58   1.750   1   4   4  1.250   0   0    0    1    2   \n",
              "3      15687688   0  21.67  11.500   1   5   3  0.000   1   1   11    1    2   \n",
              "4      15715750   1  20.17   8.170   2   6   4  1.960   1   1   14    0    2   \n",
              "..          ...  ..    ...     ...  ..  ..  ..    ...  ..  ..  ...  ...  ...   \n",
              "685    15808223   1  31.57  10.500   2  14   4  6.500   1   0    0    0    2   \n",
              "686    15769980   1  20.67   0.415   2   8   4  0.125   0   0    0    0    2   \n",
              "687    15675450   0  18.83   9.540   2   6   4  0.085   1   0    0    0    2   \n",
              "688    15776494   0  27.42  14.500   2  14   8  3.085   1   1    1    0    2   \n",
              "689    15592412   1  41.00   0.040   2  10   4  0.040   0   1    1    0    1   \n",
              "\n",
              "     A13   A14  Class  \n",
              "0    100  1213      0  \n",
              "1    160     1      0  \n",
              "2    280     1      0  \n",
              "3      0     1      1  \n",
              "4     60   159      1  \n",
              "..   ...   ...    ...  \n",
              "685    0     1      1  \n",
              "686    0    45      0  \n",
              "687  100     1      1  \n",
              "688  120    12      1  \n",
              "689  560     1      1  \n",
              "\n",
              "[690 rows x 16 columns]"
            ],
            "text/html": [
              "\n",
              "  <div id=\"df-90e7480c-31f6-488f-9224-fcec813799a5\">\n",
              "    <div class=\"colab-df-container\">\n",
              "      <div>\n",
              "<style scoped>\n",
              "    .dataframe tbody tr th:only-of-type {\n",
              "        vertical-align: middle;\n",
              "    }\n",
              "\n",
              "    .dataframe tbody tr th {\n",
              "        vertical-align: top;\n",
              "    }\n",
              "\n",
              "    .dataframe thead th {\n",
              "        text-align: right;\n",
              "    }\n",
              "</style>\n",
              "<table border=\"1\" class=\"dataframe\">\n",
              "  <thead>\n",
              "    <tr style=\"text-align: right;\">\n",
              "      <th></th>\n",
              "      <th>CustomerID</th>\n",
              "      <th>A1</th>\n",
              "      <th>A2</th>\n",
              "      <th>A3</th>\n",
              "      <th>A4</th>\n",
              "      <th>A5</th>\n",
              "      <th>A6</th>\n",
              "      <th>A7</th>\n",
              "      <th>A8</th>\n",
              "      <th>A9</th>\n",
              "      <th>A10</th>\n",
              "      <th>A11</th>\n",
              "      <th>A12</th>\n",
              "      <th>A13</th>\n",
              "      <th>A14</th>\n",
              "      <th>Class</th>\n",
              "    </tr>\n",
              "  </thead>\n",
              "  <tbody>\n",
              "    <tr>\n",
              "      <th>0</th>\n",
              "      <td>15776156</td>\n",
              "      <td>1</td>\n",
              "      <td>22.08</td>\n",
              "      <td>11.460</td>\n",
              "      <td>2</td>\n",
              "      <td>4</td>\n",
              "      <td>4</td>\n",
              "      <td>1.585</td>\n",
              "      <td>0</td>\n",
              "      <td>0</td>\n",
              "      <td>0</td>\n",
              "      <td>1</td>\n",
              "      <td>2</td>\n",
              "      <td>100</td>\n",
              "      <td>1213</td>\n",
              "      <td>0</td>\n",
              "    </tr>\n",
              "    <tr>\n",
              "      <th>1</th>\n",
              "      <td>15739548</td>\n",
              "      <td>0</td>\n",
              "      <td>22.67</td>\n",
              "      <td>7.000</td>\n",
              "      <td>2</td>\n",
              "      <td>8</td>\n",
              "      <td>4</td>\n",
              "      <td>0.165</td>\n",
              "      <td>0</td>\n",
              "      <td>0</td>\n",
              "      <td>0</td>\n",
              "      <td>0</td>\n",
              "      <td>2</td>\n",
              "      <td>160</td>\n",
              "      <td>1</td>\n",
              "      <td>0</td>\n",
              "    </tr>\n",
              "    <tr>\n",
              "      <th>2</th>\n",
              "      <td>15662854</td>\n",
              "      <td>0</td>\n",
              "      <td>29.58</td>\n",
              "      <td>1.750</td>\n",
              "      <td>1</td>\n",
              "      <td>4</td>\n",
              "      <td>4</td>\n",
              "      <td>1.250</td>\n",
              "      <td>0</td>\n",
              "      <td>0</td>\n",
              "      <td>0</td>\n",
              "      <td>1</td>\n",
              "      <td>2</td>\n",
              "      <td>280</td>\n",
              "      <td>1</td>\n",
              "      <td>0</td>\n",
              "    </tr>\n",
              "    <tr>\n",
              "      <th>3</th>\n",
              "      <td>15687688</td>\n",
              "      <td>0</td>\n",
              "      <td>21.67</td>\n",
              "      <td>11.500</td>\n",
              "      <td>1</td>\n",
              "      <td>5</td>\n",
              "      <td>3</td>\n",
              "      <td>0.000</td>\n",
              "      <td>1</td>\n",
              "      <td>1</td>\n",
              "      <td>11</td>\n",
              "      <td>1</td>\n",
              "      <td>2</td>\n",
              "      <td>0</td>\n",
              "      <td>1</td>\n",
              "      <td>1</td>\n",
              "    </tr>\n",
              "    <tr>\n",
              "      <th>4</th>\n",
              "      <td>15715750</td>\n",
              "      <td>1</td>\n",
              "      <td>20.17</td>\n",
              "      <td>8.170</td>\n",
              "      <td>2</td>\n",
              "      <td>6</td>\n",
              "      <td>4</td>\n",
              "      <td>1.960</td>\n",
              "      <td>1</td>\n",
              "      <td>1</td>\n",
              "      <td>14</td>\n",
              "      <td>0</td>\n",
              "      <td>2</td>\n",
              "      <td>60</td>\n",
              "      <td>159</td>\n",
              "      <td>1</td>\n",
              "    </tr>\n",
              "    <tr>\n",
              "      <th>...</th>\n",
              "      <td>...</td>\n",
              "      <td>...</td>\n",
              "      <td>...</td>\n",
              "      <td>...</td>\n",
              "      <td>...</td>\n",
              "      <td>...</td>\n",
              "      <td>...</td>\n",
              "      <td>...</td>\n",
              "      <td>...</td>\n",
              "      <td>...</td>\n",
              "      <td>...</td>\n",
              "      <td>...</td>\n",
              "      <td>...</td>\n",
              "      <td>...</td>\n",
              "      <td>...</td>\n",
              "      <td>...</td>\n",
              "    </tr>\n",
              "    <tr>\n",
              "      <th>685</th>\n",
              "      <td>15808223</td>\n",
              "      <td>1</td>\n",
              "      <td>31.57</td>\n",
              "      <td>10.500</td>\n",
              "      <td>2</td>\n",
              "      <td>14</td>\n",
              "      <td>4</td>\n",
              "      <td>6.500</td>\n",
              "      <td>1</td>\n",
              "      <td>0</td>\n",
              "      <td>0</td>\n",
              "      <td>0</td>\n",
              "      <td>2</td>\n",
              "      <td>0</td>\n",
              "      <td>1</td>\n",
              "      <td>1</td>\n",
              "    </tr>\n",
              "    <tr>\n",
              "      <th>686</th>\n",
              "      <td>15769980</td>\n",
              "      <td>1</td>\n",
              "      <td>20.67</td>\n",
              "      <td>0.415</td>\n",
              "      <td>2</td>\n",
              "      <td>8</td>\n",
              "      <td>4</td>\n",
              "      <td>0.125</td>\n",
              "      <td>0</td>\n",
              "      <td>0</td>\n",
              "      <td>0</td>\n",
              "      <td>0</td>\n",
              "      <td>2</td>\n",
              "      <td>0</td>\n",
              "      <td>45</td>\n",
              "      <td>0</td>\n",
              "    </tr>\n",
              "    <tr>\n",
              "      <th>687</th>\n",
              "      <td>15675450</td>\n",
              "      <td>0</td>\n",
              "      <td>18.83</td>\n",
              "      <td>9.540</td>\n",
              "      <td>2</td>\n",
              "      <td>6</td>\n",
              "      <td>4</td>\n",
              "      <td>0.085</td>\n",
              "      <td>1</td>\n",
              "      <td>0</td>\n",
              "      <td>0</td>\n",
              "      <td>0</td>\n",
              "      <td>2</td>\n",
              "      <td>100</td>\n",
              "      <td>1</td>\n",
              "      <td>1</td>\n",
              "    </tr>\n",
              "    <tr>\n",
              "      <th>688</th>\n",
              "      <td>15776494</td>\n",
              "      <td>0</td>\n",
              "      <td>27.42</td>\n",
              "      <td>14.500</td>\n",
              "      <td>2</td>\n",
              "      <td>14</td>\n",
              "      <td>8</td>\n",
              "      <td>3.085</td>\n",
              "      <td>1</td>\n",
              "      <td>1</td>\n",
              "      <td>1</td>\n",
              "      <td>0</td>\n",
              "      <td>2</td>\n",
              "      <td>120</td>\n",
              "      <td>12</td>\n",
              "      <td>1</td>\n",
              "    </tr>\n",
              "    <tr>\n",
              "      <th>689</th>\n",
              "      <td>15592412</td>\n",
              "      <td>1</td>\n",
              "      <td>41.00</td>\n",
              "      <td>0.040</td>\n",
              "      <td>2</td>\n",
              "      <td>10</td>\n",
              "      <td>4</td>\n",
              "      <td>0.040</td>\n",
              "      <td>0</td>\n",
              "      <td>1</td>\n",
              "      <td>1</td>\n",
              "      <td>0</td>\n",
              "      <td>1</td>\n",
              "      <td>560</td>\n",
              "      <td>1</td>\n",
              "      <td>1</td>\n",
              "    </tr>\n",
              "  </tbody>\n",
              "</table>\n",
              "<p>690 rows × 16 columns</p>\n",
              "</div>\n",
              "      <button class=\"colab-df-convert\" onclick=\"convertToInteractive('df-90e7480c-31f6-488f-9224-fcec813799a5')\"\n",
              "              title=\"Convert this dataframe to an interactive table.\"\n",
              "              style=\"display:none;\">\n",
              "        \n",
              "  <svg xmlns=\"http://www.w3.org/2000/svg\" height=\"24px\"viewBox=\"0 0 24 24\"\n",
              "       width=\"24px\">\n",
              "    <path d=\"M0 0h24v24H0V0z\" fill=\"none\"/>\n",
              "    <path d=\"M18.56 5.44l.94 2.06.94-2.06 2.06-.94-2.06-.94-.94-2.06-.94 2.06-2.06.94zm-11 1L8.5 8.5l.94-2.06 2.06-.94-2.06-.94L8.5 2.5l-.94 2.06-2.06.94zm10 10l.94 2.06.94-2.06 2.06-.94-2.06-.94-.94-2.06-.94 2.06-2.06.94z\"/><path d=\"M17.41 7.96l-1.37-1.37c-.4-.4-.92-.59-1.43-.59-.52 0-1.04.2-1.43.59L10.3 9.45l-7.72 7.72c-.78.78-.78 2.05 0 2.83L4 21.41c.39.39.9.59 1.41.59.51 0 1.02-.2 1.41-.59l7.78-7.78 2.81-2.81c.8-.78.8-2.07 0-2.86zM5.41 20L4 18.59l7.72-7.72 1.47 1.35L5.41 20z\"/>\n",
              "  </svg>\n",
              "      </button>\n",
              "      \n",
              "  <style>\n",
              "    .colab-df-container {\n",
              "      display:flex;\n",
              "      flex-wrap:wrap;\n",
              "      gap: 12px;\n",
              "    }\n",
              "\n",
              "    .colab-df-convert {\n",
              "      background-color: #E8F0FE;\n",
              "      border: none;\n",
              "      border-radius: 50%;\n",
              "      cursor: pointer;\n",
              "      display: none;\n",
              "      fill: #1967D2;\n",
              "      height: 32px;\n",
              "      padding: 0 0 0 0;\n",
              "      width: 32px;\n",
              "    }\n",
              "\n",
              "    .colab-df-convert:hover {\n",
              "      background-color: #E2EBFA;\n",
              "      box-shadow: 0px 1px 2px rgba(60, 64, 67, 0.3), 0px 1px 3px 1px rgba(60, 64, 67, 0.15);\n",
              "      fill: #174EA6;\n",
              "    }\n",
              "\n",
              "    [theme=dark] .colab-df-convert {\n",
              "      background-color: #3B4455;\n",
              "      fill: #D2E3FC;\n",
              "    }\n",
              "\n",
              "    [theme=dark] .colab-df-convert:hover {\n",
              "      background-color: #434B5C;\n",
              "      box-shadow: 0px 1px 3px 1px rgba(0, 0, 0, 0.15);\n",
              "      filter: drop-shadow(0px 1px 2px rgba(0, 0, 0, 0.3));\n",
              "      fill: #FFFFFF;\n",
              "    }\n",
              "  </style>\n",
              "\n",
              "      <script>\n",
              "        const buttonEl =\n",
              "          document.querySelector('#df-90e7480c-31f6-488f-9224-fcec813799a5 button.colab-df-convert');\n",
              "        buttonEl.style.display =\n",
              "          google.colab.kernel.accessAllowed ? 'block' : 'none';\n",
              "\n",
              "        async function convertToInteractive(key) {\n",
              "          const element = document.querySelector('#df-90e7480c-31f6-488f-9224-fcec813799a5');\n",
              "          const dataTable =\n",
              "            await google.colab.kernel.invokeFunction('convertToInteractive',\n",
              "                                                     [key], {});\n",
              "          if (!dataTable) return;\n",
              "\n",
              "          const docLinkHtml = 'Like what you see? Visit the ' +\n",
              "            '<a target=\"_blank\" href=https://colab.research.google.com/notebooks/data_table.ipynb>data table notebook</a>'\n",
              "            + ' to learn more about interactive tables.';\n",
              "          element.innerHTML = '';\n",
              "          dataTable['output_type'] = 'display_data';\n",
              "          await google.colab.output.renderOutput(dataTable, element);\n",
              "          const docLink = document.createElement('div');\n",
              "          docLink.innerHTML = docLinkHtml;\n",
              "          element.appendChild(docLink);\n",
              "        }\n",
              "      </script>\n",
              "    </div>\n",
              "  </div>\n",
              "  "
            ]
          },
          "metadata": {},
          "execution_count": 5
        }
      ]
    },
    {
      "cell_type": "code",
      "source": [
        "X = df.values[:,1:14]\n",
        "y = df.values[:, -1]\n",
        "\n",
        "y = y.astype(int)"
      ],
      "metadata": {
        "id": "nta_fdBcK6vv"
      },
      "execution_count": null,
      "outputs": []
    },
    {
      "cell_type": "code",
      "source": [
        "from sklearn.preprocessing import MinMaxScaler\n",
        "\n",
        "sc = MinMaxScaler()\n",
        "X = sc.fit_transform(X)"
      ],
      "metadata": {
        "id": "yFnlisu7LEd4"
      },
      "execution_count": null,
      "outputs": []
    },
    {
      "cell_type": "markdown",
      "source": [
        "Los parámetros del SOM"
      ],
      "metadata": {
        "id": "EG5P6M2BWEKi"
      }
    },
    {
      "cell_type": "code",
      "source": [
        "som_grid_rows = 20\n",
        "som_grid_columns = 20\n",
        "iterations = 20000\n",
        "sigma = 1\n",
        "learning_rate = 0.5"
      ],
      "metadata": {
        "id": "I8u1UACsLIsc"
      },
      "execution_count": null,
      "outputs": []
    },
    {
      "cell_type": "markdown",
      "source": [
        "Definimos el SOM"
      ],
      "metadata": {
        "id": "t2GC90p4WQa5"
      }
    },
    {
      "cell_type": "code",
      "source": [
        "from minisom import MiniSom\n",
        "\n",
        "som = MiniSom(x = som_grid_rows, y = som_grid_columns, input_len=13, sigma=sigma, \n",
        "              learning_rate=learning_rate)\n",
        "\n",
        "# Inicializamos los pesos\n",
        "som.random_weights_init(X)"
      ],
      "metadata": {
        "id": "sGiKxFxkLLtJ"
      },
      "execution_count": null,
      "outputs": []
    },
    {
      "cell_type": "markdown",
      "source": [
        "Entrenamos la red"
      ],
      "metadata": {
        "id": "qFSZ3W74aLsV"
      }
    },
    {
      "cell_type": "code",
      "source": [
        "som.train_random(X, iterations)"
      ],
      "metadata": {
        "id": "UDs-TswXWIau"
      },
      "execution_count": null,
      "outputs": []
    },
    {
      "cell_type": "markdown",
      "source": [
        "Veamos la matriz de pesos"
      ],
      "metadata": {
        "id": "uV74ZxH9aJrB"
      }
    },
    {
      "cell_type": "code",
      "source": [
        "pesos = som.get_weights()\n",
        "print(pesos.shape)"
      ],
      "metadata": {
        "colab": {
          "base_uri": "https://localhost:8080/"
        },
        "id": "9OncUARgLQ1W",
        "outputId": "e6151763-e745-4bf6-d445-c66cce94515f"
      },
      "execution_count": null,
      "outputs": [
        {
          "output_type": "stream",
          "name": "stdout",
          "text": [
            "(20, 20, 13)\n"
          ]
        }
      ]
    },
    {
      "cell_type": "markdown",
      "source": [
        "El mapa de distancias indica, en promedio, la distancia de cada celda con sus vecinos. Es una matriz de rows$\\times$columns."
      ],
      "metadata": {
        "id": "CjfS5mybrGri"
      }
    },
    {
      "cell_type": "code",
      "source": [
        "dm = som.distance_map()\n",
        "dm.shape"
      ],
      "metadata": {
        "colab": {
          "base_uri": "https://localhost:8080/"
        },
        "id": "MXEtUyL8WdT6",
        "outputId": "9dc624c2-6760-43c9-9c1a-c11bbb564148"
      },
      "execution_count": null,
      "outputs": [
        {
          "output_type": "execute_result",
          "data": {
            "text/plain": [
              "(20, 20)"
            ]
          },
          "metadata": {},
          "execution_count": 12
        }
      ]
    },
    {
      "cell_type": "code",
      "source": [
        "import matplotlib.pyplot as plt\n",
        "\n",
        "plt.figure(figsize=(7,7))\n",
        "plt.imshow(som.distance_map().T,origin='lower')\n",
        "plt.xticks(range(som_grid_rows))\n",
        "plt.yticks(list(range(som_grid_columns)))\n",
        "plt.show()"
      ],
      "metadata": {
        "colab": {
          "base_uri": "https://localhost:8080/",
          "height": 428
        },
        "id": "25Tygze3SNVw",
        "outputId": "d977dd97-3b0c-415f-d394-226c6a0dc421"
      },
      "execution_count": null,
      "outputs": [
        {
          "output_type": "display_data",
          "data": {
            "text/plain": [
              "<Figure size 504x504 with 1 Axes>"
            ],
            "image/png": "[encoded data removed]"
          },
          "metadata": {
            "needs_background": "light"
          }
        }
      ]
    },
    {
      "cell_type": "markdown",
      "source": [
        "Para cada dato $x_j$, podemos obtener la neurona ganadora de la siguiente forma:"
      ],
      "metadata": {
        "id": "czJYBdagXb0_"
      }
    },
    {
      "cell_type": "code",
      "source": [
        "som.winner(X[0])"
      ],
      "metadata": {
        "colab": {
          "base_uri": "https://localhost:8080/"
        },
        "id": "Xtqo3q-NXgow",
        "outputId": "fd2e1a47-a161-48cc-8f6c-fee8c1b95362"
      },
      "execution_count": null,
      "outputs": [
        {
          "output_type": "execute_result",
          "data": {
            "text/plain": [
              "(6, 15)"
            ]
          },
          "metadata": {},
          "execution_count": 24
        }
      ]
    },
    {
      "cell_type": "markdown",
      "source": [
        "También podemos visualizar la asignación explícita de cada punto en su respectiva celda."
      ],
      "metadata": {
        "id": "W-X4YQStrehI"
      }
    },
    {
      "cell_type": "code",
      "source": [
        "markers = ['o', 'o']            \n",
        "colors = ['r', 'g']\n",
        "\n",
        "plt.figure(figsize=(7,7))\n",
        "for i, x in enumerate(X):\n",
        "    w = som.winner(x)\n",
        "    plt.scatter(w[0],# + 0.5,\n",
        "        w[1], #+ 0.5,\n",
        "        marker = 'o',\n",
        "        edgecolors = colors[y[i]],\n",
        "        facecolors = 'None',\n",
        "        s = 50,\n",
        "        linewidths = 2,\n",
        "        alpha=0.5)\n",
        "# plt.imshow(som.distance_map().T,origin='lower',cmap='Greys')\n",
        "plt.xticks(range(som_grid_rows))\n",
        "plt.yticks(list(range(som_grid_columns)))\n",
        "plt.show()"
      ],
      "metadata": {
        "colab": {
          "base_uri": "https://localhost:8080/",
          "height": 428
        },
        "id": "ySHc7LPfSYof",
        "outputId": "84c45a71-981f-4602-849f-37da4d7d5694"
      },
      "execution_count": null,
      "outputs": [
        {
          "output_type": "display_data",
          "data": {
            "text/plain": [
              "<Figure size 504x504 with 1 Axes>"
            ],
            "image/png": "[encoded data removed]"
          },
          "metadata": {
            "needs_background": "light"
          }
        }
      ]
    },
    {
      "cell_type": "markdown",
      "source": [
        "# Ejemplo 2: Clasificación\n",
        "\n",
        "En este ejemplo usaremos una SOM para la tarea de clasificar el dataset Iris."
      ],
      "metadata": {
        "id": "V6Dh5xhZykm1"
      }
    },
    {
      "cell_type": "code",
      "source": [
        "import numpy as np\n",
        "from sklearn.datasets import load_iris\n",
        "\n",
        "data = load_iris()\n",
        "\n",
        "X = data.data   # Matriz de features\n",
        "y = data.target # Vector de etiquetas\n",
        "\n",
        "print(f\"Número de ejemplos: {X.shape[0]}\")\n",
        "print(f\"Número de features por ejemplo: {X.shape[1]}\")"
      ],
      "metadata": {
        "colab": {
          "base_uri": "https://localhost:8080/"
        },
        "id": "cdc8nfRyys4O",
        "outputId": "5e03952c-d7ee-463b-b01a-021892aaa75c"
      },
      "execution_count": 13,
      "outputs": [
        {
          "output_type": "stream",
          "name": "stdout",
          "text": [
            "Número de ejemplos: 150\n",
            "Número de features por ejemplo: 4\n"
          ]
        }
      ]
    },
    {
      "cell_type": "markdown",
      "source": [
        "Normalizamos de manera que cada vector 4-dimensional representando a cada individuo tenga norma 1. Aquí también podríamos intentar otras técnicas de normalización o re-escalamiento."
      ],
      "metadata": {
        "id": "D4PtRNaQ00Mp"
      }
    },
    {
      "cell_type": "code",
      "source": [
        "import pandas as pd\n",
        "\n",
        "display(pd.DataFrame(X).head(3))\n",
        "\n",
        "X_norm = np.apply_along_axis(lambda x: x/np.linalg.norm(x), 1, X)\n",
        "\n",
        "display(pd.DataFrame(X_norm).head(3))"
      ],
      "metadata": {
        "colab": {
          "base_uri": "https://localhost:8080/",
          "height": 270
        },
        "id": "i6W5YfT0zeIV",
        "outputId": "37a691e7-15d4-4d2a-9420-13cc18b9e462"
      },
      "execution_count": 14,
      "outputs": [
        {
          "output_type": "display_data",
          "data": {
            "text/plain": [
              "     0    1    2    3\n",
              "0  5.1  3.5  1.4  0.2\n",
              "1  4.9  3.0  1.4  0.2\n",
              "2  4.7  3.2  1.3  0.2"
            ],
            "text/html": [
              "\n",
              "  <div id=\"df-68f153f2-f582-4c78-9229-4e2b35c1e45f\">\n",
              "    <div class=\"colab-df-container\">\n",
              "      <div>\n",
              "<style scoped>\n",
              "    .dataframe tbody tr th:only-of-type {\n",
              "        vertical-align: middle;\n",
              "    }\n",
              "\n",
              "    .dataframe tbody tr th {\n",
              "        vertical-align: top;\n",
              "    }\n",
              "\n",
              "    .dataframe thead th {\n",
              "        text-align: right;\n",
              "    }\n",
              "</style>\n",
              "<table border=\"1\" class=\"dataframe\">\n",
              "  <thead>\n",
              "    <tr style=\"text-align: right;\">\n",
              "      <th></th>\n",
              "      <th>0</th>\n",
              "      <th>1</th>\n",
              "      <th>2</th>\n",
              "      <th>3</th>\n",
              "    </tr>\n",
              "  </thead>\n",
              "  <tbody>\n",
              "    <tr>\n",
              "      <th>0</th>\n",
              "      <td>5.1</td>\n",
              "      <td>3.5</td>\n",
              "      <td>1.4</td>\n",
              "      <td>0.2</td>\n",
              "    </tr>\n",
              "    <tr>\n",
              "      <th>1</th>\n",
              "      <td>4.9</td>\n",
              "      <td>3.0</td>\n",
              "      <td>1.4</td>\n",
              "      <td>0.2</td>\n",
              "    </tr>\n",
              "    <tr>\n",
              "      <th>2</th>\n",
              "      <td>4.7</td>\n",
              "      <td>3.2</td>\n",
              "      <td>1.3</td>\n",
              "      <td>0.2</td>\n",
              "    </tr>\n",
              "  </tbody>\n",
              "</table>\n",
              "</div>\n",
              "      <button class=\"colab-df-convert\" onclick=\"convertToInteractive('df-68f153f2-f582-4c78-9229-4e2b35c1e45f')\"\n",
              "              title=\"Convert this dataframe to an interactive table.\"\n",
              "              style=\"display:none;\">\n",
              "        \n",
              "  <svg xmlns=\"http://www.w3.org/2000/svg\" height=\"24px\"viewBox=\"0 0 24 24\"\n",
              "       width=\"24px\">\n",
              "    <path d=\"M0 0h24v24H0V0z\" fill=\"none\"/>\n",
              "    <path d=\"M18.56 5.44l.94 2.06.94-2.06 2.06-.94-2.06-.94-.94-2.06-.94 2.06-2.06.94zm-11 1L8.5 8.5l.94-2.06 2.06-.94-2.06-.94L8.5 2.5l-.94 2.06-2.06.94zm10 10l.94 2.06.94-2.06 2.06-.94-2.06-.94-.94-2.06-.94 2.06-2.06.94z\"/><path d=\"M17.41 7.96l-1.37-1.37c-.4-.4-.92-.59-1.43-.59-.52 0-1.04.2-1.43.59L10.3 9.45l-7.72 7.72c-.78.78-.78 2.05 0 2.83L4 21.41c.39.39.9.59 1.41.59.51 0 1.02-.2 1.41-.59l7.78-7.78 2.81-2.81c.8-.78.8-2.07 0-2.86zM5.41 20L4 18.59l7.72-7.72 1.47 1.35L5.41 20z\"/>\n",
              "  </svg>\n",
              "      </button>\n",
              "      \n",
              "  <style>\n",
              "    .colab-df-container {\n",
              "      display:flex;\n",
              "      flex-wrap:wrap;\n",
              "      gap: 12px;\n",
              "    }\n",
              "\n",
              "    .colab-df-convert {\n",
              "      background-color: #E8F0FE;\n",
              "      border: none;\n",
              "      border-radius: 50%;\n",
              "      cursor: pointer;\n",
              "      display: none;\n",
              "      fill: #1967D2;\n",
              "      height: 32px;\n",
              "      padding: 0 0 0 0;\n",
              "      width: 32px;\n",
              "    }\n",
              "\n",
              "    .colab-df-convert:hover {\n",
              "      background-color: #E2EBFA;\n",
              "      box-shadow: 0px 1px 2px rgba(60, 64, 67, 0.3), 0px 1px 3px 1px rgba(60, 64, 67, 0.15);\n",
              "      fill: #174EA6;\n",
              "    }\n",
              "\n",
              "    [theme=dark] .colab-df-convert {\n",
              "      background-color: #3B4455;\n",
              "      fill: #D2E3FC;\n",
              "    }\n",
              "\n",
              "    [theme=dark] .colab-df-convert:hover {\n",
              "      background-color: #434B5C;\n",
              "      box-shadow: 0px 1px 3px 1px rgba(0, 0, 0, 0.15);\n",
              "      filter: drop-shadow(0px 1px 2px rgba(0, 0, 0, 0.3));\n",
              "      fill: #FFFFFF;\n",
              "    }\n",
              "  </style>\n",
              "\n",
              "      <script>\n",
              "        const buttonEl =\n",
              "          document.querySelector('#df-68f153f2-f582-4c78-9229-4e2b35c1e45f button.colab-df-convert');\n",
              "        buttonEl.style.display =\n",
              "          google.colab.kernel.accessAllowed ? 'block' : 'none';\n",
              "\n",
              "        async function convertToInteractive(key) {\n",
              "          const element = document.querySelector('#df-68f153f2-f582-4c78-9229-4e2b35c1e45f');\n",
              "          const dataTable =\n",
              "            await google.colab.kernel.invokeFunction('convertToInteractive',\n",
              "                                                     [key], {});\n",
              "          if (!dataTable) return;\n",
              "\n",
              "          const docLinkHtml = 'Like what you see? Visit the ' +\n",
              "            '<a target=\"_blank\" href=https://colab.research.google.com/notebooks/data_table.ipynb>data table notebook</a>'\n",
              "            + ' to learn more about interactive tables.';\n",
              "          element.innerHTML = '';\n",
              "          dataTable['output_type'] = 'display_data';\n",
              "          await google.colab.output.renderOutput(dataTable, element);\n",
              "          const docLink = document.createElement('div');\n",
              "          docLink.innerHTML = docLinkHtml;\n",
              "          element.appendChild(docLink);\n",
              "        }\n",
              "      </script>\n",
              "    </div>\n",
              "  </div>\n",
              "  "
            ]
          },
          "metadata": {}
        },
        {
          "output_type": "display_data",
          "data": {
            "text/plain": [
              "          0         1         2         3\n",
              "0  0.803773  0.551609  0.220644  0.031521\n",
              "1  0.828133  0.507020  0.236609  0.033801\n",
              "2  0.805333  0.548312  0.222752  0.034269"
            ],
            "text/html": [
              "\n",
              "  <div id=\"df-f3f69ece-f570-460c-9905-aacacbc8b27b\">\n",
              "    <div class=\"colab-df-container\">\n",
              "      <div>\n",
              "<style scoped>\n",
              "    .dataframe tbody tr th:only-of-type {\n",
              "        vertical-align: middle;\n",
              "    }\n",
              "\n",
              "    .dataframe tbody tr th {\n",
              "        vertical-align: top;\n",
              "    }\n",
              "\n",
              "    .dataframe thead th {\n",
              "        text-align: right;\n",
              "    }\n",
              "</style>\n",
              "<table border=\"1\" class=\"dataframe\">\n",
              "  <thead>\n",
              "    <tr style=\"text-align: right;\">\n",
              "      <th></th>\n",
              "      <th>0</th>\n",
              "      <th>1</th>\n",
              "      <th>2</th>\n",
              "      <th>3</th>\n",
              "    </tr>\n",
              "  </thead>\n",
              "  <tbody>\n",
              "    <tr>\n",
              "      <th>0</th>\n",
              "      <td>0.803773</td>\n",
              "      <td>0.551609</td>\n",
              "      <td>0.220644</td>\n",
              "      <td>0.031521</td>\n",
              "    </tr>\n",
              "    <tr>\n",
              "      <th>1</th>\n",
              "      <td>0.828133</td>\n",
              "      <td>0.507020</td>\n",
              "      <td>0.236609</td>\n",
              "      <td>0.033801</td>\n",
              "    </tr>\n",
              "    <tr>\n",
              "      <th>2</th>\n",
              "      <td>0.805333</td>\n",
              "      <td>0.548312</td>\n",
              "      <td>0.222752</td>\n",
              "      <td>0.034269</td>\n",
              "    </tr>\n",
              "  </tbody>\n",
              "</table>\n",
              "</div>\n",
              "      <button class=\"colab-df-convert\" onclick=\"convertToInteractive('df-f3f69ece-f570-460c-9905-aacacbc8b27b')\"\n",
              "              title=\"Convert this dataframe to an interactive table.\"\n",
              "              style=\"display:none;\">\n",
              "        \n",
              "  <svg xmlns=\"http://www.w3.org/2000/svg\" height=\"24px\"viewBox=\"0 0 24 24\"\n",
              "       width=\"24px\">\n",
              "    <path d=\"M0 0h24v24H0V0z\" fill=\"none\"/>\n",
              "    <path d=\"M18.56 5.44l.94 2.06.94-2.06 2.06-.94-2.06-.94-.94-2.06-.94 2.06-2.06.94zm-11 1L8.5 8.5l.94-2.06 2.06-.94-2.06-.94L8.5 2.5l-.94 2.06-2.06.94zm10 10l.94 2.06.94-2.06 2.06-.94-2.06-.94-.94-2.06-.94 2.06-2.06.94z\"/><path d=\"M17.41 7.96l-1.37-1.37c-.4-.4-.92-.59-1.43-.59-.52 0-1.04.2-1.43.59L10.3 9.45l-7.72 7.72c-.78.78-.78 2.05 0 2.83L4 21.41c.39.39.9.59 1.41.59.51 0 1.02-.2 1.41-.59l7.78-7.78 2.81-2.81c.8-.78.8-2.07 0-2.86zM5.41 20L4 18.59l7.72-7.72 1.47 1.35L5.41 20z\"/>\n",
              "  </svg>\n",
              "      </button>\n",
              "      \n",
              "  <style>\n",
              "    .colab-df-container {\n",
              "      display:flex;\n",
              "      flex-wrap:wrap;\n",
              "      gap: 12px;\n",
              "    }\n",
              "\n",
              "    .colab-df-convert {\n",
              "      background-color: #E8F0FE;\n",
              "      border: none;\n",
              "      border-radius: 50%;\n",
              "      cursor: pointer;\n",
              "      display: none;\n",
              "      fill: #1967D2;\n",
              "      height: 32px;\n",
              "      padding: 0 0 0 0;\n",
              "      width: 32px;\n",
              "    }\n",
              "\n",
              "    .colab-df-convert:hover {\n",
              "      background-color: #E2EBFA;\n",
              "      box-shadow: 0px 1px 2px rgba(60, 64, 67, 0.3), 0px 1px 3px 1px rgba(60, 64, 67, 0.15);\n",
              "      fill: #174EA6;\n",
              "    }\n",
              "\n",
              "    [theme=dark] .colab-df-convert {\n",
              "      background-color: #3B4455;\n",
              "      fill: #D2E3FC;\n",
              "    }\n",
              "\n",
              "    [theme=dark] .colab-df-convert:hover {\n",
              "      background-color: #434B5C;\n",
              "      box-shadow: 0px 1px 3px 1px rgba(0, 0, 0, 0.15);\n",
              "      filter: drop-shadow(0px 1px 2px rgba(0, 0, 0, 0.3));\n",
              "      fill: #FFFFFF;\n",
              "    }\n",
              "  </style>\n",
              "\n",
              "      <script>\n",
              "        const buttonEl =\n",
              "          document.querySelector('#df-f3f69ece-f570-460c-9905-aacacbc8b27b button.colab-df-convert');\n",
              "        buttonEl.style.display =\n",
              "          google.colab.kernel.accessAllowed ? 'block' : 'none';\n",
              "\n",
              "        async function convertToInteractive(key) {\n",
              "          const element = document.querySelector('#df-f3f69ece-f570-460c-9905-aacacbc8b27b');\n",
              "          const dataTable =\n",
              "            await google.colab.kernel.invokeFunction('convertToInteractive',\n",
              "                                                     [key], {});\n",
              "          if (!dataTable) return;\n",
              "\n",
              "          const docLinkHtml = 'Like what you see? Visit the ' +\n",
              "            '<a target=\"_blank\" href=https://colab.research.google.com/notebooks/data_table.ipynb>data table notebook</a>'\n",
              "            + ' to learn more about interactive tables.';\n",
              "          element.innerHTML = '';\n",
              "          dataTable['output_type'] = 'display_data';\n",
              "          await google.colab.output.renderOutput(dataTable, element);\n",
              "          const docLink = document.createElement('div');\n",
              "          docLink.innerHTML = docLinkHtml;\n",
              "          element.appendChild(docLink);\n",
              "        }\n",
              "      </script>\n",
              "    </div>\n",
              "  </div>\n",
              "  "
            ]
          },
          "metadata": {}
        }
      ]
    },
    {
      "cell_type": "markdown",
      "source": [
        "Dividimos los datos en entrenamiento y prueba"
      ],
      "metadata": {
        "id": "0fVBTMB46_NA"
      }
    },
    {
      "cell_type": "code",
      "source": [
        "from sklearn.model_selection import train_test_split\n",
        "\n",
        "X_train, X_test, y_train, y_test = train_test_split(X_norm, y, random_state=22, \n",
        "                                                    train_size=0.85)\n",
        "\n",
        "print(f\"Train size: {X_train.shape[0]}\")\n",
        "print(f\"Test size: {X_test.shape[0]}\")"
      ],
      "metadata": {
        "colab": {
          "base_uri": "https://localhost:8080/"
        },
        "id": "Ez8mGgI11k_j",
        "outputId": "efee6600-c2cb-48f8-bac3-7d1727bc5875"
      },
      "execution_count": 15,
      "outputs": [
        {
          "output_type": "stream",
          "name": "stdout",
          "text": [
            "Train size: 127\n",
            "Test size: 23\n"
          ]
        }
      ]
    },
    {
      "cell_type": "markdown",
      "source": [
        "Definimos el SOM y entrenamos"
      ],
      "metadata": {
        "id": "z0h2SY1z_k8p"
      }
    },
    {
      "cell_type": "code",
      "source": [
        "from minisom import MiniSom\n",
        "\n",
        "som_grid_rows = 7\n",
        "som_grid_columns = 7\n",
        "\n",
        "som = MiniSom(som_grid_rows, som_grid_columns, 4, sigma=3, learning_rate=0.5, \n",
        "              neighborhood_function='triangle', random_seed=10)\n",
        "som.pca_weights_init(X_train)\n",
        "\n",
        "# ---- Realizamos el entrenamiento ----\n",
        "n_iterations = 500\n",
        "som.train_random(X_train, n_iterations, verbose=False)"
      ],
      "metadata": {
        "id": "NwoTeEpzymxv"
      },
      "execution_count": 17,
      "outputs": []
    },
    {
      "cell_type": "markdown",
      "source": [
        "Visualicemos las representaciones. La posición dentro de cada celda no tiene ningún significado"
      ],
      "metadata": {
        "id": "gNtfozU2BGth"
      }
    },
    {
      "cell_type": "code",
      "source": [
        "offset = lambda x: x + 0.75*(-0.5+np.random.rand())\n",
        "\n",
        "colors = ['r','g','b']\n",
        "\n",
        "plt.figure(figsize=(7,7))\n",
        "for i, x in enumerate(X_train):\n",
        "    w = som.winner(x)\n",
        "    plt.scatter(offset(w[0]),\n",
        "        offset(w[1]),\n",
        "        marker = 'o',\n",
        "        edgecolors = colors[y_train[i]],\n",
        "        facecolors = 'None',\n",
        "        s = 50,\n",
        "        linewidths = 2)\n",
        "plt.imshow(som.distance_map().T,origin='lower',cmap='Greys')\n",
        "plt.xticks(range(som_grid_rows))\n",
        "plt.yticks(list(range(som_grid_columns)))\n",
        "plt.show()"
      ],
      "metadata": {
        "colab": {
          "base_uri": "https://localhost:8080/",
          "height": 428
        },
        "id": "54rXz7yn9Ws1",
        "outputId": "7e2e29be-c0c1-46d5-ee67-9d24cd1240e0"
      },
      "execution_count": 31,
      "outputs": [
        {
          "output_type": "display_data",
          "data": {
            "text/plain": [
              "<Figure size 504x504 with 1 Axes>"
            ],
            "image/png": "[encoded data removed]"
          },
          "metadata": {
            "needs_background": "light"
          }
        }
      ]
    },
    {
      "cell_type": "markdown",
      "source": [
        "El diccionario `labels_map` contiene los conteos de clase en cada celda."
      ],
      "metadata": {
        "id": "9ZJ0gqetBTIP"
      }
    },
    {
      "cell_type": "code",
      "source": [
        "som.labels_map(X_train,y_train)"
      ],
      "metadata": {
        "colab": {
          "base_uri": "https://localhost:8080/"
        },
        "id": "tLzmFwld9H-b",
        "outputId": "fead4878-e34b-4a76-826e-66f4c6303068"
      },
      "execution_count": 19,
      "outputs": [
        {
          "output_type": "execute_result",
          "data": {
            "text/plain": [
              "defaultdict(list,\n",
              "            {(0, 0): Counter({2: 6}),\n",
              "             (0, 1): Counter({2: 2}),\n",
              "             (0, 2): Counter({2: 5}),\n",
              "             (0, 3): Counter({2: 2}),\n",
              "             (0, 4): Counter({2: 3}),\n",
              "             (0, 5): Counter({1: 1}),\n",
              "             (1, 0): Counter({2: 1}),\n",
              "             (1, 1): Counter({2: 3}),\n",
              "             (1, 2): Counter({2: 1}),\n",
              "             (1, 3): Counter({2: 4}),\n",
              "             (1, 5): Counter({1: 2}),\n",
              "             (1, 6): Counter({1: 3}),\n",
              "             (2, 0): Counter({2: 3}),\n",
              "             (2, 1): Counter({1: 1, 2: 2}),\n",
              "             (2, 2): Counter({2: 2}),\n",
              "             (2, 3): Counter({1: 2}),\n",
              "             (2, 4): Counter({1: 1}),\n",
              "             (2, 5): Counter({1: 3}),\n",
              "             (2, 6): Counter({1: 3}),\n",
              "             (3, 0): Counter({2: 3}),\n",
              "             (3, 1): Counter({2: 3}),\n",
              "             (3, 2): Counter({1: 1, 2: 1}),\n",
              "             (3, 3): Counter({1: 4}),\n",
              "             (3, 4): Counter({1: 4}),\n",
              "             (3, 5): Counter({1: 3}),\n",
              "             (3, 6): Counter({1: 3}),\n",
              "             (4, 4): Counter({1: 2}),\n",
              "             (4, 5): Counter({1: 7}),\n",
              "             (4, 6): Counter({1: 1}),\n",
              "             (5, 0): Counter({0: 5}),\n",
              "             (5, 1): Counter({0: 4}),\n",
              "             (5, 2): Counter({0: 3}),\n",
              "             (5, 3): Counter({0: 2}),\n",
              "             (6, 0): Counter({0: 4}),\n",
              "             (6, 1): Counter({0: 4}),\n",
              "             (6, 2): Counter({0: 4}),\n",
              "             (6, 3): Counter({0: 6}),\n",
              "             (6, 4): Counter({0: 4}),\n",
              "             (6, 5): Counter({0: 6}),\n",
              "             (6, 6): Counter({0: 3})})"
            ]
          },
          "metadata": {},
          "execution_count": 19
        }
      ]
    },
    {
      "cell_type": "markdown",
      "source": [
        "Definimos una función que clasifique los datos con base en su representación dada por la SOM. Para esto, obtenemos los conteos de clase en cada celda para `X_train` y `y_train`. Definimos una clase default, calculando qué clase tiene más representantes, considerando todas las celdas. \n",
        "\n",
        "A continuación, para cada dato que queremos predecir su etiqueta usando el SOM consideramos la celda ganadora BMU correspondiente y\n",
        "\n",
        "1. Le asignamos la clase mayoritaria de la celda para `X_train` y `y_train` (ver figura) si la celda contenia datos de `X_train`.\n",
        "2. Le asignamos la clase default si la celda no contenia datos de `X_train`."
      ],
      "metadata": {
        "id": "nQZ-6It-7DGJ"
      }
    },
    {
      "cell_type": "code",
      "source": [
        "def clasificar(som, data, winmap):\n",
        "    default_class = np.sum(list(winmap.values())).most_common()[0][0]\n",
        "    result = []\n",
        "    for d in data:\n",
        "        win_position = som.winner(d)\n",
        "        if win_position in winmap:\n",
        "            result.append(winmap[win_position].most_common()[0][0])\n",
        "        else:\n",
        "            result.append(default_class)\n",
        "    return result"
      ],
      "metadata": {
        "id": "BzA1R4Aqyv1n"
      },
      "execution_count": 41,
      "outputs": []
    },
    {
      "cell_type": "markdown",
      "source": [
        "Realizamos y evaluamos la tarea de clasificación."
      ],
      "metadata": {
        "id": "cKTGl_-uFfW1"
      }
    },
    {
      "cell_type": "code",
      "source": [
        "from sklearn.metrics import accuracy_score, recall_score, precision_score, confusion_matrix\n",
        "\n",
        "winmap = som.labels_map(X_train, y_train)\n",
        "predictions = clasificar(som, X_test, winmap)\n",
        "\n",
        "print(f\"Accuracy: {accuracy_score(y_test, predictions)}\")\n",
        "print(f\"Recall: {recall_score(y_test, predictions,average='macro')}\")\n",
        "print(f\"Precision: {precision_score(y_test, predictions,average='macro')}\")\n",
        "print(confusion_matrix(y_test, predictions))"
      ],
      "metadata": {
        "colab": {
          "base_uri": "https://localhost:8080/"
        },
        "id": "4s2H_WrT0JHf",
        "outputId": "e0278802-e5a4-42bd-9bc5-635815d9199e"
      },
      "execution_count": 44,
      "outputs": [
        {
          "output_type": "stream",
          "name": "stdout",
          "text": [
            "Accuracy: 0.9130434782608695\n",
            "Recall: 0.9259259259259259\n",
            "Precision: 0.9111111111111111\n",
            "[[5 0 0]\n",
            " [0 9 0]\n",
            " [1 1 7]]\n"
          ]
        }
      ]
    },
    {
      "cell_type": "markdown",
      "source": [
        "Calculamos una matriz que tenga la clase mayoritaría de cada celda."
      ],
      "metadata": {
        "id": "CW6OvW7QSYtI"
      }
    },
    {
      "cell_type": "code",
      "source": [
        "winmap = som.labels_map(X_train,y_train)\n",
        "\n",
        "classes_cells = np.zeros_like(som.distance_map()) # La inicializamos en 0 porque la clase mayoritaria global es 0\n",
        "for pair in winmap.keys():\n",
        "    classes_cells[pair[0],pair[1]] = winmap[pair].most_common()[0][0]\n",
        "\n",
        "classes_cells"
      ],
      "metadata": {
        "colab": {
          "base_uri": "https://localhost:8080/"
        },
        "id": "IKRGr-8YGJPj",
        "outputId": "14718d42-0b35-45f8-df36-62b18bf73db6"
      },
      "execution_count": 63,
      "outputs": [
        {
          "output_type": "execute_result",
          "data": {
            "text/plain": [
              "array([[2., 2., 2., 2., 2., 1., 0.],\n",
              "       [2., 2., 2., 2., 0., 1., 1.],\n",
              "       [2., 2., 2., 1., 1., 1., 1.],\n",
              "       [2., 2., 2., 1., 1., 1., 1.],\n",
              "       [0., 0., 0., 0., 1., 1., 1.],\n",
              "       [0., 0., 0., 0., 0., 0., 0.],\n",
              "       [0., 0., 0., 0., 0., 0., 0.]])"
            ]
          },
          "metadata": {},
          "execution_count": 63
        }
      ]
    },
    {
      "cell_type": "markdown",
      "source": [
        "Visualicemos las predicciones contra las etiquetas reales"
      ],
      "metadata": {
        "id": "2NFwgT5SF9WI"
      }
    },
    {
      "cell_type": "code",
      "source": [
        "import matplotlib.pyplot as plt\n",
        "from matplotlib.colors import ListedColormap\n",
        "\n",
        "# ---- Función para distribuir los puntos dentro de la celda ----\n",
        "offset = lambda x: x + 0.75*(-0.5+np.random.rand())\n",
        "\n",
        "alpha = 0.2\n",
        "colors = [(1,0,0,alpha),\n",
        "          (0,1,0,alpha),\n",
        "          (0,0,1,alpha)]\n",
        "CustomCmap = ListedColormap(colors)\n",
        "\n",
        "plt.figure(figsize=(15,7))\n",
        "# ----- Graficamos las predicciones de clase -----\n",
        "ax = plt.subplot(1, 2, 1)\n",
        "ax.title.set_text('Clases predichas vs Celdas con clase mayoritaria')\n",
        "ax.imshow(classes_cells.T,origin='lower',cmap=CustomCmap)\n",
        "for i, x in enumerate(X_test):\n",
        "    w = som.winner(x)\n",
        "    ax.scatter(offset(w[0]),\n",
        "        offset(w[1]),\n",
        "        marker = 'o',\n",
        "        edgecolors = colors[predictions[i]],\n",
        "        facecolors = 'None',\n",
        "        s = 60,\n",
        "        linewidths = 3)\n",
        "ax.set_xticks(range(som_grid_rows))\n",
        "ax.set_yticks(list(range(som_grid_columns)))\n",
        "# ----- Graficamos las clases reales -----\n",
        "ax = plt.subplot(1, 2, 2)\n",
        "ax.title.set_text(\"Clases reales vs Celdas con clase mayoritaria\")\n",
        "ax.imshow(classes_cells.T,origin='lower',cmap=CustomCmap)\n",
        "for i, x in enumerate(X_test):\n",
        "    w = som.winner(x)\n",
        "    ax.scatter(offset(w[0]),\n",
        "        offset(w[1]),\n",
        "        marker = 'o',\n",
        "        edgecolors = colors[y_test[i]],\n",
        "        facecolors = 'None',\n",
        "        s = 60,\n",
        "        linewidths = 3)\n",
        "ax.set_xticks(range(som_grid_rows))\n",
        "ax.set_yticks(list(range(som_grid_columns)))\n",
        "plt.show()"
      ],
      "metadata": {
        "colab": {
          "base_uri": "https://localhost:8080/",
          "height": 444
        },
        "id": "oDdFwB5L1XrM",
        "outputId": "fd5d4bc9-f46f-45e9-c192-96652fef9aa6"
      },
      "execution_count": 64,
      "outputs": [
        {
          "output_type": "display_data",
          "data": {
            "text/plain": [
              "<Figure size 1080x504 with 2 Axes>"
            ],
            "image/png": "[encoded data removed]"
          },
          "metadata": {
            "needs_background": "light"
          }
        }
      ]
    },
    {
      "cell_type": "markdown",
      "source": [
        "# Ejemplo 3: Outlier Detection"
      ],
      "metadata": {
        "id": "uzYNQPtJdxhe"
      }
    },
    {
      "cell_type": "markdown",
      "source": [
        "En este ejemplo usaremos una SOM como herramienta de detección de outliers. La idea es un tanto similar al enfoque usado con los autoencoders.\n",
        "\n",
        "Usaremos dos clusters dados por `make_blobs` y añadiremos ruido que será detectado como *outliers*."
      ],
      "metadata": {
        "id": "jLV00VEngydX"
      }
    },
    {
      "cell_type": "code",
      "source": [
        "from sklearn.datasets import make_blobs\n",
        "from sklearn.preprocessing import scale\n",
        "import numpy as np\n",
        "import matplotlib.pyplot as plt\n",
        "\n",
        "# ----- Proporción de outliers ----\n",
        "outliers_percentage = 0.35\n",
        "inliers = 300\n",
        "outliers = int(inliers * outliers_percentage)\n",
        "\n",
        "data = make_blobs(centers=[[2, 2], [-2, -2]], cluster_std=[.3, .3],\n",
        "                  n_samples=inliers, random_state=0)[0] # No queremos el vector de etiquetas 'y'"
      ],
      "metadata": {
        "id": "bzTThej23q5d"
      },
      "execution_count": 65,
      "outputs": []
    },
    {
      "cell_type": "markdown",
      "source": [
        "Normalizamos los datos. De la documentación:\n",
        "\n",
        "*Do not use scale unless you know what you are doing. A common mistake is to apply it to the entire data before splitting into training and test sets. This will bias the model evaluation because information would have leaked from the test set to the training set.* "
      ],
      "metadata": {
        "id": "zBZDFljO3d3m"
      }
    },
    {
      "cell_type": "code",
      "source": [
        "# ----- Normalizamos los datos para que tengan promedio 0 y desv. std. 1 -----\n",
        "data = scale(data)\n",
        "data = np.concatenate([data, \n",
        "                       (np.random.rand(outliers, 2)-.5)*4.])\n",
        "\n",
        "# ----- Graficamos -----\n",
        "plt.figure(figsize=(8, 8))\n",
        "plt.scatter(data[:, 0], data[:, 1])\n",
        "plt.show()"
      ],
      "metadata": {
        "colab": {
          "base_uri": "https://localhost:8080/",
          "height": 483
        },
        "id": "HIB8ZzPO2Dw7",
        "outputId": "3c9f6c9f-5bd5-4fdc-ae0f-fd324f48e125"
      },
      "execution_count": 66,
      "outputs": [
        {
          "output_type": "display_data",
          "data": {
            "text/plain": [
              "<Figure size 576x576 with 1 Axes>"
            ],
            "image/png": "[encoded data removed]"
          },
          "metadata": {
            "needs_background": "light"
          }
        }
      ]
    },
    {
      "cell_type": "markdown",
      "source": [
        "Definimos y entrenamos la SOM"
      ],
      "metadata": {
        "id": "GZ6_TvX1524m"
      }
    },
    {
      "cell_type": "code",
      "source": [
        "som_grid_rows = 2\n",
        "som_grid_columns = 1\n",
        "\n",
        "som = MiniSom(som_grid_rows, som_grid_columns, data.shape[1], sigma=1, learning_rate=0.5,\n",
        "              neighborhood_function='triangle', random_seed=10)\n",
        "\n",
        "som.train(data, 100, random_order=False, verbose=False) "
      ],
      "metadata": {
        "colab": {
          "base_uri": "https://localhost:8080/"
        },
        "id": "SkMgKiHG56Ip",
        "outputId": "bde557fb-9342-4da7-f5d0-92af528cff6f"
      },
      "execution_count": 70,
      "outputs": [
        {
          "output_type": "stream",
          "name": "stderr",
          "text": [
            "/usr/local/lib/python3.7/dist-packages/minisom.py:160: UserWarning: Warning: sigma is too high for the dimension of the map.\n",
            "  warn('Warning: sigma is too high for the dimension of the map.')\n"
          ]
        }
      ]
    },
    {
      "cell_type": "markdown",
      "source": [
        "Una SOM crea un mapa de los datos de entrada en el espacio multidimensional al espacio menos dimensional que suele ser el espacio bidimensional llamado por el mapa de características de los datos. Para evaluar la calidad del mapa de características, se suelen utilizar dos indicadores: la calidad del aprendizaje y la calidad de la proyección. El indicador de calidad de aprendizaje se determina mediante la medición del **error de cuantificación** (QE). El indicador de calidad de proyección se determina mediante la medición del error topográfico (TE). Si los valores de QE y TE son pequeños, el mapa de características se considerará de buena calidad.\n",
        "\n",
        "Definimos un umbral con base en el porcentaje de outliers que esperamos encontrar, en este caso, buscamos el percentil 70. `numpy.percentile` calcula el umbral de manera que el 70% de los errores de cuantificación queden por debajo del umbral. "
      ],
      "metadata": {
        "id": "wxMmBqrMXMO2"
      }
    },
    {
      "cell_type": "code",
      "source": [
        "quantization_errors = np.linalg.norm(som.quantization(data) - data, axis=1)\n",
        "\n",
        "error_treshold = np.percentile(quantization_errors, \n",
        "                               100*(1-outliers_percentage)+5)\n",
        "\n",
        "print('Error treshold:', error_treshold)"
      ],
      "metadata": {
        "colab": {
          "base_uri": "https://localhost:8080/"
        },
        "id": "rLfw89gSfnj-",
        "outputId": "ce2a0fcd-5df4-489a-fac5-c64c26f77f4b"
      },
      "execution_count": 71,
      "outputs": [
        {
          "output_type": "stream",
          "name": "stdout",
          "text": [
            "Error treshold: 0.3397338714472679\n"
          ]
        }
      ]
    },
    {
      "cell_type": "markdown",
      "source": [
        "Graficamos el histograma de los errores y el umbral."
      ],
      "metadata": {
        "id": "Bj9v3BJRY5SW"
      }
    },
    {
      "cell_type": "code",
      "source": [
        "plt.figure()\n",
        "plt.hist(quantization_errors, color='gray')\n",
        "plt.axvline(error_treshold, color='black', linestyle='--')\n",
        "plt.xlabel('Error', fontsize=15)\n",
        "plt.ylabel('Frequency', fontsize=15)\n",
        "plt.show()"
      ],
      "metadata": {
        "colab": {
          "base_uri": "https://localhost:8080/",
          "height": 284
        },
        "id": "c5p2UVksfyJZ",
        "outputId": "5df80bb9-7ca3-4d9a-d1a0-54283cd3668d"
      },
      "execution_count": 74,
      "outputs": [
        {
          "output_type": "display_data",
          "data": {
            "text/plain": [
              "<Figure size 432x288 with 1 Axes>"
            ],
            "image/png": "[encoded data removed]"
          },
          "metadata": {
            "needs_background": "light"
          }
        }
      ]
    },
    {
      "cell_type": "markdown",
      "source": [
        "Definimos un arreglo con los valores de verdad de la comparación \n",
        "\n",
        "$$\\text{error_q}>\\text{umbral}.$$\n",
        "\n",
        "Es decir, este arreglo contiene evalua si cada dato es un *outlier*."
      ],
      "metadata": {
        "id": "heoZucuGY_tt"
      }
    },
    {
      "cell_type": "code",
      "source": [
        "is_outlier = quantization_errors > error_treshold\n",
        "\n",
        "print(quantization_errors[:5])\n",
        "print(is_outlier[:5])"
      ],
      "metadata": {
        "colab": {
          "base_uri": "https://localhost:8080/"
        },
        "id": "Bpwto8nJZD4G",
        "outputId": "a80e9724-b311-4274-d314-2ba3bd7d7887"
      },
      "execution_count": 78,
      "outputs": [
        {
          "output_type": "stream",
          "name": "stdout",
          "text": [
            "[0.16763476 0.30752088 0.22364363 0.05677474 0.27109566]\n",
            "[False False False False False]\n"
          ]
        }
      ]
    },
    {
      "cell_type": "code",
      "source": [
        "plt.figure(figsize=(8, 8))\n",
        "plt.scatter(data[~is_outlier, 0], data[~is_outlier, 1],\n",
        "            label='inlier')\n",
        "plt.scatter(data[is_outlier, 0], data[is_outlier, 1],\n",
        "            label='outlier')\n",
        "plt.legend(loc='best')\n",
        "plt.show()"
      ],
      "metadata": {
        "colab": {
          "base_uri": "https://localhost:8080/",
          "height": 483
        },
        "id": "cgOcrgZw2Lnm",
        "outputId": "415fe8d2-4a7d-4d1f-c905-6d4093dfcd83"
      },
      "execution_count": 80,
      "outputs": [
        {
          "output_type": "display_data",
          "data": {
            "text/plain": [
              "<Figure size 576x576 with 1 Axes>"
            ],
            "image/png": "[encoded data removed]"
          },
          "metadata": {
            "needs_background": "light"
          }
        }
      ]
    },
    {
      "cell_type": "markdown",
      "source": [
        "En este ejemplo no nos interesa visualizar la representación 2-dimensional de los datos"
      ],
      "metadata": {
        "id": "W_N_OtRBgfQG"
      }
    },
    {
      "cell_type": "code",
      "source": [
        "import matplotlib.pyplot as plt\n",
        "          \n",
        "\n",
        "plt.figure(figsize=(7,7))\n",
        "for i, x in enumerate(data):\n",
        "    w = som.winner(x)\n",
        "    plt.scatter(w[0],\n",
        "        w[1],\n",
        "        marker = 'o',\n",
        "        color = 'red',\n",
        "        s = 50,\n",
        "        linewidths = 2,\n",
        "        alpha=0.5)\n",
        "plt.xticks(range(som_grid_rows))\n",
        "plt.yticks(list(range(som_grid_columns)))\n",
        "plt.show()"
      ],
      "metadata": {
        "colab": {
          "base_uri": "https://localhost:8080/",
          "height": 428
        },
        "id": "4mXos1LCf4rx",
        "outputId": "9015bd56-f816-462d-aeea-01c647bdf388"
      },
      "execution_count": null,
      "outputs": [
        {
          "output_type": "display_data",
          "data": {
            "text/plain": [
              "<Figure size 504x504 with 1 Axes>"
            ],
            "image/png": "[encoded data removed]"
          },
          "metadata": {
            "needs_background": "light"
          }
        }
      ]
    },
    {
      "cell_type": "code",
      "source": [
        ""
      ],
      "metadata": {
        "id": "tuzccss3gXUa"
      },
      "execution_count": null,
      "outputs": []
    }
  ]
}