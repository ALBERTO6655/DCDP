{
  "nbformat": 4,
  "nbformat_minor": 0,
  "metadata": {
    "colab": {
      "name": "07-RandomForest.ipynb",
      "provenance": [],
      "toc_visible": true
    },
    "kernelspec": {
      "name": "python3",
      "display_name": "Python 3"
    },
    "language_info": {
      "name": "python"
    }
  },
  "cells": [
    {
      "cell_type": "markdown",
      "source": [
        "<a href=\"https://colab.research.google.com/github/DCDPUAEM/DCDP_2022/blob/main/04%20Clasificaci%C3%B3n%20y%20Agrupamiento/notebooks/07-RandomForest.ipynb\" target=\"_parent\"><img src=\"https://colab.research.google.com/assets/colab-badge.svg\" alt=\"Open In Colab\"/></a>"
      ],
      "metadata": {
        "id": "dgkZRymYrp13"
      }
    },
    {
      "cell_type": "markdown",
      "source": [
        "# Random Forest\n",
        "\n",
        "<img align=\"left\" width=\"350\" src=\"../img/random-forest.jpeg\"/>"
      ],
      "metadata": {
        "id": "oaGsnBPgxTTg"
      }
    },
    {
      "cell_type": "markdown",
      "source": [
        "## El conjunto de datos"
      ],
      "metadata": {
        "id": "4-g_FnWiZxX9"
      }
    },
    {
      "cell_type": "markdown",
      "source": [
        "Este dataset fue creado por el *National Institute of Diabetes and Digestive and Kidney Diseases* de Estados Unidos. El objetivo del dataset es predecir el diagnostico de cuándo un paciente tiene diabetes o no, basado en ciertas mediciones incluidas en el dataset. Varias restricciones fueron usadas en la selección de estas instancias para filtrar el dataset. En particular, se trata pacientes femeninas de al menos 21 años de edad pertenecientes al grupo indígena Pima de Arizona.\n",
        "\n",
        "Las variables incluidas son el numero de embarazos la paciente ha tenido, su BMI, nivel de insulina, edad, entre otras.\n",
        "\n",
        "El dataset se encuentra en https://www.kaggle.com/datasets/uciml/pima-indians-diabetes-database."
      ],
      "metadata": {
        "id": "ZICZK2UbQAF9"
      }
    },
    {
      "cell_type": "code",
      "execution_count": 1,
      "metadata": {
        "id": "83d1yFUHdQY8",
        "colab": {
          "base_uri": "https://localhost:8080/"
        },
        "outputId": "8c8012e9-65e0-4349-d6a4-800291c1d12a"
      },
      "outputs": [
        {
          "output_type": "stream",
          "name": "stdout",
          "text": [
            "A    data/creditcard.zip\n",
            "A    data/diabetes.csv\n",
            "A    data/frequencia_palabras.csv\n",
            "Checked out revision 85.\n"
          ]
        }
      ],
      "source": [
        "!apt-get -qq install > /dev/null subversion\n",
        "\n",
        "!svn checkout \"https://github.com/DCDPUAEM/DCDP_2022/trunk/04%20Clasificaci%C3%B3n%20y%20Agrupamiento/data/\""
      ]
    },
    {
      "cell_type": "code",
      "execution_count": 2,
      "metadata": {
        "id": "P4gcHvpzUC10",
        "colab": {
          "base_uri": "https://localhost:8080/",
          "height": 175
        },
        "outputId": "1cc73cb5-f35a-4cd8-dc40-c075ad1a0777"
      },
      "outputs": [
        {
          "output_type": "display_data",
          "data": {
            "text/plain": [
              "     pregnant  glucose  bp  skin  insulin   bmi  pedigree  age  label\n",
              "764         2      122  70    27        0  36.8     0.340   27      0\n",
              "765         5      121  72    23      112  26.2     0.245   30      0\n",
              "766         1      126  60     0        0  30.1     0.349   47      1\n",
              "767         1       93  70    31        0  30.4     0.315   23      0"
            ],
            "text/html": [
              "\n",
              "  <div id=\"df-1773184d-9924-42bd-95af-c0691490ed2c\">\n",
              "    <div class=\"colab-df-container\">\n",
              "      <div>\n",
              "<style scoped>\n",
              "    .dataframe tbody tr th:only-of-type {\n",
              "        vertical-align: middle;\n",
              "    }\n",
              "\n",
              "    .dataframe tbody tr th {\n",
              "        vertical-align: top;\n",
              "    }\n",
              "\n",
              "    .dataframe thead th {\n",
              "        text-align: right;\n",
              "    }\n",
              "</style>\n",
              "<table border=\"1\" class=\"dataframe\">\n",
              "  <thead>\n",
              "    <tr style=\"text-align: right;\">\n",
              "      <th></th>\n",
              "      <th>pregnant</th>\n",
              "      <th>glucose</th>\n",
              "      <th>bp</th>\n",
              "      <th>skin</th>\n",
              "      <th>insulin</th>\n",
              "      <th>bmi</th>\n",
              "      <th>pedigree</th>\n",
              "      <th>age</th>\n",
              "      <th>label</th>\n",
              "    </tr>\n",
              "  </thead>\n",
              "  <tbody>\n",
              "    <tr>\n",
              "      <th>764</th>\n",
              "      <td>2</td>\n",
              "      <td>122</td>\n",
              "      <td>70</td>\n",
              "      <td>27</td>\n",
              "      <td>0</td>\n",
              "      <td>36.8</td>\n",
              "      <td>0.340</td>\n",
              "      <td>27</td>\n",
              "      <td>0</td>\n",
              "    </tr>\n",
              "    <tr>\n",
              "      <th>765</th>\n",
              "      <td>5</td>\n",
              "      <td>121</td>\n",
              "      <td>72</td>\n",
              "      <td>23</td>\n",
              "      <td>112</td>\n",
              "      <td>26.2</td>\n",
              "      <td>0.245</td>\n",
              "      <td>30</td>\n",
              "      <td>0</td>\n",
              "    </tr>\n",
              "    <tr>\n",
              "      <th>766</th>\n",
              "      <td>1</td>\n",
              "      <td>126</td>\n",
              "      <td>60</td>\n",
              "      <td>0</td>\n",
              "      <td>0</td>\n",
              "      <td>30.1</td>\n",
              "      <td>0.349</td>\n",
              "      <td>47</td>\n",
              "      <td>1</td>\n",
              "    </tr>\n",
              "    <tr>\n",
              "      <th>767</th>\n",
              "      <td>1</td>\n",
              "      <td>93</td>\n",
              "      <td>70</td>\n",
              "      <td>31</td>\n",
              "      <td>0</td>\n",
              "      <td>30.4</td>\n",
              "      <td>0.315</td>\n",
              "      <td>23</td>\n",
              "      <td>0</td>\n",
              "    </tr>\n",
              "  </tbody>\n",
              "</table>\n",
              "</div>\n",
              "      <button class=\"colab-df-convert\" onclick=\"convertToInteractive('df-1773184d-9924-42bd-95af-c0691490ed2c')\"\n",
              "              title=\"Convert this dataframe to an interactive table.\"\n",
              "              style=\"display:none;\">\n",
              "        \n",
              "  <svg xmlns=\"http://www.w3.org/2000/svg\" height=\"24px\"viewBox=\"0 0 24 24\"\n",
              "       width=\"24px\">\n",
              "    <path d=\"M0 0h24v24H0V0z\" fill=\"none\"/>\n",
              "    <path d=\"M18.56 5.44l.94 2.06.94-2.06 2.06-.94-2.06-.94-.94-2.06-.94 2.06-2.06.94zm-11 1L8.5 8.5l.94-2.06 2.06-.94-2.06-.94L8.5 2.5l-.94 2.06-2.06.94zm10 10l.94 2.06.94-2.06 2.06-.94-2.06-.94-.94-2.06-.94 2.06-2.06.94z\"/><path d=\"M17.41 7.96l-1.37-1.37c-.4-.4-.92-.59-1.43-.59-.52 0-1.04.2-1.43.59L10.3 9.45l-7.72 7.72c-.78.78-.78 2.05 0 2.83L4 21.41c.39.39.9.59 1.41.59.51 0 1.02-.2 1.41-.59l7.78-7.78 2.81-2.81c.8-.78.8-2.07 0-2.86zM5.41 20L4 18.59l7.72-7.72 1.47 1.35L5.41 20z\"/>\n",
              "  </svg>\n",
              "      </button>\n",
              "      \n",
              "  <style>\n",
              "    .colab-df-container {\n",
              "      display:flex;\n",
              "      flex-wrap:wrap;\n",
              "      gap: 12px;\n",
              "    }\n",
              "\n",
              "    .colab-df-convert {\n",
              "      background-color: #E8F0FE;\n",
              "      border: none;\n",
              "      border-radius: 50%;\n",
              "      cursor: pointer;\n",
              "      display: none;\n",
              "      fill: #1967D2;\n",
              "      height: 32px;\n",
              "      padding: 0 0 0 0;\n",
              "      width: 32px;\n",
              "    }\n",
              "\n",
              "    .colab-df-convert:hover {\n",
              "      background-color: #E2EBFA;\n",
              "      box-shadow: 0px 1px 2px rgba(60, 64, 67, 0.3), 0px 1px 3px 1px rgba(60, 64, 67, 0.15);\n",
              "      fill: #174EA6;\n",
              "    }\n",
              "\n",
              "    [theme=dark] .colab-df-convert {\n",
              "      background-color: #3B4455;\n",
              "      fill: #D2E3FC;\n",
              "    }\n",
              "\n",
              "    [theme=dark] .colab-df-convert:hover {\n",
              "      background-color: #434B5C;\n",
              "      box-shadow: 0px 1px 3px 1px rgba(0, 0, 0, 0.15);\n",
              "      filter: drop-shadow(0px 1px 2px rgba(0, 0, 0, 0.3));\n",
              "      fill: #FFFFFF;\n",
              "    }\n",
              "  </style>\n",
              "\n",
              "      <script>\n",
              "        const buttonEl =\n",
              "          document.querySelector('#df-1773184d-9924-42bd-95af-c0691490ed2c button.colab-df-convert');\n",
              "        buttonEl.style.display =\n",
              "          google.colab.kernel.accessAllowed ? 'block' : 'none';\n",
              "\n",
              "        async function convertToInteractive(key) {\n",
              "          const element = document.querySelector('#df-1773184d-9924-42bd-95af-c0691490ed2c');\n",
              "          const dataTable =\n",
              "            await google.colab.kernel.invokeFunction('convertToInteractive',\n",
              "                                                     [key], {});\n",
              "          if (!dataTable) return;\n",
              "\n",
              "          const docLinkHtml = 'Like what you see? Visit the ' +\n",
              "            '<a target=\"_blank\" href=https://colab.research.google.com/notebooks/data_table.ipynb>data table notebook</a>'\n",
              "            + ' to learn more about interactive tables.';\n",
              "          element.innerHTML = '';\n",
              "          dataTable['output_type'] = 'display_data';\n",
              "          await google.colab.output.renderOutput(dataTable, element);\n",
              "          const docLink = document.createElement('div');\n",
              "          docLink.innerHTML = docLinkHtml;\n",
              "          element.appendChild(docLink);\n",
              "        }\n",
              "      </script>\n",
              "    </div>\n",
              "  </div>\n",
              "  "
            ]
          },
          "metadata": {}
        }
      ],
      "source": [
        "import pandas as pd\n",
        "from sklearn.metrics import confusion_matrix\n",
        "import seaborn as sns\n",
        "from sklearn.metrics import accuracy_score, recall_score, precision_score\n",
        "\n",
        "\n",
        "df = pd.read_csv(\"/content/data/diabetes.csv\") # cargamos el dataset\n",
        "col_names = ['pregnant', 'glucose', 'bp', 'skin', 'insulin', 'bmi', 'pedigree', 'age', 'label']\n",
        "rename_dict = dict(zip(df.columns.to_list(),col_names))\n",
        "df.rename(columns=rename_dict, inplace=True)\n",
        "display(df.tail(4))\n"
      ]
    },
    {
      "cell_type": "markdown",
      "source": [
        "## Preprocesamiento y Entrenamiento"
      ],
      "metadata": {
        "id": "U68d7c7OZ05k"
      }
    },
    {
      "cell_type": "markdown",
      "source": [
        "No tomaremos en cuenta la columna *bmi* por la cantidad de valores 0. También podríamos quitar esas instancias"
      ],
      "metadata": {
        "id": "4dkpoTJJ0kQy"
      }
    },
    {
      "cell_type": "code",
      "source": [
        "import matplotlib.pyplot as plt\n",
        "import numpy as np\n",
        "\n",
        "print(f\"Hay {np.where(df['bmi'].values==0)[0].shape} valores cero de {df['bmi'].values.shape[0]}.\")\n",
        "\n",
        "plt.figure()\n",
        "sns.histplot(df['bmi'].values)\n",
        "plt.show()"
      ],
      "metadata": {
        "colab": {
          "base_uri": "https://localhost:8080/",
          "height": 282
        },
        "id": "h60BNHpj0QUI",
        "outputId": "1778a0b7-aa8e-4595-b850-0c82b1f3e947"
      },
      "execution_count": 7,
      "outputs": [
        {
          "output_type": "stream",
          "name": "stdout",
          "text": [
            "Hay (11,) valores cero de 768.\n"
          ]
        },
        {
          "output_type": "display_data",
          "data": {
            "text/plain": [
              "<Figure size 432x288 with 1 Axes>"
            ],
            "image/png": "[encoded data removed]"
          },
          "metadata": {
            "needs_background": "light"
          }
        }
      ]
    },
    {
      "cell_type": "code",
      "source": [
        "# ----- Definimos las features\n",
        "feature_cols = ['pregnant', 'glucose', 'bp', 'skin', 'insulin', 'age']\n",
        "\n",
        "X = df[feature_cols].values    # Features\n",
        "y = df['label'].values         # Target variable"
      ],
      "metadata": {
        "id": "7lxPMBG3efOo"
      },
      "execution_count": 8,
      "outputs": []
    },
    {
      "cell_type": "code",
      "source": [
        "from sklearn.model_selection import train_test_split\n",
        "from sklearn.ensemble import RandomForestClassifier\n",
        "\n",
        "X_train, X_test, y_train, y_test = train_test_split(X, y, test_size=0.3, random_state=1) # 70% training and 30% test\n",
        "\n",
        "clf = RandomForestClassifier(n_jobs=-1)  # Create Decision Tree classifier object\n",
        "\n",
        "clf = clf.fit(X_train,y_train)  # Train Decision Tree Classifier\n",
        "y_pred = clf.predict(X_test)    # Predict the response for test dataset"
      ],
      "metadata": {
        "id": "7atm7aq0lNbh"
      },
      "execution_count": 9,
      "outputs": []
    },
    {
      "cell_type": "markdown",
      "source": [
        "¿Cómo lo hizo en el conjunto de prueba?"
      ],
      "metadata": {
        "id": "4eSid5xOC5Yp"
      }
    },
    {
      "cell_type": "code",
      "source": [
        "from sklearn.metrics import accuracy_score, recall_score, precision_score\n",
        "\n",
        "y_train_pred = clf.predict(X_train)\n",
        "\n",
        "print(f\"Accuracy: {round(accuracy_score(y_train,y_train_pred),3)}\")\n",
        "print(f\"Recall: {round(recall_score(y_train,y_train_pred),3)}\")\n",
        "print(f\"Precision: {round(precision_score(y_train,y_train_pred),3)}\")\n",
        "\n",
        "print(f\"Accuracy, usando el método score: {clf.score(X_train,y_train)}\")"
      ],
      "metadata": {
        "colab": {
          "base_uri": "https://localhost:8080/"
        },
        "id": "GPfNqsEdC8mG",
        "outputId": "0f958c0d-3c19-442b-c4b0-f172de9cf157"
      },
      "execution_count": 10,
      "outputs": [
        {
          "output_type": "stream",
          "name": "stdout",
          "text": [
            "Accuracy: 1.0\n",
            "Recall: 1.0\n",
            "Precision: 1.0\n",
            "Accuracy, usando el método score: 1.0\n"
          ]
        }
      ]
    },
    {
      "cell_type": "markdown",
      "source": [
        "## Resultados"
      ],
      "metadata": {
        "id": "jxZytL2YZ5L_"
      }
    },
    {
      "cell_type": "code",
      "source": [
        "import matplotlib.pyplot as plt\n",
        "from sklearn.metrics import confusion_matrix\n",
        "import seaborn as sns\n",
        "from sklearn.metrics import accuracy_score, recall_score, precision_score\n",
        "\n",
        "print(f\"Accuracy: {round(accuracy_score(y_test,y_pred),3)}\")\n",
        "print(f\"Recall: {round(recall_score(y_test,y_pred),5)}\")\n",
        "print(f\"Precision: {round(precision_score(y_test,y_pred),3)}\")\n",
        "\n",
        "target_labels = ['no diabetes','diabetes']\n",
        "\n",
        "plt.figure()\n",
        "cm = confusion_matrix(y_test,y_pred)\n",
        "s_cm = sns.heatmap(cm,cmap='plasma',annot=True, fmt='g',\n",
        "            xticklabels=target_labels,\n",
        "            yticklabels=target_labels)\n",
        "s_cm.set(xlabel='Predicted',ylabel='Real')\n",
        "plt.show()"
      ],
      "metadata": {
        "colab": {
          "base_uri": "https://localhost:8080/",
          "height": 331
        },
        "id": "GrZ5YGFglSoS",
        "outputId": "55e10284-2e60-4d27-91d3-d2b729c5b0a2"
      },
      "execution_count": 11,
      "outputs": [
        {
          "output_type": "stream",
          "name": "stdout",
          "text": [
            "Accuracy: 0.784\n",
            "Recall: 0.62353\n",
            "Precision: 0.746\n"
          ]
        },
        {
          "output_type": "display_data",
          "data": {
            "text/plain": [
              "<Figure size 432x288 with 2 Axes>"
            ],
            "image/png": "[encoded data removed]"
          },
          "metadata": {
            "needs_background": "light"
          }
        }
      ]
    },
    {
      "cell_type": "markdown",
      "source": [
        "Podemos obtener la importancia de las features de acuerdo a la reducción de impureza de los nodos donde participan. "
      ],
      "metadata": {
        "id": "RF2S2joxHEMj"
      }
    },
    {
      "cell_type": "code",
      "source": [
        "importances = pd.DataFrame({'feature':feature_cols,'importancia':np.round(clf.feature_importances_,3)})\n",
        "importances.sort_values(by='importancia',ascending=False,inplace=True)\n",
        "importances.set_index('feature')"
      ],
      "metadata": {
        "colab": {
          "base_uri": "https://localhost:8080/",
          "height": 269
        },
        "id": "bs4t4_9Khaum",
        "outputId": "301aee2f-4bdb-4b4d-b134-2ebf5dcfeb6c"
      },
      "execution_count": 12,
      "outputs": [
        {
          "output_type": "execute_result",
          "data": {
            "text/plain": [
              "          importancia\n",
              "feature              \n",
              "glucose         0.317\n",
              "age             0.203\n",
              "bp              0.148\n",
              "pregnant        0.124\n",
              "skin            0.111\n",
              "insulin         0.098"
            ],
            "text/html": [
              "\n",
              "  <div id=\"df-9349cdb1-21bd-4424-ba16-1a48f9cb2c99\">\n",
              "    <div class=\"colab-df-container\">\n",
              "      <div>\n",
              "<style scoped>\n",
              "    .dataframe tbody tr th:only-of-type {\n",
              "        vertical-align: middle;\n",
              "    }\n",
              "\n",
              "    .dataframe tbody tr th {\n",
              "        vertical-align: top;\n",
              "    }\n",
              "\n",
              "    .dataframe thead th {\n",
              "        text-align: right;\n",
              "    }\n",
              "</style>\n",
              "<table border=\"1\" class=\"dataframe\">\n",
              "  <thead>\n",
              "    <tr style=\"text-align: right;\">\n",
              "      <th></th>\n",
              "      <th>importancia</th>\n",
              "    </tr>\n",
              "    <tr>\n",
              "      <th>feature</th>\n",
              "      <th></th>\n",
              "    </tr>\n",
              "  </thead>\n",
              "  <tbody>\n",
              "    <tr>\n",
              "      <th>glucose</th>\n",
              "      <td>0.317</td>\n",
              "    </tr>\n",
              "    <tr>\n",
              "      <th>age</th>\n",
              "      <td>0.203</td>\n",
              "    </tr>\n",
              "    <tr>\n",
              "      <th>bp</th>\n",
              "      <td>0.148</td>\n",
              "    </tr>\n",
              "    <tr>\n",
              "      <th>pregnant</th>\n",
              "      <td>0.124</td>\n",
              "    </tr>\n",
              "    <tr>\n",
              "      <th>skin</th>\n",
              "      <td>0.111</td>\n",
              "    </tr>\n",
              "    <tr>\n",
              "      <th>insulin</th>\n",
              "      <td>0.098</td>\n",
              "    </tr>\n",
              "  </tbody>\n",
              "</table>\n",
              "</div>\n",
              "      <button class=\"colab-df-convert\" onclick=\"convertToInteractive('df-9349cdb1-21bd-4424-ba16-1a48f9cb2c99')\"\n",
              "              title=\"Convert this dataframe to an interactive table.\"\n",
              "              style=\"display:none;\">\n",
              "        \n",
              "  <svg xmlns=\"http://www.w3.org/2000/svg\" height=\"24px\"viewBox=\"0 0 24 24\"\n",
              "       width=\"24px\">\n",
              "    <path d=\"M0 0h24v24H0V0z\" fill=\"none\"/>\n",
              "    <path d=\"M18.56 5.44l.94 2.06.94-2.06 2.06-.94-2.06-.94-.94-2.06-.94 2.06-2.06.94zm-11 1L8.5 8.5l.94-2.06 2.06-.94-2.06-.94L8.5 2.5l-.94 2.06-2.06.94zm10 10l.94 2.06.94-2.06 2.06-.94-2.06-.94-.94-2.06-.94 2.06-2.06.94z\"/><path d=\"M17.41 7.96l-1.37-1.37c-.4-.4-.92-.59-1.43-.59-.52 0-1.04.2-1.43.59L10.3 9.45l-7.72 7.72c-.78.78-.78 2.05 0 2.83L4 21.41c.39.39.9.59 1.41.59.51 0 1.02-.2 1.41-.59l7.78-7.78 2.81-2.81c.8-.78.8-2.07 0-2.86zM5.41 20L4 18.59l7.72-7.72 1.47 1.35L5.41 20z\"/>\n",
              "  </svg>\n",
              "      </button>\n",
              "      \n",
              "  <style>\n",
              "    .colab-df-container {\n",
              "      display:flex;\n",
              "      flex-wrap:wrap;\n",
              "      gap: 12px;\n",
              "    }\n",
              "\n",
              "    .colab-df-convert {\n",
              "      background-color: #E8F0FE;\n",
              "      border: none;\n",
              "      border-radius: 50%;\n",
              "      cursor: pointer;\n",
              "      display: none;\n",
              "      fill: #1967D2;\n",
              "      height: 32px;\n",
              "      padding: 0 0 0 0;\n",
              "      width: 32px;\n",
              "    }\n",
              "\n",
              "    .colab-df-convert:hover {\n",
              "      background-color: #E2EBFA;\n",
              "      box-shadow: 0px 1px 2px rgba(60, 64, 67, 0.3), 0px 1px 3px 1px rgba(60, 64, 67, 0.15);\n",
              "      fill: #174EA6;\n",
              "    }\n",
              "\n",
              "    [theme=dark] .colab-df-convert {\n",
              "      background-color: #3B4455;\n",
              "      fill: #D2E3FC;\n",
              "    }\n",
              "\n",
              "    [theme=dark] .colab-df-convert:hover {\n",
              "      background-color: #434B5C;\n",
              "      box-shadow: 0px 1px 3px 1px rgba(0, 0, 0, 0.15);\n",
              "      filter: drop-shadow(0px 1px 2px rgba(0, 0, 0, 0.3));\n",
              "      fill: #FFFFFF;\n",
              "    }\n",
              "  </style>\n",
              "\n",
              "      <script>\n",
              "        const buttonEl =\n",
              "          document.querySelector('#df-9349cdb1-21bd-4424-ba16-1a48f9cb2c99 button.colab-df-convert');\n",
              "        buttonEl.style.display =\n",
              "          google.colab.kernel.accessAllowed ? 'block' : 'none';\n",
              "\n",
              "        async function convertToInteractive(key) {\n",
              "          const element = document.querySelector('#df-9349cdb1-21bd-4424-ba16-1a48f9cb2c99');\n",
              "          const dataTable =\n",
              "            await google.colab.kernel.invokeFunction('convertToInteractive',\n",
              "                                                     [key], {});\n",
              "          if (!dataTable) return;\n",
              "\n",
              "          const docLinkHtml = 'Like what you see? Visit the ' +\n",
              "            '<a target=\"_blank\" href=https://colab.research.google.com/notebooks/data_table.ipynb>data table notebook</a>'\n",
              "            + ' to learn more about interactive tables.';\n",
              "          element.innerHTML = '';\n",
              "          dataTable['output_type'] = 'display_data';\n",
              "          await google.colab.output.renderOutput(dataTable, element);\n",
              "          const docLink = document.createElement('div');\n",
              "          docLink.innerHTML = docLinkHtml;\n",
              "          element.appendChild(docLink);\n",
              "        }\n",
              "      </script>\n",
              "    </div>\n",
              "  </div>\n",
              "  "
            ]
          },
          "metadata": {},
          "execution_count": 12
        }
      ]
    },
    {
      "cell_type": "markdown",
      "source": [
        "## Exploración del random forest\n",
        "\n",
        "Podemos explorar el conjunto de árboles de decisión construidos por el random forest mediante la lista `estimators_`. Cada elemento de esta lista es un árbol de decisión como los que usamos la sesión pasada."
      ],
      "metadata": {
        "id": "AjlyNZj6ZrkI"
      }
    },
    {
      "cell_type": "markdown",
      "source": [
        "¿Cuántos árboles se usaron?"
      ],
      "metadata": {
        "id": "00vrUdMfrl26"
      }
    },
    {
      "cell_type": "code",
      "source": [
        "print(f\"Número de árboles: {len(clf.estimators_)}\")"
      ],
      "metadata": {
        "colab": {
          "base_uri": "https://localhost:8080/"
        },
        "id": "JO9UAIcNlWyy",
        "outputId": "6c389ba3-15c9-4443-c3fb-5cfaad5dfc20"
      },
      "execution_count": 13,
      "outputs": [
        {
          "output_type": "stream",
          "name": "stdout",
          "text": [
            "Número de árboles: 100\n"
          ]
        }
      ]
    },
    {
      "cell_type": "markdown",
      "source": [
        "Analicemos la predicción para un elemento arbitrario de X_test"
      ],
      "metadata": {
        "id": "mv1KwTWjaxRs"
      }
    },
    {
      "cell_type": "code",
      "source": [
        "import numpy as np\n",
        "\n",
        "idx0 = 37\n",
        "new_x = X_test[idx0]\n",
        "print(f\"Etiqueta real: {y_test[idx0]}, Preddición: {y_pred[idx0]}\")\n",
        "\n",
        "predicciones = []\n",
        "for dt in clf.estimators_:\n",
        "    predicted_label = int(dt.predict([X_test[idx0]])[0])  # No podemos pasar sólo un renglón de X_test, tiene que ser una matriz, por lo que pasamos una matriz de tamaño 1 x num_features\n",
        "    predicciones.append(predicted_label)\n",
        "\n",
        "# #Usando list comprehension:\n",
        "# predicciones = [int(dt.predict([X_test[idx0]])[0]) for dt in clf.estimators_] \n",
        "\n",
        "print(f\"Las primeras 10 predicciones: {predicciones[:10]}\")\n",
        "\n",
        "# ---- Contamos cuántos votos tuvo cada etiqueta por parte del bosque ----\n",
        "\n",
        "zeros = np.where(np.array(predicciones)==0)[0]\n",
        "ones = np.where(np.array(predicciones)==1)[0]\n",
        "\n",
        "print(f\"{zeros.shape[0]} árboles que predijeron la etiqueta 0:\\n{zeros}\\n\")\n",
        "print(f\"{ones.shape[0]} Árboles que predijeron la etiqueta 1:\\n{ones}\\n\")"
      ],
      "metadata": {
        "colab": {
          "base_uri": "https://localhost:8080/"
        },
        "id": "pwzu-RjOY0v7",
        "outputId": "75542036-2529-4a29-bfe9-b2ce4f887cbb"
      },
      "execution_count": 14,
      "outputs": [
        {
          "output_type": "stream",
          "name": "stdout",
          "text": [
            "Etiqueta real: 0, Preddición: 0\n",
            "Las primeras 10 predicciones: [0, 0, 1, 0, 0, 0, 1, 0, 0, 0]\n",
            "90 árboles que predijeron la etiqueta 0:\n",
            "[ 0  1  3  4  5  7  8  9 10 11 12 13 14 15 16 17 19 20 21 22 24 26 27 28\n",
            " 29 30 31 32 33 34 35 36 37 38 39 41 43 44 45 46 47 48 49 50 51 52 54 55\n",
            " 56 57 58 59 60 61 62 63 64 65 66 67 68 69 70 71 72 74 75 76 77 78 79 80\n",
            " 81 82 83 84 85 86 87 88 89 90 91 92 93 94 95 96 97 99]\n",
            "\n",
            "10 Árboles que predijeron la etiqueta 1:\n",
            "[ 2  6 18 23 25 40 42 53 73 98]\n",
            "\n"
          ]
        }
      ]
    },
    {
      "cell_type": "markdown",
      "source": [
        "Exploremos un árbol arbitrario del ensamble. "
      ],
      "metadata": {
        "id": "2MMyUH5VQMdV"
      }
    },
    {
      "cell_type": "code",
      "source": [
        "from sklearn import tree\n",
        "\n",
        "dt = clf.estimators_[1]\n",
        "\n",
        "print(f\"Profundidad del árbol: {dt.get_depth()}\")\n",
        "print(f\"Número de hojas del árbol: {dt.get_n_leaves()}\")\n",
        "\n",
        "text_representation = tree.export_text(decision_tree=dt,\n",
        "                                    feature_names=feature_cols)\n",
        "# print(text_representation)"
      ],
      "metadata": {
        "colab": {
          "base_uri": "https://localhost:8080/"
        },
        "id": "VnXR9ksKdIQh",
        "outputId": "21d1dd16-0aaa-4684-9c13-b4157bc7efbe"
      },
      "execution_count": 15,
      "outputs": [
        {
          "output_type": "stream",
          "name": "stdout",
          "text": [
            "Profundidad del árbol: 16\n",
            "Número de hojas del árbol: 106\n"
          ]
        }
      ]
    },
    {
      "cell_type": "markdown",
      "source": [
        "Exploremos estadísticamente todos los árboles individuales del ensamble"
      ],
      "metadata": {
        "id": "L0Q3JpGWQREF"
      }
    },
    {
      "cell_type": "code",
      "source": [
        "import seaborn as sns\n",
        "\n",
        "profundidades = [dt.get_depth() for dt in clf.estimators_]\n",
        "hojas = [dt.get_n_leaves() for dt in clf.estimators_]\n",
        "\n",
        "fig, axs = plt.subplots(1,2,figsize=(9,5),sharey=True)\n",
        "axs[0].set_title(\"Historgrama de profundidades\")\n",
        "sns.histplot(profundidades,ax=axs[0])\n",
        "axs[1].set_title(\"Historgrama de hojas\")\n",
        "sns.histplot(hojas,ax=axs[1])\n",
        "fig.show()\n"
      ],
      "metadata": {
        "colab": {
          "base_uri": "https://localhost:8080/",
          "height": 336
        },
        "id": "2hPIeim_OtEh",
        "outputId": "c208aa98-5aa8-46f9-d7e4-86601fb19ee2"
      },
      "execution_count": 16,
      "outputs": [
        {
          "output_type": "display_data",
          "data": {
            "text/plain": [
              "<Figure size 648x360 with 2 Axes>"
            ],
            "image/png": "[encoded data removed]"
          },
          "metadata": {
            "needs_background": "light"
          }
        }
      ]
    },
    {
      "cell_type": "markdown",
      "source": [
        "## Comparación con el DecisionTreeClassifier"
      ],
      "metadata": {
        "id": "GJB1VDH7GrkL"
      }
    },
    {
      "cell_type": "markdown",
      "source": [
        "Cargamos el clasificador de la sesión anterior. El formato *pickle* nos permite guardar (serializar) una gran variedad de datos y objetos sin ocupar tanto espacio. Para hacerlo usamos el módulo `pickle` o los métodos de cada módulo para guardar en pickle (por ejemplo, el método `to_pickle()` de pandas).\n",
        "\n",
        "**Importante:** Al usar el formato pickle es muy importante contar con las mismas versiones en la instalación de python donde se genera el archivo y donde se leerá. De otra forma, es muy posible que sea imposible leer el archivo."
      ],
      "metadata": {
        "id": "R7OBLLLWGzab"
      }
    },
    {
      "cell_type": "code",
      "source": [
        "import pickle\n",
        "\n",
        "filename = '/content/best_dt_classifier.model'\n",
        "\n",
        "with open(filename, 'rb') as f:\n",
        "    single_dt = pickle.load(f)"
      ],
      "metadata": {
        "id": "kFe81maCBWnx"
      },
      "execution_count": null,
      "outputs": []
    },
    {
      "cell_type": "markdown",
      "source": [
        "Características"
      ],
      "metadata": {
        "id": "GkSKJ5tmG6GO"
      }
    },
    {
      "cell_type": "code",
      "source": [
        "print(f\"Profundidad del árbol: {single_dt.get_depth()}\")\n",
        "print(f\"Número de hojas del árbol: {single_dt.get_n_leaves()}\")"
      ],
      "metadata": {
        "colab": {
          "base_uri": "https://localhost:8080/"
        },
        "id": "V4mo8Dp7BtCN",
        "outputId": "3d52daf7-e778-4b3a-ed85-eb19f17ab313"
      },
      "execution_count": null,
      "outputs": [
        {
          "output_type": "stream",
          "name": "stdout",
          "text": [
            "Profundidad del árbol: 5\n",
            "Número de hojas del árbol: 14\n"
          ]
        }
      ]
    },
    {
      "cell_type": "markdown",
      "source": [
        "❓ **Algunas preguntas:**\n",
        "\n",
        "Comparando el ensamble contra el árbol de la sesión pasada,\n",
        "\n",
        "1. ¿Cuál es más complejo?\n",
        "2. ¿Cuál produce mejores resultados? \n",
        "\n",
        "---\n",
        "\n"
      ],
      "metadata": {
        "id": "PwPNZSC8QY_L"
      }
    },
    {
      "cell_type": "markdown",
      "source": [
        "⭐ **Ejercicio**:\n",
        "\n",
        "Encuentra el árbol del ensamble con el mejor rendimiento, respecto al accuracy, y compararlo con el árbol de la sesión pasada. "
      ],
      "metadata": {
        "id": "cZd0nZz6Q2o9"
      }
    },
    {
      "cell_type": "code",
      "source": [
        "scores = [dt.score(X_test,y_test) for dt in clf.estimators_]\n",
        "\n",
        "idx = np.argmax(scores)\n",
        "best_tree = clf.estimators_[idx]\n",
        "\n",
        "print(max(scores))"
      ],
      "metadata": {
        "colab": {
          "base_uri": "https://localhost:8080/"
        },
        "id": "V2EqfrxfRB_y",
        "outputId": "7907c614-7b01-4de3-9a38-728bcb2718a5"
      },
      "execution_count": null,
      "outputs": [
        {
          "output_type": "stream",
          "name": "stdout",
          "text": [
            "0.7705627705627706\n"
          ]
        }
      ]
    },
    {
      "cell_type": "markdown",
      "source": [
        "⭐ **Práctica-Tarea**:\n",
        "\n",
        "1. ¿Puedes subir las métricas de desempeño de este clasificador en este dataset? Prueba las siguientes modificaciones:\n",
        "\n",
        "    * Cambiar el conjunto de features, ya sea manualmente o con algún método como [VarianceThreshold](https://scikit-learn.org/stable/modules/generated/sklearn.feature_selection.VarianceThreshold.html), [SelectKBest](https://scikit-learn.org/stable/modules/generated/sklearn.feature_selection.SelectKBest.html), etc.\n",
        "    * Normalizar de datos usando el [escalamiento MinMax](https://scikit-learn.org/stable/modules/generated/sklearn.preprocessing.MinMaxScaler.html), [Normalización](https://scikit-learn.org/stable/modules/generated/sklearn.preprocessing.StandardScaler.html). ¿Tiene algún efecto considerable?\n",
        "    * Realizar un gridsearch en los principales parámetros del clasificador: \n",
        "        * n_estimators\n",
        "        * max_depth\n",
        "        * min_samples_split\n",
        "        * min_samples_leaf\n",
        "\n",
        "2. ¿Qué estrategia rindió mejores resultados? Explorar los árboles de decisión individuales del ensamble. ¿Cómo se compara, en estos rubros (feature selection, normalización), con el decision tree?\n",
        "\n",
        "3. Comparar el desempeño de ambos clasificadores (decision tree y random forest) en los conjuntos de prueba y test.\n",
        "\n",
        "4. ¿Puedes subir las métricas de desempeño que obtuviste usando otro clasificador?\n",
        "\n",
        "5. Realizar una notebook por equipo que incluya el código mostrando cada uno de los pasos anteriores, con el texto explicando cada parte del proceso. También incluir las respuestas a las preguntas formuladas en los puntos anteriores.\n",
        "\n",
        "\n",
        "*Deadline: Viernes 3 de junio*\n",
        "\n"
      ],
      "metadata": {
        "id": "UN2d5L3USXGV"
      }
    },
    {
      "cell_type": "code",
      "source": [
        ""
      ],
      "metadata": {
        "id": "uZV_vPm1sR0y"
      },
      "execution_count": null,
      "outputs": []
    }
  ]
}