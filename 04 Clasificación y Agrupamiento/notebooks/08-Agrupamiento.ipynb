{
  "cells": [
    {
      "cell_type": "markdown",
      "metadata": {
        "id": "f5y98twIUC-T"
      },
      "source": [
        "<a href=\"https://colab.research.google.com/github/DCDPUAEM/DCDP_2022/blob/main/04%20Clasificaci%C3%B3n%20y%20Agrupamiento/notebooks/08-Agrupamiento.ipynb\" target=\"_parent\"><img src=\"https://colab.research.google.com/assets/colab-badge.svg\" alt=\"Open In Colab\"/></a>"
      ]
    },
    {
      "cell_type": "markdown",
      "metadata": {
        "id": "0x7RTJQfUC-W"
      },
      "source": [
        "<h1 Modelos de agrupamiento (Clustering)</h1>"
      ]
    },
    {
      "cell_type": "markdown",
      "metadata": {
        "id": "gdQaBQt7UC-X"
      },
      "source": [
        "<h1>Agrupamiento - Clustering</h1>"
      ]
    },
    {
      "cell_type": "markdown",
      "metadata": {
        "id": "L_3AmUGkUC-a"
      },
      "source": [
        "&#128214; <u>Referencias bibliográficas</u>:\n",
        "* Flach, Peter (2012). Machine Learning: The Art and Science of Algorithms that Make Sense of Data. Cambridge University Press."
      ]
    },
    {
      "cell_type": "markdown",
      "metadata": {
        "id": "S0FcpbIOUC-b"
      },
      "source": [
        "# &#9991; <u> La tarea de clustering</u>"
      ]
    },
    {
      "cell_type": "markdown",
      "metadata": {
        "id": "wpuaRVvnUC-c"
      },
      "source": [
        "* El análisis de agrupamiento, o agrupamiento, es una tarea de aprendizaje automático no supervisada.\n",
        "\n",
        "* Implica descubrir automáticamente la agrupación natural de los datos. A diferencia del aprendizaje supervisado (como el modelado predictivo), los algoritmos de agrupación solo interpretan los datos de entrada y encuentran grupos o agrupaciones naturales en el espacio de características.\n",
        "\n",
        "* Un grupo es a menudo un área de densidad en el espacio de características donde los ejemplos del dominio (observaciones o filas de datos) están más cerca del grupo que otros grupos. El grupo puede tener un centro (el centroide) que es una muestra o un espacio de entidades de puntos y puede tener un límite o extensión.\n",
        "\n",
        "* Es probable que estos grupos reflejen algún mecanismo en funcionamiento en el dominio del que se extraen las instancias, un mecanismo que hace que algunas instancias tengan un parecido más fuerte entre sí que con las instancias restantes.\n",
        "\n",
        "* La agrupación en clústers puede ser útil como actividad de análisis de datos para obtener más información sobre el dominio del problema, el llamado descubrimiento de patrones o descubrimiento de conocimiento."
      ]
    },
    {
      "cell_type": "markdown",
      "metadata": {
        "id": "y3CQmxvsUC-d"
      },
      "source": [
        "* El agrupamiento también puede ser útil como un tipo de ingeniería de características, donde los ejemplos existentes y nuevos se pueden mapear y etiquetar como pertenecientes a uno de los grupos identificados en los datos.\n",
        "\n",
        "* La evaluación de los grupos identificados es subjetiva y puede requerir un experto en el dominio, aunque existen muchas medidas cuantitativas específicas de los grupos. Típicamente, los algoritmos de agrupamiento se comparan académicamente en conjuntos de datos sintéticos con grupos predefinidos, que se espera que descubra un algoritmo."
      ]
    },
    {
      "cell_type": "markdown",
      "metadata": {
        "id": "Qy_dshVLUC-g"
      },
      "source": [
        "___"
      ]
    },
    {
      "cell_type": "markdown",
      "metadata": {
        "id": "aEEpa-emUC-h"
      },
      "source": [
        "## Algoritmos de [agrupamiento en scikit-learn](https://scikit-learn.org/stable/modules/clustering.html#hierarchical-clustering)"
      ]
    },
    {
      "cell_type": "markdown",
      "metadata": {
        "id": "LJpEAjMnUC-h"
      },
      "source": [
        "* Hay muchos tipos de algoritmos de agrupamiento.\n",
        "\n",
        "* Muchos algoritmos utilizan **grados de similitud** o **medidas de distancia** entre ejemplos en el espacio de características en un esfuerzo por descubrir regiones densas de observaciones. Como tal, a menudo es una buena práctica escalar datos antes de usar algoritmos de agrupamiento.\n",
        "\n",
        "* Algunos algoritmos de agrupamiento requieren que se especifique el número de agrupaciones a descubrir en los datos, mientras que otros requieren la especificación de una distancia mínima entre observaciones en la que los ejemplos pueden considerarse \"cercanos\" o \"conectados\".\n",
        "\n",
        "* Como tal, el análisis de clusters es un proceso iterativo en el que la evaluación subjetiva de los conglomerados identificados retroalimenta cambios en la configuración del algoritmo hasta que se logra un resultado deseado o apropiado."
      ]
    },
    {
      "cell_type": "markdown",
      "metadata": {
        "id": "Yrhsqwc9UC-j"
      },
      "source": [
        "## Demostración de algunos algoritmos de agrupamiento"
      ]
    },
    {
      "cell_type": "code",
      "execution_count": null,
      "metadata": {
        "id": "bMNIcQ3lhySs"
      },
      "outputs": [],
      "source": [
        "from sklearn.cluster import AgglomerativeClustering, KMeans, DBSCAN, OPTICS, AgglomerativeClustering"
      ]
    },
    {
      "cell_type": "markdown",
      "metadata": {
        "id": "i5cjPkORUC-k"
      },
      "source": [
        "### Generación de datos sintéticos"
      ]
    },
    {
      "cell_type": "code",
      "execution_count": null,
      "metadata": {
        "colab": {
          "base_uri": "https://localhost:8080/",
          "height": 252
        },
        "id": "FIrvqFYVUC-k",
        "outputId": "c29f7e1c-ef28-4551-c097-71cd3089155f"
      },
      "outputs": [
        {
          "data": {
            "image/png": "[encoded data removed]",
            "text/plain": [
              "<Figure size 432x288 with 1 Axes>"
            ]
          },
          "metadata": {},
          "output_type": "display_data"
        }
      ],
      "source": [
        "import numpy as np\n",
        "from sklearn.datasets import make_classification, make_blobs\n",
        "import matplotlib.pyplot as plt\n",
        "%matplotlib inline\n",
        "\n",
        "X, y = make_blobs(n_samples=500,centers=3, random_state=24)\n",
        "# X, y = make_classification(n_samples=1000, n_features=2, n_informative=2, n_redundant=0, n_clusters_per_class=1, random_state=4)\n",
        "\n",
        "plt.figure()\n",
        "plt.scatter(X[:, 0], X[:, 1],c=y)\n",
        "plt.xticks([])\n",
        "plt.yticks([])\n",
        "plt.show()"
      ]
    },
    {
      "cell_type": "markdown",
      "metadata": {
        "id": "-HKVaJOGLe8e"
      },
      "source": [
        "En los métodos de clustering implementados en scikit-learn el clustering funciona de la siguiente manera:\n",
        "\n",
        "1. Inicializar el objeto, por ejemplo `modelo = KMeans(n_clusters=3)`.\n",
        "2. Hacer fit: `modelo.fit(X)`. Hay dos opciones:\n",
        "    * Obtener la lista de etiquetas de clusters como `y_clusters = modelo.predict(X)`.\n",
        "    * Obtener la lista de etiquetas de clusters usando el atributo `labels_` como `y_clusters = modelo.labels_`.\n",
        "\n",
        "También pueden obtenerse las etiquetas de los clusters directamente con el método `fit_transform()`.\n",
        "\n",
        "En esta notebook estaremos usando indistintamente los 3 métodos para ejemplificar su uso."
      ]
    },
    {
      "cell_type": "markdown",
      "metadata": {
        "id": "XewRUibwUC-u"
      },
      "source": [
        "### [K-MEANS](https://scikit-learn.org/stable/modules/generated/sklearn.cluster.KMeans.html)"
      ]
    },
    {
      "cell_type": "code",
      "execution_count": null,
      "metadata": {
        "colab": {
          "base_uri": "https://localhost:8080/",
          "height": 265
        },
        "id": "diS9kzsmUC-u",
        "outputId": "0c34f747-4b18-4901-b7f1-58a29d498af0"
      },
      "outputs": [
        {
          "data": {
            "image/png": "[encoded data removed]",
            "text/plain": [
              "<Figure size 432x288 with 1 Axes>"
            ]
          },
          "metadata": {},
          "output_type": "display_data"
        }
      ],
      "source": [
        "from sklearn.cluster import KMeans\n",
        "\n",
        "modelo = KMeans(n_clusters=3)\n",
        "\n",
        "modelo.fit(X)\n",
        "y_clusters = modelo.predict(X)\n",
        "\n",
        "clusters = np.unique(y_clusters)\n",
        "\n",
        "for cluster in clusters:\n",
        "    fila = np.where(y_clusters == cluster)\n",
        "    plt.scatter(X[fila, 0], X[fila, 1])\n",
        "\n",
        "plt.show()"
      ]
    },
    {
      "cell_type": "markdown",
      "metadata": {
        "id": "PyyDVjX57DQJ"
      },
      "source": [
        "Veamos los centroides de cada cluster"
      ]
    },
    {
      "cell_type": "code",
      "execution_count": null,
      "metadata": {
        "colab": {
          "base_uri": "https://localhost:8080/",
          "height": 265
        },
        "id": "2N1VQf9z6ZUh",
        "outputId": "8896d4da-7b4c-42a5-f9c4-d2aae54fe65a"
      },
      "outputs": [
        {
          "data": {
            "image/png": "[encoded data removed]",
            "text/plain": [
              "<Figure size 432x288 with 1 Axes>"
            ]
          },
          "metadata": {},
          "output_type": "display_data"
        }
      ],
      "source": [
        "centers = modelo.cluster_centers_\n",
        "\n",
        "plt.scatter(X[:, 0], X[:, 1],c=y_clusters)\n",
        "plt.scatter(centers[:,0],centers[:,1],color='black')\n",
        "\n",
        "plt.show()"
      ]
    },
    {
      "cell_type": "markdown",
      "metadata": {
        "id": "NMispnH_B-24"
      },
      "source": [
        "**¿Cómo sabemos cuántos clusters buscar?**\n",
        "\n",
        "Exploremos el **elbow value**.\n",
        "\n",
        "Para esto, hay que graficar los valores de inercia de cada módelo de K-means para varios valores de $k$. El valor *elbow* representa el número óptimo de clusters, queda determinado por el *codo* en la curva graficada."
      ]
    },
    {
      "cell_type": "code",
      "execution_count": null,
      "metadata": {
        "colab": {
          "base_uri": "https://localhost:8080/",
          "height": 339
        },
        "id": "ugk8MAJT7IuW",
        "outputId": "83f2afc7-732e-4d24-c4e3-03baac993ffe"
      },
      "outputs": [
        {
          "data": {
            "image/png": "[encoded data removed]",
            "text/plain": [
              "<Figure size 504x360 with 1 Axes>"
            ]
          },
          "metadata": {},
          "output_type": "display_data"
        }
      ],
      "source": [
        "max_num_clusters = 20\n",
        "\n",
        "inertias = []\n",
        "k_values = list(range(1,max_num_clusters)) \n",
        "for k in k_values:\n",
        "    modelo = KMeans(n_clusters=k)\n",
        "    modelo.fit(X)\n",
        "    inertias.append(modelo.inertia_)\n",
        "\n",
        "plt.figure(figsize=(7,5))\n",
        "plt.plot(k_values,inertias,color='red')\n",
        "plt.plot([3,3],[0,max(inertias)],linestyle='dashed',color='gray')\n",
        "plt.ylabel(\"Inertia\", fontsize=15)\n",
        "plt.xlabel(\"Value of k\", fontsize=15)\n",
        "plt.xticks(k_values)\n",
        "plt.show()"
      ]
    },
    {
      "cell_type": "markdown",
      "metadata": {
        "id": "XIArcI2_ECzg"
      },
      "source": [
        "**Silhoutte Score**\n",
        "\n",
        "También podemos usar el **score de silueta**, el cual es un valor $-1\\leq s\\leq 1$ que mide que tan coherente son los puntos dentro de sus propios clusters, en términos de las distancias a los demás clusters. Entre más alto el valor, la configuración del clúster es apropiada. Este score es intrínseco del clustering.\n",
        "\n",
        "Usaremos la implementación de [scikit-learn](https://scikit-learn.org/stable/modules/generated/sklearn.metrics.silhouette_score.html)."
      ]
    },
    {
      "cell_type": "code",
      "execution_count": null,
      "metadata": {
        "colab": {
          "base_uri": "https://localhost:8080/",
          "height": 339
        },
        "id": "A7mTsL6mDQXi",
        "outputId": "27e31ade-5080-4ab9-8bea-713e7a9f43c7"
      },
      "outputs": [
        {
          "data": {
            "image/png": "[encoded data removed]",
            "text/plain": [
              "<Figure size 504x360 with 1 Axes>"
            ]
          },
          "metadata": {},
          "output_type": "display_data"
        }
      ],
      "source": [
        "from sklearn.metrics import silhouette_score\n",
        "\n",
        "max_num_clusters = 20\n",
        "\n",
        "siluetas = []\n",
        "k_values = list(range(2,max_num_clusters)) \n",
        "for k in k_values:\n",
        "    kmeans = KMeans(n_clusters=k).fit(X)\n",
        "    labels = kmeans.labels_\n",
        "    siluetas.append(silhouette_score(X, labels, metric='euclidean'))\n",
        "\n",
        "plt.figure(figsize=(7,5))\n",
        "plt.plot(k_values,siluetas,color='red')\n",
        "plt.plot([3,3],[-1,1],linestyle='dashed',color='gray')\n",
        "plt.xticks(k_values)\n",
        "plt.ylabel(\"Silhoutte Scores\", fontsize=15)\n",
        "plt.xlabel(\"Value of k\", fontsize=15)\n",
        "plt.show()"
      ]
    },
    {
      "cell_type": "markdown",
      "metadata": {
        "id": "2A2Vmdrozb63"
      },
      "source": [
        "**Adjusted Mutual Information (AMI)**\n",
        "\n",
        "Es un score que asigna una puntuación a la comparación entre dos clusterings. La Información Mutua Ajustada mide que tanta información comparten dos clusterings en términos de los elementos que comparten, es decir, del tamaño de la intersección. \n",
        "\n",
        "Suele usarse para comparar un clustering *ground truth* contra uno que hemos obtenido.\n",
        "\n",
        "Usaremos la implementación de [scikit-learn](https://scikit-learn.org/stable/modules/generated/sklearn.metrics.adjusted_mutual_info_score.html).\n",
        "\n",
        "<img align=\"left\" width=\"350\" src=\"../img/ami.png\"/>\n",
        "\n"
      ]
    },
    {
      "cell_type": "code",
      "execution_count": null,
      "metadata": {
        "colab": {
          "base_uri": "https://localhost:8080/",
          "height": 339
        },
        "id": "dfYSiusEy5_W",
        "outputId": "d94272ca-293f-4e15-acfb-6f03ce51f4d5"
      },
      "outputs": [
        {
          "data": {
            "image/png": "[encoded data removed]",
            "text/plain": [
              "<Figure size 504x360 with 1 Axes>"
            ]
          },
          "metadata": {},
          "output_type": "display_data"
        }
      ],
      "source": [
        "from sklearn.metrics import adjusted_mutual_info_score\n",
        "\n",
        "max_num_clusters = 20\n",
        "\n",
        "scores = []\n",
        "k_values = list(range(2,max_num_clusters)) \n",
        "for k in k_values:\n",
        "    kmeans = KMeans(n_clusters=k)\n",
        "    kmeans.fit(X)\n",
        "    labels = kmeans.labels_\n",
        "    scores.append(adjusted_mutual_info_score(y, labels))\n",
        "\n",
        "plt.figure(figsize=(7,5))\n",
        "plt.plot(k_values,scores,color='red')\n",
        "plt.plot([3,3],[0,1],linestyle='dashed',color='gray')\n",
        "plt.xticks(k_values)\n",
        "plt.ylabel(\"Adjusted Mutual Information\", fontsize=15)\n",
        "plt.xlabel(\"Value of k\", fontsize=15)\n",
        "plt.show()"
      ]
    },
    {
      "cell_type": "markdown",
      "metadata": {
        "id": "AYVmcBtfEq1Z"
      },
      "source": [
        "Como podemos ver, en los tres casos se valida la hipótesis de que el mejor valor para $K$ es $K=3$. Esta hipótesis tiene mayor peso por el conocimiento previo del problema, es decir, al generar los datos sabiamos que teniamos 3 grupos de puntos. "
      ]
    },
    {
      "cell_type": "markdown",
      "metadata": {
        "id": "cT3pieSEUC-p"
      },
      "source": [
        "### [Clustering Jerárquico](https://scikit-learn.org/stable/modules/generated/sklearn.cluster.AgglomerativeClustering.html)\n",
        "\n",
        "* La agrupación jerárquica es una familia general de algoritmos de agrupación que crean agrupaciones anidadas fusionándolas o dividiéndolas sucesivamente. Esta jerarquía de grupos se representa como un árbol (o dendrograma). La raíz del árbol es el grupo único que reúne todas las muestras, siendo las hojas los grupos con una sola muestra.\n",
        "* El objeto [AgglomerativeClustering de scikit-learn](https://scikit-learn.org/stable/modules/generated/sklearn.cluster.AgglomerativeClustering.html#sklearn.cluster.AgglomerativeClustering) realiza una agrupación jerárquica utilizando un enfoque ascendente (bottom-up): cada observación comienza en su propio grupo, y los grupos se fusionan sucesivamente. Los criterios de vinculación (_linkage_) determinan la métrica utilizada para la estrategia de fusión:\n",
        "  - _Ward_ minimiza la suma de las diferencias al cuadrado dentro de todos los grupos. Es un enfoque que minimiza la varianza y, en este sentido, es similar a la función objetivo de k-means pero se aborda con un enfoque jerárquico aglomerativo.\n",
        "  - _Maximum_ o _complete Linkage_ minimiza la distancia máxima entre observaciones de pares de grupos.\n",
        "  - _Average linkage_ minimiza el promedio de las distancias entre todas las observaciones de pares de grupos.\n",
        "  - _Single linkage_ minimiza la distancia entre las observaciones más cercanas de pares de grupos.\n",
        "\n",
        "\n",
        "\n",
        "---\n",
        "\n",
        "\n",
        "Se puede especificar, ya sea el número de clusters o el umbral de distancia máxima:\n",
        "\n",
        "* Si `n_clusters`$\\geq2$ entonces nos regresa ese número de clusters. \n",
        "* Si `n_clusters`=None, hay que especificar un `distance_threshold`.\n",
        "* Si `distance_threshold`$\\neq$None, `n_clusters` debe ser None y `compute_full_tree` debe ser True.\n"
      ]
    },
    {
      "cell_type": "code",
      "execution_count": null,
      "metadata": {
        "colab": {
          "base_uri": "https://localhost:8080/",
          "height": 282
        },
        "id": "sIZ_4p5HUC-q",
        "outputId": "2c90390f-eef5-496f-b49c-68bce62b020e"
      },
      "outputs": [
        {
          "data": {
            "image/png": "[encoded data removed]",
            "text/plain": [
              "<Figure size 432x288 with 1 Axes>"
            ]
          },
          "metadata": {},
          "output_type": "display_data"
        },
        {
          "name": "stdout",
          "output_type": "stream",
          "text": [
            "18 clusters encontrados.\n"
          ]
        }
      ],
      "source": [
        "from sklearn.cluster import AgglomerativeClustering\n",
        "\n",
        "# modelo = AgglomerativeClustering(n_clusters=3)\n",
        "# no_dendo = True\n",
        "\n",
        "# descomenta la siguiente línea si quieres ver un dendograma \n",
        "modelo = AgglomerativeClustering(distance_threshold=5.0,n_clusters=None,compute_full_tree=True)\n",
        "no_dendo=False\n",
        "\n",
        "\n",
        "yhat = modelo.fit_predict(X)\n",
        "\n",
        "clusters = np.unique(yhat)\n",
        "\n",
        "for cluster in clusters:\n",
        "    fila = np.where(yhat == cluster)\n",
        "    plt.scatter(X[fila, 0], X[fila, 1])\n",
        "plt.show()\n",
        "\n",
        "print(f\"{len(clusters)} clusters encontrados.\")"
      ]
    },
    {
      "cell_type": "markdown",
      "metadata": {
        "id": "6SeUcJL4H6VQ"
      },
      "source": [
        "También podemos usar criterios externos para escoger un número de clusters adecuado. Por ejemplo, podemos usar el score de silueta. La conclusión es usar 3 clusters."
      ]
    },
    {
      "cell_type": "code",
      "execution_count": null,
      "metadata": {
        "colab": {
          "base_uri": "https://localhost:8080/",
          "height": 339
        },
        "id": "okjT7LBkHfle",
        "outputId": "3f6d48a6-afb8-4f1e-8282-ec43d4d070e7"
      },
      "outputs": [
        {
          "data": {
            "image/png": "[encoded data removed]",
            "text/plain": [
              "<Figure size 504x360 with 1 Axes>"
            ]
          },
          "metadata": {},
          "output_type": "display_data"
        }
      ],
      "source": [
        "from sklearn.metrics import silhouette_score\n",
        "\n",
        "max_num_clusters = 20\n",
        "\n",
        "siluetas = []\n",
        "k_values = list(range(2,max_num_clusters)) \n",
        "for k in k_values:\n",
        "    ac = AgglomerativeClustering(n_clusters=k)\n",
        "    ac.fit(X)\n",
        "    labels = ac.labels_\n",
        "    siluetas.append(silhouette_score(X, labels, metric='euclidean'))\n",
        "\n",
        "plt.figure(figsize=(7,5))\n",
        "plt.plot(k_values,siluetas,color='red')\n",
        "plt.plot([3,3],[-1,1],linestyle='dashed',color='gray')\n",
        "plt.xticks(k_values)\n",
        "plt.ylabel(\"Silhoutte Scores\", fontsize=15)\n",
        "plt.xlabel(\"Value of k\", fontsize=15)\n",
        "plt.show()"
      ]
    },
    {
      "cell_type": "code",
      "execution_count": null,
      "metadata": {
        "colab": {
          "base_uri": "https://localhost:8080/",
          "height": 483
        },
        "id": "DMSw79gBUC-r",
        "outputId": "575cec58-fe10-4331-801a-26cb4f2309d5"
      },
      "outputs": [
        {
          "data": {
            "image/png": "[encoded data removed]",
            "text/plain": [
              "<Figure size 720x480 with 1 Axes>"
            ]
          },
          "metadata": {},
          "output_type": "display_data"
        }
      ],
      "source": [
        "from scipy.cluster.hierarchy import dendrogram\n",
        "\n",
        "def plot_dendrogram(model, **kwargs):\n",
        "    # Create linkage matrix and then plot the dendrogram\n",
        "\n",
        "    # create the counts of samples under each node\n",
        "    counts = np.zeros(model.children_.shape[0])\n",
        "    n_samples = len(model.labels_)\n",
        "    for i, merge in enumerate(model.children_):\n",
        "        current_count = 0\n",
        "        for child_idx in merge:\n",
        "            if child_idx < n_samples:\n",
        "                current_count += 1  # leaf node\n",
        "            else:\n",
        "                current_count += counts[child_idx - n_samples]\n",
        "        counts[i] = current_count\n",
        "\n",
        "    linkage_matrix = np.column_stack([model.children_, model.distances_,\n",
        "                                      counts]).astype(float)\n",
        "\n",
        "    # Plot the corresponding dendrogram\n",
        "    dendrogram(linkage_matrix, **kwargs)\n",
        "\n",
        "if not no_dendo:\n",
        "    plt.figure(dpi=120)\n",
        "    plt.title('Hierarchical Clustering Dendrogram')\n",
        "    # plot the top three levels of the dendrogram\n",
        "    plot_dendrogram(modelo, truncate_mode='level', p=3)\n",
        "    plt.xlabel(\"Number of points in node (or index of point if no parenthesis).\")\n",
        "    plt.show()"
      ]
    },
    {
      "cell_type": "markdown",
      "metadata": {
        "id": "_PeZ1RewUC-m"
      },
      "source": [
        "### [Affinity Propagation](https://scikit-learn.org/stable/modules/generated/sklearn.cluster.AffinityPropagation.html)\n",
        "\n",
        "* [Brendan J. Frey, Delbert Dueck (2007). Clustering by passing messages between data points. Science 315 (5814); pp. 972-6.](https://pdfs.semanticscholar.org/ea78/2c8b0848987e9575ea648e0419054d3f5bbf.pdf?_ga=2.62870572.1030401696.1591021245-1055786045.1581021538)"
      ]
    },
    {
      "cell_type": "markdown",
      "metadata": {
        "id": "NCkhI0fKUC-n"
      },
      "source": [
        "* \"_Introducimos un método que considera simultáneamente todos los puntos de datos como ejemplos potenciales. Al ver cada punto de datos como un nodo en una red, ideamos un método que transmite de forma recurrente mensajes de valor real a través de la red hasta que surge un buen conjunto de ejemplares y grupos correspondientes. Como se describe más adelante, los mensajes se actualizan sobre la base de fórmulas simples que buscan mínimos de una función de energía elegida apropiadamente. En cualquier momento, la magnitud de cada mensaje refleja la afinidad actual que tiene un punto de datos para elegir otro punto de datos como su ejemplar, por lo que llamamos a nuestro método *propagación de afinidad*_\"."
      ]
    },
    {
      "cell_type": "markdown",
      "metadata": {
        "id": "DqnQsd18UC-n"
      },
      "source": [
        "<table>\n",
        "    <td> <img align=\"left\" width=\"100%\" src=\"../img/affinity_propagation.jpg\"/></td>\n",
        "    <td> <img align=\"left\" width=\"100%\" src=\"../img/AP_RESP_DISP.jpg\"/></td>\n",
        "</table>"
      ]
    },
    {
      "cell_type": "code",
      "execution_count": null,
      "metadata": {
        "colab": {
          "base_uri": "https://localhost:8080/",
          "height": 265
        },
        "id": "qEEowNZbUC-o",
        "outputId": "17f3ad8a-258f-4ae1-ae97-ee07e6ddb40d"
      },
      "outputs": [
        {
          "data": {
            "image/png": "[encoded data removed]",
            "text/plain": [
              "<Figure size 432x288 with 1 Axes>"
            ]
          },
          "metadata": {},
          "output_type": "display_data"
        }
      ],
      "source": [
        "from sklearn.cluster import AffinityPropagation\n",
        "\n",
        "modelo = AffinityPropagation(damping=0.9,max_iter=500,random_state=None)\n",
        "\n",
        "modelo.fit(X)\n",
        "yhat = modelo.fit_predict(X)\n",
        "\n",
        "clusters = np.unique(yhat)\n",
        "\n",
        "for cluster in clusters:\n",
        "    fila = np.where(yhat == cluster)\n",
        "    plt.scatter(X[fila, 0], X[fila, 1])\n",
        "\n",
        "plt.show()"
      ]
    },
    {
      "cell_type": "markdown",
      "metadata": {
        "id": "U0ywQ1YzUC-r"
      },
      "source": [
        "### [BIRCH](https://scikit-learn.org/stable/modules/generated/sklearn.cluster.Birch.html)\n",
        "* Tian Zhang, Raghu Ramakrishnan and Miron Livny (1996). _BIRCH: An Efficient Data Clustering Method for Very Large Databases_.  ACM SIGMOD Record. DOI:10.1145/235968.233324.\n",
        "* BIRCH (Balanced Iterative Reducing and Clustering using Hierarchies) es un método de clustering de tipo jerárquico bottom-up, especialmente diseñado para grandes bases de datos. \n",
        "* BIRCH agrupa de forma incremental y dinámica datos métricos (que satisfacen los requisitos de una métrica Euclidiana) multidimensionales de entrada para intentar producir la mejor calidad de agrupación con los recursos disponibles (es decir, memoria disponible y limitaciones de tiempo). \n",
        "* BIRCH es también el primer algoritmo de agrupamiento propuesto en el área de base de datos para manejar ruido (puntos que no son parte del patrón subyacente) de manera efectiva.\n",
        "* El algoritmo BIRCH se basa en la construcción iterativa de un árbol cuyos nodos son tripletas (llamadas Clustering Features -CF) que resumen la información acerca de un cluster; CF=(N,LS,SS), donde N es el número de puntos en un cluster, LS es la suma lineal de los N puntos ($LS=\\sum_i X_i$) y SS es la suma al cuadrado de los N puntos ($SS=\\sum_i X_i^2$). La idea de CF es mantener una representación compacta de los clusters ya que su aglomeración se calcula fácilmente como $CF_i+CF_j=(N_i+N_j,LS_i+LS_j,SS_i+SS_j)$. Asimismo, se puede demostrar que a partir de $CF$ es posible calcular cualquier métrica de calidad usualmente empleada.\n",
        "* La idea es construir el árbol de manera iterativa con base en un factor de ramificación B y un umbral T. Se parte de un nodo raíz al cuál se van agregando hijos ($child$'s) con base en una heurística.\n",
        "* Cada nodo no-hoja contiene cuando mucho B entradas, y un nodo hoja representa un cluster hecho de todos los subclusters representados por sus entradas de forma $[CF_i]$, donde $i=1,2,\\ldots,L$. Pero todas las entradas de un nodo hoja deben respetar el valor de umbral T, que representa la cota superior del diámetro (o radio) del cluster. El tamaño del árbol es función de T. Cuanto más grande, más pequeño el árbol."
      ]
    },
    {
      "cell_type": "code",
      "execution_count": null,
      "metadata": {
        "colab": {
          "base_uri": "https://localhost:8080/",
          "height": 265
        },
        "id": "onKzt5_aUC-s",
        "outputId": "06be15cb-ec4c-4179-f488-b1da33bb6639"
      },
      "outputs": [
        {
          "data": {
            "image/png": "[encoded data removed]",
            "text/plain": [
              "<Figure size 432x288 with 1 Axes>"
            ]
          },
          "metadata": {},
          "output_type": "display_data"
        }
      ],
      "source": [
        "from sklearn.cluster import Birch\n",
        "\n",
        "modelo = Birch(threshold=0.01, n_clusters=3)\n",
        "\n",
        "modelo.fit(X)\n",
        "yhat = modelo.predict(X)\n",
        "\n",
        "clusters = np.unique(yhat)\n",
        "\n",
        "for cluster in clusters:\n",
        "    fila = np.where(yhat == cluster)\n",
        "    plt.scatter(X[fila, 0], X[fila, 1])\n",
        "\n",
        "plt.show()"
      ]
    },
    {
      "cell_type": "markdown",
      "metadata": {
        "id": "JogoUSPjUC-t"
      },
      "source": [
        "### [DBSCAN](https://scikit-learn.org/stable/modules/generated/sklearn.cluster.DBSCAN.html)\n",
        "* [Martin Ester, Hans-Peter Kriegel, Jörg Sander, Xiaowei Xu (1996). _A Density-Based Algorithm for Discovering Clusters in Large Spatial Databases with Noise_. Proceedings of Knowledge Discovery and Databases - The International Conference on Knowledge Discovery & Data Mining.](https://www.aaai.org/Papers/KDD/1996/KDD96-037.pdf)\n",
        "* DBSCAN recurre a una noción de cúmulos basada en la densidad de los mismos, que está diseñada para descubrir grupos de formas arbitrarias. DBSCAN requiere solo un parámetro de entrada $\\varepsilon$, el cual determina la distancia máxima entre dos puntos para considerarse cercanos. El otro parámetro importante es el `min_samples` el cual representa el número mínimo de puntos que puede haber en un cluster.\n",
        "<br>\n",
        "<img align=\"left\" width=\"100%\" src=\"../img/DBSCAN_1.jpg\"/>\n",
        "<br>\n",
        "* \"_La razón principal por la que reconocemos los grupos, es que dentro de cada grupo tenemos una densidad típica de puntos que es considerablemente más alta que fuera del grupo. Además, la densidad dentro de las áreas de ruido es menor que la densidad en cualquiera de los grupos._\" "
      ]
    },
    {
      "cell_type": "code",
      "execution_count": null,
      "metadata": {
        "colab": {
          "base_uri": "https://localhost:8080/",
          "height": 265
        },
        "id": "U1LX9VnhUC-t",
        "outputId": "b8f3f38c-77fd-43c0-9a31-df0dd405acfb"
      },
      "outputs": [
        {
          "data": {
            "image/png": "[encoded data removed]",
            "text/plain": [
              "<Figure size 432x288 with 1 Axes>"
            ]
          },
          "metadata": {},
          "output_type": "display_data"
        }
      ],
      "source": [
        "from sklearn.cluster import DBSCAN\n",
        "\n",
        "modelo = DBSCAN(eps=0.530, min_samples=9)\n",
        "\n",
        "yhat = modelo.fit_predict(X)\n",
        "\n",
        "clusters = np.unique(yhat)\n",
        "\n",
        "for cluster in clusters:\n",
        "    fila = np.where(yhat == cluster)\n",
        "    plt.scatter(X[fila, 0], X[fila, 1])\n",
        "\n",
        "plt.show()"
      ]
    },
    {
      "cell_type": "code",
      "execution_count": null,
      "metadata": {
        "colab": {
          "base_uri": "https://localhost:8080/",
          "height": 313
        },
        "id": "etCJvkj_Rcc_",
        "outputId": "51aeddb9-aec4-4fb1-ed64-17151289fc4c"
      },
      "outputs": [
        {
          "data": {
            "image/png": "[encoded data removed]",
            "text/plain": [
              "<Figure size 432x288 with 1 Axes>"
            ]
          },
          "metadata": {},
          "output_type": "display_data"
        }
      ],
      "source": [
        "num_clusters = []\n",
        "for eps in np.linspace(0.0001,10,100):\n",
        "    modelo = DBSCAN(eps=eps, min_samples=5)\n",
        "    yhat = modelo.fit_predict(X)\n",
        "    clusters = np.unique(yhat)\n",
        "    num_clusters.append(len(clusters))\n",
        "\n",
        "plt.plot(list(np.linspace(0,10,100)),num_clusters)\n",
        "plt.suptitle(\"Número de clusters en función del parámetro eps\")\n",
        "plt.xlabel(\"eps\",fontsize=15)\n",
        "plt.ylabel(\"Número de clusters\", fontsize=15) \n",
        "plt.show()"
      ]
    },
    {
      "cell_type": "markdown",
      "metadata": {
        "id": "Yk-Fo_ZkRGLS"
      },
      "source": [
        "### [OPTICS](https://scikit-learn.org/stable/modules/generated/sklearn.cluster.OPTICS.html)\n",
        "\n",
        "OPTICS (Ordering Points To Identify the Clustering Structure) está muy relacionado con DBSCAN, también encuentra puntos *nucleo* y expande a partir de ellos. A diferencia de DBSCAN, mantiene una jerarquía de clusters para un intervalo de radios pequeños. Es una mejor alternativa a DBSCAN en datasets grandes."
      ]
    },
    {
      "cell_type": "code",
      "execution_count": null,
      "metadata": {
        "colab": {
          "base_uri": "https://localhost:8080/",
          "height": 265
        },
        "id": "bDeYrKNhRFbU",
        "outputId": "046a57fa-284d-40a8-a35c-65a2122cab0f"
      },
      "outputs": [
        {
          "data": {
            "image/png": "[encoded data removed]",
            "text/plain": [
              "<Figure size 432x288 with 1 Axes>"
            ]
          },
          "metadata": {},
          "output_type": "display_data"
        }
      ],
      "source": [
        "from sklearn.cluster import OPTICS\n",
        "\n",
        "modelo = OPTICS(max_eps=200, min_samples=9)\n",
        "\n",
        "yhat = modelo.fit_predict(X)\n",
        "\n",
        "clusters = np.unique(yhat)\n",
        "\n",
        "for cluster in clusters:\n",
        "    filas = np.where(yhat == cluster)\n",
        "    plt.scatter(X[filas, 0], X[filas, 1])\n",
        "\n",
        "plt.show()"
      ]
    },
    {
      "cell_type": "code",
      "execution_count": null,
      "metadata": {
        "colab": {
          "base_uri": "https://localhost:8080/",
          "height": 313
        },
        "id": "e0BzdpuQSVXX",
        "outputId": "5934eb26-5bf9-43c4-f24c-f5331277c024"
      },
      "outputs": [
        {
          "data": {
            "image/png": "[encoded data removed]",
            "text/plain": [
              "<Figure size 432x288 with 1 Axes>"
            ]
          },
          "metadata": {},
          "output_type": "display_data"
        }
      ],
      "source": [
        "num_clusters = []\n",
        "eps_values = list(np.linspace(0.1,300,100))\n",
        "for eps in eps_values:\n",
        "    modelo = OPTICS(eps=eps, min_samples=5)\n",
        "    yhat = modelo.fit_predict(X)\n",
        "    clusters = np.unique(yhat)\n",
        "    num_clusters.append(len(clusters))\n",
        "\n",
        "plt.plot(eps_values,num_clusters)\n",
        "plt.suptitle(\"Número de clusters en función del parámetro eps\")\n",
        "plt.xlabel(\"eps\",fontsize=15)\n",
        "plt.ylabel(\"Número de clusters\", fontsize=15) \n",
        "plt.show()"
      ]
    },
    {
      "cell_type": "markdown",
      "metadata": {
        "id": "EY5OUxZbUC-u"
      },
      "source": [
        "### [Spectral Clustering](https://scikit-learn.org/stable/modules/generated/sklearn.cluster.SpectralClustering.html)\n",
        "\n",
        "* La agrupación espectral es una clase general de métodos de agrupación, extraída del álgebra lineal.\n",
        "\n",
        "* \"_Una alternativa prometedora que ha surgido recientemente en varios campos es utilizar métodos espectrales para la agrupación. Aquí, uno usa los vectores propios más altos de una matriz derivada de la distancia entre puntos._\" [Andrew Y. Ng, Michael I. Jordan and Yair Weiss (2002). _On Spectral Clustering: Analysis and an algorithm_. In ADVANCES IN NEURAL INFORMATION PROCESSING SYSTEMS.](https://papers.nips.cc/paper/2092-on-spectral-clustering-analysis-and-an-algorithm.pdf)\n",
        "\n",
        "* El hiperparámetro \"n_clusters\" es utilizado para especificar el número estimado de clústeres en los datos."
      ]
    },
    {
      "cell_type": "code",
      "execution_count": null,
      "metadata": {
        "colab": {
          "base_uri": "https://localhost:8080/",
          "height": 265
        },
        "id": "knNzMY8vUC-u",
        "outputId": "b94053d7-2a32-4456-840e-80edd2bc951c"
      },
      "outputs": [
        {
          "data": {
            "image/png": "[encoded data removed]",
            "text/plain": [
              "<Figure size 432x288 with 1 Axes>"
            ]
          },
          "metadata": {},
          "output_type": "display_data"
        }
      ],
      "source": [
        "from sklearn.cluster import SpectralClustering\n",
        "\n",
        "modelo = SpectralClustering(n_clusters=2)\n",
        "\n",
        "yhat = modelo.fit_predict(X)\n",
        "\n",
        "clusters = np.unique(yhat)\n",
        "\n",
        "for cluster in clusters:\n",
        "    fila = np.where(yhat == cluster)\n",
        "    plt.scatter(X[fila, 0], X[fila, 1])\n",
        "\n",
        "plt.show()"
      ]
    },
    {
      "cell_type": "markdown",
      "metadata": {
        "id": "xd9VdumvETie"
      },
      "source": [
        "## Ejercicios"
      ]
    },
    {
      "cell_type": "markdown",
      "metadata": {
        "id": "U4pvJ24QjBeT"
      },
      "source": [
        "⭕ ¿Puedes encontrar buenos clusterings para los siguientes datasets?\n",
        "\n",
        "Prueba los métodos principales que vimos: K-means (¿cómo escoges $K$?), AgglomerativeClustering, DBSCAN para buscar el mejor clustering. Los criterios de evaluación son:\n",
        "\n",
        "* Silhoutte score\n",
        "* Adjusted Mutual Information\n",
        "* Visualmente"
      ]
    },
    {
      "cell_type": "code",
      "execution_count": null,
      "metadata": {
        "id": "nqCnMpbRUC-z"
      },
      "outputs": [],
      "source": [
        "from sklearn.datasets import make_moons, make_blobs\n",
        "\n",
        "n_samples = 500\n",
        "\n",
        "DB2 = make_moons(n_samples=n_samples, noise=.05)\n",
        "DB3 = make_blobs(n_samples=n_samples, random_state=8)\n",
        "DB4 = np.random.rand(n_samples, 2)\n",
        "DB5 = make_blobs(n_samples=n_samples, cluster_std=[1.0, 2.5, 0.5], random_state=170)"
      ]
    },
    {
      "cell_type": "markdown",
      "metadata": {
        "id": "jenbUjGLT1hO"
      },
      "source": [
        "Escoger alguno"
      ]
    },
    {
      "cell_type": "code",
      "execution_count": null,
      "metadata": {
        "id": "mefq3sU2kSBD"
      },
      "outputs": [],
      "source": [
        "X, y = DB2\n",
        "# X = DB4"
      ]
    },
    {
      "cell_type": "markdown",
      "metadata": {
        "id": "rxPyWQRvT3HO"
      },
      "source": [
        "Lo graficamos:\n",
        "\n"
      ]
    },
    {
      "cell_type": "code",
      "execution_count": null,
      "metadata": {
        "colab": {
          "base_uri": "https://localhost:8080/",
          "height": 265
        },
        "id": "faMC4jaPT8qW",
        "outputId": "8b0aed84-b282-4bc0-b637-334a006d3266"
      },
      "outputs": [
        {
          "data": {
            "image/png": "[encoded data removed]",
            "text/plain": [
              "<Figure size 432x288 with 1 Axes>"
            ]
          },
          "metadata": {},
          "output_type": "display_data"
        }
      ],
      "source": [
        "plt.scatter(X[:,0],X[:,1])\n",
        "plt.show()"
      ]
    },
    {
      "cell_type": "markdown",
      "metadata": {
        "id": "y2f2vN4bUDL_"
      },
      "source": [
        "Tu codigo:"
      ]
    },
    {
      "cell_type": "code",
      "execution_count": null,
      "metadata": {
        "id": "MAgZxfapUFvi"
      },
      "outputs": [],
      "source": [
        ""
      ]
    },
    {
      "cell_type": "code",
      "execution_count": null,
      "metadata": {
        "colab": {
          "base_uri": "https://localhost:8080/",
          "height": 336
        },
        "id": "zepYvT6PUC-z",
        "outputId": "5a4ef679-1fd1-4648-9efe-d31f54ef6743"
      },
      "outputs": [
        {
          "data": {
            "image/png": "[encoded data removed]",
            "text/plain": [
              "<Figure size 648x360 with 2 Axes>"
            ]
          },
          "metadata": {},
          "output_type": "display_data"
        }
      ],
      "source": [
        "fig, axs = plt.subplots(1,2,figsize=(9,5),sharey=True)\n",
        "axs[0].scatter(X[:,0],X[:,1], c=y)\n",
        "axs[0].set_title(\"Original dataset\")\n",
        "axs[1].scatter(X[:,0],X[:,1], c=y_clusters)\n",
        "axs[1].set_title(\"Clustering\")\n",
        "fig.show()"
      ]
    },
    {
      "cell_type": "markdown",
      "metadata": {
        "id": "NrEN69yjS9Za"
      },
      "source": [
        "# Un ejemplo"
      ]
    },
    {
      "cell_type": "markdown",
      "metadata": {
        "id": "YUSnLgDc6yxU"
      },
      "source": [
        "Este conjunto de datos contiene estadísticas de audio de las 2.000 canciones top de Spotify. Los datos contienen alrededor de 15 columnas que describen la canción y algunas de sus cualidades. Se incluyen canciones publicadas desde 1956 hasta 2019 de algunos artistas notables y famosos. Estos datos contienen características de audio como Danceability, BPM, Liveness, Valence(Positivity) y algunas más:\n",
        "\n",
        "* Índice: ID\n",
        "* Título: Nombre de la pista\n",
        "* Artista: Nombre del artista\n",
        "* Género superior: Género de la pista\n",
        "* Año: Año de lanzamiento de la pista\n",
        "* Pulsaciones por minuto (BPM): El tempo de la canción\n",
        "* Energy: La energía de una canción: cuanto más alto sea el valor, más energética será la canción.\n",
        "* Danceability: Cuanto más alto sea el valor, más fácil será bailar esta canción.\n",
        "* Loudness: Cuanto más alto sea el valor, más fuerte será la canción.\n",
        "* Liveness: ...\n",
        "* Valence: Cuanto más alto sea el valor, más positivo será el estado de ánimo de la canción.\n",
        "* Duración: La duración de la canción.\n",
        "* Acousticness: Cuanto más alto sea el valor, más acústica será la canción.\n",
        "* Speechiness: Cuanto más alto sea el valor, más palabras habladas contiene la canción.\n",
        "* Popularity: Cuanto más alto sea el valor, más popular es la canción.\n",
        "\n",
        "Este dataset se encuentra en [Kaggle](https://www.kaggle.com/datasets/iamsumat/spotify-top-2000s-mega-dataset)"
      ]
    },
    {
      "cell_type": "code",
      "execution_count": 14,
      "metadata": {
        "colab": {
          "base_uri": "https://localhost:8080/"
        },
        "id": "qzrwclnxj81U",
        "outputId": "f17e3d6c-54ee-42c4-f4e6-9dbdd783d9a4"
      },
      "outputs": [
        {
          "output_type": "stream",
          "name": "stdout",
          "text": [
            "Checked out revision 93.\n"
          ]
        }
      ],
      "source": [
        "!apt-get -qq install > /dev/null subversion\n",
        "\n",
        "!svn checkout \"https://github.com/DCDPUAEM/DCDP_2022/trunk/04%20Clasificaci%C3%B3n%20y%20Agrupamiento/data/\""
      ]
    },
    {
      "cell_type": "markdown",
      "metadata": {
        "id": "NVHyToRv7w7p"
      },
      "source": [
        "Cargamos y damos un vistazo al dataset"
      ]
    },
    {
      "cell_type": "code",
      "execution_count": 15,
      "metadata": {
        "colab": {
          "base_uri": "https://localhost:8080/",
          "height": 563
        },
        "id": "aqjZuODeTd3B",
        "outputId": "bc97e42f-ca8b-4879-a5f4-8ee8ce2942a5"
      },
      "outputs": [
        {
          "output_type": "execute_result",
          "data": {
            "text/plain": [
              "                                                Title  \\\n",
              "508                                One Moment in Time   \n",
              "472                                   Damn Those Eyes   \n",
              "1741  My Heart Will Go On - Love Theme from \"Titanic\"   \n",
              "1590                                      Human Touch   \n",
              "1542                (Everything I Do) I Do It For You   \n",
              "222                                Leave the Light On   \n",
              "1635                       The Man Who Sold The World   \n",
              "34                             Tears Dry On Their Own   \n",
              "1207                                     Old and Wise   \n",
              "1316                                       Groot Hart   \n",
              "\n",
              "                        Artist         Top Genre  Year  \\\n",
              "508            Whitney Houston         dance pop  2012   \n",
              "472                       Kane         dutch pop  2011   \n",
              "1741               Céline Dion      canadian pop  1997   \n",
              "1590         Bruce Springsteen      classic rock  1992   \n",
              "1542               Bryan Adams        album rock  1991   \n",
              "222                  Beth Hart        blues rock  2009   \n",
              "1635                   Nirvana  alternative rock  1994   \n",
              "34               Amy Winehouse      british soul  2006   \n",
              "1207  The Alan Parsons Project        album rock  1982   \n",
              "1316                   De Dijk       dutch indie  1985   \n",
              "\n",
              "      Beats Per Minute (BPM)  Energy  Danceability  Loudness (dB)  Liveness  \\\n",
              "508                      155      54            27             -7        10   \n",
              "472                      172      76            34             -7        35   \n",
              "1741                      99      28            43            -12        12   \n",
              "1590                     115      52            65            -14        10   \n",
              "1542                     131      37            53            -13         6   \n",
              "222                      142      48            57             -6        10   \n",
              "1635                     115      75            48             -9        26   \n",
              "34                       122      87            64             -3        29   \n",
              "1207                     112      32            38            -12        12   \n",
              "1316                     129      46            78            -14        22   \n",
              "\n",
              "      Valence Length (Duration)  Acousticness  Speechiness  Popularity  \n",
              "508        33               285            49            3          54  \n",
              "472        33               251             0            4          39  \n",
              "1741        4               280            73            3          75  \n",
              "1590       45               389             0            3          58  \n",
              "1542       25               394             8            3          64  \n",
              "222        16               244            26            3          32  \n",
              "1635       42               261            43            8          73  \n",
              "34         45               185            49           12          72  \n",
              "1207       12               295            73            3          58  \n",
              "1316       66               195            46            4          26  "
            ],
            "text/html": [
              "\n",
              "  <div id=\"df-972d3145-3070-45c8-9f84-9a88883cbcc5\">\n",
              "    <div class=\"colab-df-container\">\n",
              "      <div>\n",
              "<style scoped>\n",
              "    .dataframe tbody tr th:only-of-type {\n",
              "        vertical-align: middle;\n",
              "    }\n",
              "\n",
              "    .dataframe tbody tr th {\n",
              "        vertical-align: top;\n",
              "    }\n",
              "\n",
              "    .dataframe thead th {\n",
              "        text-align: right;\n",
              "    }\n",
              "</style>\n",
              "<table border=\"1\" class=\"dataframe\">\n",
              "  <thead>\n",
              "    <tr style=\"text-align: right;\">\n",
              "      <th></th>\n",
              "      <th>Title</th>\n",
              "      <th>Artist</th>\n",
              "      <th>Top Genre</th>\n",
              "      <th>Year</th>\n",
              "      <th>Beats Per Minute (BPM)</th>\n",
              "      <th>Energy</th>\n",
              "      <th>Danceability</th>\n",
              "      <th>Loudness (dB)</th>\n",
              "      <th>Liveness</th>\n",
              "      <th>Valence</th>\n",
              "      <th>Length (Duration)</th>\n",
              "      <th>Acousticness</th>\n",
              "      <th>Speechiness</th>\n",
              "      <th>Popularity</th>\n",
              "    </tr>\n",
              "  </thead>\n",
              "  <tbody>\n",
              "    <tr>\n",
              "      <th>508</th>\n",
              "      <td>One Moment in Time</td>\n",
              "      <td>Whitney Houston</td>\n",
              "      <td>dance pop</td>\n",
              "      <td>2012</td>\n",
              "      <td>155</td>\n",
              "      <td>54</td>\n",
              "      <td>27</td>\n",
              "      <td>-7</td>\n",
              "      <td>10</td>\n",
              "      <td>33</td>\n",
              "      <td>285</td>\n",
              "      <td>49</td>\n",
              "      <td>3</td>\n",
              "      <td>54</td>\n",
              "    </tr>\n",
              "    <tr>\n",
              "      <th>472</th>\n",
              "      <td>Damn Those Eyes</td>\n",
              "      <td>Kane</td>\n",
              "      <td>dutch pop</td>\n",
              "      <td>2011</td>\n",
              "      <td>172</td>\n",
              "      <td>76</td>\n",
              "      <td>34</td>\n",
              "      <td>-7</td>\n",
              "      <td>35</td>\n",
              "      <td>33</td>\n",
              "      <td>251</td>\n",
              "      <td>0</td>\n",
              "      <td>4</td>\n",
              "      <td>39</td>\n",
              "    </tr>\n",
              "    <tr>\n",
              "      <th>1741</th>\n",
              "      <td>My Heart Will Go On - Love Theme from \"Titanic\"</td>\n",
              "      <td>Céline Dion</td>\n",
              "      <td>canadian pop</td>\n",
              "      <td>1997</td>\n",
              "      <td>99</td>\n",
              "      <td>28</td>\n",
              "      <td>43</td>\n",
              "      <td>-12</td>\n",
              "      <td>12</td>\n",
              "      <td>4</td>\n",
              "      <td>280</td>\n",
              "      <td>73</td>\n",
              "      <td>3</td>\n",
              "      <td>75</td>\n",
              "    </tr>\n",
              "    <tr>\n",
              "      <th>1590</th>\n",
              "      <td>Human Touch</td>\n",
              "      <td>Bruce Springsteen</td>\n",
              "      <td>classic rock</td>\n",
              "      <td>1992</td>\n",
              "      <td>115</td>\n",
              "      <td>52</td>\n",
              "      <td>65</td>\n",
              "      <td>-14</td>\n",
              "      <td>10</td>\n",
              "      <td>45</td>\n",
              "      <td>389</td>\n",
              "      <td>0</td>\n",
              "      <td>3</td>\n",
              "      <td>58</td>\n",
              "    </tr>\n",
              "    <tr>\n",
              "      <th>1542</th>\n",
              "      <td>(Everything I Do) I Do It For You</td>\n",
              "      <td>Bryan Adams</td>\n",
              "      <td>album rock</td>\n",
              "      <td>1991</td>\n",
              "      <td>131</td>\n",
              "      <td>37</td>\n",
              "      <td>53</td>\n",
              "      <td>-13</td>\n",
              "      <td>6</td>\n",
              "      <td>25</td>\n",
              "      <td>394</td>\n",
              "      <td>8</td>\n",
              "      <td>3</td>\n",
              "      <td>64</td>\n",
              "    </tr>\n",
              "    <tr>\n",
              "      <th>222</th>\n",
              "      <td>Leave the Light On</td>\n",
              "      <td>Beth Hart</td>\n",
              "      <td>blues rock</td>\n",
              "      <td>2009</td>\n",
              "      <td>142</td>\n",
              "      <td>48</td>\n",
              "      <td>57</td>\n",
              "      <td>-6</td>\n",
              "      <td>10</td>\n",
              "      <td>16</td>\n",
              "      <td>244</td>\n",
              "      <td>26</td>\n",
              "      <td>3</td>\n",
              "      <td>32</td>\n",
              "    </tr>\n",
              "    <tr>\n",
              "      <th>1635</th>\n",
              "      <td>The Man Who Sold The World</td>\n",
              "      <td>Nirvana</td>\n",
              "      <td>alternative rock</td>\n",
              "      <td>1994</td>\n",
              "      <td>115</td>\n",
              "      <td>75</td>\n",
              "      <td>48</td>\n",
              "      <td>-9</td>\n",
              "      <td>26</td>\n",
              "      <td>42</td>\n",
              "      <td>261</td>\n",
              "      <td>43</td>\n",
              "      <td>8</td>\n",
              "      <td>73</td>\n",
              "    </tr>\n",
              "    <tr>\n",
              "      <th>34</th>\n",
              "      <td>Tears Dry On Their Own</td>\n",
              "      <td>Amy Winehouse</td>\n",
              "      <td>british soul</td>\n",
              "      <td>2006</td>\n",
              "      <td>122</td>\n",
              "      <td>87</td>\n",
              "      <td>64</td>\n",
              "      <td>-3</td>\n",
              "      <td>29</td>\n",
              "      <td>45</td>\n",
              "      <td>185</td>\n",
              "      <td>49</td>\n",
              "      <td>12</td>\n",
              "      <td>72</td>\n",
              "    </tr>\n",
              "    <tr>\n",
              "      <th>1207</th>\n",
              "      <td>Old and Wise</td>\n",
              "      <td>The Alan Parsons Project</td>\n",
              "      <td>album rock</td>\n",
              "      <td>1982</td>\n",
              "      <td>112</td>\n",
              "      <td>32</td>\n",
              "      <td>38</td>\n",
              "      <td>-12</td>\n",
              "      <td>12</td>\n",
              "      <td>12</td>\n",
              "      <td>295</td>\n",
              "      <td>73</td>\n",
              "      <td>3</td>\n",
              "      <td>58</td>\n",
              "    </tr>\n",
              "    <tr>\n",
              "      <th>1316</th>\n",
              "      <td>Groot Hart</td>\n",
              "      <td>De Dijk</td>\n",
              "      <td>dutch indie</td>\n",
              "      <td>1985</td>\n",
              "      <td>129</td>\n",
              "      <td>46</td>\n",
              "      <td>78</td>\n",
              "      <td>-14</td>\n",
              "      <td>22</td>\n",
              "      <td>66</td>\n",
              "      <td>195</td>\n",
              "      <td>46</td>\n",
              "      <td>4</td>\n",
              "      <td>26</td>\n",
              "    </tr>\n",
              "  </tbody>\n",
              "</table>\n",
              "</div>\n",
              "      <button class=\"colab-df-convert\" onclick=\"convertToInteractive('df-972d3145-3070-45c8-9f84-9a88883cbcc5')\"\n",
              "              title=\"Convert this dataframe to an interactive table.\"\n",
              "              style=\"display:none;\">\n",
              "        \n",
              "  <svg xmlns=\"http://www.w3.org/2000/svg\" height=\"24px\"viewBox=\"0 0 24 24\"\n",
              "       width=\"24px\">\n",
              "    <path d=\"M0 0h24v24H0V0z\" fill=\"none\"/>\n",
              "    <path d=\"M18.56 5.44l.94 2.06.94-2.06 2.06-.94-2.06-.94-.94-2.06-.94 2.06-2.06.94zm-11 1L8.5 8.5l.94-2.06 2.06-.94-2.06-.94L8.5 2.5l-.94 2.06-2.06.94zm10 10l.94 2.06.94-2.06 2.06-.94-2.06-.94-.94-2.06-.94 2.06-2.06.94z\"/><path d=\"M17.41 7.96l-1.37-1.37c-.4-.4-.92-.59-1.43-.59-.52 0-1.04.2-1.43.59L10.3 9.45l-7.72 7.72c-.78.78-.78 2.05 0 2.83L4 21.41c.39.39.9.59 1.41.59.51 0 1.02-.2 1.41-.59l7.78-7.78 2.81-2.81c.8-.78.8-2.07 0-2.86zM5.41 20L4 18.59l7.72-7.72 1.47 1.35L5.41 20z\"/>\n",
              "  </svg>\n",
              "      </button>\n",
              "      \n",
              "  <style>\n",
              "    .colab-df-container {\n",
              "      display:flex;\n",
              "      flex-wrap:wrap;\n",
              "      gap: 12px;\n",
              "    }\n",
              "\n",
              "    .colab-df-convert {\n",
              "      background-color: #E8F0FE;\n",
              "      border: none;\n",
              "      border-radius: 50%;\n",
              "      cursor: pointer;\n",
              "      display: none;\n",
              "      fill: #1967D2;\n",
              "      height: 32px;\n",
              "      padding: 0 0 0 0;\n",
              "      width: 32px;\n",
              "    }\n",
              "\n",
              "    .colab-df-convert:hover {\n",
              "      background-color: #E2EBFA;\n",
              "      box-shadow: 0px 1px 2px rgba(60, 64, 67, 0.3), 0px 1px 3px 1px rgba(60, 64, 67, 0.15);\n",
              "      fill: #174EA6;\n",
              "    }\n",
              "\n",
              "    [theme=dark] .colab-df-convert {\n",
              "      background-color: #3B4455;\n",
              "      fill: #D2E3FC;\n",
              "    }\n",
              "\n",
              "    [theme=dark] .colab-df-convert:hover {\n",
              "      background-color: #434B5C;\n",
              "      box-shadow: 0px 1px 3px 1px rgba(0, 0, 0, 0.15);\n",
              "      filter: drop-shadow(0px 1px 2px rgba(0, 0, 0, 0.3));\n",
              "      fill: #FFFFFF;\n",
              "    }\n",
              "  </style>\n",
              "\n",
              "      <script>\n",
              "        const buttonEl =\n",
              "          document.querySelector('#df-972d3145-3070-45c8-9f84-9a88883cbcc5 button.colab-df-convert');\n",
              "        buttonEl.style.display =\n",
              "          google.colab.kernel.accessAllowed ? 'block' : 'none';\n",
              "\n",
              "        async function convertToInteractive(key) {\n",
              "          const element = document.querySelector('#df-972d3145-3070-45c8-9f84-9a88883cbcc5');\n",
              "          const dataTable =\n",
              "            await google.colab.kernel.invokeFunction('convertToInteractive',\n",
              "                                                     [key], {});\n",
              "          if (!dataTable) return;\n",
              "\n",
              "          const docLinkHtml = 'Like what you see? Visit the ' +\n",
              "            '<a target=\"_blank\" href=https://colab.research.google.com/notebooks/data_table.ipynb>data table notebook</a>'\n",
              "            + ' to learn more about interactive tables.';\n",
              "          element.innerHTML = '';\n",
              "          dataTable['output_type'] = 'display_data';\n",
              "          await google.colab.output.renderOutput(dataTable, element);\n",
              "          const docLink = document.createElement('div');\n",
              "          docLink.innerHTML = docLinkHtml;\n",
              "          element.appendChild(docLink);\n",
              "        }\n",
              "      </script>\n",
              "    </div>\n",
              "  </div>\n",
              "  "
            ]
          },
          "metadata": {},
          "execution_count": 15
        }
      ],
      "source": [
        "import pandas as pd\n",
        "\n",
        "df = pd.read_csv('/content/data/Spotify-2000.csv',index_col=0)\n",
        "\n",
        "df.reset_index(inplace=True, drop=True)\n",
        "df.sample(10)"
      ]
    },
    {
      "cell_type": "code",
      "execution_count": null,
      "metadata": {
        "colab": {
          "base_uri": "https://localhost:8080/"
        },
        "id": "FUbx_iOg_c7N",
        "outputId": "0d49b5cc-769f-4326-ffec-8ac857e1a648"
      },
      "outputs": [
        {
          "name": "stdout",
          "output_type": "stream",
          "text": [
            "Hay 149 géneros únicos:\n",
            "['adult standards' 'album rock' 'alternative hip hop' 'alternative metal'\n",
            " 'classic rock' 'alternative pop rock' 'pop' 'modern rock'\n",
            " 'detroit hip hop' 'alternative rock' 'dutch indie' 'garage rock'\n",
            " 'dutch cabaret' 'permanent wave' 'classic uk pop' 'dance pop'\n",
            " 'modern folk rock' 'dutch pop' 'dutch americana' 'alternative dance'\n",
            " 'german pop' 'afropop' 'british soul' 'irish rock' 'disco' 'big room'\n",
            " 'art rock' 'danish pop rock' 'neo mellow' 'britpop' 'boy band'\n",
            " 'carnaval limburg' 'arkansas country' 'latin alternative' 'british folk'\n",
            " 'celtic' 'chanson' 'celtic rock' 'hip pop' 'east coast hip hop'\n",
            " 'dutch rock' 'blues rock' 'electro' 'australian pop' 'belgian rock'\n",
            " 'downtempo' 'reggae fusion' 'british invasion' 'finnish metal'\n",
            " 'canadian pop' 'bow pop' 'dutch hip hop' 'dutch metal' 'soft rock'\n",
            " 'acoustic pop' 'acid jazz' 'dutch prog' 'candy pop' 'operatic pop'\n",
            " 'trance' 'scottish singer-songwriter' 'mellow gold' 'alternative pop'\n",
            " 'dance rock' 'atl hip hop' 'eurodance' 'blues' 'canadian folk' 'big beat'\n",
            " 'art pop' 'uk pop' 'glam metal' 'brill building pop' 'g funk'\n",
            " 'happy hardcore' 'belgian pop' 'classic schlager' 'contemporary country'\n",
            " 'barbadian pop' 'gabba' 'chamber pop' 'british singer-songwriter'\n",
            " 'indie pop' 'australian rock' 'nederpop' 'australian indie folk'\n",
            " 'folk-pop' 'electropop' 'edm' 'metropopolis' 'irish pop' 'electronica'\n",
            " 'alaska indie' 'irish singer-songwriter' 'stomp and holler'\n",
            " 'australian dance' 'australian psych' 'laboratorio'\n",
            " 'contemporary vocal jazz' 'rock-and-roll' 'glam rock'\n",
            " 'classic soundtrack' 'icelandic indie' 'danish pop'\n",
            " 'compositional ambient' 'neo soul' 'streektaal' 'italian pop'\n",
            " 'indie anthem-folk' 'la pop' 'baroque pop' 'ccm' 'electro house'\n",
            " 'austropop' 'australian americana' 'latin' 'chicago soul' 'classic soul'\n",
            " 'bubblegum pop' 'classic country pop' 'europop' 'hard rock' 'reggae'\n",
            " 'j-core' 'funk' 'folk' 'punk' 'basshall' 'australian alternative rock'\n",
            " 'yacht rock' 'alternative country' 'celtic punk' 'new wave pop'\n",
            " 'classic canadian rock' 'christelijk' 'levenslied' 'cyberpunk'\n",
            " 'gangster rap' 'diva house' 'classical rock' 'canadian rock'\n",
            " 'german pop rock' 'british alternative rock' 'latin jazz'\n",
            " 'german alternative rock' 'classic italian pop' 'pop punk' 'motown'\n",
            " 'bebop']\n"
          ]
        }
      ],
      "source": [
        "generos = df['Top Genre'].unique()\n",
        "print(f\"Hay {len(generos)} géneros únicos:\")\n",
        "print(generos)"
      ]
    },
    {
      "cell_type": "code",
      "execution_count": null,
      "metadata": {
        "colab": {
          "base_uri": "https://localhost:8080/",
          "height": 300
        },
        "id": "oRqQgbox70gt",
        "outputId": "41a61007-111b-478b-c774-9d6bc5a4fd2d"
      },
      "outputs": [
        {
          "data": {
            "text/html": [
              "\n",
              "  <div id=\"df-059f760c-f023-4592-8caf-786b63b08c01\">\n",
              "    <div class=\"colab-df-container\">\n",
              "      <div>\n",
              "<style scoped>\n",
              "    .dataframe tbody tr th:only-of-type {\n",
              "        vertical-align: middle;\n",
              "    }\n",
              "\n",
              "    .dataframe tbody tr th {\n",
              "        vertical-align: top;\n",
              "    }\n",
              "\n",
              "    .dataframe thead th {\n",
              "        text-align: right;\n",
              "    }\n",
              "</style>\n",
              "<table border=\"1\" class=\"dataframe\">\n",
              "  <thead>\n",
              "    <tr style=\"text-align: right;\">\n",
              "      <th></th>\n",
              "      <th>Year</th>\n",
              "      <th>Beats Per Minute (BPM)</th>\n",
              "      <th>Energy</th>\n",
              "      <th>Danceability</th>\n",
              "      <th>Loudness (dB)</th>\n",
              "      <th>Liveness</th>\n",
              "      <th>Valence</th>\n",
              "      <th>Acousticness</th>\n",
              "      <th>Speechiness</th>\n",
              "      <th>Popularity</th>\n",
              "    </tr>\n",
              "  </thead>\n",
              "  <tbody>\n",
              "    <tr>\n",
              "      <th>count</th>\n",
              "      <td>1994.000000</td>\n",
              "      <td>1994.000000</td>\n",
              "      <td>1994.000000</td>\n",
              "      <td>1994.000000</td>\n",
              "      <td>1994.000000</td>\n",
              "      <td>1994.000000</td>\n",
              "      <td>1994.000000</td>\n",
              "      <td>1994.000000</td>\n",
              "      <td>1994.000000</td>\n",
              "      <td>1994.00000</td>\n",
              "    </tr>\n",
              "    <tr>\n",
              "      <th>mean</th>\n",
              "      <td>1992.992979</td>\n",
              "      <td>120.215647</td>\n",
              "      <td>59.679539</td>\n",
              "      <td>53.238215</td>\n",
              "      <td>-9.008526</td>\n",
              "      <td>19.012036</td>\n",
              "      <td>49.408726</td>\n",
              "      <td>28.858074</td>\n",
              "      <td>4.994985</td>\n",
              "      <td>59.52658</td>\n",
              "    </tr>\n",
              "    <tr>\n",
              "      <th>std</th>\n",
              "      <td>16.116048</td>\n",
              "      <td>28.028096</td>\n",
              "      <td>22.154322</td>\n",
              "      <td>15.351507</td>\n",
              "      <td>3.647876</td>\n",
              "      <td>16.727378</td>\n",
              "      <td>24.858212</td>\n",
              "      <td>29.011986</td>\n",
              "      <td>4.401566</td>\n",
              "      <td>14.35160</td>\n",
              "    </tr>\n",
              "    <tr>\n",
              "      <th>min</th>\n",
              "      <td>1956.000000</td>\n",
              "      <td>37.000000</td>\n",
              "      <td>3.000000</td>\n",
              "      <td>10.000000</td>\n",
              "      <td>-27.000000</td>\n",
              "      <td>2.000000</td>\n",
              "      <td>3.000000</td>\n",
              "      <td>0.000000</td>\n",
              "      <td>2.000000</td>\n",
              "      <td>11.00000</td>\n",
              "    </tr>\n",
              "    <tr>\n",
              "      <th>25%</th>\n",
              "      <td>1979.000000</td>\n",
              "      <td>99.000000</td>\n",
              "      <td>42.000000</td>\n",
              "      <td>43.000000</td>\n",
              "      <td>-11.000000</td>\n",
              "      <td>9.000000</td>\n",
              "      <td>29.000000</td>\n",
              "      <td>3.000000</td>\n",
              "      <td>3.000000</td>\n",
              "      <td>49.25000</td>\n",
              "    </tr>\n",
              "    <tr>\n",
              "      <th>50%</th>\n",
              "      <td>1993.000000</td>\n",
              "      <td>119.000000</td>\n",
              "      <td>61.000000</td>\n",
              "      <td>53.000000</td>\n",
              "      <td>-8.000000</td>\n",
              "      <td>12.000000</td>\n",
              "      <td>47.000000</td>\n",
              "      <td>18.000000</td>\n",
              "      <td>4.000000</td>\n",
              "      <td>62.00000</td>\n",
              "    </tr>\n",
              "    <tr>\n",
              "      <th>75%</th>\n",
              "      <td>2007.000000</td>\n",
              "      <td>136.000000</td>\n",
              "      <td>78.000000</td>\n",
              "      <td>64.000000</td>\n",
              "      <td>-6.000000</td>\n",
              "      <td>23.000000</td>\n",
              "      <td>69.750000</td>\n",
              "      <td>50.000000</td>\n",
              "      <td>5.000000</td>\n",
              "      <td>71.00000</td>\n",
              "    </tr>\n",
              "    <tr>\n",
              "      <th>max</th>\n",
              "      <td>2019.000000</td>\n",
              "      <td>206.000000</td>\n",
              "      <td>100.000000</td>\n",
              "      <td>96.000000</td>\n",
              "      <td>-2.000000</td>\n",
              "      <td>99.000000</td>\n",
              "      <td>99.000000</td>\n",
              "      <td>99.000000</td>\n",
              "      <td>55.000000</td>\n",
              "      <td>100.00000</td>\n",
              "    </tr>\n",
              "  </tbody>\n",
              "</table>\n",
              "</div>\n",
              "      <button class=\"colab-df-convert\" onclick=\"convertToInteractive('df-059f760c-f023-4592-8caf-786b63b08c01')\"\n",
              "              title=\"Convert this dataframe to an interactive table.\"\n",
              "              style=\"display:none;\">\n",
              "        \n",
              "  <svg xmlns=\"http://www.w3.org/2000/svg\" height=\"24px\"viewBox=\"0 0 24 24\"\n",
              "       width=\"24px\">\n",
              "    <path d=\"M0 0h24v24H0V0z\" fill=\"none\"/>\n",
              "    <path d=\"M18.56 5.44l.94 2.06.94-2.06 2.06-.94-2.06-.94-.94-2.06-.94 2.06-2.06.94zm-11 1L8.5 8.5l.94-2.06 2.06-.94-2.06-.94L8.5 2.5l-.94 2.06-2.06.94zm10 10l.94 2.06.94-2.06 2.06-.94-2.06-.94-.94-2.06-.94 2.06-2.06.94z\"/><path d=\"M17.41 7.96l-1.37-1.37c-.4-.4-.92-.59-1.43-.59-.52 0-1.04.2-1.43.59L10.3 9.45l-7.72 7.72c-.78.78-.78 2.05 0 2.83L4 21.41c.39.39.9.59 1.41.59.51 0 1.02-.2 1.41-.59l7.78-7.78 2.81-2.81c.8-.78.8-2.07 0-2.86zM5.41 20L4 18.59l7.72-7.72 1.47 1.35L5.41 20z\"/>\n",
              "  </svg>\n",
              "      </button>\n",
              "      \n",
              "  <style>\n",
              "    .colab-df-container {\n",
              "      display:flex;\n",
              "      flex-wrap:wrap;\n",
              "      gap: 12px;\n",
              "    }\n",
              "\n",
              "    .colab-df-convert {\n",
              "      background-color: #E8F0FE;\n",
              "      border: none;\n",
              "      border-radius: 50%;\n",
              "      cursor: pointer;\n",
              "      display: none;\n",
              "      fill: #1967D2;\n",
              "      height: 32px;\n",
              "      padding: 0 0 0 0;\n",
              "      width: 32px;\n",
              "    }\n",
              "\n",
              "    .colab-df-convert:hover {\n",
              "      background-color: #E2EBFA;\n",
              "      box-shadow: 0px 1px 2px rgba(60, 64, 67, 0.3), 0px 1px 3px 1px rgba(60, 64, 67, 0.15);\n",
              "      fill: #174EA6;\n",
              "    }\n",
              "\n",
              "    [theme=dark] .colab-df-convert {\n",
              "      background-color: #3B4455;\n",
              "      fill: #D2E3FC;\n",
              "    }\n",
              "\n",
              "    [theme=dark] .colab-df-convert:hover {\n",
              "      background-color: #434B5C;\n",
              "      box-shadow: 0px 1px 3px 1px rgba(0, 0, 0, 0.15);\n",
              "      filter: drop-shadow(0px 1px 2px rgba(0, 0, 0, 0.3));\n",
              "      fill: #FFFFFF;\n",
              "    }\n",
              "  </style>\n",
              "\n",
              "      <script>\n",
              "        const buttonEl =\n",
              "          document.querySelector('#df-059f760c-f023-4592-8caf-786b63b08c01 button.colab-df-convert');\n",
              "        buttonEl.style.display =\n",
              "          google.colab.kernel.accessAllowed ? 'block' : 'none';\n",
              "\n",
              "        async function convertToInteractive(key) {\n",
              "          const element = document.querySelector('#df-059f760c-f023-4592-8caf-786b63b08c01');\n",
              "          const dataTable =\n",
              "            await google.colab.kernel.invokeFunction('convertToInteractive',\n",
              "                                                     [key], {});\n",
              "          if (!dataTable) return;\n",
              "\n",
              "          const docLinkHtml = 'Like what you see? Visit the ' +\n",
              "            '<a target=\"_blank\" href=https://colab.research.google.com/notebooks/data_table.ipynb>data table notebook</a>'\n",
              "            + ' to learn more about interactive tables.';\n",
              "          element.innerHTML = '';\n",
              "          dataTable['output_type'] = 'display_data';\n",
              "          await google.colab.output.renderOutput(dataTable, element);\n",
              "          const docLink = document.createElement('div');\n",
              "          docLink.innerHTML = docLinkHtml;\n",
              "          element.appendChild(docLink);\n",
              "        }\n",
              "      </script>\n",
              "    </div>\n",
              "  </div>\n",
              "  "
            ],
            "text/plain": [
              "              Year  Beats Per Minute (BPM)       Energy  Danceability  \\\n",
              "count  1994.000000             1994.000000  1994.000000   1994.000000   \n",
              "mean   1992.992979              120.215647    59.679539     53.238215   \n",
              "std      16.116048               28.028096    22.154322     15.351507   \n",
              "min    1956.000000               37.000000     3.000000     10.000000   \n",
              "25%    1979.000000               99.000000    42.000000     43.000000   \n",
              "50%    1993.000000              119.000000    61.000000     53.000000   \n",
              "75%    2007.000000              136.000000    78.000000     64.000000   \n",
              "max    2019.000000              206.000000   100.000000     96.000000   \n",
              "\n",
              "       Loudness (dB)     Liveness      Valence  Acousticness  Speechiness  \\\n",
              "count    1994.000000  1994.000000  1994.000000   1994.000000  1994.000000   \n",
              "mean       -9.008526    19.012036    49.408726     28.858074     4.994985   \n",
              "std         3.647876    16.727378    24.858212     29.011986     4.401566   \n",
              "min       -27.000000     2.000000     3.000000      0.000000     2.000000   \n",
              "25%       -11.000000     9.000000    29.000000      3.000000     3.000000   \n",
              "50%        -8.000000    12.000000    47.000000     18.000000     4.000000   \n",
              "75%        -6.000000    23.000000    69.750000     50.000000     5.000000   \n",
              "max        -2.000000    99.000000    99.000000     99.000000    55.000000   \n",
              "\n",
              "       Popularity  \n",
              "count  1994.00000  \n",
              "mean     59.52658  \n",
              "std      14.35160  \n",
              "min      11.00000  \n",
              "25%      49.25000  \n",
              "50%      62.00000  \n",
              "75%      71.00000  \n",
              "max     100.00000  "
            ]
          },
          "execution_count": 4,
          "metadata": {},
          "output_type": "execute_result"
        }
      ],
      "source": [
        "df.describe()"
      ]
    },
    {
      "cell_type": "markdown",
      "metadata": {
        "id": "U4-A0tlA9kRk"
      },
      "source": [
        "A manera de análisis exploratorio, veamos las correlaciones entre variables, ¿qué observamos?"
      ]
    },
    {
      "cell_type": "code",
      "execution_count": null,
      "metadata": {
        "colab": {
          "base_uri": "https://localhost:8080/",
          "height": 376
        },
        "id": "5of0zRUs9I24",
        "outputId": "3381390b-a2f1-48ea-f1fd-da2cc9c8b5a0"
      },
      "outputs": [
        {
          "data": {
            "image/png": "[encoded data removed]",
            "text/plain": [
              "<Figure size 432x288 with 2 Axes>"
            ]
          },
          "metadata": {},
          "output_type": "display_data"
        }
      ],
      "source": [
        "from seaborn import heatmap \n",
        "import matplotlib.pyplot as plt\n",
        "\n",
        "correlaciones = df.corr()\n",
        "heatmap(correlaciones,cmap='plasma')\n",
        "plt.show()"
      ]
    },
    {
      "cell_type": "markdown",
      "metadata": {
        "id": "_hud5RYP7zhy"
      },
      "source": [
        "Dado que algunos métodos de clustering son susceptibles a la escala de valores, hacemos un escalamiento. \n",
        "\n",
        "Escogemos algunas features y les aplicamos el escalamiento `MinMax`. "
      ]
    },
    {
      "cell_type": "code",
      "execution_count": null,
      "metadata": {
        "colab": {
          "base_uri": "https://localhost:8080/",
          "height": 418
        },
        "id": "N_Tb3EgWTljS",
        "outputId": "cb231768-e2cc-4077-befb-456cbb7d6b14"
      },
      "outputs": [
        {
          "name": "stdout",
          "output_type": "stream",
          "text": [
            "Dataframe original\n"
          ]
        },
        {
          "data": {
            "text/html": [
              "\n",
              "  <div id=\"df-4a48a821-83f7-4b08-a631-4b403b0fe1be\">\n",
              "    <div class=\"colab-df-container\">\n",
              "      <div>\n",
              "<style scoped>\n",
              "    .dataframe tbody tr th:only-of-type {\n",
              "        vertical-align: middle;\n",
              "    }\n",
              "\n",
              "    .dataframe tbody tr th {\n",
              "        vertical-align: top;\n",
              "    }\n",
              "\n",
              "    .dataframe thead th {\n",
              "        text-align: right;\n",
              "    }\n",
              "</style>\n",
              "<table border=\"1\" class=\"dataframe\">\n",
              "  <thead>\n",
              "    <tr style=\"text-align: right;\">\n",
              "      <th></th>\n",
              "      <th>Title</th>\n",
              "      <th>Artist</th>\n",
              "      <th>Top Genre</th>\n",
              "      <th>Year</th>\n",
              "      <th>Beats Per Minute (BPM)</th>\n",
              "      <th>Energy</th>\n",
              "      <th>Danceability</th>\n",
              "      <th>Loudness (dB)</th>\n",
              "      <th>Liveness</th>\n",
              "      <th>Valence</th>\n",
              "      <th>Length (Duration)</th>\n",
              "      <th>Acousticness</th>\n",
              "      <th>Speechiness</th>\n",
              "      <th>Popularity</th>\n",
              "    </tr>\n",
              "  </thead>\n",
              "  <tbody>\n",
              "    <tr>\n",
              "      <th>0</th>\n",
              "      <td>Sunrise</td>\n",
              "      <td>Norah Jones</td>\n",
              "      <td>adult standards</td>\n",
              "      <td>2004</td>\n",
              "      <td>157</td>\n",
              "      <td>30</td>\n",
              "      <td>53</td>\n",
              "      <td>-14</td>\n",
              "      <td>11</td>\n",
              "      <td>68</td>\n",
              "      <td>201</td>\n",
              "      <td>94</td>\n",
              "      <td>3</td>\n",
              "      <td>71</td>\n",
              "    </tr>\n",
              "    <tr>\n",
              "      <th>1</th>\n",
              "      <td>Black Night</td>\n",
              "      <td>Deep Purple</td>\n",
              "      <td>album rock</td>\n",
              "      <td>2000</td>\n",
              "      <td>135</td>\n",
              "      <td>79</td>\n",
              "      <td>50</td>\n",
              "      <td>-11</td>\n",
              "      <td>17</td>\n",
              "      <td>81</td>\n",
              "      <td>207</td>\n",
              "      <td>17</td>\n",
              "      <td>7</td>\n",
              "      <td>39</td>\n",
              "    </tr>\n",
              "    <tr>\n",
              "      <th>2</th>\n",
              "      <td>Clint Eastwood</td>\n",
              "      <td>Gorillaz</td>\n",
              "      <td>alternative hip hop</td>\n",
              "      <td>2001</td>\n",
              "      <td>168</td>\n",
              "      <td>69</td>\n",
              "      <td>66</td>\n",
              "      <td>-9</td>\n",
              "      <td>7</td>\n",
              "      <td>52</td>\n",
              "      <td>341</td>\n",
              "      <td>2</td>\n",
              "      <td>17</td>\n",
              "      <td>69</td>\n",
              "    </tr>\n",
              "  </tbody>\n",
              "</table>\n",
              "</div>\n",
              "      <button class=\"colab-df-convert\" onclick=\"convertToInteractive('df-4a48a821-83f7-4b08-a631-4b403b0fe1be')\"\n",
              "              title=\"Convert this dataframe to an interactive table.\"\n",
              "              style=\"display:none;\">\n",
              "        \n",
              "  <svg xmlns=\"http://www.w3.org/2000/svg\" height=\"24px\"viewBox=\"0 0 24 24\"\n",
              "       width=\"24px\">\n",
              "    <path d=\"M0 0h24v24H0V0z\" fill=\"none\"/>\n",
              "    <path d=\"M18.56 5.44l.94 2.06.94-2.06 2.06-.94-2.06-.94-.94-2.06-.94 2.06-2.06.94zm-11 1L8.5 8.5l.94-2.06 2.06-.94-2.06-.94L8.5 2.5l-.94 2.06-2.06.94zm10 10l.94 2.06.94-2.06 2.06-.94-2.06-.94-.94-2.06-.94 2.06-2.06.94z\"/><path d=\"M17.41 7.96l-1.37-1.37c-.4-.4-.92-.59-1.43-.59-.52 0-1.04.2-1.43.59L10.3 9.45l-7.72 7.72c-.78.78-.78 2.05 0 2.83L4 21.41c.39.39.9.59 1.41.59.51 0 1.02-.2 1.41-.59l7.78-7.78 2.81-2.81c.8-.78.8-2.07 0-2.86zM5.41 20L4 18.59l7.72-7.72 1.47 1.35L5.41 20z\"/>\n",
              "  </svg>\n",
              "      </button>\n",
              "      \n",
              "  <style>\n",
              "    .colab-df-container {\n",
              "      display:flex;\n",
              "      flex-wrap:wrap;\n",
              "      gap: 12px;\n",
              "    }\n",
              "\n",
              "    .colab-df-convert {\n",
              "      background-color: #E8F0FE;\n",
              "      border: none;\n",
              "      border-radius: 50%;\n",
              "      cursor: pointer;\n",
              "      display: none;\n",
              "      fill: #1967D2;\n",
              "      height: 32px;\n",
              "      padding: 0 0 0 0;\n",
              "      width: 32px;\n",
              "    }\n",
              "\n",
              "    .colab-df-convert:hover {\n",
              "      background-color: #E2EBFA;\n",
              "      box-shadow: 0px 1px 2px rgba(60, 64, 67, 0.3), 0px 1px 3px 1px rgba(60, 64, 67, 0.15);\n",
              "      fill: #174EA6;\n",
              "    }\n",
              "\n",
              "    [theme=dark] .colab-df-convert {\n",
              "      background-color: #3B4455;\n",
              "      fill: #D2E3FC;\n",
              "    }\n",
              "\n",
              "    [theme=dark] .colab-df-convert:hover {\n",
              "      background-color: #434B5C;\n",
              "      box-shadow: 0px 1px 3px 1px rgba(0, 0, 0, 0.15);\n",
              "      filter: drop-shadow(0px 1px 2px rgba(0, 0, 0, 0.3));\n",
              "      fill: #FFFFFF;\n",
              "    }\n",
              "  </style>\n",
              "\n",
              "      <script>\n",
              "        const buttonEl =\n",
              "          document.querySelector('#df-4a48a821-83f7-4b08-a631-4b403b0fe1be button.colab-df-convert');\n",
              "        buttonEl.style.display =\n",
              "          google.colab.kernel.accessAllowed ? 'block' : 'none';\n",
              "\n",
              "        async function convertToInteractive(key) {\n",
              "          const element = document.querySelector('#df-4a48a821-83f7-4b08-a631-4b403b0fe1be');\n",
              "          const dataTable =\n",
              "            await google.colab.kernel.invokeFunction('convertToInteractive',\n",
              "                                                     [key], {});\n",
              "          if (!dataTable) return;\n",
              "\n",
              "          const docLinkHtml = 'Like what you see? Visit the ' +\n",
              "            '<a target=\"_blank\" href=https://colab.research.google.com/notebooks/data_table.ipynb>data table notebook</a>'\n",
              "            + ' to learn more about interactive tables.';\n",
              "          element.innerHTML = '';\n",
              "          dataTable['output_type'] = 'display_data';\n",
              "          await google.colab.output.renderOutput(dataTable, element);\n",
              "          const docLink = document.createElement('div');\n",
              "          docLink.innerHTML = docLinkHtml;\n",
              "          element.appendChild(docLink);\n",
              "        }\n",
              "      </script>\n",
              "    </div>\n",
              "  </div>\n",
              "  "
            ],
            "text/plain": [
              "            Title       Artist            Top Genre  Year  \\\n",
              "0         Sunrise  Norah Jones      adult standards  2004   \n",
              "1     Black Night  Deep Purple           album rock  2000   \n",
              "2  Clint Eastwood     Gorillaz  alternative hip hop  2001   \n",
              "\n",
              "   Beats Per Minute (BPM)  Energy  Danceability  Loudness (dB)  Liveness  \\\n",
              "0                     157      30            53            -14        11   \n",
              "1                     135      79            50            -11        17   \n",
              "2                     168      69            66             -9         7   \n",
              "\n",
              "   Valence Length (Duration)  Acousticness  Speechiness  Popularity  \n",
              "0       68               201            94            3          71  \n",
              "1       81               207            17            7          39  \n",
              "2       52               341             2           17          69  "
            ]
          },
          "metadata": {},
          "output_type": "display_data"
        },
        {
          "name": "stdout",
          "output_type": "stream",
          "text": [
            "Dataframe de las features escaladas\n"
          ]
        },
        {
          "data": {
            "text/html": [
              "\n",
              "  <div id=\"df-da99bf2b-4d8e-42d3-80f2-e0a695b05760\">\n",
              "    <div class=\"colab-df-container\">\n",
              "      <div>\n",
              "<style scoped>\n",
              "    .dataframe tbody tr th:only-of-type {\n",
              "        vertical-align: middle;\n",
              "    }\n",
              "\n",
              "    .dataframe tbody tr th {\n",
              "        vertical-align: top;\n",
              "    }\n",
              "\n",
              "    .dataframe thead th {\n",
              "        text-align: right;\n",
              "    }\n",
              "</style>\n",
              "<table border=\"1\" class=\"dataframe\">\n",
              "  <thead>\n",
              "    <tr style=\"text-align: right;\">\n",
              "      <th></th>\n",
              "      <th>Beats Per Minute (BPM)</th>\n",
              "      <th>Loudness (dB)</th>\n",
              "      <th>Liveness</th>\n",
              "      <th>Valence</th>\n",
              "      <th>Acousticness</th>\n",
              "      <th>Speechiness</th>\n",
              "    </tr>\n",
              "  </thead>\n",
              "  <tbody>\n",
              "    <tr>\n",
              "      <th>0</th>\n",
              "      <td>0.710059</td>\n",
              "      <td>0.52</td>\n",
              "      <td>0.092784</td>\n",
              "      <td>0.677083</td>\n",
              "      <td>0.949495</td>\n",
              "      <td>0.018868</td>\n",
              "    </tr>\n",
              "    <tr>\n",
              "      <th>1</th>\n",
              "      <td>0.579882</td>\n",
              "      <td>0.64</td>\n",
              "      <td>0.154639</td>\n",
              "      <td>0.812500</td>\n",
              "      <td>0.171717</td>\n",
              "      <td>0.094340</td>\n",
              "    </tr>\n",
              "    <tr>\n",
              "      <th>2</th>\n",
              "      <td>0.775148</td>\n",
              "      <td>0.72</td>\n",
              "      <td>0.051546</td>\n",
              "      <td>0.510417</td>\n",
              "      <td>0.020202</td>\n",
              "      <td>0.283019</td>\n",
              "    </tr>\n",
              "  </tbody>\n",
              "</table>\n",
              "</div>\n",
              "      <button class=\"colab-df-convert\" onclick=\"convertToInteractive('df-da99bf2b-4d8e-42d3-80f2-e0a695b05760')\"\n",
              "              title=\"Convert this dataframe to an interactive table.\"\n",
              "              style=\"display:none;\">\n",
              "        \n",
              "  <svg xmlns=\"http://www.w3.org/2000/svg\" height=\"24px\"viewBox=\"0 0 24 24\"\n",
              "       width=\"24px\">\n",
              "    <path d=\"M0 0h24v24H0V0z\" fill=\"none\"/>\n",
              "    <path d=\"M18.56 5.44l.94 2.06.94-2.06 2.06-.94-2.06-.94-.94-2.06-.94 2.06-2.06.94zm-11 1L8.5 8.5l.94-2.06 2.06-.94-2.06-.94L8.5 2.5l-.94 2.06-2.06.94zm10 10l.94 2.06.94-2.06 2.06-.94-2.06-.94-.94-2.06-.94 2.06-2.06.94z\"/><path d=\"M17.41 7.96l-1.37-1.37c-.4-.4-.92-.59-1.43-.59-.52 0-1.04.2-1.43.59L10.3 9.45l-7.72 7.72c-.78.78-.78 2.05 0 2.83L4 21.41c.39.39.9.59 1.41.59.51 0 1.02-.2 1.41-.59l7.78-7.78 2.81-2.81c.8-.78.8-2.07 0-2.86zM5.41 20L4 18.59l7.72-7.72 1.47 1.35L5.41 20z\"/>\n",
              "  </svg>\n",
              "      </button>\n",
              "      \n",
              "  <style>\n",
              "    .colab-df-container {\n",
              "      display:flex;\n",
              "      flex-wrap:wrap;\n",
              "      gap: 12px;\n",
              "    }\n",
              "\n",
              "    .colab-df-convert {\n",
              "      background-color: #E8F0FE;\n",
              "      border: none;\n",
              "      border-radius: 50%;\n",
              "      cursor: pointer;\n",
              "      display: none;\n",
              "      fill: #1967D2;\n",
              "      height: 32px;\n",
              "      padding: 0 0 0 0;\n",
              "      width: 32px;\n",
              "    }\n",
              "\n",
              "    .colab-df-convert:hover {\n",
              "      background-color: #E2EBFA;\n",
              "      box-shadow: 0px 1px 2px rgba(60, 64, 67, 0.3), 0px 1px 3px 1px rgba(60, 64, 67, 0.15);\n",
              "      fill: #174EA6;\n",
              "    }\n",
              "\n",
              "    [theme=dark] .colab-df-convert {\n",
              "      background-color: #3B4455;\n",
              "      fill: #D2E3FC;\n",
              "    }\n",
              "\n",
              "    [theme=dark] .colab-df-convert:hover {\n",
              "      background-color: #434B5C;\n",
              "      box-shadow: 0px 1px 3px 1px rgba(0, 0, 0, 0.15);\n",
              "      filter: drop-shadow(0px 1px 2px rgba(0, 0, 0, 0.3));\n",
              "      fill: #FFFFFF;\n",
              "    }\n",
              "  </style>\n",
              "\n",
              "      <script>\n",
              "        const buttonEl =\n",
              "          document.querySelector('#df-da99bf2b-4d8e-42d3-80f2-e0a695b05760 button.colab-df-convert');\n",
              "        buttonEl.style.display =\n",
              "          google.colab.kernel.accessAllowed ? 'block' : 'none';\n",
              "\n",
              "        async function convertToInteractive(key) {\n",
              "          const element = document.querySelector('#df-da99bf2b-4d8e-42d3-80f2-e0a695b05760');\n",
              "          const dataTable =\n",
              "            await google.colab.kernel.invokeFunction('convertToInteractive',\n",
              "                                                     [key], {});\n",
              "          if (!dataTable) return;\n",
              "\n",
              "          const docLinkHtml = 'Like what you see? Visit the ' +\n",
              "            '<a target=\"_blank\" href=https://colab.research.google.com/notebooks/data_table.ipynb>data table notebook</a>'\n",
              "            + ' to learn more about interactive tables.';\n",
              "          element.innerHTML = '';\n",
              "          dataTable['output_type'] = 'display_data';\n",
              "          await google.colab.output.renderOutput(dataTable, element);\n",
              "          const docLink = document.createElement('div');\n",
              "          docLink.innerHTML = docLinkHtml;\n",
              "          element.appendChild(docLink);\n",
              "        }\n",
              "      </script>\n",
              "    </div>\n",
              "  </div>\n",
              "  "
            ],
            "text/plain": [
              "   Beats Per Minute (BPM)  Loudness (dB)  Liveness   Valence  Acousticness  \\\n",
              "0                0.710059           0.52  0.092784  0.677083      0.949495   \n",
              "1                0.579882           0.64  0.154639  0.812500      0.171717   \n",
              "2                0.775148           0.72  0.051546  0.510417      0.020202   \n",
              "\n",
              "   Speechiness  \n",
              "0     0.018868  \n",
              "1     0.094340  \n",
              "2     0.283019  "
            ]
          },
          "execution_count": 9,
          "metadata": {},
          "output_type": "execute_result"
        }
      ],
      "source": [
        "from sklearn.preprocessing import MinMaxScaler\n",
        "\n",
        "print(\"Dataframe original\")\n",
        "display(df.head(3))\n",
        "\n",
        "df2 = df[[\"Beats Per Minute (BPM)\", \"Loudness (dB)\", \n",
        "              \"Liveness\", \"Valence\", \"Acousticness\", \n",
        "              \"Speechiness\"]].copy()\n",
        "\n",
        "scaler = MinMaxScaler()\n",
        "df2[df2.columns] = scaler.fit_transform(df2[df2.columns])\n",
        "\n",
        "print(\"Dataframe de las features escaladas\")\n",
        "df2.head(3)"
      ]
    },
    {
      "cell_type": "code",
      "execution_count": null,
      "metadata": {
        "colab": {
          "base_uri": "https://localhost:8080/",
          "height": 300
        },
        "id": "Cdq-yECD-rBr",
        "outputId": "4347d871-3b9a-469b-aff8-037e3b1782a2"
      },
      "outputs": [
        {
          "data": {
            "text/html": [
              "\n",
              "  <div id=\"df-241efa4f-4444-4037-9da4-842b0e9edd56\">\n",
              "    <div class=\"colab-df-container\">\n",
              "      <div>\n",
              "<style scoped>\n",
              "    .dataframe tbody tr th:only-of-type {\n",
              "        vertical-align: middle;\n",
              "    }\n",
              "\n",
              "    .dataframe tbody tr th {\n",
              "        vertical-align: top;\n",
              "    }\n",
              "\n",
              "    .dataframe thead th {\n",
              "        text-align: right;\n",
              "    }\n",
              "</style>\n",
              "<table border=\"1\" class=\"dataframe\">\n",
              "  <thead>\n",
              "    <tr style=\"text-align: right;\">\n",
              "      <th></th>\n",
              "      <th>Beats Per Minute (BPM)</th>\n",
              "      <th>Loudness (dB)</th>\n",
              "      <th>Liveness</th>\n",
              "      <th>Valence</th>\n",
              "      <th>Acousticness</th>\n",
              "      <th>Speechiness</th>\n",
              "    </tr>\n",
              "  </thead>\n",
              "  <tbody>\n",
              "    <tr>\n",
              "      <th>count</th>\n",
              "      <td>1994.000000</td>\n",
              "      <td>1994.000000</td>\n",
              "      <td>1994.000000</td>\n",
              "      <td>1994.000000</td>\n",
              "      <td>1994.000000</td>\n",
              "      <td>1994.000000</td>\n",
              "    </tr>\n",
              "    <tr>\n",
              "      <th>mean</th>\n",
              "      <td>0.492400</td>\n",
              "      <td>0.719659</td>\n",
              "      <td>0.175382</td>\n",
              "      <td>0.483424</td>\n",
              "      <td>0.291496</td>\n",
              "      <td>0.056509</td>\n",
              "    </tr>\n",
              "    <tr>\n",
              "      <th>std</th>\n",
              "      <td>0.165847</td>\n",
              "      <td>0.145915</td>\n",
              "      <td>0.172447</td>\n",
              "      <td>0.258940</td>\n",
              "      <td>0.293050</td>\n",
              "      <td>0.083048</td>\n",
              "    </tr>\n",
              "    <tr>\n",
              "      <th>min</th>\n",
              "      <td>0.000000</td>\n",
              "      <td>0.000000</td>\n",
              "      <td>0.000000</td>\n",
              "      <td>0.000000</td>\n",
              "      <td>0.000000</td>\n",
              "      <td>0.000000</td>\n",
              "    </tr>\n",
              "    <tr>\n",
              "      <th>25%</th>\n",
              "      <td>0.366864</td>\n",
              "      <td>0.640000</td>\n",
              "      <td>0.072165</td>\n",
              "      <td>0.270833</td>\n",
              "      <td>0.030303</td>\n",
              "      <td>0.018868</td>\n",
              "    </tr>\n",
              "    <tr>\n",
              "      <th>50%</th>\n",
              "      <td>0.485207</td>\n",
              "      <td>0.760000</td>\n",
              "      <td>0.103093</td>\n",
              "      <td>0.458333</td>\n",
              "      <td>0.181818</td>\n",
              "      <td>0.037736</td>\n",
              "    </tr>\n",
              "    <tr>\n",
              "      <th>75%</th>\n",
              "      <td>0.585799</td>\n",
              "      <td>0.840000</td>\n",
              "      <td>0.216495</td>\n",
              "      <td>0.695312</td>\n",
              "      <td>0.505051</td>\n",
              "      <td>0.056604</td>\n",
              "    </tr>\n",
              "    <tr>\n",
              "      <th>max</th>\n",
              "      <td>1.000000</td>\n",
              "      <td>1.000000</td>\n",
              "      <td>1.000000</td>\n",
              "      <td>1.000000</td>\n",
              "      <td>1.000000</td>\n",
              "      <td>1.000000</td>\n",
              "    </tr>\n",
              "  </tbody>\n",
              "</table>\n",
              "</div>\n",
              "      <button class=\"colab-df-convert\" onclick=\"convertToInteractive('df-241efa4f-4444-4037-9da4-842b0e9edd56')\"\n",
              "              title=\"Convert this dataframe to an interactive table.\"\n",
              "              style=\"display:none;\">\n",
              "        \n",
              "  <svg xmlns=\"http://www.w3.org/2000/svg\" height=\"24px\"viewBox=\"0 0 24 24\"\n",
              "       width=\"24px\">\n",
              "    <path d=\"M0 0h24v24H0V0z\" fill=\"none\"/>\n",
              "    <path d=\"M18.56 5.44l.94 2.06.94-2.06 2.06-.94-2.06-.94-.94-2.06-.94 2.06-2.06.94zm-11 1L8.5 8.5l.94-2.06 2.06-.94-2.06-.94L8.5 2.5l-.94 2.06-2.06.94zm10 10l.94 2.06.94-2.06 2.06-.94-2.06-.94-.94-2.06-.94 2.06-2.06.94z\"/><path d=\"M17.41 7.96l-1.37-1.37c-.4-.4-.92-.59-1.43-.59-.52 0-1.04.2-1.43.59L10.3 9.45l-7.72 7.72c-.78.78-.78 2.05 0 2.83L4 21.41c.39.39.9.59 1.41.59.51 0 1.02-.2 1.41-.59l7.78-7.78 2.81-2.81c.8-.78.8-2.07 0-2.86zM5.41 20L4 18.59l7.72-7.72 1.47 1.35L5.41 20z\"/>\n",
              "  </svg>\n",
              "      </button>\n",
              "      \n",
              "  <style>\n",
              "    .colab-df-container {\n",
              "      display:flex;\n",
              "      flex-wrap:wrap;\n",
              "      gap: 12px;\n",
              "    }\n",
              "\n",
              "    .colab-df-convert {\n",
              "      background-color: #E8F0FE;\n",
              "      border: none;\n",
              "      border-radius: 50%;\n",
              "      cursor: pointer;\n",
              "      display: none;\n",
              "      fill: #1967D2;\n",
              "      height: 32px;\n",
              "      padding: 0 0 0 0;\n",
              "      width: 32px;\n",
              "    }\n",
              "\n",
              "    .colab-df-convert:hover {\n",
              "      background-color: #E2EBFA;\n",
              "      box-shadow: 0px 1px 2px rgba(60, 64, 67, 0.3), 0px 1px 3px 1px rgba(60, 64, 67, 0.15);\n",
              "      fill: #174EA6;\n",
              "    }\n",
              "\n",
              "    [theme=dark] .colab-df-convert {\n",
              "      background-color: #3B4455;\n",
              "      fill: #D2E3FC;\n",
              "    }\n",
              "\n",
              "    [theme=dark] .colab-df-convert:hover {\n",
              "      background-color: #434B5C;\n",
              "      box-shadow: 0px 1px 3px 1px rgba(0, 0, 0, 0.15);\n",
              "      filter: drop-shadow(0px 1px 2px rgba(0, 0, 0, 0.3));\n",
              "      fill: #FFFFFF;\n",
              "    }\n",
              "  </style>\n",
              "\n",
              "      <script>\n",
              "        const buttonEl =\n",
              "          document.querySelector('#df-241efa4f-4444-4037-9da4-842b0e9edd56 button.colab-df-convert');\n",
              "        buttonEl.style.display =\n",
              "          google.colab.kernel.accessAllowed ? 'block' : 'none';\n",
              "\n",
              "        async function convertToInteractive(key) {\n",
              "          const element = document.querySelector('#df-241efa4f-4444-4037-9da4-842b0e9edd56');\n",
              "          const dataTable =\n",
              "            await google.colab.kernel.invokeFunction('convertToInteractive',\n",
              "                                                     [key], {});\n",
              "          if (!dataTable) return;\n",
              "\n",
              "          const docLinkHtml = 'Like what you see? Visit the ' +\n",
              "            '<a target=\"_blank\" href=https://colab.research.google.com/notebooks/data_table.ipynb>data table notebook</a>'\n",
              "            + ' to learn more about interactive tables.';\n",
              "          element.innerHTML = '';\n",
              "          dataTable['output_type'] = 'display_data';\n",
              "          await google.colab.output.renderOutput(dataTable, element);\n",
              "          const docLink = document.createElement('div');\n",
              "          docLink.innerHTML = docLinkHtml;\n",
              "          element.appendChild(docLink);\n",
              "        }\n",
              "      </script>\n",
              "    </div>\n",
              "  </div>\n",
              "  "
            ],
            "text/plain": [
              "       Beats Per Minute (BPM)  Loudness (dB)     Liveness      Valence  \\\n",
              "count             1994.000000    1994.000000  1994.000000  1994.000000   \n",
              "mean                 0.492400       0.719659     0.175382     0.483424   \n",
              "std                  0.165847       0.145915     0.172447     0.258940   \n",
              "min                  0.000000       0.000000     0.000000     0.000000   \n",
              "25%                  0.366864       0.640000     0.072165     0.270833   \n",
              "50%                  0.485207       0.760000     0.103093     0.458333   \n",
              "75%                  0.585799       0.840000     0.216495     0.695312   \n",
              "max                  1.000000       1.000000     1.000000     1.000000   \n",
              "\n",
              "       Acousticness  Speechiness  \n",
              "count   1994.000000  1994.000000  \n",
              "mean       0.291496     0.056509  \n",
              "std        0.293050     0.083048  \n",
              "min        0.000000     0.000000  \n",
              "25%        0.030303     0.018868  \n",
              "50%        0.181818     0.037736  \n",
              "75%        0.505051     0.056604  \n",
              "max        1.000000     1.000000  "
            ]
          },
          "execution_count": 71,
          "metadata": {},
          "output_type": "execute_result"
        }
      ],
      "source": [
        "df2.describe()"
      ]
    },
    {
      "cell_type": "code",
      "execution_count": null,
      "metadata": {
        "colab": {
          "base_uri": "https://localhost:8080/",
          "height": 339
        },
        "id": "EVa9njBojGa5",
        "outputId": "c4ed639f-6cc1-4140-b89d-d57721e02c6a"
      },
      "outputs": [
        {
          "data": {
            "image/png": "[encoded data removed]",
            "text/plain": [
              "<Figure size 504x360 with 1 Axes>"
            ]
          },
          "metadata": {},
          "output_type": "display_data"
        }
      ],
      "source": [
        "max_num_clusters = 30\n",
        "\n",
        "inertias = []\n",
        "k_values = list(range(1,max_num_clusters)) \n",
        "for k in k_values:\n",
        "    modelo = KMeans(n_clusters=k)\n",
        "    modelo.fit(df2.values)\n",
        "    inertias.append(modelo.inertia_)\n",
        "\n",
        "plt.figure(figsize=(7,5))\n",
        "plt.plot(k_values,inertias,color='red')\n",
        "plt.ylabel(\"Inertia\", fontsize=15)\n",
        "plt.xlabel(\"Value of k\", fontsize=15)\n",
        "plt.xticks(k_values)\n",
        "plt.show()"
      ]
    },
    {
      "cell_type": "markdown",
      "metadata": {
        "id": "cK5a1QqrB03t"
      },
      "source": [
        "Usamos K-means para segmentar en 10 grupos"
      ]
    },
    {
      "cell_type": "code",
      "execution_count": null,
      "metadata": {
        "colab": {
          "base_uri": "https://localhost:8080/"
        },
        "id": "BC2tD2N28yVq",
        "outputId": "ea74cefd-d121-4d2a-ba20-daff145e2533"
      },
      "outputs": [
        {
          "name": "stdout",
          "output_type": "stream",
          "text": [
            "Las primeras 10 etiquetas: [3 0 4 4 0 1 1 4 4 0]\n"
          ]
        }
      ],
      "source": [
        "from sklearn.cluster import KMeans\n",
        "\n",
        "modelo = KMeans(n_clusters=6)\n",
        "\n",
        "modelo.fit(df2.values)\n",
        "clusters = modelo.labels_ \n",
        "\n",
        "print(f\"Las primeras 10 etiquetas: {clusters[:10]}\")"
      ]
    },
    {
      "cell_type": "markdown",
      "metadata": {
        "id": "QGUA-MzoCCDr"
      },
      "source": [
        "Integramos la información de los clusters al dataframe original."
      ]
    },
    {
      "cell_type": "code",
      "execution_count": null,
      "metadata": {
        "colab": {
          "base_uri": "https://localhost:8080/",
          "height": 354
        },
        "id": "rhHEN2zCUo0R",
        "outputId": "6fc1edc0-0736-4c92-b247-dfb78e5739ce"
      },
      "outputs": [
        {
          "data": {
            "text/html": [
              "\n",
              "  <div id=\"df-9558e822-46b0-416c-889a-1e8c31669727\">\n",
              "    <div class=\"colab-df-container\">\n",
              "      <div>\n",
              "<style scoped>\n",
              "    .dataframe tbody tr th:only-of-type {\n",
              "        vertical-align: middle;\n",
              "    }\n",
              "\n",
              "    .dataframe tbody tr th {\n",
              "        vertical-align: top;\n",
              "    }\n",
              "\n",
              "    .dataframe thead th {\n",
              "        text-align: right;\n",
              "    }\n",
              "</style>\n",
              "<table border=\"1\" class=\"dataframe\">\n",
              "  <thead>\n",
              "    <tr style=\"text-align: right;\">\n",
              "      <th></th>\n",
              "      <th>Title</th>\n",
              "      <th>Artist</th>\n",
              "      <th>Top Genre</th>\n",
              "      <th>Year</th>\n",
              "      <th>Beats Per Minute (BPM)</th>\n",
              "      <th>Energy</th>\n",
              "      <th>Danceability</th>\n",
              "      <th>Loudness (dB)</th>\n",
              "      <th>Liveness</th>\n",
              "      <th>Valence</th>\n",
              "      <th>Length (Duration)</th>\n",
              "      <th>Acousticness</th>\n",
              "      <th>Speechiness</th>\n",
              "      <th>Popularity</th>\n",
              "      <th>Music Segments</th>\n",
              "    </tr>\n",
              "  </thead>\n",
              "  <tbody>\n",
              "    <tr>\n",
              "      <th>0</th>\n",
              "      <td>Sunrise</td>\n",
              "      <td>Norah Jones</td>\n",
              "      <td>adult standards</td>\n",
              "      <td>2004</td>\n",
              "      <td>157</td>\n",
              "      <td>30</td>\n",
              "      <td>53</td>\n",
              "      <td>-14</td>\n",
              "      <td>11</td>\n",
              "      <td>68</td>\n",
              "      <td>201</td>\n",
              "      <td>94</td>\n",
              "      <td>3</td>\n",
              "      <td>71</td>\n",
              "      <td>Cluster 3</td>\n",
              "    </tr>\n",
              "    <tr>\n",
              "      <th>1</th>\n",
              "      <td>Black Night</td>\n",
              "      <td>Deep Purple</td>\n",
              "      <td>album rock</td>\n",
              "      <td>2000</td>\n",
              "      <td>135</td>\n",
              "      <td>79</td>\n",
              "      <td>50</td>\n",
              "      <td>-11</td>\n",
              "      <td>17</td>\n",
              "      <td>81</td>\n",
              "      <td>207</td>\n",
              "      <td>17</td>\n",
              "      <td>7</td>\n",
              "      <td>39</td>\n",
              "      <td>Cluster 0</td>\n",
              "    </tr>\n",
              "    <tr>\n",
              "      <th>2</th>\n",
              "      <td>Clint Eastwood</td>\n",
              "      <td>Gorillaz</td>\n",
              "      <td>alternative hip hop</td>\n",
              "      <td>2001</td>\n",
              "      <td>168</td>\n",
              "      <td>69</td>\n",
              "      <td>66</td>\n",
              "      <td>-9</td>\n",
              "      <td>7</td>\n",
              "      <td>52</td>\n",
              "      <td>341</td>\n",
              "      <td>2</td>\n",
              "      <td>17</td>\n",
              "      <td>69</td>\n",
              "      <td>Cluster 4</td>\n",
              "    </tr>\n",
              "    <tr>\n",
              "      <th>3</th>\n",
              "      <td>The Pretender</td>\n",
              "      <td>Foo Fighters</td>\n",
              "      <td>alternative metal</td>\n",
              "      <td>2007</td>\n",
              "      <td>173</td>\n",
              "      <td>96</td>\n",
              "      <td>43</td>\n",
              "      <td>-4</td>\n",
              "      <td>3</td>\n",
              "      <td>37</td>\n",
              "      <td>269</td>\n",
              "      <td>0</td>\n",
              "      <td>4</td>\n",
              "      <td>76</td>\n",
              "      <td>Cluster 4</td>\n",
              "    </tr>\n",
              "    <tr>\n",
              "      <th>4</th>\n",
              "      <td>Waitin' On A Sunny Day</td>\n",
              "      <td>Bruce Springsteen</td>\n",
              "      <td>classic rock</td>\n",
              "      <td>2002</td>\n",
              "      <td>106</td>\n",
              "      <td>82</td>\n",
              "      <td>58</td>\n",
              "      <td>-5</td>\n",
              "      <td>10</td>\n",
              "      <td>87</td>\n",
              "      <td>256</td>\n",
              "      <td>1</td>\n",
              "      <td>3</td>\n",
              "      <td>59</td>\n",
              "      <td>Cluster 0</td>\n",
              "    </tr>\n",
              "  </tbody>\n",
              "</table>\n",
              "</div>\n",
              "      <button class=\"colab-df-convert\" onclick=\"convertToInteractive('df-9558e822-46b0-416c-889a-1e8c31669727')\"\n",
              "              title=\"Convert this dataframe to an interactive table.\"\n",
              "              style=\"display:none;\">\n",
              "        \n",
              "  <svg xmlns=\"http://www.w3.org/2000/svg\" height=\"24px\"viewBox=\"0 0 24 24\"\n",
              "       width=\"24px\">\n",
              "    <path d=\"M0 0h24v24H0V0z\" fill=\"none\"/>\n",
              "    <path d=\"M18.56 5.44l.94 2.06.94-2.06 2.06-.94-2.06-.94-.94-2.06-.94 2.06-2.06.94zm-11 1L8.5 8.5l.94-2.06 2.06-.94-2.06-.94L8.5 2.5l-.94 2.06-2.06.94zm10 10l.94 2.06.94-2.06 2.06-.94-2.06-.94-.94-2.06-.94 2.06-2.06.94z\"/><path d=\"M17.41 7.96l-1.37-1.37c-.4-.4-.92-.59-1.43-.59-.52 0-1.04.2-1.43.59L10.3 9.45l-7.72 7.72c-.78.78-.78 2.05 0 2.83L4 21.41c.39.39.9.59 1.41.59.51 0 1.02-.2 1.41-.59l7.78-7.78 2.81-2.81c.8-.78.8-2.07 0-2.86zM5.41 20L4 18.59l7.72-7.72 1.47 1.35L5.41 20z\"/>\n",
              "  </svg>\n",
              "      </button>\n",
              "      \n",
              "  <style>\n",
              "    .colab-df-container {\n",
              "      display:flex;\n",
              "      flex-wrap:wrap;\n",
              "      gap: 12px;\n",
              "    }\n",
              "\n",
              "    .colab-df-convert {\n",
              "      background-color: #E8F0FE;\n",
              "      border: none;\n",
              "      border-radius: 50%;\n",
              "      cursor: pointer;\n",
              "      display: none;\n",
              "      fill: #1967D2;\n",
              "      height: 32px;\n",
              "      padding: 0 0 0 0;\n",
              "      width: 32px;\n",
              "    }\n",
              "\n",
              "    .colab-df-convert:hover {\n",
              "      background-color: #E2EBFA;\n",
              "      box-shadow: 0px 1px 2px rgba(60, 64, 67, 0.3), 0px 1px 3px 1px rgba(60, 64, 67, 0.15);\n",
              "      fill: #174EA6;\n",
              "    }\n",
              "\n",
              "    [theme=dark] .colab-df-convert {\n",
              "      background-color: #3B4455;\n",
              "      fill: #D2E3FC;\n",
              "    }\n",
              "\n",
              "    [theme=dark] .colab-df-convert:hover {\n",
              "      background-color: #434B5C;\n",
              "      box-shadow: 0px 1px 3px 1px rgba(0, 0, 0, 0.15);\n",
              "      filter: drop-shadow(0px 1px 2px rgba(0, 0, 0, 0.3));\n",
              "      fill: #FFFFFF;\n",
              "    }\n",
              "  </style>\n",
              "\n",
              "      <script>\n",
              "        const buttonEl =\n",
              "          document.querySelector('#df-9558e822-46b0-416c-889a-1e8c31669727 button.colab-df-convert');\n",
              "        buttonEl.style.display =\n",
              "          google.colab.kernel.accessAllowed ? 'block' : 'none';\n",
              "\n",
              "        async function convertToInteractive(key) {\n",
              "          const element = document.querySelector('#df-9558e822-46b0-416c-889a-1e8c31669727');\n",
              "          const dataTable =\n",
              "            await google.colab.kernel.invokeFunction('convertToInteractive',\n",
              "                                                     [key], {});\n",
              "          if (!dataTable) return;\n",
              "\n",
              "          const docLinkHtml = 'Like what you see? Visit the ' +\n",
              "            '<a target=\"_blank\" href=https://colab.research.google.com/notebooks/data_table.ipynb>data table notebook</a>'\n",
              "            + ' to learn more about interactive tables.';\n",
              "          element.innerHTML = '';\n",
              "          dataTable['output_type'] = 'display_data';\n",
              "          await google.colab.output.renderOutput(dataTable, element);\n",
              "          const docLink = document.createElement('div');\n",
              "          docLink.innerHTML = docLinkHtml;\n",
              "          element.appendChild(docLink);\n",
              "        }\n",
              "      </script>\n",
              "    </div>\n",
              "  </div>\n",
              "  "
            ],
            "text/plain": [
              "                    Title             Artist            Top Genre  Year  \\\n",
              "0                 Sunrise        Norah Jones      adult standards  2004   \n",
              "1             Black Night        Deep Purple           album rock  2000   \n",
              "2          Clint Eastwood           Gorillaz  alternative hip hop  2001   \n",
              "3           The Pretender       Foo Fighters    alternative metal  2007   \n",
              "4  Waitin' On A Sunny Day  Bruce Springsteen         classic rock  2002   \n",
              "\n",
              "   Beats Per Minute (BPM)  Energy  Danceability  Loudness (dB)  Liveness  \\\n",
              "0                     157      30            53            -14        11   \n",
              "1                     135      79            50            -11        17   \n",
              "2                     168      69            66             -9         7   \n",
              "3                     173      96            43             -4         3   \n",
              "4                     106      82            58             -5        10   \n",
              "\n",
              "   Valence Length (Duration)  Acousticness  Speechiness  Popularity  \\\n",
              "0       68               201            94            3          71   \n",
              "1       81               207            17            7          39   \n",
              "2       52               341             2           17          69   \n",
              "3       37               269             0            4          76   \n",
              "4       87               256             1            3          59   \n",
              "\n",
              "  Music Segments  \n",
              "0      Cluster 3  \n",
              "1      Cluster 0  \n",
              "2      Cluster 4  \n",
              "3      Cluster 4  \n",
              "4      Cluster 0  "
            ]
          },
          "execution_count": 15,
          "metadata": {},
          "output_type": "execute_result"
        }
      ],
      "source": [
        "import numpy as np\n",
        "\n",
        "groups_labels = np.unique(clusters)\n",
        "mapping_dict = {x:f\"Cluster {str(x)}\" for x in groups_labels}\n",
        "\n",
        "df[\"Music Segments\"] = clusters\n",
        "df[\"Music Segments\"] = df[\"Music Segments\"].map(mapping_dict)\n",
        "df.head(5)"
      ]
    },
    {
      "cell_type": "markdown",
      "metadata": {
        "id": "Od5O_jVI758j"
      },
      "source": [
        "Veamos algunos ejemplos de grupos de canciones"
      ]
    },
    {
      "cell_type": "code",
      "execution_count": null,
      "metadata": {
        "colab": {
          "base_uri": "https://localhost:8080/",
          "height": 363
        },
        "id": "CdQ6bwxB75ri",
        "outputId": "bf55f69a-73ca-437f-f3c8-ba86c38b3ec8"
      },
      "outputs": [
        {
          "data": {
            "text/html": [
              "\n",
              "  <div id=\"df-3144b0b4-71b1-4758-9568-0a3ad0a4f7ea\">\n",
              "    <div class=\"colab-df-container\">\n",
              "      <div>\n",
              "<style scoped>\n",
              "    .dataframe tbody tr th:only-of-type {\n",
              "        vertical-align: middle;\n",
              "    }\n",
              "\n",
              "    .dataframe tbody tr th {\n",
              "        vertical-align: top;\n",
              "    }\n",
              "\n",
              "    .dataframe thead th {\n",
              "        text-align: right;\n",
              "    }\n",
              "</style>\n",
              "<table border=\"1\" class=\"dataframe\">\n",
              "  <thead>\n",
              "    <tr style=\"text-align: right;\">\n",
              "      <th></th>\n",
              "      <th>Title</th>\n",
              "      <th>Artist</th>\n",
              "      <th>Top Genre</th>\n",
              "      <th>Year</th>\n",
              "    </tr>\n",
              "  </thead>\n",
              "  <tbody>\n",
              "    <tr>\n",
              "      <th>1643</th>\n",
              "      <td>Sabotage</td>\n",
              "      <td>Beastie Boys</td>\n",
              "      <td>alternative rock</td>\n",
              "      <td>1994</td>\n",
              "    </tr>\n",
              "    <tr>\n",
              "      <th>691</th>\n",
              "      <td>Castle on the Hill</td>\n",
              "      <td>Ed Sheeran</td>\n",
              "      <td>pop</td>\n",
              "      <td>2017</td>\n",
              "    </tr>\n",
              "    <tr>\n",
              "      <th>722</th>\n",
              "      <td>World Gone Mad</td>\n",
              "      <td>Bastille</td>\n",
              "      <td>metropopolis</td>\n",
              "      <td>2017</td>\n",
              "    </tr>\n",
              "    <tr>\n",
              "      <th>175</th>\n",
              "      <td>Hollereer</td>\n",
              "      <td>De Jeugd Van Tegenwoordig</td>\n",
              "      <td>dutch hip hop</td>\n",
              "      <td>2008</td>\n",
              "    </tr>\n",
              "    <tr>\n",
              "      <th>1723</th>\n",
              "      <td>Everlong</td>\n",
              "      <td>Foo Fighters</td>\n",
              "      <td>alternative metal</td>\n",
              "      <td>1997</td>\n",
              "    </tr>\n",
              "    <tr>\n",
              "      <th>193</th>\n",
              "      <td>Stuck In A Moment You Can't Get Out Of</td>\n",
              "      <td>U2</td>\n",
              "      <td>irish rock</td>\n",
              "      <td>2000</td>\n",
              "    </tr>\n",
              "    <tr>\n",
              "      <th>429</th>\n",
              "      <td>Have You Ever Been Mellow</td>\n",
              "      <td>Party Animals</td>\n",
              "      <td>gabba</td>\n",
              "      <td>2010</td>\n",
              "    </tr>\n",
              "    <tr>\n",
              "      <th>654</th>\n",
              "      <td>Do I Ever</td>\n",
              "      <td>Kensington</td>\n",
              "      <td>dutch pop</td>\n",
              "      <td>2016</td>\n",
              "    </tr>\n",
              "    <tr>\n",
              "      <th>251</th>\n",
              "      <td>Hocus Pocus</td>\n",
              "      <td>Focus</td>\n",
              "      <td>album rock</td>\n",
              "      <td>2001</td>\n",
              "    </tr>\n",
              "    <tr>\n",
              "      <th>643</th>\n",
              "      <td>Ship To Wreck</td>\n",
              "      <td>Florence + The Machine</td>\n",
              "      <td>art pop</td>\n",
              "      <td>2015</td>\n",
              "    </tr>\n",
              "  </tbody>\n",
              "</table>\n",
              "</div>\n",
              "      <button class=\"colab-df-convert\" onclick=\"convertToInteractive('df-3144b0b4-71b1-4758-9568-0a3ad0a4f7ea')\"\n",
              "              title=\"Convert this dataframe to an interactive table.\"\n",
              "              style=\"display:none;\">\n",
              "        \n",
              "  <svg xmlns=\"http://www.w3.org/2000/svg\" height=\"24px\"viewBox=\"0 0 24 24\"\n",
              "       width=\"24px\">\n",
              "    <path d=\"M0 0h24v24H0V0z\" fill=\"none\"/>\n",
              "    <path d=\"M18.56 5.44l.94 2.06.94-2.06 2.06-.94-2.06-.94-.94-2.06-.94 2.06-2.06.94zm-11 1L8.5 8.5l.94-2.06 2.06-.94-2.06-.94L8.5 2.5l-.94 2.06-2.06.94zm10 10l.94 2.06.94-2.06 2.06-.94-2.06-.94-.94-2.06-.94 2.06-2.06.94z\"/><path d=\"M17.41 7.96l-1.37-1.37c-.4-.4-.92-.59-1.43-.59-.52 0-1.04.2-1.43.59L10.3 9.45l-7.72 7.72c-.78.78-.78 2.05 0 2.83L4 21.41c.39.39.9.59 1.41.59.51 0 1.02-.2 1.41-.59l7.78-7.78 2.81-2.81c.8-.78.8-2.07 0-2.86zM5.41 20L4 18.59l7.72-7.72 1.47 1.35L5.41 20z\"/>\n",
              "  </svg>\n",
              "      </button>\n",
              "      \n",
              "  <style>\n",
              "    .colab-df-container {\n",
              "      display:flex;\n",
              "      flex-wrap:wrap;\n",
              "      gap: 12px;\n",
              "    }\n",
              "\n",
              "    .colab-df-convert {\n",
              "      background-color: #E8F0FE;\n",
              "      border: none;\n",
              "      border-radius: 50%;\n",
              "      cursor: pointer;\n",
              "      display: none;\n",
              "      fill: #1967D2;\n",
              "      height: 32px;\n",
              "      padding: 0 0 0 0;\n",
              "      width: 32px;\n",
              "    }\n",
              "\n",
              "    .colab-df-convert:hover {\n",
              "      background-color: #E2EBFA;\n",
              "      box-shadow: 0px 1px 2px rgba(60, 64, 67, 0.3), 0px 1px 3px 1px rgba(60, 64, 67, 0.15);\n",
              "      fill: #174EA6;\n",
              "    }\n",
              "\n",
              "    [theme=dark] .colab-df-convert {\n",
              "      background-color: #3B4455;\n",
              "      fill: #D2E3FC;\n",
              "    }\n",
              "\n",
              "    [theme=dark] .colab-df-convert:hover {\n",
              "      background-color: #434B5C;\n",
              "      box-shadow: 0px 1px 3px 1px rgba(0, 0, 0, 0.15);\n",
              "      filter: drop-shadow(0px 1px 2px rgba(0, 0, 0, 0.3));\n",
              "      fill: #FFFFFF;\n",
              "    }\n",
              "  </style>\n",
              "\n",
              "      <script>\n",
              "        const buttonEl =\n",
              "          document.querySelector('#df-3144b0b4-71b1-4758-9568-0a3ad0a4f7ea button.colab-df-convert');\n",
              "        buttonEl.style.display =\n",
              "          google.colab.kernel.accessAllowed ? 'block' : 'none';\n",
              "\n",
              "        async function convertToInteractive(key) {\n",
              "          const element = document.querySelector('#df-3144b0b4-71b1-4758-9568-0a3ad0a4f7ea');\n",
              "          const dataTable =\n",
              "            await google.colab.kernel.invokeFunction('convertToInteractive',\n",
              "                                                     [key], {});\n",
              "          if (!dataTable) return;\n",
              "\n",
              "          const docLinkHtml = 'Like what you see? Visit the ' +\n",
              "            '<a target=\"_blank\" href=https://colab.research.google.com/notebooks/data_table.ipynb>data table notebook</a>'\n",
              "            + ' to learn more about interactive tables.';\n",
              "          element.innerHTML = '';\n",
              "          dataTable['output_type'] = 'display_data';\n",
              "          await google.colab.output.renderOutput(dataTable, element);\n",
              "          const docLink = document.createElement('div');\n",
              "          docLink.innerHTML = docLinkHtml;\n",
              "          element.appendChild(docLink);\n",
              "        }\n",
              "      </script>\n",
              "    </div>\n",
              "  </div>\n",
              "  "
            ],
            "text/plain": [
              "                                       Title                     Artist  \\\n",
              "1643                                Sabotage               Beastie Boys   \n",
              "691                       Castle on the Hill                 Ed Sheeran   \n",
              "722                           World Gone Mad                   Bastille   \n",
              "175                                Hollereer  De Jeugd Van Tegenwoordig   \n",
              "1723                                Everlong               Foo Fighters   \n",
              "193   Stuck In A Moment You Can't Get Out Of                         U2   \n",
              "429                Have You Ever Been Mellow              Party Animals   \n",
              "654                                Do I Ever                 Kensington   \n",
              "251                              Hocus Pocus                      Focus   \n",
              "643                            Ship To Wreck     Florence + The Machine   \n",
              "\n",
              "              Top Genre  Year  \n",
              "1643   alternative rock  1994  \n",
              "691                 pop  2017  \n",
              "722        metropopolis  2017  \n",
              "175       dutch hip hop  2008  \n",
              "1723  alternative metal  1997  \n",
              "193          irish rock  2000  \n",
              "429               gabba  2010  \n",
              "654           dutch pop  2016  \n",
              "251          album rock  2001  \n",
              "643             art pop  2015  "
            ]
          },
          "execution_count": 23,
          "metadata": {},
          "output_type": "execute_result"
        }
      ],
      "source": [
        "df[df['Music Segments']=='Cluster 4'][['Title','Artist','Top Genre','Year']].sample(10)"
      ]
    },
    {
      "cell_type": "markdown",
      "metadata": {
        "id": "wcoMmKJDCHfP"
      },
      "source": [
        "Graficamos usando solamente 3 features. Usamos el módulo [plotly](https://plotly.com/python/) para gráficas interactivas. \n",
        "\n",
        "Otra alternativa es [Bokeh](https://bokeh.org/)."
      ]
    },
    {
      "cell_type": "code",
      "execution_count": null,
      "metadata": {
        "colab": {
          "base_uri": "https://localhost:8080/",
          "height": 817
        },
        "id": "m1dXHIGFUG04",
        "outputId": "92c66abf-4830-4469-8728-df9401946840"
      },
      "outputs": [
        {
          "data": {
            "text/html": [
              "<html>\n",
              "<head><meta charset=\"utf-8\" /></head>\n",
              "<body>\n",
              "    <div>            <script src=\"https://cdnjs.cloudflare.com/ajax/libs/mathjax/2.7.5/MathJax.js?config=TeX-AMS-MML_SVG\"></script><script type=\"text/javascript\">if (window.MathJax) {MathJax.Hub.Config({SVG: {font: \"STIX-Web\"}});}</script>                <script type=\"text/javascript\">window.PlotlyConfig = {MathJaxConfig: 'local'};</script>\n",
              "        <script src=\"https://cdn.plot.ly/plotly-2.8.3.min.js\"></script>                <div id=\"06bd1a3a-8042-4a65-b8b6-255ee7982300\" class=\"plotly-graph-div\" style=\"height:800px; width:800px;\"></div>            <script type=\"text/javascript\">                                    window.PLOTLYENV=window.PLOTLYENV || {};                                    if (document.getElementById(\"06bd1a3a-8042-4a65-b8b6-255ee7982300\")) {                    Plotly.newPlot(                        \"06bd1a3a-8042-4a65-b8b6-255ee7982300\",                        [{\"marker\":{\"line\":{\"width\":1},\"size\":6},\"mode\":\"markers\",\"name\":\"Cluster 3\",\"x\":[157,74,88,122,119,86,176,178,100,160,141,131,124,121,123,98,131,115,129,123,115,179,83,129,87,108,122,151,83,138,123,92,113,123,117,136,115,129,105,82,120,106,160,86,131,144,127,79,129,83,135,109,127,100,96,75,80,108,122,128,105,131,81,126,87,106,100,93,150,135,91,98,93,155,118,127,86,139,162,93,80,122,83,129,131,81,92,139,123,134,109,128,184,156,167,99,143,121,111,121,132,83,134,128,77,111,117,148,148,106,81,141,95,130,107,111,100,121,178,81,102,130,89,133,80,77,93,129,139,125,105,110,121,120,75,104,122,127,87,116,77,129,103,194,118,82,145,79,114,112,204,107,159,170,93,114,121,101,117,83,177,127,129,132,89,177,115,115,106,90,172,129,86,113,112,119,118,77,111,111,102,106,105,125,127,119,115,87,81,113,132,174,108,114,119,148,98,115,143,137,138,164,166,92,121,89,122,84,99,145,179,95,118,127,104,108,125,172,135,138,95,117,103,120,112,138,112,126,100,110,81,81,125,114,119,103,140,114,130,80,115,132,104,133,92,144,83,110,119,63,86,128,182,91,108,109,95,167,94,168,174,133],\"y\":[30,65,20,87,53,56,74,68,55,61,30,72,55,41,69,62,71,61,59,63,55,47,63,51,68,75,67,46,53,89,73,81,42,71,41,65,59,50,46,52,75,35,64,75,24,40,33,45,66,58,33,59,47,38,65,71,66,61,40,54,47,41,49,60,38,74,57,84,66,43,32,59,49,28,39,41,52,97,57,46,42,57,42,57,50,86,42,67,51,26,78,69,34,50,47,57,63,19,40,47,48,45,51,57,29,54,65,93,41,54,54,76,56,73,43,53,75,69,34,50,63,70,75,43,48,56,46,45,45,39,38,71,57,76,66,37,57,79,57,26,76,84,72,93,63,40,51,35,71,42,41,66,57,35,51,71,67,94,45,88,90,52,72,82,45,55,57,70,66,55,94,46,51,25,80,81,71,29,68,69,35,52,55,47,39,65,69,33,65,40,49,90,53,39,70,48,54,75,48,49,62,43,50,64,95,77,51,48,47,28,54,87,31,60,59,44,85,40,63,58,72,29,44,47,61,28,44,75,68,46,35,24,63,39,47,48,24,66,60,78,48,58,37,36,46,55,43,64,63,13,62,76,50,46,54,90,66,58,21,80,26,50],\"z\":[53,62,73,64,68,44,66,30,59,36,71,49,50,83,69,66,78,67,93,65,54,33,41,69,57,62,63,69,66,56,48,70,74,87,71,64,66,86,52,43,62,64,59,52,75,56,79,78,57,27,65,41,76,61,83,60,55,57,43,33,72,55,50,73,35,63,74,64,25,70,76,82,44,50,47,71,61,54,37,45,48,39,47,61,42,44,81,57,65,54,45,56,38,53,30,56,57,41,63,56,69,60,51,58,59,67,54,44,66,76,48,37,79,70,65,35,56,78,39,69,68,48,61,39,59,66,81,75,59,48,84,80,80,63,53,55,87,46,60,67,60,65,92,49,76,65,52,62,67,82,62,45,35,56,62,57,60,54,82,56,50,55,60,70,62,52,59,68,65,50,46,78,71,68,65,62,73,55,79,58,67,72,75,60,74,32,57,63,52,69,72,41,91,57,67,39,64,48,66,76,63,26,40,56,70,41,48,50,87,81,45,60,65,62,66,50,48,39,42,65,48,58,69,46,55,58,55,57,51,49,48,54,39,63,70,40,70,60,66,53,68,50,77,59,61,63,48,52,63,53,32,69,40,55,86,43,56,65,70,53,45,49],\"type\":\"scatter3d\",\"hovertemplate\":\"Beats Per Minute (BPM): %{x} <br>Energy: %{y} <br>Danceability: %{z}\"},{\"marker\":{\"line\":{\"width\":1},\"size\":6},\"mode\":\"markers\",\"name\":\"Cluster 0\",\"x\":[135,106,112,112,96,138,148,118,100,131,166,103,105,110,105,120,115,132,106,92,136,101,103,75,123,120,99,126,103,91,93,89,115,138,129,98,114,115,138,105,120,133,125,127,117,91,180,114,98,130,94,95,175,111,174,139,174,133,105,143,109,80,112,130,100,115,125,103,141,87,131,110,106,100,140,74,124,87,130,72,100,96,106,143,119,119,117,116,110,77,97,147,110,104,120,122,123,103,133,128,140,127,132,170,104,146,100,85,112,141,80,105,152,124,151,116,110,110,81,148,117,108,134,120,126,160,139,97,160,94,116,118,128,124,117,115,125,117,89,136,111,121,98,113,123,130,100,107,131,129,125,92,100,112,91,126,128,111,82,116,124,124,140,87,132,103,124,111,107,108,178,116,113,124,119,121,121,103,105,147,130,104,109,129,120,147,170,141,114,171,106,106,131,109,125,124,81,125,144,117,98,128,118,110,138,129,133,119,141,106,125,136,107,127,108,119,106,81,107,177,109,135,104,104,123,119,127,107,106,105,137,76,177,119,98,127,148,134,96,123,83,93,77,122,121,115,101,131,118,104,128,151,155,136,105,132,127,119,134,116,118,119,82,115,120,114,117,110,127,133,169,127,120,136,145,110,151,131,119,143,131,108,94,122,118,172,93,117,78,115,141,119,170,98,94,113,127,122,125,115,134,125,122,105,127,117,143,177,126,120,92,124,105,139,112,126,122,129,118,117,126,135,135,82,127,115,134,84,103,117,87,109,131,121,110,185,114,110,143,174,105,123,130,128,115,92,136,123,111,174,111,132,106,88,89,113,131,125,101,99,118,115,118,113,119,114,134,125,119,113,126,153,169,102,181,101,125,132,116,129,125,103,115,115,90,142,94,104,130,102,102,84,153,145,115,140,116,120,113,112,144,131,109,167,156,104,85,117,75,123,175,126,160,92,117,94,125,104,98,91,100,99,89,106,101,120,107,102,124,118,86,76,116,142,97,119,129,98,85,119,132,98,139,90,127,122,130,123,107,130,127,110,89,104,126,125,104,95,103,142,121,153,96,118,117,108,93,143,97,104,116,86,160,111,139,99,136,95,97,109,137,127,151,115,65,90,95,100,115,113,130,99,126,117,133,179,121,117],\"y\":[79,82,67,81,89,99,76,82,85,72,75,86,73,96,91,76,67,55,84,90,80,69,86,67,72,60,77,95,81,63,77,47,97,93,72,69,83,72,56,66,92,81,92,66,75,94,66,60,50,71,70,88,79,57,78,77,96,72,90,74,58,97,78,49,83,89,74,95,92,65,96,78,68,63,82,63,56,78,70,87,80,91,73,83,81,92,73,59,77,89,79,90,41,57,59,71,84,69,80,71,86,90,63,69,63,92,93,87,65,71,81,88,88,78,95,81,85,64,76,84,78,87,92,60,81,82,88,74,80,54,78,72,87,85,79,61,88,74,82,90,90,73,72,83,75,70,53,80,46,64,78,85,88,75,70,83,78,74,90,74,69,89,49,93,71,76,86,75,77,58,80,47,93,80,84,63,70,88,66,91,85,72,65,93,78,59,89,63,59,46,68,60,58,78,54,54,64,60,75,91,61,64,44,61,75,49,67,76,82,96,76,83,74,79,70,83,72,71,57,78,88,94,97,54,52,72,71,69,80,50,69,52,48,64,65,60,87,75,70,78,67,72,57,56,38,85,88,87,62,39,85,81,94,86,36,76,78,82,80,87,53,60,52,73,66,54,54,53,77,72,70,38,74,92,89,89,43,53,88,76,42,39,38,93,74,60,37,65,51,60,66,73,70,94,60,83,82,92,71,74,63,80,65,40,63,35,76,80,76,80,73,46,79,83,50,99,95,92,82,96,80,58,75,57,81,78,66,90,91,47,66,60,82,67,71,52,46,47,83,61,83,89,78,76,91,80,77,96,27,54,86,93,58,63,65,95,88,95,77,51,98,49,67,94,82,85,45,70,63,84,73,74,83,65,62,84,69,63,67,74,76,69,77,56,41,85,56,74,68,25,59,45,45,97,88,81,39,79,81,68,59,86,51,61,48,79,40,91,88,82,79,86,85,94,77,61,91,82,64,61,66,67,83,67,83,79,71,51,65,97,83,56,62,82,70,53,67,41,94,58,86,91,80,91,79,83,47,73,79,82,35,86,65,88,88,92,86,43,61,63,80,63,50,57,58,84,74,90,74,87,92,68,80,53,81,69,86,73,78,43,90,49,58,56,33,75,41,73,65,81,62,56,49,38,66,77,39,39],\"z\":[50,58,91,65,63,51,91,67,58,64,70,63,68,43,46,70,72,85,70,50,67,62,70,30,82,85,65,51,71,67,52,86,60,55,61,67,42,53,74,95,67,86,52,66,61,62,50,88,52,66,83,62,35,70,68,53,49,87,43,71,74,73,58,95,71,74,69,54,58,61,62,65,38,63,42,46,80,36,79,43,71,56,79,44,85,70,49,68,56,69,71,53,67,77,79,70,47,55,74,73,79,73,69,57,67,64,64,42,81,75,37,66,51,53,58,79,78,70,50,52,52,74,59,85,64,65,64,66,65,79,65,78,58,62,40,86,60,64,53,65,64,67,68,67,59,68,56,82,60,67,78,68,62,91,54,69,81,66,58,67,83,77,57,50,42,53,79,67,60,74,66,74,56,60,63,61,54,76,75,60,59,55,65,63,56,56,32,41,63,54,66,65,67,44,68,47,55,48,66,57,60,51,48,66,75,72,67,52,57,68,84,51,55,48,68,48,82,45,59,39,62,59,39,71,72,67,67,69,67,70,55,73,65,91,69,62,73,62,49,61,43,53,54,78,76,73,78,70,65,69,77,58,48,72,63,80,71,88,65,64,67,83,48,71,79,81,59,93,53,68,44,56,71,37,64,64,63,87,72,56,88,80,56,63,73,53,67,92,38,62,58,87,75,62,81,74,89,85,69,65,65,74,60,61,43,72,60,54,65,71,67,93,58,51,74,73,40,74,78,57,63,69,73,62,56,62,67,57,57,73,63,82,60,76,66,73,69,66,54,76,54,53,67,78,63,53,52,54,90,65,56,64,76,53,62,65,66,45,56,60,85,73,75,73,71,88,60,63,71,71,70,45,55,56,61,60,63,55,65,48,64,52,68,78,63,53,72,66,64,96,77,62,69,71,66,61,65,70,64,60,62,74,74,38,62,59,52,50,28,58,46,67,58,67,65,64,45,72,48,74,67,69,47,56,31,66,85,49,76,57,41,59,80,58,62,47,62,85,44,73,61,53,76,86,77,59,80,72,75,55,53,77,87,80,58,64,53,48,71,76,96,57,92,68,73,72,67,72,57,73,61,87,49,69,59,60,72,53,41,72,60,73,49,81,31,42,54,39,45,44,44,45,51,49,64,51,72,68],\"type\":\"scatter3d\",\"hovertemplate\":\"Beats Per Minute (BPM): %{x} <br>Energy: %{y} <br>Danceability: %{z}\"},{\"marker\":{\"line\":{\"width\":1},\"size\":6},\"mode\":\"markers\",\"name\":\"Cluster 4\",\"x\":[168,173,137,148,142,123,154,181,156,152,168,186,168,194,132,171,183,139,131,159,160,160,145,130,177,171,193,130,165,139,173,128,190,164,138,136,159,170,147,166,170,170,135,144,186,180,173,169,184,133,145,184,139,149,205,134,171,136,179,149,135,131,138,138,170,150,136,164,150,120,171,153,182,172,172,174,144,132,186,169,153,123,166,183,156,172,168,138,120,166,168,140,130,172,135,131,142,180,123,154,130,125,145,170,127,142,140,168,140,148,152,162,167,175,156,122,170,112,171,130,168,164,142,158,144,163,130,150,150,142,170,145,167,135,190,135,145,128,168,168,116,140,171,174,174,152,140,178,198,180,128,197,140,124,142,163,137,154,171,203,175,133,161,161,161,130,168,168,146,125,147,141,142,173,159,152,148,172,175,133,148,123,120,169,131,156,146,167,125,140,188,137,175,170,179,140,174,119,125,159,176,120,149,140,196,191,180,150,134,198,128,153,206,180,141,186,132,160,174,172,134,170,152,138,120,181,132,139,123,127,153,157,165,136,134,144,131,160,123,147,145,144,171,140,203,176,159,167,141,150,168,145,174,175,163,160,150,149,122,174,137,169,171,158,164,142,133,136,130,144,166,133,174,150,136,123,125,204,130,150,150,181,177,159,125,169,184,167,176,146,145,142,140,145,165,124,197,129],\"y\":[69,96,96,92,51,68,70,59,79,81,60,99,57,43,41,58,44,48,80,67,71,85,91,70,76,74,58,94,56,77,55,91,76,76,55,97,64,61,93,57,66,54,75,55,87,66,66,65,82,88,59,44,77,88,47,88,64,98,54,81,80,90,62,84,68,81,93,54,92,91,48,91,24,66,76,45,77,84,54,88,84,70,56,50,91,96,94,87,93,87,82,51,83,76,66,76,75,42,73,58,73,78,56,75,72,96,63,77,95,70,86,82,89,52,87,71,64,92,50,93,76,72,92,45,59,79,70,83,43,66,49,91,68,83,53,66,91,78,93,82,83,68,75,72,44,60,57,64,61,63,49,64,71,76,66,66,47,38,73,82,59,76,84,56,43,80,60,47,94,70,51,93,70,87,84,67,48,84,66,49,91,80,49,84,67,97,34,74,93,98,70,69,72,28,36,51,94,76,55,54,26,79,94,59,93,93,95,80,86,52,84,64,89,76,98,44,88,61,89,80,89,39,52,57,82,53,74,60,66,79,78,88,60,76,56,94,59,98,92,87,44,55,50,65,64,60,96,64,66,63,94,99,52,87,92,61,82,67,72,42,76,72,92,88,85,95,88,99,82,90,49,97,38,59,92,80,96,47,62,79,40,85,37,80,47,77,53,52,91,73,46,97,44,43,38,72,71,41],\"z\":[66,43,37,36,60,53,68,56,29,32,58,38,38,35,62,51,56,52,75,43,50,55,38,52,58,69,43,37,48,55,34,60,79,50,59,41,52,45,51,32,46,51,51,54,34,51,43,26,26,46,43,27,44,18,38,63,46,54,29,52,56,61,49,47,44,49,54,78,35,55,26,54,19,45,45,46,51,61,30,35,32,61,41,45,48,60,48,23,51,36,51,44,51,34,53,48,50,50,54,27,53,55,60,45,68,46,39,38,58,49,46,46,49,48,37,66,73,64,36,48,43,48,56,48,38,39,66,38,49,46,28,57,50,46,26,67,55,67,51,61,52,51,56,43,64,32,34,38,30,47,41,18,62,40,36,42,47,35,35,27,23,41,26,44,31,41,54,28,27,42,58,33,46,33,29,55,81,20,39,52,27,44,75,47,58,31,51,49,62,32,31,49,31,47,53,80,25,66,44,58,31,54,53,38,31,40,44,25,50,70,49,36,38,26,31,24,49,43,36,21,50,19,45,37,50,39,50,54,68,43,26,44,31,53,56,43,43,41,51,64,42,27,40,47,26,50,37,31,38,34,32,64,81,37,33,28,55,29,40,53,60,41,36,41,25,53,49,61,68,43,38,51,44,44,47,46,46,24,77,34,45,15,43,46,60,35,41,18,21,44,31,48,30,31,53,54,31,46],\"type\":\"scatter3d\",\"hovertemplate\":\"Beats Per Minute (BPM): %{x} <br>Energy: %{y} <br>Danceability: %{z}\"},{\"marker\":{\"line\":{\"width\":1},\"size\":6},\"mode\":\"markers\",\"name\":\"Cluster 1\",\"x\":[99,102,124,123,127,87,138,112,80,138,105,75,76,122,96,123,99,124,99,136,81,88,79,128,112,105,94,122,68,109,137,129,96,94,120,75,101,127,97,92,129,100,80,92,91,109,133,92,120,115,122,138,105,116,142,124,70,90,113,94,111,123,118,98,110,79,110,118,100,98,127,116,90,111,123,122,76,98,135,114,88,104,85,81,131,93,110,140,105,95,118,128,115,111,134,127,131,123,109,108,115,120,110,117,89,108,126,140,138,104,95,97,126,79,118,79,79,138,88,76,90,95,107,100,92,103,132,71,85,130,75,116,86,128,128,108,77,121,85,99,125,105,134,93,102,130,94,114,128,128,121,83,90,128,49,123,121,106,87,116,92,98,95,90,74,120,95,114,120,132,146,103,103,115,125,114,92,96,69,96,109,105,100,98,68,120,109,100,105,86,114,94,120,120,132,98,139,127,94,76,119,131,119,117,91,145,131,133,135,96,127,124,81,102,117,85,140,92,127,126,123,82,104,144,134,80,90,129,102,102,89,130,128,91,112,109,104,98,135,112,135,64,112,94,91,91,98,134,114,88,96,122,127,116,112,77,101,81,82,82,121,125,95,137,99,113,137,81,81,110,86,98,130,115,99,98,73,117,90,118,82,120,114,75,96,82,110,126,100,124,97,90,114,127,103,104,110,125,98,86,122,74,82,119,92,139,144,90,147,126,91,132,108,120,140,77,80,142,73,85,83,109,89,105,89,117,125,131,81,104,120,110,125,138,143,115,91,92,104,95,130,93,112,94,116,113,90,105,75,90,120,94,84,93,128,99,94,138,100,94,80,76,110,74,84,54,90,88,132,127,155,68,61,81,137,71,75,96,113,76,119,87,77,98,102,128,94,121,77,102,109,103,96,128,81,110,117,96,90,130,89,95,98,95,112,127,117,100,117,97,103,85,106,133,125,98,71,80,109,76,82,112,108,111,110,80,102,129,90,134,95,80,103,101,87,118,89],\"y\":[46,71,46,90,54,31,42,74,47,64,68,64,77,77,60,59,70,59,87,43,65,32,60,40,81,86,84,74,72,42,72,82,64,77,56,92,78,56,55,57,39,63,72,57,59,78,20,95,69,70,87,85,81,62,48,46,59,25,95,70,87,73,84,35,87,64,76,73,78,73,93,88,52,84,93,97,58,68,77,30,87,59,58,39,91,93,80,55,59,94,77,80,64,66,53,59,42,81,84,72,61,39,56,62,73,68,83,59,78,61,47,73,79,73,73,33,60,74,40,55,71,55,69,76,71,76,68,63,53,83,55,81,41,79,87,88,51,66,43,68,64,76,71,48,73,70,34,34,58,93,48,41,74,46,37,92,62,67,65,50,74,55,84,40,51,47,45,59,60,69,28,64,63,71,40,32,87,62,62,39,41,66,61,73,58,85,52,71,52,61,79,68,83,90,87,56,53,46,45,66,36,79,50,72,38,43,70,33,92,31,62,71,60,72,85,60,40,38,54,69,42,50,46,40,58,33,90,37,58,37,59,46,49,42,69,68,56,58,89,76,31,46,71,32,73,82,93,98,35,69,90,72,37,91,30,70,75,62,45,77,73,59,56,74,68,93,48,47,61,31,42,41,62,68,50,94,45,67,100,84,42,92,77,53,68,28,43,72,98,99,69,82,89,86,69,29,53,28,41,58,31,42,38,91,84,52,48,86,18,67,37,29,57,57,63,68,64,36,73,35,69,85,76,94,85,61,59,37,55,60,57,87,77,55,43,52,47,43,34,43,42,26,75,48,85,63,43,83,41,82,43,45,79,57,87,65,29,45,80,77,51,71,43,23,54,56,86,38,39,58,47,51,36,54,24,58,51,66,37,39,50,49,52,91,59,51,46,66,42,39,50,90,80,80,90,89,27,77,40,66,72,64,62,91,65,92,58,65,49,15,13,48,30,47,73,50,53,50,91,44,24,67,69,32,58,29,44,54,90,34,72,45,59,42,55,62,55],\"z\":[54,71,74,52,38,27,21,65,62,71,28,37,46,30,53,48,69,47,55,28,50,52,56,40,53,56,52,64,60,35,28,53,59,37,41,51,44,61,62,62,59,61,51,26,56,70,34,66,79,73,55,60,55,49,57,53,43,52,22,63,60,49,59,54,51,47,50,45,60,60,42,74,63,62,45,45,35,62,47,70,25,56,50,14,47,44,58,56,43,33,53,45,60,87,59,40,31,50,64,58,37,62,71,48,63,61,60,45,48,28,37,50,60,50,43,40,51,43,37,35,51,78,30,51,56,45,52,51,55,55,48,73,21,57,68,54,57,60,67,62,55,73,33,74,48,76,38,44,57,52,66,27,49,72,39,45,88,57,66,58,70,37,60,73,36,77,60,49,52,34,49,62,48,63,50,50,51,41,59,57,81,40,70,67,23,60,57,55,77,51,60,54,43,52,47,70,59,34,49,22,39,31,46,49,25,41,32,27,69,69,39,46,22,50,28,27,51,59,58,64,40,33,31,39,30,49,47,43,52,82,39,43,38,44,50,38,43,52,33,49,41,27,37,48,49,53,42,32,50,43,47,36,47,57,59,41,36,63,51,56,40,38,57,43,37,26,49,48,58,40,30,75,54,43,29,51,53,60,28,54,44,46,56,44,64,52,54,49,27,45,67,29,79,54,44,71,52,53,58,54,72,69,68,28,41,51,34,57,36,51,75,55,66,51,46,36,29,56,21,56,31,28,36,39,63,53,46,53,55,66,61,31,65,33,47,65,53,52,65,44,53,33,42,31,54,45,39,35,52,40,51,36,10,58,55,59,74,49,79,53,65,52,60,45,77,36,53,42,35,79,34,33,34,56,61,39,36,64,47,26,75,59,44,51,59,57,56,38,62,48,27,35,22,57,39,60,39,59,62,44,60,30,60,92,58,63,30,53,52,52,59,20,35,40,41,39,52,50,53,31,55,50,51,65,55,26,48,56,41,40,27,39,47,48,27,48,38],\"type\":\"scatter3d\",\"hovertemplate\":\"Beats Per Minute (BPM): %{x} <br>Energy: %{y} <br>Danceability: %{z}\"},{\"marker\":{\"line\":{\"width\":1},\"size\":6},\"mode\":\"markers\",\"name\":\"Cluster 5\",\"x\":[109,133,130,142,146,72,108,90,149,77,101,83,110,61,104,93,122,138,79,125,119,58,128,171,96,124,126,99,79,104,112,100,110,92,105,130,162,76,124,144,174,95,113,128,73,123,134,79,67,81,68,90,128,78,186,120,144,117,75,146,82,82,137,108,94,199,96,94,82,97,131,74,132,91,100,99,135,85,155,80,89,116,166,117,131,126,122,131,149,78,85,73,137,155,124,119,112,126,123,76,120,78,174,131,146,93,80,116,108,146,84,130,135,147,86,114,174,85,122,146,95,161,78,134,108,170,123,106,109,90,142,72,163,105,108,98,84,90,90,103,90,86,82,148,110,87,89,73,97,72,106,113,143,80,128,99,92,140,132,136,148,76,159,89,128,82,76,134,92,123,140,138,133,169,125,115,87,92,119,145,137,136,105,86,109,136,60,120,181,116,73,140,90,146,83,136,112,100,169,138,79,138,159,134,180,81,125,105,37,126,68,121,135,123,104,118,140,177,200,96,184,102,90,137,135,67,134,84,113,129,125,151,133,178,121,190,76,112,84,111,114,73,61,132,90,171,117,123,79,81,110,79,108,116,123,94,131,125,161,104,101,123,134,172,115,91,110,96,82,116,120,175,85,121,87,95,156,129,142,115,98,84,102,94,120,81,92,75,87,81,132,89,130,116,125,94,67,74,113,142,153,105,84,174,132,139,97,90,132,138,78,119,136,150,73,135,73,123,124,87,98,121,99,70,100,94,136,126,99,76,177,153,77,81,80,99,91,167,131,116,136,154,127,139,77,140,87,100,119,175,66,111,107,174,97,99,79,113,80,83,129,93,127,107,132,95,144,105,128,90,112,94,77,170,89,75,136,129,156,121,75,154,119,168],\"y\":[5,42,48,24,44,21,35,26,30,18,24,25,35,13,44,37,49,44,36,41,38,40,37,20,38,46,17,48,27,29,8,19,33,38,44,41,33,57,33,34,6,26,55,52,18,34,36,48,13,41,47,39,30,14,40,49,44,18,41,40,25,48,33,74,50,36,52,18,47,55,75,17,29,30,80,19,33,29,20,45,57,33,29,45,32,32,26,28,20,20,32,28,30,54,39,26,31,34,54,5,26,40,28,22,58,41,37,39,38,69,42,44,23,31,28,44,13,41,39,45,42,38,40,41,40,46,55,27,33,21,28,26,51,24,7,21,20,39,24,31,30,22,36,63,41,25,34,25,38,33,32,17,40,21,32,26,36,21,33,33,21,35,17,25,36,34,26,32,9,38,39,48,32,26,53,31,11,28,4,27,53,16,32,22,33,55,22,48,39,22,30,24,47,31,18,14,36,25,38,32,18,29,16,52,43,25,27,29,25,28,45,37,28,65,41,17,42,32,42,21,9,33,26,34,27,12,23,56,21,23,67,32,38,29,32,24,24,32,10,42,19,26,25,7,14,34,34,16,27,25,8,44,55,28,41,13,31,6,26,6,31,13,38,14,8,27,31,32,20,31,30,45,50,8,35,20,41,16,18,31,42,37,56,35,32,42,13,19,40,49,27,26,51,83,15,32,21,30,31,28,40,67,37,33,47,43,14,26,53,44,31,25,46,80,34,37,40,36,43,33,37,36,29,13,33,9,37,31,28,40,21,23,13,20,9,29,22,61,48,19,17,24,10,28,17,43,35,29,26,10,9,24,22,38,18,21,33,28,14,75,25,38,18,29,17,40,26,55,21,38,52,13,17,34,27,38,6,44,30,3,66,36,24,7],\"z\":[44,42,55,34,56,46,47,43,33,55,42,42,39,27,29,48,35,46,53,67,52,25,61,34,54,56,33,59,19,66,53,48,63,57,29,61,56,46,76,64,35,47,67,64,26,45,67,48,47,66,35,53,48,26,32,60,47,54,33,38,53,68,51,59,51,28,32,56,41,74,58,33,54,28,59,65,56,64,42,31,53,53,38,49,29,65,39,33,28,24,52,61,59,27,61,46,62,47,45,63,42,57,36,46,47,67,56,69,61,59,42,72,40,55,32,37,50,17,58,54,50,35,54,46,49,18,55,72,67,12,59,35,49,61,52,61,59,52,59,40,64,43,28,49,50,41,71,49,40,45,52,68,44,15,55,71,41,59,30,50,33,61,48,53,38,34,55,28,42,44,43,53,42,47,68,55,70,70,47,40,60,44,57,54,56,43,23,36,36,28,36,25,37,30,30,45,48,55,23,26,33,27,41,40,22,25,62,46,27,55,44,51,30,55,79,43,32,29,29,57,39,34,25,54,55,16,35,53,38,42,42,38,51,30,50,45,18,38,55,56,69,52,49,19,27,28,65,46,34,39,52,22,63,44,70,60,50,41,54,49,61,50,44,39,67,40,67,61,32,32,46,42,42,50,39,54,45,63,44,69,52,45,78,64,74,15,63,49,14,53,32,52,57,64,59,47,31,43,65,39,54,42,54,38,57,57,32,75,58,50,51,54,53,29,44,24,41,30,42,52,48,57,49,35,43,48,53,45,43,34,49,38,44,37,46,27,69,24,30,56,54,50,34,49,50,44,27,40,67,38,36,60,53,21,33,34,40,33,22,39,34,49,56,55,41,54,36,52,38,42,46,69,27,25,40,40,32,54,40,31,40,45,75,17],\"type\":\"scatter3d\",\"hovertemplate\":\"Beats Per Minute (BPM): %{x} <br>Energy: %{y} <br>Danceability: %{z}\"},{\"marker\":{\"line\":{\"width\":1},\"size\":6},\"mode\":\"markers\",\"name\":\"Cluster 2\",\"x\":[102,117,115,92,92,104,157,160,162,107,85,136,128,136,130,173,159,112,80,104,150,110,96,81,105,114,130,139,90,112,174,131,94,136,100,184,84,148,114,135,111,92,125,95,189,147,118,116,147,130,96,121,123,104,100,134,134,92,112,78,89,101,135,125,111,117,156,92,91,95,106,133,117,105,119,117,127,129,147,117,113,106,111,144,154,135,120,140,99,120,102,92,134,103,94,176,109,115,84,92,135,110,135,106,133,134,122,127,149,163,96,85,122,127,175],\"y\":[88,93,46,76,69,92,93,74,62,79,76,85,77,93,32,30,99,59,77,86,93,86,63,56,86,89,49,71,66,77,92,83,75,78,47,51,40,60,93,72,64,88,88,79,76,68,89,87,89,50,35,76,59,51,45,51,75,53,81,68,64,88,89,68,74,93,87,61,82,85,68,64,92,78,75,79,96,94,95,71,45,84,85,91,95,90,32,90,64,34,72,65,82,75,52,47,59,39,13,29,72,86,55,85,80,51,98,90,90,46,67,56,72,87,76],\"z\":[54,38,83,52,76,66,23,27,32,69,37,58,74,66,53,32,24,30,78,54,24,50,66,37,64,59,41,82,54,65,55,43,65,45,32,35,70,51,41,76,62,66,56,36,43,40,76,55,55,55,51,61,76,38,49,45,29,39,60,66,57,54,50,46,60,52,56,63,67,60,63,55,64,55,50,61,65,70,26,66,37,46,64,59,35,40,43,23,44,82,59,48,72,35,56,35,57,62,21,77,27,33,44,54,52,41,71,56,43,36,45,40,62,41,36],\"type\":\"scatter3d\",\"hovertemplate\":\"Beats Per Minute (BPM): %{x} <br>Energy: %{y} <br>Danceability: %{z}\"}],                        {\"template\":{\"data\":{\"bar\":[{\"error_x\":{\"color\":\"#2a3f5f\"},\"error_y\":{\"color\":\"#2a3f5f\"},\"marker\":{\"line\":{\"color\":\"#E5ECF6\",\"width\":0.5},\"pattern\":{\"fillmode\":\"overlay\",\"size\":10,\"solidity\":0.2}},\"type\":\"bar\"}],\"barpolar\":[{\"marker\":{\"line\":{\"color\":\"#E5ECF6\",\"width\":0.5},\"pattern\":{\"fillmode\":\"overlay\",\"size\":10,\"solidity\":0.2}},\"type\":\"barpolar\"}],\"carpet\":[{\"aaxis\":{\"endlinecolor\":\"#2a3f5f\",\"gridcolor\":\"white\",\"linecolor\":\"white\",\"minorgridcolor\":\"white\",\"startlinecolor\":\"#2a3f5f\"},\"baxis\":{\"endlinecolor\":\"#2a3f5f\",\"gridcolor\":\"white\",\"linecolor\":\"white\",\"minorgridcolor\":\"white\",\"startlinecolor\":\"#2a3f5f\"},\"type\":\"carpet\"}],\"choropleth\":[{\"colorbar\":{\"outlinewidth\":0,\"ticks\":\"\"},\"type\":\"choropleth\"}],\"contour\":[{\"colorbar\":{\"outlinewidth\":0,\"ticks\":\"\"},\"colorscale\":[[0.0,\"#0d0887\"],[0.1111111111111111,\"#46039f\"],[0.2222222222222222,\"#7201a8\"],[0.3333333333333333,\"#9c179e\"],[0.4444444444444444,\"#bd3786\"],[0.5555555555555556,\"#d8576b\"],[0.6666666666666666,\"#ed7953\"],[0.7777777777777778,\"#fb9f3a\"],[0.8888888888888888,\"#fdca26\"],[1.0,\"#f0f921\"]],\"type\":\"contour\"}],\"contourcarpet\":[{\"colorbar\":{\"outlinewidth\":0,\"ticks\":\"\"},\"type\":\"contourcarpet\"}],\"heatmap\":[{\"colorbar\":{\"outlinewidth\":0,\"ticks\":\"\"},\"colorscale\":[[0.0,\"#0d0887\"],[0.1111111111111111,\"#46039f\"],[0.2222222222222222,\"#7201a8\"],[0.3333333333333333,\"#9c179e\"],[0.4444444444444444,\"#bd3786\"],[0.5555555555555556,\"#d8576b\"],[0.6666666666666666,\"#ed7953\"],[0.7777777777777778,\"#fb9f3a\"],[0.8888888888888888,\"#fdca26\"],[1.0,\"#f0f921\"]],\"type\":\"heatmap\"}],\"heatmapgl\":[{\"colorbar\":{\"outlinewidth\":0,\"ticks\":\"\"},\"colorscale\":[[0.0,\"#0d0887\"],[0.1111111111111111,\"#46039f\"],[0.2222222222222222,\"#7201a8\"],[0.3333333333333333,\"#9c179e\"],[0.4444444444444444,\"#bd3786\"],[0.5555555555555556,\"#d8576b\"],[0.6666666666666666,\"#ed7953\"],[0.7777777777777778,\"#fb9f3a\"],[0.8888888888888888,\"#fdca26\"],[1.0,\"#f0f921\"]],\"type\":\"heatmapgl\"}],\"histogram\":[{\"marker\":{\"pattern\":{\"fillmode\":\"overlay\",\"size\":10,\"solidity\":0.2}},\"type\":\"histogram\"}],\"histogram2d\":[{\"colorbar\":{\"outlinewidth\":0,\"ticks\":\"\"},\"colorscale\":[[0.0,\"#0d0887\"],[0.1111111111111111,\"#46039f\"],[0.2222222222222222,\"#7201a8\"],[0.3333333333333333,\"#9c179e\"],[0.4444444444444444,\"#bd3786\"],[0.5555555555555556,\"#d8576b\"],[0.6666666666666666,\"#ed7953\"],[0.7777777777777778,\"#fb9f3a\"],[0.8888888888888888,\"#fdca26\"],[1.0,\"#f0f921\"]],\"type\":\"histogram2d\"}],\"histogram2dcontour\":[{\"colorbar\":{\"outlinewidth\":0,\"ticks\":\"\"},\"colorscale\":[[0.0,\"#0d0887\"],[0.1111111111111111,\"#46039f\"],[0.2222222222222222,\"#7201a8\"],[0.3333333333333333,\"#9c179e\"],[0.4444444444444444,\"#bd3786\"],[0.5555555555555556,\"#d8576b\"],[0.6666666666666666,\"#ed7953\"],[0.7777777777777778,\"#fb9f3a\"],[0.8888888888888888,\"#fdca26\"],[1.0,\"#f0f921\"]],\"type\":\"histogram2dcontour\"}],\"mesh3d\":[{\"colorbar\":{\"outlinewidth\":0,\"ticks\":\"\"},\"type\":\"mesh3d\"}],\"parcoords\":[{\"line\":{\"colorbar\":{\"outlinewidth\":0,\"ticks\":\"\"}},\"type\":\"parcoords\"}],\"pie\":[{\"automargin\":true,\"type\":\"pie\"}],\"scatter\":[{\"marker\":{\"colorbar\":{\"outlinewidth\":0,\"ticks\":\"\"}},\"type\":\"scatter\"}],\"scatter3d\":[{\"line\":{\"colorbar\":{\"outlinewidth\":0,\"ticks\":\"\"}},\"marker\":{\"colorbar\":{\"outlinewidth\":0,\"ticks\":\"\"}},\"type\":\"scatter3d\"}],\"scattercarpet\":[{\"marker\":{\"colorbar\":{\"outlinewidth\":0,\"ticks\":\"\"}},\"type\":\"scattercarpet\"}],\"scattergeo\":[{\"marker\":{\"colorbar\":{\"outlinewidth\":0,\"ticks\":\"\"}},\"type\":\"scattergeo\"}],\"scattergl\":[{\"marker\":{\"colorbar\":{\"outlinewidth\":0,\"ticks\":\"\"}},\"type\":\"scattergl\"}],\"scattermapbox\":[{\"marker\":{\"colorbar\":{\"outlinewidth\":0,\"ticks\":\"\"}},\"type\":\"scattermapbox\"}],\"scatterpolar\":[{\"marker\":{\"colorbar\":{\"outlinewidth\":0,\"ticks\":\"\"}},\"type\":\"scatterpolar\"}],\"scatterpolargl\":[{\"marker\":{\"colorbar\":{\"outlinewidth\":0,\"ticks\":\"\"}},\"type\":\"scatterpolargl\"}],\"scatterternary\":[{\"marker\":{\"colorbar\":{\"outlinewidth\":0,\"ticks\":\"\"}},\"type\":\"scatterternary\"}],\"surface\":[{\"colorbar\":{\"outlinewidth\":0,\"ticks\":\"\"},\"colorscale\":[[0.0,\"#0d0887\"],[0.1111111111111111,\"#46039f\"],[0.2222222222222222,\"#7201a8\"],[0.3333333333333333,\"#9c179e\"],[0.4444444444444444,\"#bd3786\"],[0.5555555555555556,\"#d8576b\"],[0.6666666666666666,\"#ed7953\"],[0.7777777777777778,\"#fb9f3a\"],[0.8888888888888888,\"#fdca26\"],[1.0,\"#f0f921\"]],\"type\":\"surface\"}],\"table\":[{\"cells\":{\"fill\":{\"color\":\"#EBF0F8\"},\"line\":{\"color\":\"white\"}},\"header\":{\"fill\":{\"color\":\"#C8D4E3\"},\"line\":{\"color\":\"white\"}},\"type\":\"table\"}]},\"layout\":{\"annotationdefaults\":{\"arrowcolor\":\"#2a3f5f\",\"arrowhead\":0,\"arrowwidth\":1},\"autotypenumbers\":\"strict\",\"coloraxis\":{\"colorbar\":{\"outlinewidth\":0,\"ticks\":\"\"}},\"colorscale\":{\"diverging\":[[0,\"#8e0152\"],[0.1,\"#c51b7d\"],[0.2,\"#de77ae\"],[0.3,\"#f1b6da\"],[0.4,\"#fde0ef\"],[0.5,\"#f7f7f7\"],[0.6,\"#e6f5d0\"],[0.7,\"#b8e186\"],[0.8,\"#7fbc41\"],[0.9,\"#4d9221\"],[1,\"#276419\"]],\"sequential\":[[0.0,\"#0d0887\"],[0.1111111111111111,\"#46039f\"],[0.2222222222222222,\"#7201a8\"],[0.3333333333333333,\"#9c179e\"],[0.4444444444444444,\"#bd3786\"],[0.5555555555555556,\"#d8576b\"],[0.6666666666666666,\"#ed7953\"],[0.7777777777777778,\"#fb9f3a\"],[0.8888888888888888,\"#fdca26\"],[1.0,\"#f0f921\"]],\"sequentialminus\":[[0.0,\"#0d0887\"],[0.1111111111111111,\"#46039f\"],[0.2222222222222222,\"#7201a8\"],[0.3333333333333333,\"#9c179e\"],[0.4444444444444444,\"#bd3786\"],[0.5555555555555556,\"#d8576b\"],[0.6666666666666666,\"#ed7953\"],[0.7777777777777778,\"#fb9f3a\"],[0.8888888888888888,\"#fdca26\"],[1.0,\"#f0f921\"]]},\"colorway\":[\"#636efa\",\"#EF553B\",\"#00cc96\",\"#ab63fa\",\"#FFA15A\",\"#19d3f3\",\"#FF6692\",\"#B6E880\",\"#FF97FF\",\"#FECB52\"],\"font\":{\"color\":\"#2a3f5f\"},\"geo\":{\"bgcolor\":\"white\",\"lakecolor\":\"white\",\"landcolor\":\"#E5ECF6\",\"showlakes\":true,\"showland\":true,\"subunitcolor\":\"white\"},\"hoverlabel\":{\"align\":\"left\"},\"hovermode\":\"closest\",\"mapbox\":{\"style\":\"light\"},\"paper_bgcolor\":\"white\",\"plot_bgcolor\":\"#E5ECF6\",\"polar\":{\"angularaxis\":{\"gridcolor\":\"white\",\"linecolor\":\"white\",\"ticks\":\"\"},\"bgcolor\":\"#E5ECF6\",\"radialaxis\":{\"gridcolor\":\"white\",\"linecolor\":\"white\",\"ticks\":\"\"}},\"scene\":{\"xaxis\":{\"backgroundcolor\":\"#E5ECF6\",\"gridcolor\":\"white\",\"gridwidth\":2,\"linecolor\":\"white\",\"showbackground\":true,\"ticks\":\"\",\"zerolinecolor\":\"white\"},\"yaxis\":{\"backgroundcolor\":\"#E5ECF6\",\"gridcolor\":\"white\",\"gridwidth\":2,\"linecolor\":\"white\",\"showbackground\":true,\"ticks\":\"\",\"zerolinecolor\":\"white\"},\"zaxis\":{\"backgroundcolor\":\"#E5ECF6\",\"gridcolor\":\"white\",\"gridwidth\":2,\"linecolor\":\"white\",\"showbackground\":true,\"ticks\":\"\",\"zerolinecolor\":\"white\"}},\"shapedefaults\":{\"line\":{\"color\":\"#2a3f5f\"}},\"ternary\":{\"aaxis\":{\"gridcolor\":\"white\",\"linecolor\":\"white\",\"ticks\":\"\"},\"baxis\":{\"gridcolor\":\"white\",\"linecolor\":\"white\",\"ticks\":\"\"},\"bgcolor\":\"#E5ECF6\",\"caxis\":{\"gridcolor\":\"white\",\"linecolor\":\"white\",\"ticks\":\"\"}},\"title\":{\"x\":0.05},\"xaxis\":{\"automargin\":true,\"gridcolor\":\"white\",\"linecolor\":\"white\",\"ticks\":\"\",\"title\":{\"standoff\":15},\"zerolinecolor\":\"white\",\"zerolinewidth\":2},\"yaxis\":{\"automargin\":true,\"gridcolor\":\"white\",\"linecolor\":\"white\",\"ticks\":\"\",\"title\":{\"standoff\":15},\"zerolinecolor\":\"white\",\"zerolinewidth\":2}}},\"scene\":{\"xaxis\":{\"title\":{\"text\":\"Beats Per Minute (BPM)\",\"font\":{\"color\":\"black\"}}},\"yaxis\":{\"title\":{\"text\":\"Energy\",\"font\":{\"color\":\"black\"}}},\"zaxis\":{\"title\":{\"text\":\"Danceability\",\"font\":{\"color\":\"black\"}}}},\"font\":{\"family\":\"Arial\",\"color\":\"black\",\"size\":12},\"width\":800,\"height\":800,\"autosize\":true,\"showlegend\":true},                        {\"responsive\": true}                    ).then(function(){\n",
              "                            \n",
              "var gd = document.getElementById('06bd1a3a-8042-4a65-b8b6-255ee7982300');\n",
              "var x = new MutationObserver(function (mutations, observer) {{\n",
              "        var display = window.getComputedStyle(gd).display;\n",
              "        if (!display || display === 'none') {{\n",
              "            console.log([gd, 'removed!']);\n",
              "            Plotly.purge(gd);\n",
              "            observer.disconnect();\n",
              "        }}\n",
              "}});\n",
              "\n",
              "// Listen for the removal of the full notebook cells\n",
              "var notebookContainer = gd.closest('#notebook-container');\n",
              "if (notebookContainer) {{\n",
              "    x.observe(notebookContainer, {childList: true});\n",
              "}}\n",
              "\n",
              "// Listen for the clearing of the current output cell\n",
              "var outputEl = gd.closest('.output');\n",
              "if (outputEl) {{\n",
              "    x.observe(outputEl, {childList: true});\n",
              "}}\n",
              "\n",
              "                        })                };                            </script>        </div>\n",
              "</body>\n",
              "</html>"
            ]
          },
          "metadata": {},
          "output_type": "display_data"
        }
      ],
      "source": [
        "import plotly.graph_objects as go\n",
        "\n",
        "PLOT = go.Figure()\n",
        "\n",
        "for i in list(df[\"Music Segments\"].unique()):\n",
        "    PLOT.add_trace(go.Scatter3d(x = df[df[\"Music Segments\"]==i]['Beats Per Minute (BPM)'],\n",
        "                                    y = df[df[\"Music Segments\"] ==i]['Energy'],\n",
        "                                    z = df[df[\"Music Segments\"] ==i]['Danceability'],                        \n",
        "                                    mode = 'markers',marker_size = 6, marker_line_width = 1,\n",
        "                                    name = str(i)))\n",
        "PLOT.update_traces(hovertemplate='Beats Per Minute (BPM): %{x} <br>Energy: %{y} <br>Danceability: %{z}')\n",
        "    \n",
        "PLOT.update_layout(width = 800, height = 800, autosize = True, showlegend = True,\n",
        "                   scene = dict(xaxis=dict(title = 'Beats Per Minute (BPM)', titlefont_color = 'black'),\n",
        "                                yaxis=dict(title = 'Energy', titlefont_color = 'black'),\n",
        "                                zaxis=dict(title = 'Danceability', titlefont_color = 'black')),\n",
        "                   font = dict(family = \"Arial\", color  = 'black', size = 12))"
      ]
    },
    {
      "cell_type": "markdown",
      "metadata": {
        "id": "7okOAKI4GRMT"
      },
      "source": [
        "Usando sólo dos dimensiones:"
      ]
    },
    {
      "cell_type": "code",
      "execution_count": null,
      "metadata": {
        "colab": {
          "base_uri": "https://localhost:8080/",
          "height": 433
        },
        "id": "2VhzrHq0FYFf",
        "outputId": "68f8259b-84d7-424f-8be4-dc60119c4ba5"
      },
      "outputs": [
        {
          "data": {
            "image/png": "[encoded data removed]",
            "text/plain": [
              "<Figure size 720x480 with 1 Axes>"
            ]
          },
          "metadata": {},
          "output_type": "display_data"
        }
      ],
      "source": [
        "plt.figure(dpi=120)\n",
        "for segment in df[\"Music Segments\"].unique():\n",
        "    plt.scatter(x = df[df[\"Music Segments\"]==segment]['Beats Per Minute (BPM)'],\n",
        "                y = df[df[\"Music Segments\"] ==segment]['Energy'])\n",
        "plt.xlabel('Beats Per Minute (BPM)')\n",
        "plt.ylabel('Energy')\n",
        "plt.show()"
      ]
    },
    {
      "cell_type": "code",
      "execution_count": null,
      "metadata": {
        "colab": {
          "base_uri": "https://localhost:8080/",
          "height": 433
        },
        "id": "B5nypRH6GVDq",
        "outputId": "00004a52-994b-47a7-c352-a4f9e24ac26c"
      },
      "outputs": [
        {
          "data": {
            "image/png": "[encoded data removed]",
            "text/plain": [
              "<Figure size 720x480 with 1 Axes>"
            ]
          },
          "metadata": {},
          "output_type": "display_data"
        }
      ],
      "source": [
        "plt.figure(dpi=120)\n",
        "for segment in df[\"Music Segments\"].unique():\n",
        "    plt.scatter(x = df[df[\"Music Segments\"]==segment]['Danceability'],\n",
        "                y = df[df[\"Music Segments\"] ==segment]['Energy'])\n",
        "plt.xlabel('Danceability')\n",
        "plt.ylabel('Energy')\n",
        "plt.show()"
      ]
    },
    {
      "cell_type": "markdown",
      "metadata": {
        "id": "CitfFxJ6fPu2"
      },
      "source": [
        "¿Cómo fue el desempeño del clustering?"
      ]
    },
    {
      "cell_type": "code",
      "execution_count": null,
      "metadata": {
        "colab": {
          "base_uri": "https://localhost:8080/"
        },
        "id": "NqWaruhAfPYY",
        "outputId": "4e056258-b0f3-4b7d-db2a-56ff94e0c31e"
      },
      "outputs": [
        {
          "name": "stdout",
          "output_type": "stream",
          "text": [
            "Silhoutte Score: 0.225\n"
          ]
        }
      ],
      "source": [
        "from sklearn.metrics import silhouette_score\n",
        "\n",
        "sil_score = round(silhouette_score(df2.values,clusters,metric='euclidean'),3)\n",
        "print(f\"Silhoutte Score: {sil_score}\")"
      ]
    },
    {
      "cell_type": "markdown",
      "source": [
        "##¿Qué pasa si no normalizamos?"
      ],
      "metadata": {
        "id": "1wGXgQy3rxQX"
      }
    },
    {
      "cell_type": "code",
      "source": [
        "from pandas.core.arrays import numeric\n",
        "from sklearn.pipeline import make_pipeline\n",
        "from sklearn.cluster import KMeans, AgglomerativeClustering\n",
        "from sklearn.preprocessing import MinMaxScaler\n",
        "from sklearn.feature_selection import SelectKBest, VarianceThreshold\n",
        "from sklearn.metrics import silhouette_score\n",
        "\n",
        "# --- Usando todas las features numéricas ---\n",
        "# numeric_features = df.columns.to_list()[4:]\n",
        "# numeric_features.pop(6)\n",
        "\n",
        "# --- Las que usamos arriba ---\n",
        "numeric_features = [\"Beats Per Minute (BPM)\", \"Loudness (dB)\", \n",
        "              \"Liveness\", \"Valence\", \"Acousticness\", \n",
        "              \"Speechiness\"]\n",
        "\n",
        "# --- Definimos los pasos del pipeline ---\n",
        "model = make_pipeline(MinMaxScaler(),VarianceThreshold(0.025), KMeans(n_clusters=6))\n",
        "# model = make_pipeline(MinMaxScaler(),KMeans(n_clusters=6))\n",
        "# model = make_pipeline(KMeans(n_clusters=7))\n",
        "\n",
        "# --- Entrenamos el modelo ---\n",
        "model.fit(df[numeric_features].values)\n",
        "\n",
        "# --- Obtenemos los clusters ---\n",
        "clusters = model.named_steps['kmeans'].labels_\n",
        "\n",
        "# --- Resultados ---\n",
        "sil_score = round(silhouette_score(df[numeric_features].values,clusters,metric='euclidean'),3)\n",
        "print(f\"Pasos usados: {model.named_steps}\")\n",
        "print(f\"Silhoutte Score: {sil_score}\")\n"
      ],
      "metadata": {
        "colab": {
          "base_uri": "https://localhost:8080/"
        },
        "id": "fMnfULofr2ff",
        "outputId": "047ddf57-5f90-4d75-f9de-145b4fc77768"
      },
      "execution_count": 35,
      "outputs": [
        {
          "output_type": "stream",
          "name": "stdout",
          "text": [
            "Pasos usados: {'minmaxscaler': MinMaxScaler(), 'variancethreshold': VarianceThreshold(threshold=0.025), 'kmeans': KMeans(n_clusters=6)}\n",
            "Silhoutte Score: 0.24\n"
          ]
        }
      ]
    },
    {
      "cell_type": "markdown",
      "metadata": {
        "id": "ACYNyhKPefTU"
      },
      "source": [
        "⭕ Preguntas:\n",
        "* Siendo K-Means, ¿por qué se no se ve la separación perfecta en cualquiera de las gráficas anteriores?\n",
        "* ¿Qué valor de K es mejor? Puedes usar el criterio del *elbow value*.\n",
        "* Una vez que hayas escogido un valor para $K$, reportar los valores de las métricas de clustering.\n",
        "\n",
        "⭕ Ejercicios: \n",
        "\n",
        "* Repetir el experimento, ahora usando algún otro método de clustering, como Agglomerative Clustering, DBSCAN, o algún otro.\n",
        "* ¿Qué otros pasos de preprocesamiento, feature selection puedes usar?\n",
        "* ¿Puedes elevar el score de silueta?"
      ]
    },
    {
      "cell_type": "markdown",
      "metadata": {
        "id": "-uEkByV89z-W"
      },
      "source": [
        "# Un ejemplo con variables categóricas"
      ]
    },
    {
      "cell_type": "markdown",
      "source": [
        "⭕ Preguntas:\n",
        "* ¿Por qué no podemos usar directamente los métodos de clustering para este tipo de problemas?"
      ],
      "metadata": {
        "id": "HP9kfvsB9vqX"
      }
    },
    {
      "cell_type": "markdown",
      "metadata": {
        "id": "TPdaWgHe-diI"
      },
      "source": [
        "Este dataset consta de 4521 registros de una institución bancaría en Portugal. Cada instancia representa un potencial cliente que fue contactado para ofrecerle una inversión a un plazo fijo. Los contactos fueron realizados por teléfono. Las variables son las siguientes (se indica cuáles variables son categóricas):\n",
        "\n",
        "\n",
        "* Bank client data:\n",
        "    1. **age**: Edad.\n",
        "    2. **job**: Tipo de trabajo (categórica): \"admin.\", \"unknown\", \"unemployed\", \"management\", \"housemaid\", \"entrepreneur\", \"student\", \"blue-collar\", \"self-employed\", \"retired\", \"technician\", \"services\". \n",
        "    3. **marital** : Estado civil (categórica): \"married\", \"divorced\", \"single\".\n",
        "    4. **education**: Educación (categórica): \"unknown\", \"secondary\", \"primary\", \"tertiary\".\n",
        "    5. **default**: Crédito en mora? (binary).\n",
        "    6. **balance**: Saldo anual promedio, in euros. \n",
        "    7. **housing**: Tiene crédito hipotecario? (binary).\n",
        "    8. **loan**: Tiene un crédito personal? (binary).\n",
        "\n",
        "* Related with the last contact of the current campaign:\n",
        "    9. **contact**: Tipo de comunicación (categórica): \"unknown\", \"telephone\", \"cellular\". \n",
        "    10. **day**: Día del mes del último contacto.\n",
        "    11. **month**: Último mes de contacto (categórica): \"jan\", \"feb\", \"mar\", ...\n",
        "    12. **duration**: Duración, en segundos, del último contacto.\n",
        "* Other attributes:\n",
        "    13. **campaign**: Número de contactos en esta campaña para este cliente.\n",
        "    14. **pdays**: Número de días transcurridos desde el cliente fue contactado en una campaña diferente, -1 significa que el cliente no había sido contactado previamente.\n",
        "    15. **previous**: Número de contactos anteriores con este cliente en esta campaña.\n",
        "    16. **poutcome**: Resultado con este cliente en las campañas anteriores en que fue contactado (categórica): \"unknown\", \"other\", \"failure\", \"success\".\n",
        "\n",
        "* Output variable (desired target):\n",
        "    17. y - has the client subscribed a term deposit? (binary: \"yes\",\"no\")"
      ]
    },
    {
      "cell_type": "code",
      "source": [
        "!apt-get -qq install > /dev/null subversion\n",
        "\n",
        "!svn checkout \"https://github.com/DCDPUAEM/DCDP_2022/trunk/04%20Clasificaci%C3%B3n%20y%20Agrupamiento/data/\""
      ],
      "metadata": {
        "colab": {
          "base_uri": "https://localhost:8080/"
        },
        "id": "d8eCoO3-vBVo",
        "outputId": "2f18ddee-f706-4900-c702-ad3883830fb7"
      },
      "execution_count": null,
      "outputs": [
        {
          "output_type": "stream",
          "name": "stdout",
          "text": [
            "A    data/Spotify-2000.csv\n",
            "A    data/bank.csv\n",
            "A    data/creditcard.zip\n",
            "A    data/diabetes.csv\n",
            "A    data/dt_classifier.model\n",
            "A    data/frequencia_palabras.csv\n",
            "Checked out revision 93.\n"
          ]
        }
      ]
    },
    {
      "cell_type": "code",
      "execution_count": 45,
      "metadata": {
        "colab": {
          "base_uri": "https://localhost:8080/",
          "height": 424
        },
        "id": "x2gwkihWG6Qn",
        "outputId": "69291188-fa6a-4d50-bc52-03034db9bc4d"
      },
      "outputs": [
        {
          "output_type": "execute_result",
          "data": {
            "text/plain": [
              "      age            job  marital  education default  balance housing loan  \\\n",
              "0      30     unemployed  married    primary      no     1787      no   no   \n",
              "1      33       services  married  secondary      no     4789     yes  yes   \n",
              "2      35     management   single   tertiary      no     1350     yes   no   \n",
              "3      30     management  married   tertiary      no     1476     yes  yes   \n",
              "4      59    blue-collar  married  secondary      no        0     yes   no   \n",
              "...   ...            ...      ...        ...     ...      ...     ...  ...   \n",
              "4516   33       services  married  secondary      no     -333     yes   no   \n",
              "4517   57  self-employed  married   tertiary     yes    -3313     yes  yes   \n",
              "4518   57     technician  married  secondary      no      295      no   no   \n",
              "4519   28    blue-collar  married  secondary      no     1137      no   no   \n",
              "4520   44   entrepreneur   single   tertiary      no     1136     yes  yes   \n",
              "\n",
              "       contact  day month  duration  campaign  pdays  previous poutcome   y  \n",
              "0     cellular   19   oct        79         1     -1         0  unknown  no  \n",
              "1     cellular   11   may       220         1    339         4  failure  no  \n",
              "2     cellular   16   apr       185         1    330         1  failure  no  \n",
              "3      unknown    3   jun       199         4     -1         0  unknown  no  \n",
              "4      unknown    5   may       226         1     -1         0  unknown  no  \n",
              "...        ...  ...   ...       ...       ...    ...       ...      ...  ..  \n",
              "4516  cellular   30   jul       329         5     -1         0  unknown  no  \n",
              "4517   unknown    9   may       153         1     -1         0  unknown  no  \n",
              "4518  cellular   19   aug       151        11     -1         0  unknown  no  \n",
              "4519  cellular    6   feb       129         4    211         3    other  no  \n",
              "4520  cellular    3   apr       345         2    249         7    other  no  \n",
              "\n",
              "[4521 rows x 17 columns]"
            ],
            "text/html": [
              "\n",
              "  <div id=\"df-4c8ba728-cd3e-4ff8-8041-63253bd4fe27\">\n",
              "    <div class=\"colab-df-container\">\n",
              "      <div>\n",
              "<style scoped>\n",
              "    .dataframe tbody tr th:only-of-type {\n",
              "        vertical-align: middle;\n",
              "    }\n",
              "\n",
              "    .dataframe tbody tr th {\n",
              "        vertical-align: top;\n",
              "    }\n",
              "\n",
              "    .dataframe thead th {\n",
              "        text-align: right;\n",
              "    }\n",
              "</style>\n",
              "<table border=\"1\" class=\"dataframe\">\n",
              "  <thead>\n",
              "    <tr style=\"text-align: right;\">\n",
              "      <th></th>\n",
              "      <th>age</th>\n",
              "      <th>job</th>\n",
              "      <th>marital</th>\n",
              "      <th>education</th>\n",
              "      <th>default</th>\n",
              "      <th>balance</th>\n",
              "      <th>housing</th>\n",
              "      <th>loan</th>\n",
              "      <th>contact</th>\n",
              "      <th>day</th>\n",
              "      <th>month</th>\n",
              "      <th>duration</th>\n",
              "      <th>campaign</th>\n",
              "      <th>pdays</th>\n",
              "      <th>previous</th>\n",
              "      <th>poutcome</th>\n",
              "      <th>y</th>\n",
              "    </tr>\n",
              "  </thead>\n",
              "  <tbody>\n",
              "    <tr>\n",
              "      <th>0</th>\n",
              "      <td>30</td>\n",
              "      <td>unemployed</td>\n",
              "      <td>married</td>\n",
              "      <td>primary</td>\n",
              "      <td>no</td>\n",
              "      <td>1787</td>\n",
              "      <td>no</td>\n",
              "      <td>no</td>\n",
              "      <td>cellular</td>\n",
              "      <td>19</td>\n",
              "      <td>oct</td>\n",
              "      <td>79</td>\n",
              "      <td>1</td>\n",
              "      <td>-1</td>\n",
              "      <td>0</td>\n",
              "      <td>unknown</td>\n",
              "      <td>no</td>\n",
              "    </tr>\n",
              "    <tr>\n",
              "      <th>1</th>\n",
              "      <td>33</td>\n",
              "      <td>services</td>\n",
              "      <td>married</td>\n",
              "      <td>secondary</td>\n",
              "      <td>no</td>\n",
              "      <td>4789</td>\n",
              "      <td>yes</td>\n",
              "      <td>yes</td>\n",
              "      <td>cellular</td>\n",
              "      <td>11</td>\n",
              "      <td>may</td>\n",
              "      <td>220</td>\n",
              "      <td>1</td>\n",
              "      <td>339</td>\n",
              "      <td>4</td>\n",
              "      <td>failure</td>\n",
              "      <td>no</td>\n",
              "    </tr>\n",
              "    <tr>\n",
              "      <th>2</th>\n",
              "      <td>35</td>\n",
              "      <td>management</td>\n",
              "      <td>single</td>\n",
              "      <td>tertiary</td>\n",
              "      <td>no</td>\n",
              "      <td>1350</td>\n",
              "      <td>yes</td>\n",
              "      <td>no</td>\n",
              "      <td>cellular</td>\n",
              "      <td>16</td>\n",
              "      <td>apr</td>\n",
              "      <td>185</td>\n",
              "      <td>1</td>\n",
              "      <td>330</td>\n",
              "      <td>1</td>\n",
              "      <td>failure</td>\n",
              "      <td>no</td>\n",
              "    </tr>\n",
              "    <tr>\n",
              "      <th>3</th>\n",
              "      <td>30</td>\n",
              "      <td>management</td>\n",
              "      <td>married</td>\n",
              "      <td>tertiary</td>\n",
              "      <td>no</td>\n",
              "      <td>1476</td>\n",
              "      <td>yes</td>\n",
              "      <td>yes</td>\n",
              "      <td>unknown</td>\n",
              "      <td>3</td>\n",
              "      <td>jun</td>\n",
              "      <td>199</td>\n",
              "      <td>4</td>\n",
              "      <td>-1</td>\n",
              "      <td>0</td>\n",
              "      <td>unknown</td>\n",
              "      <td>no</td>\n",
              "    </tr>\n",
              "    <tr>\n",
              "      <th>4</th>\n",
              "      <td>59</td>\n",
              "      <td>blue-collar</td>\n",
              "      <td>married</td>\n",
              "      <td>secondary</td>\n",
              "      <td>no</td>\n",
              "      <td>0</td>\n",
              "      <td>yes</td>\n",
              "      <td>no</td>\n",
              "      <td>unknown</td>\n",
              "      <td>5</td>\n",
              "      <td>may</td>\n",
              "      <td>226</td>\n",
              "      <td>1</td>\n",
              "      <td>-1</td>\n",
              "      <td>0</td>\n",
              "      <td>unknown</td>\n",
              "      <td>no</td>\n",
              "    </tr>\n",
              "    <tr>\n",
              "      <th>...</th>\n",
              "      <td>...</td>\n",
              "      <td>...</td>\n",
              "      <td>...</td>\n",
              "      <td>...</td>\n",
              "      <td>...</td>\n",
              "      <td>...</td>\n",
              "      <td>...</td>\n",
              "      <td>...</td>\n",
              "      <td>...</td>\n",
              "      <td>...</td>\n",
              "      <td>...</td>\n",
              "      <td>...</td>\n",
              "      <td>...</td>\n",
              "      <td>...</td>\n",
              "      <td>...</td>\n",
              "      <td>...</td>\n",
              "      <td>...</td>\n",
              "    </tr>\n",
              "    <tr>\n",
              "      <th>4516</th>\n",
              "      <td>33</td>\n",
              "      <td>services</td>\n",
              "      <td>married</td>\n",
              "      <td>secondary</td>\n",
              "      <td>no</td>\n",
              "      <td>-333</td>\n",
              "      <td>yes</td>\n",
              "      <td>no</td>\n",
              "      <td>cellular</td>\n",
              "      <td>30</td>\n",
              "      <td>jul</td>\n",
              "      <td>329</td>\n",
              "      <td>5</td>\n",
              "      <td>-1</td>\n",
              "      <td>0</td>\n",
              "      <td>unknown</td>\n",
              "      <td>no</td>\n",
              "    </tr>\n",
              "    <tr>\n",
              "      <th>4517</th>\n",
              "      <td>57</td>\n",
              "      <td>self-employed</td>\n",
              "      <td>married</td>\n",
              "      <td>tertiary</td>\n",
              "      <td>yes</td>\n",
              "      <td>-3313</td>\n",
              "      <td>yes</td>\n",
              "      <td>yes</td>\n",
              "      <td>unknown</td>\n",
              "      <td>9</td>\n",
              "      <td>may</td>\n",
              "      <td>153</td>\n",
              "      <td>1</td>\n",
              "      <td>-1</td>\n",
              "      <td>0</td>\n",
              "      <td>unknown</td>\n",
              "      <td>no</td>\n",
              "    </tr>\n",
              "    <tr>\n",
              "      <th>4518</th>\n",
              "      <td>57</td>\n",
              "      <td>technician</td>\n",
              "      <td>married</td>\n",
              "      <td>secondary</td>\n",
              "      <td>no</td>\n",
              "      <td>295</td>\n",
              "      <td>no</td>\n",
              "      <td>no</td>\n",
              "      <td>cellular</td>\n",
              "      <td>19</td>\n",
              "      <td>aug</td>\n",
              "      <td>151</td>\n",
              "      <td>11</td>\n",
              "      <td>-1</td>\n",
              "      <td>0</td>\n",
              "      <td>unknown</td>\n",
              "      <td>no</td>\n",
              "    </tr>\n",
              "    <tr>\n",
              "      <th>4519</th>\n",
              "      <td>28</td>\n",
              "      <td>blue-collar</td>\n",
              "      <td>married</td>\n",
              "      <td>secondary</td>\n",
              "      <td>no</td>\n",
              "      <td>1137</td>\n",
              "      <td>no</td>\n",
              "      <td>no</td>\n",
              "      <td>cellular</td>\n",
              "      <td>6</td>\n",
              "      <td>feb</td>\n",
              "      <td>129</td>\n",
              "      <td>4</td>\n",
              "      <td>211</td>\n",
              "      <td>3</td>\n",
              "      <td>other</td>\n",
              "      <td>no</td>\n",
              "    </tr>\n",
              "    <tr>\n",
              "      <th>4520</th>\n",
              "      <td>44</td>\n",
              "      <td>entrepreneur</td>\n",
              "      <td>single</td>\n",
              "      <td>tertiary</td>\n",
              "      <td>no</td>\n",
              "      <td>1136</td>\n",
              "      <td>yes</td>\n",
              "      <td>yes</td>\n",
              "      <td>cellular</td>\n",
              "      <td>3</td>\n",
              "      <td>apr</td>\n",
              "      <td>345</td>\n",
              "      <td>2</td>\n",
              "      <td>249</td>\n",
              "      <td>7</td>\n",
              "      <td>other</td>\n",
              "      <td>no</td>\n",
              "    </tr>\n",
              "  </tbody>\n",
              "</table>\n",
              "<p>4521 rows × 17 columns</p>\n",
              "</div>\n",
              "      <button class=\"colab-df-convert\" onclick=\"convertToInteractive('df-4c8ba728-cd3e-4ff8-8041-63253bd4fe27')\"\n",
              "              title=\"Convert this dataframe to an interactive table.\"\n",
              "              style=\"display:none;\">\n",
              "        \n",
              "  <svg xmlns=\"http://www.w3.org/2000/svg\" height=\"24px\"viewBox=\"0 0 24 24\"\n",
              "       width=\"24px\">\n",
              "    <path d=\"M0 0h24v24H0V0z\" fill=\"none\"/>\n",
              "    <path d=\"M18.56 5.44l.94 2.06.94-2.06 2.06-.94-2.06-.94-.94-2.06-.94 2.06-2.06.94zm-11 1L8.5 8.5l.94-2.06 2.06-.94-2.06-.94L8.5 2.5l-.94 2.06-2.06.94zm10 10l.94 2.06.94-2.06 2.06-.94-2.06-.94-.94-2.06-.94 2.06-2.06.94z\"/><path d=\"M17.41 7.96l-1.37-1.37c-.4-.4-.92-.59-1.43-.59-.52 0-1.04.2-1.43.59L10.3 9.45l-7.72 7.72c-.78.78-.78 2.05 0 2.83L4 21.41c.39.39.9.59 1.41.59.51 0 1.02-.2 1.41-.59l7.78-7.78 2.81-2.81c.8-.78.8-2.07 0-2.86zM5.41 20L4 18.59l7.72-7.72 1.47 1.35L5.41 20z\"/>\n",
              "  </svg>\n",
              "      </button>\n",
              "      \n",
              "  <style>\n",
              "    .colab-df-container {\n",
              "      display:flex;\n",
              "      flex-wrap:wrap;\n",
              "      gap: 12px;\n",
              "    }\n",
              "\n",
              "    .colab-df-convert {\n",
              "      background-color: #E8F0FE;\n",
              "      border: none;\n",
              "      border-radius: 50%;\n",
              "      cursor: pointer;\n",
              "      display: none;\n",
              "      fill: #1967D2;\n",
              "      height: 32px;\n",
              "      padding: 0 0 0 0;\n",
              "      width: 32px;\n",
              "    }\n",
              "\n",
              "    .colab-df-convert:hover {\n",
              "      background-color: #E2EBFA;\n",
              "      box-shadow: 0px 1px 2px rgba(60, 64, 67, 0.3), 0px 1px 3px 1px rgba(60, 64, 67, 0.15);\n",
              "      fill: #174EA6;\n",
              "    }\n",
              "\n",
              "    [theme=dark] .colab-df-convert {\n",
              "      background-color: #3B4455;\n",
              "      fill: #D2E3FC;\n",
              "    }\n",
              "\n",
              "    [theme=dark] .colab-df-convert:hover {\n",
              "      background-color: #434B5C;\n",
              "      box-shadow: 0px 1px 3px 1px rgba(0, 0, 0, 0.15);\n",
              "      filter: drop-shadow(0px 1px 2px rgba(0, 0, 0, 0.3));\n",
              "      fill: #FFFFFF;\n",
              "    }\n",
              "  </style>\n",
              "\n",
              "      <script>\n",
              "        const buttonEl =\n",
              "          document.querySelector('#df-4c8ba728-cd3e-4ff8-8041-63253bd4fe27 button.colab-df-convert');\n",
              "        buttonEl.style.display =\n",
              "          google.colab.kernel.accessAllowed ? 'block' : 'none';\n",
              "\n",
              "        async function convertToInteractive(key) {\n",
              "          const element = document.querySelector('#df-4c8ba728-cd3e-4ff8-8041-63253bd4fe27');\n",
              "          const dataTable =\n",
              "            await google.colab.kernel.invokeFunction('convertToInteractive',\n",
              "                                                     [key], {});\n",
              "          if (!dataTable) return;\n",
              "\n",
              "          const docLinkHtml = 'Like what you see? Visit the ' +\n",
              "            '<a target=\"_blank\" href=https://colab.research.google.com/notebooks/data_table.ipynb>data table notebook</a>'\n",
              "            + ' to learn more about interactive tables.';\n",
              "          element.innerHTML = '';\n",
              "          dataTable['output_type'] = 'display_data';\n",
              "          await google.colab.output.renderOutput(dataTable, element);\n",
              "          const docLink = document.createElement('div');\n",
              "          docLink.innerHTML = docLinkHtml;\n",
              "          element.appendChild(docLink);\n",
              "        }\n",
              "      </script>\n",
              "    </div>\n",
              "  </div>\n",
              "  "
            ]
          },
          "metadata": {},
          "execution_count": 45
        }
      ],
      "source": [
        "import pandas as pd\n",
        "\n",
        "bank_df = pd.read_csv('/content/data/bank.csv',sep=\";\")\n",
        "bank_df"
      ]
    },
    {
      "cell_type": "markdown",
      "source": [
        "**Distancia de Gower**\n",
        "\n",
        "La distancia de Gower es una distancia que puede utilizarse para calcular la distancia entre dos entidades cuyos atributos son una mezcla de valores categóricos y continúos.\n",
        "\n",
        "Para dos entidades $\\mathbf{z}=(z_1,...,z_n)$, $\\mathbf{w}=(w_1,...,w_n)$ cuyas $n$ features son una mezcla de features continúas y categóricas. Se calcula de la siguiente manera:\n",
        "\n",
        "$$D(z,w)=\\frac{1}{n} (\\sum_{i\\in \\text{Continuas}} \\frac{|z_i-w_i|}{max_i - min_i} + \\sum_{i\\in \\text{Categoricas}}\\text{Dice}(z_i,w_i) ),$$\n",
        "\n",
        "donde $\\text{Dice}(z_i,w_i)=0$ si $z_i=w_i$ y $\\text{Dice}(z_i,w_i)=1$ si $z_i\\neq w_i$. Es decir, está métrica de Dice cuenta en cuántos lugares son diferentes las variables categóricas.\n",
        "\n",
        "Con esta distancia, calculamos una matriz de distancias en la cual la entrada $i,j$ corresponde a la distance entre las instacias $i$ y $j$. Esta distancia será introducida en el algoritmo de clusterización adecuado.\n",
        "\n",
        "\n",
        "\n",
        "---\n",
        "\n",
        "\n",
        "⭕ Preguntas:\n",
        "* ¿Es necesario normalizar o escalar los datos de las features continuas?\n",
        "* ¿Qué efecto pueden tener los outliers en las features continuas?"
      ],
      "metadata": {
        "id": "bRe-qJ-jjX2c"
      }
    },
    {
      "cell_type": "markdown",
      "source": [
        "Visualizamos la distribución de datos en cada feature numérica"
      ],
      "metadata": {
        "id": "tl27MkA61QJP"
      }
    },
    {
      "cell_type": "code",
      "source": [
        "from seaborn import boxplot\n",
        "import matplotlib.pyplot as plt\n",
        "\n",
        "plt.figure(dpi=120)\n",
        "boxplot(data=bank_df)\n",
        "plt.xticks(rotation=90)\n",
        "plt.show()"
      ],
      "metadata": {
        "colab": {
          "base_uri": "https://localhost:8080/",
          "height": 496
        },
        "id": "pDa3RJbIzzJC",
        "outputId": "4db87e84-b1a1-4261-951b-b84a12aa13df"
      },
      "execution_count": 46,
      "outputs": [
        {
          "output_type": "display_data",
          "data": {
            "text/plain": [
              "<Figure size 720x480 with 1 Axes>"
            ],
            "image/png": "[encoded data removed]"
          },
          "metadata": {
            "needs_background": "light"
          }
        }
      ]
    },
    {
      "cell_type": "markdown",
      "source": [
        "Quitamos outliers, filtrando los datos que están a menos de 3 desviaciones standard de la media."
      ],
      "metadata": {
        "id": "dirb9kXz05cH"
      }
    },
    {
      "cell_type": "code",
      "source": [
        "import numpy as np\n",
        "from scipy import stats\n",
        "\n",
        "print(f\"Shape before: {bank_df.shape}\")\n",
        "bank_df = bank_df[(np.abs(stats.zscore(bank_df['balance'])) < 3)].copy()\n",
        "\n",
        "print(f\"Shape after: {bank_df.shape}\")\n",
        "\n",
        "plt.figure(dpi=120)\n",
        "boxplot(data=bank_df)\n",
        "plt.xticks(rotation=90)\n",
        "plt.show()"
      ],
      "metadata": {
        "colab": {
          "base_uri": "https://localhost:8080/",
          "height": 531
        },
        "id": "SrSAxA740D6c",
        "outputId": "bde9ebd1-ffe9-480c-9ac6-ea3702a2f556"
      },
      "execution_count": 47,
      "outputs": [
        {
          "output_type": "stream",
          "name": "stdout",
          "text": [
            "Shape before: (4521, 17)\n",
            "Shape after: (4433, 17)\n"
          ]
        },
        {
          "output_type": "display_data",
          "data": {
            "text/plain": [
              "<Figure size 720x480 with 1 Axes>"
            ],
            "image/png": "[encoded data removed]"
          },
          "metadata": {
            "needs_background": "light"
          }
        }
      ]
    },
    {
      "cell_type": "markdown",
      "source": [
        "Separamos el vector `y_true` de clases. "
      ],
      "metadata": {
        "id": "blsTGqoV4578"
      }
    },
    {
      "cell_type": "code",
      "source": [
        "md = {'yes':0,'no':1}\n",
        "\n",
        "y_true = bank_df['y'].map(md).values \n",
        "\n",
        "print(y_true.shape)\n",
        "\n",
        "# bank_df.drop(columns='y',inplace=True)"
      ],
      "metadata": {
        "id": "YoLiFbZ52Lb5",
        "colab": {
          "base_uri": "https://localhost:8080/"
        },
        "outputId": "4a8600b5-62e1-4620-ebb2-25bab2527919"
      },
      "execution_count": 48,
      "outputs": [
        {
          "output_type": "stream",
          "name": "stdout",
          "text": [
            "(4433,)\n"
          ]
        }
      ]
    },
    {
      "cell_type": "markdown",
      "source": [
        "Instalamos el módulo [gower](https://pypi.org/project/gower/):"
      ],
      "metadata": {
        "id": "Z6Hp7bqK3qoh"
      }
    },
    {
      "cell_type": "code",
      "execution_count": 49,
      "metadata": {
        "id": "aQswrkj_-5D-",
        "colab": {
          "base_uri": "https://localhost:8080/"
        },
        "outputId": "5f07d8a5-9f16-443e-a71f-4b5f65b74ec6"
      },
      "outputs": [
        {
          "output_type": "stream",
          "name": "stdout",
          "text": [
            "  Building wheel for gower (setup.py) ... \u001b[?25l\u001b[?25hdone\n"
          ]
        }
      ],
      "source": [
        "!pip install -q gower"
      ]
    },
    {
      "cell_type": "markdown",
      "source": [
        "Calculamos la matriz de distancias de gower entre todas las instancias"
      ],
      "metadata": {
        "id": "vKkiW8Vh35KZ"
      }
    },
    {
      "cell_type": "code",
      "execution_count": 50,
      "metadata": {
        "id": "0N4ftDdf_cRH"
      },
      "outputs": [],
      "source": [
        "from gower import gower_matrix\n",
        "\n",
        "distance_matrix = gower_matrix(bank_df)"
      ]
    },
    {
      "cell_type": "markdown",
      "source": [
        "¿Cómo se ve la matriz de distancias?"
      ],
      "metadata": {
        "id": "Safg5bn-3-xw"
      }
    },
    {
      "cell_type": "code",
      "execution_count": null,
      "metadata": {
        "colab": {
          "base_uri": "https://localhost:8080/",
          "height": 488
        },
        "id": "QbtXTMo0AN4Y",
        "outputId": "bc5e4560-1bee-4a7b-862f-7e9843ee15e5"
      },
      "outputs": [
        {
          "output_type": "execute_result",
          "data": {
            "text/plain": [
              "          0         1         2         3         4         5         6     \\\n",
              "0     0.000000  0.408686  0.390239  0.390497  0.350928  0.328514  0.342417   \n",
              "1     0.408686  0.000000  0.316714  0.351373  0.305796  0.397479  0.254980   \n",
              "2     0.390239  0.316714  0.000000  0.352588  0.421817  0.149000  0.246295   \n",
              "3     0.390497  0.351373  0.352588  0.000000  0.269595  0.419587  0.355201   \n",
              "4     0.350928  0.305796  0.421817  0.269595  0.000000  0.490264  0.302354   \n",
              "...        ...       ...       ...       ...       ...       ...       ...   \n",
              "4516  0.270802  0.257042  0.356915  0.354814  0.255052  0.395511  0.301837   \n",
              "4517  0.460197  0.358850  0.473508  0.219870  0.248905  0.540709  0.296818   \n",
              "4518  0.214412  0.379809  0.416036  0.417941  0.278173  0.351347  0.364836   \n",
              "4519  0.288963  0.327491  0.396198  0.442368  0.291819  0.279986  0.276666   \n",
              "4520  0.495477  0.338968  0.233813  0.345076  0.466412  0.359734  0.282945   \n",
              "\n",
              "          7         8         9     ...      4511      4512      4513  \\\n",
              "0     0.272467  0.316302  0.330011  ...  0.399763  0.335432  0.210461   \n",
              "1     0.230022  0.347249  0.161382  ...  0.370317  0.321672  0.353564   \n",
              "2     0.344680  0.332495  0.262501  ...  0.470652  0.418085  0.398997   \n",
              "3     0.312170  0.213712  0.354560  ...  0.355245  0.306599  0.397315   \n",
              "4     0.139686  0.155531  0.406765  ...  0.111597  0.074014  0.206754   \n",
              "...        ...       ...       ...  ...       ...       ...       ...   \n",
              "4516  0.177343  0.282922  0.289431  ...  0.298530  0.195665  0.226328   \n",
              "4517  0.319542  0.205975  0.401090  ...  0.341355  0.303773  0.436512   \n",
              "4518  0.169629  0.330455  0.399125  ...  0.344228  0.290959  0.090365   \n",
              "4519  0.269781  0.405759  0.402307  ...  0.373548  0.324902  0.180324   \n",
              "4520  0.401042  0.357947  0.285046  ...  0.547427  0.505702  0.471851   \n",
              "\n",
              "          4514      4515      4516      4517      4518      4519      4520  \n",
              "0     0.320463  0.335829  0.270802  0.460197  0.214412  0.288963  0.495477  \n",
              "1     0.227888  0.292426  0.257042  0.358850  0.379809  0.327491  0.338968  \n",
              "2     0.205291  0.294260  0.356915  0.473508  0.416036  0.396198  0.233813  \n",
              "3     0.409149  0.372782  0.354814  0.219870  0.417941  0.442368  0.345076  \n",
              "4     0.244867  0.275497  0.255052  0.248905  0.278173  0.291819  0.466412  \n",
              "...        ...       ...       ...       ...       ...       ...       ...  \n",
              "4516  0.221090  0.111167  0.000000  0.425461  0.229965  0.314294  0.453806  \n",
              "4517  0.471782  0.454275  0.425461  0.000000  0.446265  0.530499  0.417738  \n",
              "4518  0.277618  0.297003  0.229965  0.446265  0.000000  0.257904  0.502964  \n",
              "4519  0.222880  0.332262  0.314294  0.530499  0.257904  0.000000  0.391247  \n",
              "4520  0.361532  0.355234  0.453806  0.417738  0.502964  0.391247  0.000000  \n",
              "\n",
              "[4521 rows x 4521 columns]"
            ],
            "text/html": [
              "\n",
              "  <div id=\"df-73a57c15-8a89-4954-82eb-7dc3e50b263f\">\n",
              "    <div class=\"colab-df-container\">\n",
              "      <div>\n",
              "<style scoped>\n",
              "    .dataframe tbody tr th:only-of-type {\n",
              "        vertical-align: middle;\n",
              "    }\n",
              "\n",
              "    .dataframe tbody tr th {\n",
              "        vertical-align: top;\n",
              "    }\n",
              "\n",
              "    .dataframe thead th {\n",
              "        text-align: right;\n",
              "    }\n",
              "</style>\n",
              "<table border=\"1\" class=\"dataframe\">\n",
              "  <thead>\n",
              "    <tr style=\"text-align: right;\">\n",
              "      <th></th>\n",
              "      <th>0</th>\n",
              "      <th>1</th>\n",
              "      <th>2</th>\n",
              "      <th>3</th>\n",
              "      <th>4</th>\n",
              "      <th>5</th>\n",
              "      <th>6</th>\n",
              "      <th>7</th>\n",
              "      <th>8</th>\n",
              "      <th>9</th>\n",
              "      <th>...</th>\n",
              "      <th>4511</th>\n",
              "      <th>4512</th>\n",
              "      <th>4513</th>\n",
              "      <th>4514</th>\n",
              "      <th>4515</th>\n",
              "      <th>4516</th>\n",
              "      <th>4517</th>\n",
              "      <th>4518</th>\n",
              "      <th>4519</th>\n",
              "      <th>4520</th>\n",
              "    </tr>\n",
              "  </thead>\n",
              "  <tbody>\n",
              "    <tr>\n",
              "      <th>0</th>\n",
              "      <td>0.000000</td>\n",
              "      <td>0.408686</td>\n",
              "      <td>0.390239</td>\n",
              "      <td>0.390497</td>\n",
              "      <td>0.350928</td>\n",
              "      <td>0.328514</td>\n",
              "      <td>0.342417</td>\n",
              "      <td>0.272467</td>\n",
              "      <td>0.316302</td>\n",
              "      <td>0.330011</td>\n",
              "      <td>...</td>\n",
              "      <td>0.399763</td>\n",
              "      <td>0.335432</td>\n",
              "      <td>0.210461</td>\n",
              "      <td>0.320463</td>\n",
              "      <td>0.335829</td>\n",
              "      <td>0.270802</td>\n",
              "      <td>0.460197</td>\n",
              "      <td>0.214412</td>\n",
              "      <td>0.288963</td>\n",
              "      <td>0.495477</td>\n",
              "    </tr>\n",
              "    <tr>\n",
              "      <th>1</th>\n",
              "      <td>0.408686</td>\n",
              "      <td>0.000000</td>\n",
              "      <td>0.316714</td>\n",
              "      <td>0.351373</td>\n",
              "      <td>0.305796</td>\n",
              "      <td>0.397479</td>\n",
              "      <td>0.254980</td>\n",
              "      <td>0.230022</td>\n",
              "      <td>0.347249</td>\n",
              "      <td>0.161382</td>\n",
              "      <td>...</td>\n",
              "      <td>0.370317</td>\n",
              "      <td>0.321672</td>\n",
              "      <td>0.353564</td>\n",
              "      <td>0.227888</td>\n",
              "      <td>0.292426</td>\n",
              "      <td>0.257042</td>\n",
              "      <td>0.358850</td>\n",
              "      <td>0.379809</td>\n",
              "      <td>0.327491</td>\n",
              "      <td>0.338968</td>\n",
              "    </tr>\n",
              "    <tr>\n",
              "      <th>2</th>\n",
              "      <td>0.390239</td>\n",
              "      <td>0.316714</td>\n",
              "      <td>0.000000</td>\n",
              "      <td>0.352588</td>\n",
              "      <td>0.421817</td>\n",
              "      <td>0.149000</td>\n",
              "      <td>0.246295</td>\n",
              "      <td>0.344680</td>\n",
              "      <td>0.332495</td>\n",
              "      <td>0.262501</td>\n",
              "      <td>...</td>\n",
              "      <td>0.470652</td>\n",
              "      <td>0.418085</td>\n",
              "      <td>0.398997</td>\n",
              "      <td>0.205291</td>\n",
              "      <td>0.294260</td>\n",
              "      <td>0.356915</td>\n",
              "      <td>0.473508</td>\n",
              "      <td>0.416036</td>\n",
              "      <td>0.396198</td>\n",
              "      <td>0.233813</td>\n",
              "    </tr>\n",
              "    <tr>\n",
              "      <th>3</th>\n",
              "      <td>0.390497</td>\n",
              "      <td>0.351373</td>\n",
              "      <td>0.352588</td>\n",
              "      <td>0.000000</td>\n",
              "      <td>0.269595</td>\n",
              "      <td>0.419587</td>\n",
              "      <td>0.355201</td>\n",
              "      <td>0.312170</td>\n",
              "      <td>0.213712</td>\n",
              "      <td>0.354560</td>\n",
              "      <td>...</td>\n",
              "      <td>0.355245</td>\n",
              "      <td>0.306599</td>\n",
              "      <td>0.397315</td>\n",
              "      <td>0.409149</td>\n",
              "      <td>0.372782</td>\n",
              "      <td>0.354814</td>\n",
              "      <td>0.219870</td>\n",
              "      <td>0.417941</td>\n",
              "      <td>0.442368</td>\n",
              "      <td>0.345076</td>\n",
              "    </tr>\n",
              "    <tr>\n",
              "      <th>4</th>\n",
              "      <td>0.350928</td>\n",
              "      <td>0.305796</td>\n",
              "      <td>0.421817</td>\n",
              "      <td>0.269595</td>\n",
              "      <td>0.000000</td>\n",
              "      <td>0.490264</td>\n",
              "      <td>0.302354</td>\n",
              "      <td>0.139686</td>\n",
              "      <td>0.155531</td>\n",
              "      <td>0.406765</td>\n",
              "      <td>...</td>\n",
              "      <td>0.111597</td>\n",
              "      <td>0.074014</td>\n",
              "      <td>0.206754</td>\n",
              "      <td>0.244867</td>\n",
              "      <td>0.275497</td>\n",
              "      <td>0.255052</td>\n",
              "      <td>0.248905</td>\n",
              "      <td>0.278173</td>\n",
              "      <td>0.291819</td>\n",
              "      <td>0.466412</td>\n",
              "    </tr>\n",
              "    <tr>\n",
              "      <th>...</th>\n",
              "      <td>...</td>\n",
              "      <td>...</td>\n",
              "      <td>...</td>\n",
              "      <td>...</td>\n",
              "      <td>...</td>\n",
              "      <td>...</td>\n",
              "      <td>...</td>\n",
              "      <td>...</td>\n",
              "      <td>...</td>\n",
              "      <td>...</td>\n",
              "      <td>...</td>\n",
              "      <td>...</td>\n",
              "      <td>...</td>\n",
              "      <td>...</td>\n",
              "      <td>...</td>\n",
              "      <td>...</td>\n",
              "      <td>...</td>\n",
              "      <td>...</td>\n",
              "      <td>...</td>\n",
              "      <td>...</td>\n",
              "      <td>...</td>\n",
              "    </tr>\n",
              "    <tr>\n",
              "      <th>4516</th>\n",
              "      <td>0.270802</td>\n",
              "      <td>0.257042</td>\n",
              "      <td>0.356915</td>\n",
              "      <td>0.354814</td>\n",
              "      <td>0.255052</td>\n",
              "      <td>0.395511</td>\n",
              "      <td>0.301837</td>\n",
              "      <td>0.177343</td>\n",
              "      <td>0.282922</td>\n",
              "      <td>0.289431</td>\n",
              "      <td>...</td>\n",
              "      <td>0.298530</td>\n",
              "      <td>0.195665</td>\n",
              "      <td>0.226328</td>\n",
              "      <td>0.221090</td>\n",
              "      <td>0.111167</td>\n",
              "      <td>0.000000</td>\n",
              "      <td>0.425461</td>\n",
              "      <td>0.229965</td>\n",
              "      <td>0.314294</td>\n",
              "      <td>0.453806</td>\n",
              "    </tr>\n",
              "    <tr>\n",
              "      <th>4517</th>\n",
              "      <td>0.460197</td>\n",
              "      <td>0.358850</td>\n",
              "      <td>0.473508</td>\n",
              "      <td>0.219870</td>\n",
              "      <td>0.248905</td>\n",
              "      <td>0.540709</td>\n",
              "      <td>0.296818</td>\n",
              "      <td>0.319542</td>\n",
              "      <td>0.205975</td>\n",
              "      <td>0.401090</td>\n",
              "      <td>...</td>\n",
              "      <td>0.341355</td>\n",
              "      <td>0.303773</td>\n",
              "      <td>0.436512</td>\n",
              "      <td>0.471782</td>\n",
              "      <td>0.454275</td>\n",
              "      <td>0.425461</td>\n",
              "      <td>0.000000</td>\n",
              "      <td>0.446265</td>\n",
              "      <td>0.530499</td>\n",
              "      <td>0.417738</td>\n",
              "    </tr>\n",
              "    <tr>\n",
              "      <th>4518</th>\n",
              "      <td>0.214412</td>\n",
              "      <td>0.379809</td>\n",
              "      <td>0.416036</td>\n",
              "      <td>0.417941</td>\n",
              "      <td>0.278173</td>\n",
              "      <td>0.351347</td>\n",
              "      <td>0.364836</td>\n",
              "      <td>0.169629</td>\n",
              "      <td>0.330455</td>\n",
              "      <td>0.399125</td>\n",
              "      <td>...</td>\n",
              "      <td>0.344228</td>\n",
              "      <td>0.290959</td>\n",
              "      <td>0.090365</td>\n",
              "      <td>0.277618</td>\n",
              "      <td>0.297003</td>\n",
              "      <td>0.229965</td>\n",
              "      <td>0.446265</td>\n",
              "      <td>0.000000</td>\n",
              "      <td>0.257904</td>\n",
              "      <td>0.502964</td>\n",
              "    </tr>\n",
              "    <tr>\n",
              "      <th>4519</th>\n",
              "      <td>0.288963</td>\n",
              "      <td>0.327491</td>\n",
              "      <td>0.396198</td>\n",
              "      <td>0.442368</td>\n",
              "      <td>0.291819</td>\n",
              "      <td>0.279986</td>\n",
              "      <td>0.276666</td>\n",
              "      <td>0.269781</td>\n",
              "      <td>0.405759</td>\n",
              "      <td>0.402307</td>\n",
              "      <td>...</td>\n",
              "      <td>0.373548</td>\n",
              "      <td>0.324902</td>\n",
              "      <td>0.180324</td>\n",
              "      <td>0.222880</td>\n",
              "      <td>0.332262</td>\n",
              "      <td>0.314294</td>\n",
              "      <td>0.530499</td>\n",
              "      <td>0.257904</td>\n",
              "      <td>0.000000</td>\n",
              "      <td>0.391247</td>\n",
              "    </tr>\n",
              "    <tr>\n",
              "      <th>4520</th>\n",
              "      <td>0.495477</td>\n",
              "      <td>0.338968</td>\n",
              "      <td>0.233813</td>\n",
              "      <td>0.345076</td>\n",
              "      <td>0.466412</td>\n",
              "      <td>0.359734</td>\n",
              "      <td>0.282945</td>\n",
              "      <td>0.401042</td>\n",
              "      <td>0.357947</td>\n",
              "      <td>0.285046</td>\n",
              "      <td>...</td>\n",
              "      <td>0.547427</td>\n",
              "      <td>0.505702</td>\n",
              "      <td>0.471851</td>\n",
              "      <td>0.361532</td>\n",
              "      <td>0.355234</td>\n",
              "      <td>0.453806</td>\n",
              "      <td>0.417738</td>\n",
              "      <td>0.502964</td>\n",
              "      <td>0.391247</td>\n",
              "      <td>0.000000</td>\n",
              "    </tr>\n",
              "  </tbody>\n",
              "</table>\n",
              "<p>4521 rows × 4521 columns</p>\n",
              "</div>\n",
              "      <button class=\"colab-df-convert\" onclick=\"convertToInteractive('df-73a57c15-8a89-4954-82eb-7dc3e50b263f')\"\n",
              "              title=\"Convert this dataframe to an interactive table.\"\n",
              "              style=\"display:none;\">\n",
              "        \n",
              "  <svg xmlns=\"http://www.w3.org/2000/svg\" height=\"24px\"viewBox=\"0 0 24 24\"\n",
              "       width=\"24px\">\n",
              "    <path d=\"M0 0h24v24H0V0z\" fill=\"none\"/>\n",
              "    <path d=\"M18.56 5.44l.94 2.06.94-2.06 2.06-.94-2.06-.94-.94-2.06-.94 2.06-2.06.94zm-11 1L8.5 8.5l.94-2.06 2.06-.94-2.06-.94L8.5 2.5l-.94 2.06-2.06.94zm10 10l.94 2.06.94-2.06 2.06-.94-2.06-.94-.94-2.06-.94 2.06-2.06.94z\"/><path d=\"M17.41 7.96l-1.37-1.37c-.4-.4-.92-.59-1.43-.59-.52 0-1.04.2-1.43.59L10.3 9.45l-7.72 7.72c-.78.78-.78 2.05 0 2.83L4 21.41c.39.39.9.59 1.41.59.51 0 1.02-.2 1.41-.59l7.78-7.78 2.81-2.81c.8-.78.8-2.07 0-2.86zM5.41 20L4 18.59l7.72-7.72 1.47 1.35L5.41 20z\"/>\n",
              "  </svg>\n",
              "      </button>\n",
              "      \n",
              "  <style>\n",
              "    .colab-df-container {\n",
              "      display:flex;\n",
              "      flex-wrap:wrap;\n",
              "      gap: 12px;\n",
              "    }\n",
              "\n",
              "    .colab-df-convert {\n",
              "      background-color: #E8F0FE;\n",
              "      border: none;\n",
              "      border-radius: 50%;\n",
              "      cursor: pointer;\n",
              "      display: none;\n",
              "      fill: #1967D2;\n",
              "      height: 32px;\n",
              "      padding: 0 0 0 0;\n",
              "      width: 32px;\n",
              "    }\n",
              "\n",
              "    .colab-df-convert:hover {\n",
              "      background-color: #E2EBFA;\n",
              "      box-shadow: 0px 1px 2px rgba(60, 64, 67, 0.3), 0px 1px 3px 1px rgba(60, 64, 67, 0.15);\n",
              "      fill: #174EA6;\n",
              "    }\n",
              "\n",
              "    [theme=dark] .colab-df-convert {\n",
              "      background-color: #3B4455;\n",
              "      fill: #D2E3FC;\n",
              "    }\n",
              "\n",
              "    [theme=dark] .colab-df-convert:hover {\n",
              "      background-color: #434B5C;\n",
              "      box-shadow: 0px 1px 3px 1px rgba(0, 0, 0, 0.15);\n",
              "      filter: drop-shadow(0px 1px 2px rgba(0, 0, 0, 0.3));\n",
              "      fill: #FFFFFF;\n",
              "    }\n",
              "  </style>\n",
              "\n",
              "      <script>\n",
              "        const buttonEl =\n",
              "          document.querySelector('#df-73a57c15-8a89-4954-82eb-7dc3e50b263f button.colab-df-convert');\n",
              "        buttonEl.style.display =\n",
              "          google.colab.kernel.accessAllowed ? 'block' : 'none';\n",
              "\n",
              "        async function convertToInteractive(key) {\n",
              "          const element = document.querySelector('#df-73a57c15-8a89-4954-82eb-7dc3e50b263f');\n",
              "          const dataTable =\n",
              "            await google.colab.kernel.invokeFunction('convertToInteractive',\n",
              "                                                     [key], {});\n",
              "          if (!dataTable) return;\n",
              "\n",
              "          const docLinkHtml = 'Like what you see? Visit the ' +\n",
              "            '<a target=\"_blank\" href=https://colab.research.google.com/notebooks/data_table.ipynb>data table notebook</a>'\n",
              "            + ' to learn more about interactive tables.';\n",
              "          element.innerHTML = '';\n",
              "          dataTable['output_type'] = 'display_data';\n",
              "          await google.colab.output.renderOutput(dataTable, element);\n",
              "          const docLink = document.createElement('div');\n",
              "          docLink.innerHTML = docLinkHtml;\n",
              "          element.appendChild(docLink);\n",
              "        }\n",
              "      </script>\n",
              "    </div>\n",
              "  </div>\n",
              "  "
            ]
          },
          "metadata": {},
          "execution_count": 6
        }
      ],
      "source": [
        "pd.DataFrame(distance_matrix)"
      ]
    },
    {
      "cell_type": "markdown",
      "source": [
        "## Clustering"
      ],
      "metadata": {
        "id": "YstUxyZv4E6t"
      }
    },
    {
      "cell_type": "markdown",
      "source": [
        "Usamos un Clustering Aglomerativo con la matriz de distancias, en lugar de la matriz de instancias $X$."
      ],
      "metadata": {
        "id": "84kvZIEX5FVo"
      }
    },
    {
      "cell_type": "code",
      "source": [
        "from sklearn.cluster import AgglomerativeClustering\n",
        "from sklearn.metrics import silhouette_score\n",
        "\n",
        "modelo = AgglomerativeClustering(n_clusters=2,linkage=\"complete\",affinity=\"precomputed\")\n",
        "modelo.fit(distance_matrix)\n",
        "\n",
        "clusters = modelo.labels_\n",
        "\n",
        "sc = silhouette_score(distance_matrix, clusters, metric=\"precomputed\")\n",
        "print(f\"Score de silueta: {round(sc,4)}\")"
      ],
      "metadata": {
        "id": "wMlMcLnswHls"
      },
      "execution_count": null,
      "outputs": []
    },
    {
      "cell_type": "markdown",
      "source": [
        "También podemos usar DBSCAN"
      ],
      "metadata": {
        "id": "V1s-C0F25W6K"
      }
    },
    {
      "cell_type": "code",
      "execution_count": 57,
      "metadata": {
        "colab": {
          "base_uri": "https://localhost:8080/"
        },
        "id": "9zXkBlFGB5d3",
        "outputId": "952c98e1-b578-4195-d36d-b97838a8c504"
      },
      "outputs": [
        {
          "output_type": "stream",
          "name": "stdout",
          "text": [
            "3 clusters encontrados\n",
            "Score de silueta: 0.14090000092983246\n"
          ]
        }
      ],
      "source": [
        "from sklearn.cluster import DBSCAN\n",
        "from sklearn.metrics import silhouette_score\n",
        "\n",
        "modelo = DBSCAN(eps=0.1, \n",
        "                    min_samples=5, \n",
        "                    metric=\"precomputed\")\n",
        "\n",
        "modelo.fit(distance_matrix)\n",
        "clusters = modelo.labels_\n",
        "\n",
        "print(f\"{len(np.unique(clusters))} clusters encontrados\")\n",
        "\n",
        "sc = silhouette_score(distance_matrix, clusters, metric=\"precomputed\")\n",
        "print(f\"Score de silueta: {round(sc,4)}\")"
      ]
    },
    {
      "cell_type": "markdown",
      "source": [
        "⭕ ¿Se puede usar K-Means con la métrica pre-calculada?"
      ],
      "metadata": {
        "id": "4lFt-aJZ9jT8"
      }
    },
    {
      "cell_type": "code",
      "source": [
        "affinity_matrix = 1-distance_matrix"
      ],
      "metadata": {
        "id": "_5QviDxj8T0t"
      },
      "execution_count": 58,
      "outputs": []
    },
    {
      "cell_type": "code",
      "source": [
        "from sklearn.cluster import AffinityPropagation\n",
        "\n",
        "modelo = AffinityPropagation(affinity=\"precomputed\")\n",
        "\n",
        "modelo.fit(distance_matrix)\n",
        "clusters = modelo.labels_\n",
        "\n",
        "print(f\"{len(np.unique(clusters))} clusters encontrados\")\n",
        "\n",
        "sc = silhouette_score(distance_matrix, clusters, metric=\"precomputed\")\n",
        "print(f\"Score de silueta: {round(sc,4)}\")"
      ],
      "metadata": {
        "colab": {
          "base_uri": "https://localhost:8080/"
        },
        "id": "coON13kP6utp",
        "outputId": "2c29cbd7-a7e4-48dc-8dda-7fb2e95730b4"
      },
      "execution_count": 60,
      "outputs": [
        {
          "output_type": "stream",
          "name": "stdout",
          "text": [
            "40 clusters encontrados\n",
            "Score de silueta: -0.014700000174343586\n"
          ]
        }
      ]
    },
    {
      "cell_type": "markdown",
      "source": [
        "## Clustering vs Classification"
      ],
      "metadata": {
        "id": "FtuNrwr7-Etu"
      }
    },
    {
      "cell_type": "code",
      "execution_count": 61,
      "metadata": {
        "colab": {
          "base_uri": "https://localhost:8080/",
          "height": 363
        },
        "id": "peZoP4wrCNWa",
        "outputId": "7c6d3d90-aab2-420f-bf79-385fc6350a47"
      },
      "outputs": [
        {
          "output_type": "execute_result",
          "data": {
            "text/plain": [
              "      age          job   marital  education default  balance housing loan  \\\n",
              "1067   44   management   married  secondary      no     8262     yes   no   \n",
              "2557   40   technician  divorced  secondary      no     -375     yes   no   \n",
              "433    43  blue-collar   married  secondary      no      130      no   no   \n",
              "2275   45   management   married   tertiary      no     -206     yes   no   \n",
              "1462   33      unknown   married  secondary      no     2727      no   no   \n",
              "676    58   management    single   tertiary      no        2     yes   no   \n",
              "3207   54   management   married   tertiary      no     2819      no   no   \n",
              "715    30       admin.    single  secondary      no     -635      no   no   \n",
              "460    55   unemployed   married   tertiary      no      383      no   no   \n",
              "3626   34   technician   married  secondary      no      114     yes  yes   \n",
              "\n",
              "        contact  day month  duration  campaign  pdays  previous poutcome   y  \\\n",
              "1067   cellular   23   jul       201        16     -1         0  unknown  no   \n",
              "2557   cellular   13   may        60         5     -1         0  unknown  no   \n",
              "433    cellular    5   may       156         1    337         3  failure  no   \n",
              "2275   cellular    6   may       337         2     -1         0  unknown  no   \n",
              "1462   cellular    6   aug       205         3     -1         0  unknown  no   \n",
              "676   telephone   11   may       168         3     -1         0  unknown  no   \n",
              "3207   cellular    7   aug       123         3     -1         0  unknown  no   \n",
              "715    cellular   25   jul       250         1     -1         0  unknown  no   \n",
              "460     unknown    6   may       343         3     -1         0  unknown  no   \n",
              "3626   cellular    4   jun       153         1    309         3    other  no   \n",
              "\n",
              "      cluster  \n",
              "1067       13  \n",
              "2557       24  \n",
              "433        14  \n",
              "2275       16  \n",
              "1462       28  \n",
              "676         7  \n",
              "3207       28  \n",
              "715        34  \n",
              "460        16  \n",
              "3626       13  "
            ],
            "text/html": [
              "\n",
              "  <div id=\"df-eee2f1a7-5207-44fa-ae98-409fe1481dab\">\n",
              "    <div class=\"colab-df-container\">\n",
              "      <div>\n",
              "<style scoped>\n",
              "    .dataframe tbody tr th:only-of-type {\n",
              "        vertical-align: middle;\n",
              "    }\n",
              "\n",
              "    .dataframe tbody tr th {\n",
              "        vertical-align: top;\n",
              "    }\n",
              "\n",
              "    .dataframe thead th {\n",
              "        text-align: right;\n",
              "    }\n",
              "</style>\n",
              "<table border=\"1\" class=\"dataframe\">\n",
              "  <thead>\n",
              "    <tr style=\"text-align: right;\">\n",
              "      <th></th>\n",
              "      <th>age</th>\n",
              "      <th>job</th>\n",
              "      <th>marital</th>\n",
              "      <th>education</th>\n",
              "      <th>default</th>\n",
              "      <th>balance</th>\n",
              "      <th>housing</th>\n",
              "      <th>loan</th>\n",
              "      <th>contact</th>\n",
              "      <th>day</th>\n",
              "      <th>month</th>\n",
              "      <th>duration</th>\n",
              "      <th>campaign</th>\n",
              "      <th>pdays</th>\n",
              "      <th>previous</th>\n",
              "      <th>poutcome</th>\n",
              "      <th>y</th>\n",
              "      <th>cluster</th>\n",
              "    </tr>\n",
              "  </thead>\n",
              "  <tbody>\n",
              "    <tr>\n",
              "      <th>1067</th>\n",
              "      <td>44</td>\n",
              "      <td>management</td>\n",
              "      <td>married</td>\n",
              "      <td>secondary</td>\n",
              "      <td>no</td>\n",
              "      <td>8262</td>\n",
              "      <td>yes</td>\n",
              "      <td>no</td>\n",
              "      <td>cellular</td>\n",
              "      <td>23</td>\n",
              "      <td>jul</td>\n",
              "      <td>201</td>\n",
              "      <td>16</td>\n",
              "      <td>-1</td>\n",
              "      <td>0</td>\n",
              "      <td>unknown</td>\n",
              "      <td>no</td>\n",
              "      <td>13</td>\n",
              "    </tr>\n",
              "    <tr>\n",
              "      <th>2557</th>\n",
              "      <td>40</td>\n",
              "      <td>technician</td>\n",
              "      <td>divorced</td>\n",
              "      <td>secondary</td>\n",
              "      <td>no</td>\n",
              "      <td>-375</td>\n",
              "      <td>yes</td>\n",
              "      <td>no</td>\n",
              "      <td>cellular</td>\n",
              "      <td>13</td>\n",
              "      <td>may</td>\n",
              "      <td>60</td>\n",
              "      <td>5</td>\n",
              "      <td>-1</td>\n",
              "      <td>0</td>\n",
              "      <td>unknown</td>\n",
              "      <td>no</td>\n",
              "      <td>24</td>\n",
              "    </tr>\n",
              "    <tr>\n",
              "      <th>433</th>\n",
              "      <td>43</td>\n",
              "      <td>blue-collar</td>\n",
              "      <td>married</td>\n",
              "      <td>secondary</td>\n",
              "      <td>no</td>\n",
              "      <td>130</td>\n",
              "      <td>no</td>\n",
              "      <td>no</td>\n",
              "      <td>cellular</td>\n",
              "      <td>5</td>\n",
              "      <td>may</td>\n",
              "      <td>156</td>\n",
              "      <td>1</td>\n",
              "      <td>337</td>\n",
              "      <td>3</td>\n",
              "      <td>failure</td>\n",
              "      <td>no</td>\n",
              "      <td>14</td>\n",
              "    </tr>\n",
              "    <tr>\n",
              "      <th>2275</th>\n",
              "      <td>45</td>\n",
              "      <td>management</td>\n",
              "      <td>married</td>\n",
              "      <td>tertiary</td>\n",
              "      <td>no</td>\n",
              "      <td>-206</td>\n",
              "      <td>yes</td>\n",
              "      <td>no</td>\n",
              "      <td>cellular</td>\n",
              "      <td>6</td>\n",
              "      <td>may</td>\n",
              "      <td>337</td>\n",
              "      <td>2</td>\n",
              "      <td>-1</td>\n",
              "      <td>0</td>\n",
              "      <td>unknown</td>\n",
              "      <td>no</td>\n",
              "      <td>16</td>\n",
              "    </tr>\n",
              "    <tr>\n",
              "      <th>1462</th>\n",
              "      <td>33</td>\n",
              "      <td>unknown</td>\n",
              "      <td>married</td>\n",
              "      <td>secondary</td>\n",
              "      <td>no</td>\n",
              "      <td>2727</td>\n",
              "      <td>no</td>\n",
              "      <td>no</td>\n",
              "      <td>cellular</td>\n",
              "      <td>6</td>\n",
              "      <td>aug</td>\n",
              "      <td>205</td>\n",
              "      <td>3</td>\n",
              "      <td>-1</td>\n",
              "      <td>0</td>\n",
              "      <td>unknown</td>\n",
              "      <td>no</td>\n",
              "      <td>28</td>\n",
              "    </tr>\n",
              "    <tr>\n",
              "      <th>676</th>\n",
              "      <td>58</td>\n",
              "      <td>management</td>\n",
              "      <td>single</td>\n",
              "      <td>tertiary</td>\n",
              "      <td>no</td>\n",
              "      <td>2</td>\n",
              "      <td>yes</td>\n",
              "      <td>no</td>\n",
              "      <td>telephone</td>\n",
              "      <td>11</td>\n",
              "      <td>may</td>\n",
              "      <td>168</td>\n",
              "      <td>3</td>\n",
              "      <td>-1</td>\n",
              "      <td>0</td>\n",
              "      <td>unknown</td>\n",
              "      <td>no</td>\n",
              "      <td>7</td>\n",
              "    </tr>\n",
              "    <tr>\n",
              "      <th>3207</th>\n",
              "      <td>54</td>\n",
              "      <td>management</td>\n",
              "      <td>married</td>\n",
              "      <td>tertiary</td>\n",
              "      <td>no</td>\n",
              "      <td>2819</td>\n",
              "      <td>no</td>\n",
              "      <td>no</td>\n",
              "      <td>cellular</td>\n",
              "      <td>7</td>\n",
              "      <td>aug</td>\n",
              "      <td>123</td>\n",
              "      <td>3</td>\n",
              "      <td>-1</td>\n",
              "      <td>0</td>\n",
              "      <td>unknown</td>\n",
              "      <td>no</td>\n",
              "      <td>28</td>\n",
              "    </tr>\n",
              "    <tr>\n",
              "      <th>715</th>\n",
              "      <td>30</td>\n",
              "      <td>admin.</td>\n",
              "      <td>single</td>\n",
              "      <td>secondary</td>\n",
              "      <td>no</td>\n",
              "      <td>-635</td>\n",
              "      <td>no</td>\n",
              "      <td>no</td>\n",
              "      <td>cellular</td>\n",
              "      <td>25</td>\n",
              "      <td>jul</td>\n",
              "      <td>250</td>\n",
              "      <td>1</td>\n",
              "      <td>-1</td>\n",
              "      <td>0</td>\n",
              "      <td>unknown</td>\n",
              "      <td>no</td>\n",
              "      <td>34</td>\n",
              "    </tr>\n",
              "    <tr>\n",
              "      <th>460</th>\n",
              "      <td>55</td>\n",
              "      <td>unemployed</td>\n",
              "      <td>married</td>\n",
              "      <td>tertiary</td>\n",
              "      <td>no</td>\n",
              "      <td>383</td>\n",
              "      <td>no</td>\n",
              "      <td>no</td>\n",
              "      <td>unknown</td>\n",
              "      <td>6</td>\n",
              "      <td>may</td>\n",
              "      <td>343</td>\n",
              "      <td>3</td>\n",
              "      <td>-1</td>\n",
              "      <td>0</td>\n",
              "      <td>unknown</td>\n",
              "      <td>no</td>\n",
              "      <td>16</td>\n",
              "    </tr>\n",
              "    <tr>\n",
              "      <th>3626</th>\n",
              "      <td>34</td>\n",
              "      <td>technician</td>\n",
              "      <td>married</td>\n",
              "      <td>secondary</td>\n",
              "      <td>no</td>\n",
              "      <td>114</td>\n",
              "      <td>yes</td>\n",
              "      <td>yes</td>\n",
              "      <td>cellular</td>\n",
              "      <td>4</td>\n",
              "      <td>jun</td>\n",
              "      <td>153</td>\n",
              "      <td>1</td>\n",
              "      <td>309</td>\n",
              "      <td>3</td>\n",
              "      <td>other</td>\n",
              "      <td>no</td>\n",
              "      <td>13</td>\n",
              "    </tr>\n",
              "  </tbody>\n",
              "</table>\n",
              "</div>\n",
              "      <button class=\"colab-df-convert\" onclick=\"convertToInteractive('df-eee2f1a7-5207-44fa-ae98-409fe1481dab')\"\n",
              "              title=\"Convert this dataframe to an interactive table.\"\n",
              "              style=\"display:none;\">\n",
              "        \n",
              "  <svg xmlns=\"http://www.w3.org/2000/svg\" height=\"24px\"viewBox=\"0 0 24 24\"\n",
              "       width=\"24px\">\n",
              "    <path d=\"M0 0h24v24H0V0z\" fill=\"none\"/>\n",
              "    <path d=\"M18.56 5.44l.94 2.06.94-2.06 2.06-.94-2.06-.94-.94-2.06-.94 2.06-2.06.94zm-11 1L8.5 8.5l.94-2.06 2.06-.94-2.06-.94L8.5 2.5l-.94 2.06-2.06.94zm10 10l.94 2.06.94-2.06 2.06-.94-2.06-.94-.94-2.06-.94 2.06-2.06.94z\"/><path d=\"M17.41 7.96l-1.37-1.37c-.4-.4-.92-.59-1.43-.59-.52 0-1.04.2-1.43.59L10.3 9.45l-7.72 7.72c-.78.78-.78 2.05 0 2.83L4 21.41c.39.39.9.59 1.41.59.51 0 1.02-.2 1.41-.59l7.78-7.78 2.81-2.81c.8-.78.8-2.07 0-2.86zM5.41 20L4 18.59l7.72-7.72 1.47 1.35L5.41 20z\"/>\n",
              "  </svg>\n",
              "      </button>\n",
              "      \n",
              "  <style>\n",
              "    .colab-df-container {\n",
              "      display:flex;\n",
              "      flex-wrap:wrap;\n",
              "      gap: 12px;\n",
              "    }\n",
              "\n",
              "    .colab-df-convert {\n",
              "      background-color: #E8F0FE;\n",
              "      border: none;\n",
              "      border-radius: 50%;\n",
              "      cursor: pointer;\n",
              "      display: none;\n",
              "      fill: #1967D2;\n",
              "      height: 32px;\n",
              "      padding: 0 0 0 0;\n",
              "      width: 32px;\n",
              "    }\n",
              "\n",
              "    .colab-df-convert:hover {\n",
              "      background-color: #E2EBFA;\n",
              "      box-shadow: 0px 1px 2px rgba(60, 64, 67, 0.3), 0px 1px 3px 1px rgba(60, 64, 67, 0.15);\n",
              "      fill: #174EA6;\n",
              "    }\n",
              "\n",
              "    [theme=dark] .colab-df-convert {\n",
              "      background-color: #3B4455;\n",
              "      fill: #D2E3FC;\n",
              "    }\n",
              "\n",
              "    [theme=dark] .colab-df-convert:hover {\n",
              "      background-color: #434B5C;\n",
              "      box-shadow: 0px 1px 3px 1px rgba(0, 0, 0, 0.15);\n",
              "      filter: drop-shadow(0px 1px 2px rgba(0, 0, 0, 0.3));\n",
              "      fill: #FFFFFF;\n",
              "    }\n",
              "  </style>\n",
              "\n",
              "      <script>\n",
              "        const buttonEl =\n",
              "          document.querySelector('#df-eee2f1a7-5207-44fa-ae98-409fe1481dab button.colab-df-convert');\n",
              "        buttonEl.style.display =\n",
              "          google.colab.kernel.accessAllowed ? 'block' : 'none';\n",
              "\n",
              "        async function convertToInteractive(key) {\n",
              "          const element = document.querySelector('#df-eee2f1a7-5207-44fa-ae98-409fe1481dab');\n",
              "          const dataTable =\n",
              "            await google.colab.kernel.invokeFunction('convertToInteractive',\n",
              "                                                     [key], {});\n",
              "          if (!dataTable) return;\n",
              "\n",
              "          const docLinkHtml = 'Like what you see? Visit the ' +\n",
              "            '<a target=\"_blank\" href=https://colab.research.google.com/notebooks/data_table.ipynb>data table notebook</a>'\n",
              "            + ' to learn more about interactive tables.';\n",
              "          element.innerHTML = '';\n",
              "          dataTable['output_type'] = 'display_data';\n",
              "          await google.colab.output.renderOutput(dataTable, element);\n",
              "          const docLink = document.createElement('div');\n",
              "          docLink.innerHTML = docLinkHtml;\n",
              "          element.appendChild(docLink);\n",
              "        }\n",
              "      </script>\n",
              "    </div>\n",
              "  </div>\n",
              "  "
            ]
          },
          "metadata": {},
          "execution_count": 61
        }
      ],
      "source": [
        "bank_df[\"cluster\"] = clusters\n",
        "\n",
        "bank_df.sample(10)"
      ]
    },
    {
      "cell_type": "code",
      "source": [
        "from sklearn.metrics import adjusted_mutual_info_score\n",
        "\n",
        "adjusted_mutual_info_score(y_true,clusters)"
      ],
      "metadata": {
        "colab": {
          "base_uri": "https://localhost:8080/"
        },
        "id": "QkOPugBayhrn",
        "outputId": "4801f2c4-c90a-4089-a3c3-138d4390a1bd"
      },
      "execution_count": 62,
      "outputs": [
        {
          "output_type": "execute_result",
          "data": {
            "text/plain": [
              "0.0959055029628323"
            ]
          },
          "metadata": {},
          "execution_count": 62
        }
      ]
    },
    {
      "cell_type": "markdown",
      "source": [
        "## Práctica\n",
        "\n",
        "⭕ Ejercicios: \n",
        "\n",
        "* ¿Puedes elevar el score de silueta usando estos métodos de clustering? Puedes usar algunas features solamente, cambiar los parámetros del método de clustering.\n",
        "* ¿Puedes elevar el score de adjusted mutual information?\n",
        "* ¿Qué otros métodos de clustering puedes usar?"
      ],
      "metadata": {
        "id": "R4LdSXxJ9gL8"
      }
    },
    {
      "cell_type": "code",
      "execution_count": null,
      "metadata": {
        "id": "IzyUN7kiC0mE"
      },
      "outputs": [],
      "source": [
        ""
      ]
    }
  ],
  "metadata": {
    "colab": {
      "collapsed_sections": [],
      "name": "08-Agrupamiento.ipynb",
      "provenance": [],
      "toc_visible": true
    },
    "kernelspec": {
      "display_name": "Python 3",
      "language": "python",
      "name": "python3"
    },
    "language_info": {
      "codemirror_mode": {
        "name": "ipython",
        "version": 3
      },
      "file_extension": ".py",
      "mimetype": "text/x-python",
      "name": "python",
      "nbconvert_exporter": "python",
      "pygments_lexer": "ipython3",
      "version": "3.7.4"
    }
  },
  "nbformat": 4,
  "nbformat_minor": 0
}